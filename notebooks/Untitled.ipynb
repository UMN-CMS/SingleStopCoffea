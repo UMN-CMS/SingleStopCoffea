{
 "cells": [
  {
   "cell_type": "code",
   "execution_count": 1,
   "id": "5dd63ebd-aca1-4c53-b5b3-36fde18ed208",
   "metadata": {},
   "outputs": [],
   "source": [
    "import torch"
   ]
  },
  {
   "cell_type": "code",
   "execution_count": 69,
   "id": "fa313e40-4182-47b2-bb86-2cdd81263a9b",
   "metadata": {},
   "outputs": [
    {
     "name": "stdout",
     "output_type": "stream",
     "text": [
      "tensor([[0, 0],\n",
      "        [1, 2],\n",
      "        [0, 0]])\n",
      "tensor([[2, 1],\n",
      "        [2, 2],\n",
      "        [0, 2]])\n",
      "tensor([[1, 0],\n",
      "        [0, 0]])\n",
      "Trans  tensor([[0, 0],\n",
      "        [1, 0],\n",
      "        [0, 0]])\n",
      "EIS  tensor([[0, 0],\n",
      "        [1, 0],\n",
      "        [0, 0]])\n",
      "tensor([0, 6, 0])\n",
      "tensor([0, 2, 0])\n",
      "EIS 2  tensor([0, 2, 0])\n"
     ]
    }
   ],
   "source": [
    "x1 = torch.randint(0,3, (3,2))\n",
    "x2 = torch.randint(0,3, (3,2))\n",
    "m = torch.tensor([[1,0],[0,0]])\n",
    "\n",
    "print(x1)\n",
    "print(x2)\n",
    "print(m)\n",
    "trans = x1 @ m\n",
    "print(\"Trans \", trans)\n",
    "print(\"EIS \" , torch.einsum('ai,ij->aj',x1,m,))\n",
    "print(torch.einsum('...i,...i',x1,x2))\n",
    "print(torch.einsum('...i,...i',trans,x2))\n",
    "print(\"EIS 2 \" , torch.einsum('ai,ij,aj->a',x1,m,x2))"
   ]
  },
  {
   "cell_type": "code",
   "execution_count": 70,
   "id": "d139507d-035e-4f9e-bb1a-3ffc9e5de161",
   "metadata": {},
   "outputs": [
    {
     "name": "stdout",
     "output_type": "stream",
     "text": [
      "tensor([[[-2, -1],\n",
      "         [-2, -2],\n",
      "         [ 0, -2]],\n",
      "\n",
      "        [[-1,  1],\n",
      "         [-1,  0],\n",
      "         [ 1,  0]],\n",
      "\n",
      "        [[-2, -1],\n",
      "         [-2, -2],\n",
      "         [ 0, -2]]])\n",
      "EIS 2  tensor([[4, 4, 0],\n",
      "        [1, 1, 1],\n",
      "        [4, 4, 0]])\n"
     ]
    }
   ],
   "source": [
    "diff = torch.unsqueeze(x1, dim=1) - x2\n",
    "print(diff)\n",
    "print(\"EIS 2 \" , torch.einsum('abi,ij,abj->ab',diff,m,diff))"
   ]
  }
 ],
 "metadata": {
  "kernelspec": {
   "display_name": "Python 3 (ipykernel)",
   "language": "python",
   "name": "python3"
  },
  "language_info": {
   "codemirror_mode": {
    "name": "ipython",
    "version": 3
   },
   "file_extension": ".py",
   "mimetype": "text/x-python",
   "name": "python",
   "nbconvert_exporter": "python",
   "pygments_lexer": "ipython3",
   "version": "3.10.13"
  }
 },
 "nbformat": 4,
 "nbformat_minor": 5
}
