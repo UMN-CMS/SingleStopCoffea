{
 "cells": [
  {
   "cell_type": "code",
   "execution_count": 8,
   "id": "b9e7bc27-3d7d-4df4-bea5-8d7880f278ea",
   "metadata": {},
   "outputs": [],
   "source": [
    "%load_ext autoreload\n",
    "%autoreload 2\n",
    "%reload_ext autoreload\n",
    "\n",
    "class StopExecution(Exception):\n",
    "    def _render_traceback_(self):\n",
    "        return []\n",
    "\n"
   ]
  },
  {
   "cell_type": "code",
   "execution_count": 9,
   "id": "a554f2de-7dc8-44ab-a0f1-8ab8354493ae",
   "metadata": {},
   "outputs": [],
   "source": [
    "import sys\n",
    "sys.path.append(\"..\")\n",
    "import pickle as pkl\n",
    "import hist\n",
    "from analyzer.datasets import SampleManager\n",
    "from analyzer.core import AnalysisResult\n",
    "import math\n",
    "import torch\n",
    "import gpytorch\n",
    "from torch.masked import masked_tensor, as_masked_tensor\n",
    "import numpy as np"
   ]
  },
  {
   "cell_type": "code",
   "execution_count": null,
   "id": "e86c91e9-0918-4807-b2bb-623f72768d10",
   "metadata": {},
   "outputs": [],
   "source": []
  },
  {
   "cell_type": "code",
   "execution_count": 10,
   "id": "6a6ae239-3445-438c-8f8c-8105c483f26e",
   "metadata": {},
   "outputs": [],
   "source": [
    "import matplotlib.pyplot as plt\n",
    "from analyzer.plotting.plots_1d import drawAs1DHist\n",
    "from analyzer.plotting.plots_2d import drawAs2DHist, addTitles2D\n",
    "from analyzer.plotting.plottables import PlotObject\n",
    "from analyzer.plotting.mplstyles import loadStyles\n",
    "import analyzer.plotting as plot\n",
    "loadStyles()"
   ]
  },
  {
   "cell_type": "code",
   "execution_count": 11,
   "id": "f39974c3-b875-4a1f-8722-2e9dd86b24ec",
   "metadata": {},
   "outputs": [],
   "source": [
    "from fitting import regression\n",
    "\n"
   ]
  },
  {
   "cell_type": "code",
   "execution_count": 12,
   "id": "454420b1",
   "metadata": {},
   "outputs": [],
   "source": [
    "res = AnalysisResult.fromFile(\"../results/data_control.pkl\")"
   ]
  },
  {
   "cell_type": "code",
   "execution_count": 13,
   "id": "fa1055ef-32c5-4437-acba-0e68bccd6e93",
   "metadata": {},
   "outputs": [],
   "source": [
    "sample_manager = SampleManager()\n",
    "sample_manager.loadSamplesFromDirectory(\"../datasets\")"
   ]
  },
  {
   "cell_type": "code",
   "execution_count": 14,
   "id": "c67df913-915e-4a18-8d5f-5f2c6cc5bf95",
   "metadata": {},
   "outputs": [
    {
     "data": {
      "text/html": [
       "<html>\n",
       "<div style=\"display:flex; align-items:center;\">\n",
       "<div style=\"width:290px;\">\n",
       "<svg xmlns=\"http://www.w3.org/2000/svg\" viewBox=\"-20 -270 290 290\">\n",
       "<text text-anchor=\"middle\" x=\"0\" y=\"13\" style=\"fill:currentColor;\">\n",
       "0\n",
       "</text>\n",
       "<text text-anchor=\"middle\" x=\"250\" y=\"13\" style=\"fill:currentColor;\">\n",
       "1\n",
       "</text>\n",
       "<text text-anchor=\"middle\" x=\"-10\" y=\"0\" style=\"fill:currentColor;\">\n",
       "0\n",
       "</text>\n",
       "<text text-anchor=\"middle\" x=\"-10\" y=\"-250\" style=\"fill:currentColor;\">\n",
       "10\n",
       "</text>\n",
       "<text text-anchor=\"middle\" x=\"125.0\" y=\"13\" style=\"fill:currentColor;\">\n",
       "Primary dataset\n",
       "</text>\n",
       "<text text-anchor=\"middle\" x=\"-10\" y=\"-125.0\" transform=\"rotate(-90,-10,-125.0)\" style=\"fill:currentColor;\">\n",
       "$n_{j}$\n",
       "</text>\n",
       "<rect x=\"0.0\" y=\"-25.0\" width=\"250.0\" height=\"25.0\" opacity=\"0.0\" fill=\"currentColor\" stroke-width=\"0.1\"/>\n",
       "<rect x=\"0.0\" y=\"-50.0\" width=\"250.0\" height=\"25.0\" opacity=\"0.0\" fill=\"currentColor\" stroke-width=\"0.1\"/>\n",
       "<rect x=\"0.0\" y=\"-75.0\" width=\"250.0\" height=\"25.0\" opacity=\"0.0\" fill=\"currentColor\" stroke-width=\"0.1\"/>\n",
       "<rect x=\"0.0\" y=\"-100.0\" width=\"250.0\" height=\"25.0\" opacity=\"0.0\" fill=\"currentColor\" stroke-width=\"0.1\"/>\n",
       "<rect x=\"0.0\" y=\"-125.0\" width=\"250.0\" height=\"25.0\" opacity=\"1.0\" fill=\"currentColor\" stroke-width=\"0.1\"/>\n",
       "<rect x=\"0.0\" y=\"-150.0\" width=\"250.0\" height=\"25.0\" opacity=\"0.5352967448637913\" fill=\"currentColor\" stroke-width=\"0.1\"/>\n",
       "<rect x=\"0.0\" y=\"-175.0\" width=\"250.0\" height=\"25.0\" opacity=\"0.21694736789576377\" fill=\"currentColor\" stroke-width=\"0.1\"/>\n",
       "<rect x=\"0.0\" y=\"-200.0\" width=\"250.0\" height=\"25.0\" opacity=\"0.0\" fill=\"currentColor\" stroke-width=\"0.1\"/>\n",
       "<rect x=\"0.0\" y=\"-225.0\" width=\"250.0\" height=\"25.0\" opacity=\"0.0\" fill=\"currentColor\" stroke-width=\"0.1\"/>\n",
       "<rect x=\"0.0\" y=\"-250.0\" width=\"250.0\" height=\"25.0\" opacity=\"0.0\" fill=\"currentColor\" stroke-width=\"0.1\"/>\n",
       "</svg>\n",
       "</div>\n",
       "<div style=\"flex=grow:1;\">\n",
       "StrCategory(['CR0b_Data2018'], growth=True, name='dataset', label='Primary dataset')<br/>\n",
       "Regular(10, 0, 10, name='nj', label='$n_{j}$')<br/>\n",
       "<hr style=\"margin-top:.2em; margin-bottom:.2em;\"/>\n",
       "Weight() Σ=WeightedSum(value=1.40454e+07, variance=1.40454e+07)\n",
       "\n",
       "</div>\n",
       "</div>\n",
       "</html>"
      ],
      "text/plain": [
       "Hist(\n",
       "  StrCategory(['CR0b_Data2018'], growth=True, name='dataset', label='Primary dataset'),\n",
       "  Regular(10, 0, 10, name='nj', label='$n_{j}$'),\n",
       "  storage=Weight()) # Sum: WeightedSum(value=1.40454e+07, variance=1.40454e+07)"
      ]
     },
     "execution_count": 14,
     "metadata": {},
     "output_type": "execute_result"
    }
   ],
   "source": [
    "res.results[\"CR0b_Data2018\"].histograms[\"h_njet\"] "
   ]
  },
  {
   "cell_type": "code",
   "execution_count": 15,
   "id": "ad036334",
   "metadata": {
    "scrolled": true
   },
   "outputs": [],
   "source": [
    "hists = res.getMergedHistograms(sample_manager)"
   ]
  },
  {
   "cell_type": "code",
   "execution_count": null,
   "id": "865e5b63-4053-4fc8-bbe8-29f1fd277fe5",
   "metadata": {},
   "outputs": [],
   "source": []
  },
  {
   "cell_type": "code",
   "execution_count": 16,
   "id": "f3ead402-abf4-421e-bf60-081ebff6ca69",
   "metadata": {},
   "outputs": [],
   "source": [
    "bkg_name=\"CR0b_Data2018\"\n",
    "complete_hist = hists[\"m14_vs_m24\"]\n",
    "narrowed = complete_hist\n",
    "#orig =  complete_hist[...,hist.loc(1100):hist.loc(2500),hist.loc(400):hist.loc(2000)]\n",
    "#narrowed =  complete_hist[...,hist.loc(0):hist.loc(3000),hist.loc(0):hist.loc(1)]\n",
    "#orig =  complete_hist[...,hist.loc(1150):hist.loc(3000),hist.loc(0.4):hist.loc(1)]\n",
    "#orig = orig / orig.values().max()\n",
    "#orig =  complete_hist[...,hist.loc(1150):hist.loc(3000),hist.loc(400):hist.loc(3000)]#orig =  complete_hist[...,hist.loc(0):hist.loc(3000),hist.loc(0):hist.loc(3000)]\n",
    "#narrowed = orig\n",
    "#narrowed = orig[...,::hist.rebin(15),::hist.rebin(12)]\n",
    "narrowed = narrowed[...,::hist.rebin(1),::hist.rebin(1)]\n",
    "\n",
    "qcd_hist = narrowed[bkg_name,...]\n",
    "#orig_qcd_hist = orig[bkg_name,...]\n",
    "\n",
    "#sig_hist = narrowed[\"signal_312_1500_900\",...]\n",
    "\n",
    "qcd_hist = narrowed[bkg_name,...] \n"
   ]
  },
  {
   "cell_type": "code",
   "execution_count": 17,
   "id": "0168a6c1-9d37-485a-b334-58584668aec9",
   "metadata": {},
   "outputs": [],
   "source": [
    "torch.set_default_dtype(torch.float64)"
   ]
  },
  {
   "cell_type": "code",
   "execution_count": 18,
   "id": "ef1e5ddd-573d-45f9-ae99-9e885d995cef",
   "metadata": {},
   "outputs": [],
   "source": [
    "from mpl_toolkits.axes_grid1 import make_axes_locatable\n",
    "def addColorbar(ax, vals):\n",
    "    divider = make_axes_locatable(ax)\n",
    "    cax = divider.append_axes(\"right\", size=\"5%\", pad=0.05)\n",
    "    cbar = plt.colorbar(vals, cax=cax)\n",
    "    cax.get_yaxis().set_offset_position(\"left\")\n",
    "    ax.cax = cax"
   ]
  },
  {
   "cell_type": "code",
   "execution_count": 19,
   "id": "7efeac79-b579-40c7-964c-24a5c00b250e",
   "metadata": {},
   "outputs": [
    {
     "data": {
      "image/png": "[encoded data removed]",
      "text/plain": [
       "<Figure size 1000x500 with 3 Axes>"
      ]
     },
     "metadata": {},
     "output_type": "display_data"
    }
   ],
   "source": [
    "fig,ax= plt.subplots(1,2,figsize=(10,5))\n",
    "_ = drawAs2DHist(ax[0], PlotObject.fromHist(qcd_hist))\n",
    "#_ = drawAs2DHist(ax[1], PlotObject.fromHist(sig_hist))"
   ]
  },
  {
   "cell_type": "code",
   "execution_count": 20,
   "id": "c3a8791e-f180-4666-ba5f-7f7070b58fcb",
   "metadata": {},
   "outputs": [],
   "source": [
    "#sig_values = torch.from_numpy(sig_hist.values()).T\n",
    "#(train, test), centers_mask = regression.preprocessHistograms(qcd_hist, [(0,0),(0.0,0.0)])\n",
    "window = [(1350,1550),(420,580)]\n",
    "#window=None\n",
    "(raw_train, raw_test), (train, test),  value_scale = regression.preprocessHistograms(qcd_hist, window, exclude_less=0.0001)\n"
   ]
  },
  {
   "cell_type": "code",
   "execution_count": 21,
   "id": "5109ff73-f043-4238-8194-47fd84f3dc32",
   "metadata": {},
   "outputs": [],
   "source": [
    "class LargeFeatureExtractor(torch.nn.Sequential):\n",
    "    def __init__(self, odim=2):\n",
    "        super(LargeFeatureExtractor, self).__init__()\n",
    "        self.add_module('linear1', torch.nn.Linear(2, 1000))\n",
    "        self.add_module('relu1', torch.nn.ReLU())\n",
    "        self.add_module('linear2', torch.nn.Linear(1000, 500))\n",
    "        self.add_module('relu2', torch.nn.ReLU())\n",
    "        self.add_module('linear3', torch.nn.Linear(500, 50))\n",
    "        self.add_module('relu3', torch.nn.ReLU())\n",
    "        self.add_module('linear4', torch.nn.Linear(50, odim))\n",
    "\n"
   ]
  },
  {
   "cell_type": "code",
   "execution_count": 22,
   "id": "d438f060-6e83-473e-a785-86ed7ccf1cb9",
   "metadata": {},
   "outputs": [],
   "source": [
    "class NNModel(gpytorch.models.ExactGP):\n",
    "        def __init__(self, train_x, train_y, likelihood,kernel=None,odim=2):\n",
    "            super().__init__(train_x, train_y, likelihood)\n",
    "            self.mean_module = gpytorch.means.ConstantMean()\n",
    "            \n",
    "            self.covar_module = kernel or gpytorch.kernels.ScaleKernel(gpytorch.kernels.RBFKernel(ard_num_dims=2))\n",
    "            feature_extractor = LargeFeatureExtractor(odim=odim)\n",
    "            self.feature_extractor = feature_extractor\n",
    "\n",
    "            # This module will scale the NN features so that they're nice values\n",
    "            self.scale_to_bounds = gpytorch.utils.grid.ScaleToBounds(-1., 1.)\n",
    "\n",
    "        def forward(self, x):\n",
    "            # We're first putting our data through a deep net (feature extractor)\n",
    "            projected_x = self.feature_extractor(x)\n",
    "            projected_x = self.scale_to_bounds(projected_x)  # Make the NN values \"nice\"\n",
    "\n",
    "            mean_x = self.mean_module(projected_x)\n",
    "            covar_x = self.covar_module(projected_x)\n",
    "            return gpytorch.distributions.MultivariateNormal(mean_x, covar_x)"
   ]
  },
  {
   "cell_type": "code",
   "execution_count": 23,
   "id": "22d817e8-4964-45b5-b9e8-2bcea2439a76",
   "metadata": {},
   "outputs": [],
   "source": [
    "i = train.inputs.cuda()"
   ]
  },
  {
   "cell_type": "code",
   "execution_count": 27,
   "id": "7b1186a7-fa73-4909-b57a-be8f4cb2c932",
   "metadata": {
    "editable": true,
    "slideshow": {
     "slide_type": ""
    },
    "tags": []
   },
   "outputs": [
    {
     "name": "stdout",
     "output_type": "stream",
     "text": [
      "Loading train to gpu\n",
      "Loaded train to gpu\n",
      "ExactAnyKernelModel(\n",
      "  (likelihood): FixedNoiseGaussianLikelihood(\n",
      "    (noise_covar): FixedGaussianNoise()\n",
      "  )\n",
      "  (mean_module): ConstantMean()\n",
      "  (covar_module): GeneralRBF(\n",
      "    (raw_lengthscale_constraint): Positive()\n",
      "    (raw_rot_constraint): Interval(-3.140E+00, 3.140E+00)\n",
      "  )\n",
      ")\n",
      "Loading model to gpu\n",
      "Loaded model to gpu\n"
     ]
    },
    {
     "name": "stderr",
     "output_type": "stream",
     "text": [
      "/srv/cmsmlenv/lib/python3.10/site-packages/gpytorch/likelihoods/noise_models.py:148: NumericalWarning: Very small noise values detected. This will likely lead to numerical instabilities. Rounding small noise values up to 1e-06.\n",
      "  warnings.warn(\n"
     ]
    },
    {
     "name": "stdout",
     "output_type": "stream",
     "text": [
      "Iter 0: Loss = 829.0407833510372\n",
      "Iter 10: Loss = 560.2661877790641\n",
      "Iter 20: Loss = 278.9253712567215\n"
     ]
    },
    {
     "name": "stderr",
     "output_type": "stream",
     "text": [
      "/srv/cmsmlenv/lib/python3.10/site-packages/linear_operator/utils/linear_cg.py:338: NumericalWarning: CG terminated in 1000 iterations with average residual norm 4.6220119240113196 which is larger than the tolerance of 1 specified by linear_operator.settings.cg_tolerance. If performance is affected, consider raising the maximum number of CG iterations by running code in a linear_operator.settings.max_cg_iterations(value) context.\n",
      "  warnings.warn(\n",
      "/srv/cmsmlenv/lib/python3.10/site-packages/linear_operator/utils/linear_cg.py:338: NumericalWarning: CG terminated in 1000 iterations with average residual norm 7.597968750364338 which is larger than the tolerance of 1 specified by linear_operator.settings.cg_tolerance. If performance is affected, consider raising the maximum number of CG iterations by running code in a linear_operator.settings.max_cg_iterations(value) context.\n",
      "  warnings.warn(\n",
      "/srv/cmsmlenv/lib/python3.10/site-packages/linear_operator/utils/linear_cg.py:338: NumericalWarning: CG terminated in 1000 iterations with average residual norm 3.831713858159074 which is larger than the tolerance of 1 specified by linear_operator.settings.cg_tolerance. If performance is affected, consider raising the maximum number of CG iterations by running code in a linear_operator.settings.max_cg_iterations(value) context.\n",
      "  warnings.warn(\n"
     ]
    },
    {
     "name": "stdout",
     "output_type": "stream",
     "text": [
      "Iter 30: Loss = 121.08590713081489\n"
     ]
    },
    {
     "name": "stderr",
     "output_type": "stream",
     "text": [
      "/srv/cmsmlenv/lib/python3.10/site-packages/linear_operator/utils/linear_cg.py:338: NumericalWarning: CG terminated in 1000 iterations with average residual norm 5.353473177237382 which is larger than the tolerance of 1 specified by linear_operator.settings.cg_tolerance. If performance is affected, consider raising the maximum number of CG iterations by running code in a linear_operator.settings.max_cg_iterations(value) context.\n",
      "  warnings.warn(\n",
      "/srv/cmsmlenv/lib/python3.10/site-packages/linear_operator/utils/linear_cg.py:338: NumericalWarning: CG terminated in 1000 iterations with average residual norm 4.835831631927946 which is larger than the tolerance of 1 specified by linear_operator.settings.cg_tolerance. If performance is affected, consider raising the maximum number of CG iterations by running code in a linear_operator.settings.max_cg_iterations(value) context.\n",
      "  warnings.warn(\n",
      "/srv/cmsmlenv/lib/python3.10/site-packages/linear_operator/utils/linear_cg.py:338: NumericalWarning: CG terminated in 1000 iterations with average residual norm 16.50011361455376 which is larger than the tolerance of 1 specified by linear_operator.settings.cg_tolerance. If performance is affected, consider raising the maximum number of CG iterations by running code in a linear_operator.settings.max_cg_iterations(value) context.\n",
      "  warnings.warn(\n",
      "/srv/cmsmlenv/lib/python3.10/site-packages/linear_operator/utils/linear_cg.py:338: NumericalWarning: CG terminated in 1000 iterations with average residual norm 5.69670710963646 which is larger than the tolerance of 1 specified by linear_operator.settings.cg_tolerance. If performance is affected, consider raising the maximum number of CG iterations by running code in a linear_operator.settings.max_cg_iterations(value) context.\n",
      "  warnings.warn(\n",
      "/srv/cmsmlenv/lib/python3.10/site-packages/linear_operator/utils/linear_cg.py:338: NumericalWarning: CG terminated in 1000 iterations with average residual norm 14.037562213289304 which is larger than the tolerance of 1 specified by linear_operator.settings.cg_tolerance. If performance is affected, consider raising the maximum number of CG iterations by running code in a linear_operator.settings.max_cg_iterations(value) context.\n",
      "  warnings.warn(\n",
      "/srv/cmsmlenv/lib/python3.10/site-packages/linear_operator/utils/linear_cg.py:338: NumericalWarning: CG terminated in 1000 iterations with average residual norm 12.905344437333197 which is larger than the tolerance of 1 specified by linear_operator.settings.cg_tolerance. If performance is affected, consider raising the maximum number of CG iterations by running code in a linear_operator.settings.max_cg_iterations(value) context.\n",
      "  warnings.warn(\n",
      "/srv/cmsmlenv/lib/python3.10/site-packages/linear_operator/utils/linear_cg.py:338: NumericalWarning: CG terminated in 1000 iterations with average residual norm 15.787875778896103 which is larger than the tolerance of 1 specified by linear_operator.settings.cg_tolerance. If performance is affected, consider raising the maximum number of CG iterations by running code in a linear_operator.settings.max_cg_iterations(value) context.\n",
      "  warnings.warn(\n",
      "/srv/cmsmlenv/lib/python3.10/site-packages/linear_operator/utils/linear_cg.py:338: NumericalWarning: CG terminated in 1000 iterations with average residual norm 28.57262819338116 which is larger than the tolerance of 1 specified by linear_operator.settings.cg_tolerance. If performance is affected, consider raising the maximum number of CG iterations by running code in a linear_operator.settings.max_cg_iterations(value) context.\n",
      "  warnings.warn(\n",
      "/srv/cmsmlenv/lib/python3.10/site-packages/linear_operator/utils/linear_cg.py:338: NumericalWarning: CG terminated in 1000 iterations with average residual norm 48.90758082210347 which is larger than the tolerance of 1 specified by linear_operator.settings.cg_tolerance. If performance is affected, consider raising the maximum number of CG iterations by running code in a linear_operator.settings.max_cg_iterations(value) context.\n",
      "  warnings.warn(\n",
      "/srv/cmsmlenv/lib/python3.10/site-packages/linear_operator/utils/linear_cg.py:338: NumericalWarning: CG terminated in 1000 iterations with average residual norm 31.402823463624973 which is larger than the tolerance of 1 specified by linear_operator.settings.cg_tolerance. If performance is affected, consider raising the maximum number of CG iterations by running code in a linear_operator.settings.max_cg_iterations(value) context.\n",
      "  warnings.warn(\n"
     ]
    },
    {
     "name": "stdout",
     "output_type": "stream",
     "text": [
      "Iter 40: Loss = 38.28570157467428\n"
     ]
    },
    {
     "name": "stderr",
     "output_type": "stream",
     "text": [
      "/srv/cmsmlenv/lib/python3.10/site-packages/linear_operator/utils/linear_cg.py:338: NumericalWarning: CG terminated in 1000 iterations with average residual norm 11.957811466232872 which is larger than the tolerance of 1 specified by linear_operator.settings.cg_tolerance. If performance is affected, consider raising the maximum number of CG iterations by running code in a linear_operator.settings.max_cg_iterations(value) context.\n",
      "  warnings.warn(\n",
      "/srv/cmsmlenv/lib/python3.10/site-packages/linear_operator/utils/linear_cg.py:338: NumericalWarning: CG terminated in 1000 iterations with average residual norm 18.367100860969735 which is larger than the tolerance of 1 specified by linear_operator.settings.cg_tolerance. If performance is affected, consider raising the maximum number of CG iterations by running code in a linear_operator.settings.max_cg_iterations(value) context.\n",
      "  warnings.warn(\n",
      "/srv/cmsmlenv/lib/python3.10/site-packages/linear_operator/utils/linear_cg.py:338: NumericalWarning: CG terminated in 1000 iterations with average residual norm 25.65937853345092 which is larger than the tolerance of 1 specified by linear_operator.settings.cg_tolerance. If performance is affected, consider raising the maximum number of CG iterations by running code in a linear_operator.settings.max_cg_iterations(value) context.\n",
      "  warnings.warn(\n",
      "/srv/cmsmlenv/lib/python3.10/site-packages/linear_operator/utils/linear_cg.py:338: NumericalWarning: CG terminated in 1000 iterations with average residual norm 48.77817620253179 which is larger than the tolerance of 1 specified by linear_operator.settings.cg_tolerance. If performance is affected, consider raising the maximum number of CG iterations by running code in a linear_operator.settings.max_cg_iterations(value) context.\n",
      "  warnings.warn(\n",
      "/srv/cmsmlenv/lib/python3.10/site-packages/linear_operator/utils/linear_cg.py:338: NumericalWarning: CG terminated in 1000 iterations with average residual norm 43.074007643041725 which is larger than the tolerance of 1 specified by linear_operator.settings.cg_tolerance. If performance is affected, consider raising the maximum number of CG iterations by running code in a linear_operator.settings.max_cg_iterations(value) context.\n",
      "  warnings.warn(\n",
      "/srv/cmsmlenv/lib/python3.10/site-packages/linear_operator/utils/linear_cg.py:338: NumericalWarning: CG terminated in 1000 iterations with average residual norm 38.74649259419726 which is larger than the tolerance of 1 specified by linear_operator.settings.cg_tolerance. If performance is affected, consider raising the maximum number of CG iterations by running code in a linear_operator.settings.max_cg_iterations(value) context.\n",
      "  warnings.warn(\n",
      "/srv/cmsmlenv/lib/python3.10/site-packages/linear_operator/utils/linear_cg.py:338: NumericalWarning: CG terminated in 1000 iterations with average residual norm 26.546321829083276 which is larger than the tolerance of 1 specified by linear_operator.settings.cg_tolerance. If performance is affected, consider raising the maximum number of CG iterations by running code in a linear_operator.settings.max_cg_iterations(value) context.\n",
      "  warnings.warn(\n",
      "/srv/cmsmlenv/lib/python3.10/site-packages/linear_operator/utils/linear_cg.py:338: NumericalWarning: CG terminated in 1000 iterations with average residual norm 39.68179194230208 which is larger than the tolerance of 1 specified by linear_operator.settings.cg_tolerance. If performance is affected, consider raising the maximum number of CG iterations by running code in a linear_operator.settings.max_cg_iterations(value) context.\n",
      "  warnings.warn(\n",
      "/srv/cmsmlenv/lib/python3.10/site-packages/linear_operator/utils/linear_cg.py:338: NumericalWarning: CG terminated in 1000 iterations with average residual norm 17.721161547815633 which is larger than the tolerance of 1 specified by linear_operator.settings.cg_tolerance. If performance is affected, consider raising the maximum number of CG iterations by running code in a linear_operator.settings.max_cg_iterations(value) context.\n",
      "  warnings.warn(\n",
      "/srv/cmsmlenv/lib/python3.10/site-packages/linear_operator/utils/linear_cg.py:338: NumericalWarning: CG terminated in 1000 iterations with average residual norm 40.032988379422015 which is larger than the tolerance of 1 specified by linear_operator.settings.cg_tolerance. If performance is affected, consider raising the maximum number of CG iterations by running code in a linear_operator.settings.max_cg_iterations(value) context.\n",
      "  warnings.warn(\n"
     ]
    },
    {
     "name": "stdout",
     "output_type": "stream",
     "text": [
      "Iter 50: Loss = 16.05854959528372\n"
     ]
    },
    {
     "name": "stderr",
     "output_type": "stream",
     "text": [
      "/srv/cmsmlenv/lib/python3.10/site-packages/linear_operator/utils/linear_cg.py:338: NumericalWarning: CG terminated in 1000 iterations with average residual norm 15.67244559793167 which is larger than the tolerance of 1 specified by linear_operator.settings.cg_tolerance. If performance is affected, consider raising the maximum number of CG iterations by running code in a linear_operator.settings.max_cg_iterations(value) context.\n",
      "  warnings.warn(\n",
      "/srv/cmsmlenv/lib/python3.10/site-packages/linear_operator/utils/linear_cg.py:338: NumericalWarning: CG terminated in 1000 iterations with average residual norm 25.00501718638628 which is larger than the tolerance of 1 specified by linear_operator.settings.cg_tolerance. If performance is affected, consider raising the maximum number of CG iterations by running code in a linear_operator.settings.max_cg_iterations(value) context.\n",
      "  warnings.warn(\n",
      "/srv/cmsmlenv/lib/python3.10/site-packages/linear_operator/utils/linear_cg.py:338: NumericalWarning: CG terminated in 1000 iterations with average residual norm 48.84649655004504 which is larger than the tolerance of 1 specified by linear_operator.settings.cg_tolerance. If performance is affected, consider raising the maximum number of CG iterations by running code in a linear_operator.settings.max_cg_iterations(value) context.\n",
      "  warnings.warn(\n",
      "/srv/cmsmlenv/lib/python3.10/site-packages/linear_operator/utils/linear_cg.py:338: NumericalWarning: CG terminated in 1000 iterations with average residual norm 17.968261112785786 which is larger than the tolerance of 1 specified by linear_operator.settings.cg_tolerance. If performance is affected, consider raising the maximum number of CG iterations by running code in a linear_operator.settings.max_cg_iterations(value) context.\n",
      "  warnings.warn(\n",
      "/srv/cmsmlenv/lib/python3.10/site-packages/linear_operator/utils/linear_cg.py:338: NumericalWarning: CG terminated in 1000 iterations with average residual norm 52.91032905844529 which is larger than the tolerance of 1 specified by linear_operator.settings.cg_tolerance. If performance is affected, consider raising the maximum number of CG iterations by running code in a linear_operator.settings.max_cg_iterations(value) context.\n",
      "  warnings.warn(\n",
      "/srv/cmsmlenv/lib/python3.10/site-packages/linear_operator/utils/linear_cg.py:338: NumericalWarning: CG terminated in 1000 iterations with average residual norm 30.93398083893507 which is larger than the tolerance of 1 specified by linear_operator.settings.cg_tolerance. If performance is affected, consider raising the maximum number of CG iterations by running code in a linear_operator.settings.max_cg_iterations(value) context.\n",
      "  warnings.warn(\n",
      "/srv/cmsmlenv/lib/python3.10/site-packages/linear_operator/utils/linear_cg.py:338: NumericalWarning: CG terminated in 1000 iterations with average residual norm 34.02534760075002 which is larger than the tolerance of 1 specified by linear_operator.settings.cg_tolerance. If performance is affected, consider raising the maximum number of CG iterations by running code in a linear_operator.settings.max_cg_iterations(value) context.\n",
      "  warnings.warn(\n",
      "/srv/cmsmlenv/lib/python3.10/site-packages/linear_operator/utils/linear_cg.py:338: NumericalWarning: CG terminated in 1000 iterations with average residual norm 28.689664858888726 which is larger than the tolerance of 1 specified by linear_operator.settings.cg_tolerance. If performance is affected, consider raising the maximum number of CG iterations by running code in a linear_operator.settings.max_cg_iterations(value) context.\n",
      "  warnings.warn(\n",
      "/srv/cmsmlenv/lib/python3.10/site-packages/linear_operator/utils/linear_cg.py:338: NumericalWarning: CG terminated in 1000 iterations with average residual norm 33.91325330651244 which is larger than the tolerance of 1 specified by linear_operator.settings.cg_tolerance. If performance is affected, consider raising the maximum number of CG iterations by running code in a linear_operator.settings.max_cg_iterations(value) context.\n",
      "  warnings.warn(\n",
      "/srv/cmsmlenv/lib/python3.10/site-packages/linear_operator/utils/linear_cg.py:338: NumericalWarning: CG terminated in 1000 iterations with average residual norm 93.5097104568745 which is larger than the tolerance of 1 specified by linear_operator.settings.cg_tolerance. If performance is affected, consider raising the maximum number of CG iterations by running code in a linear_operator.settings.max_cg_iterations(value) context.\n",
      "  warnings.warn(\n"
     ]
    },
    {
     "name": "stdout",
     "output_type": "stream",
     "text": [
      "Iter 60: Loss = 10.165286999850085\n"
     ]
    },
    {
     "name": "stderr",
     "output_type": "stream",
     "text": [
      "/srv/cmsmlenv/lib/python3.10/site-packages/linear_operator/utils/linear_cg.py:338: NumericalWarning: CG terminated in 1000 iterations with average residual norm 35.74848805312926 which is larger than the tolerance of 1 specified by linear_operator.settings.cg_tolerance. If performance is affected, consider raising the maximum number of CG iterations by running code in a linear_operator.settings.max_cg_iterations(value) context.\n",
      "  warnings.warn(\n",
      "/srv/cmsmlenv/lib/python3.10/site-packages/linear_operator/utils/linear_cg.py:338: NumericalWarning: CG terminated in 1000 iterations with average residual norm 52.488346953990664 which is larger than the tolerance of 1 specified by linear_operator.settings.cg_tolerance. If performance is affected, consider raising the maximum number of CG iterations by running code in a linear_operator.settings.max_cg_iterations(value) context.\n",
      "  warnings.warn(\n",
      "/srv/cmsmlenv/lib/python3.10/site-packages/linear_operator/utils/linear_cg.py:338: NumericalWarning: CG terminated in 1000 iterations with average residual norm 26.081712749678992 which is larger than the tolerance of 1 specified by linear_operator.settings.cg_tolerance. If performance is affected, consider raising the maximum number of CG iterations by running code in a linear_operator.settings.max_cg_iterations(value) context.\n",
      "  warnings.warn(\n",
      "/srv/cmsmlenv/lib/python3.10/site-packages/linear_operator/utils/linear_cg.py:338: NumericalWarning: CG terminated in 1000 iterations with average residual norm 42.33245808986951 which is larger than the tolerance of 1 specified by linear_operator.settings.cg_tolerance. If performance is affected, consider raising the maximum number of CG iterations by running code in a linear_operator.settings.max_cg_iterations(value) context.\n",
      "  warnings.warn(\n",
      "/srv/cmsmlenv/lib/python3.10/site-packages/linear_operator/utils/linear_cg.py:338: NumericalWarning: CG terminated in 1000 iterations with average residual norm 40.28493577535154 which is larger than the tolerance of 1 specified by linear_operator.settings.cg_tolerance. If performance is affected, consider raising the maximum number of CG iterations by running code in a linear_operator.settings.max_cg_iterations(value) context.\n",
      "  warnings.warn(\n",
      "/srv/cmsmlenv/lib/python3.10/site-packages/linear_operator/utils/linear_cg.py:338: NumericalWarning: CG terminated in 1000 iterations with average residual norm 43.281572335853106 which is larger than the tolerance of 1 specified by linear_operator.settings.cg_tolerance. If performance is affected, consider raising the maximum number of CG iterations by running code in a linear_operator.settings.max_cg_iterations(value) context.\n",
      "  warnings.warn(\n",
      "/srv/cmsmlenv/lib/python3.10/site-packages/linear_operator/utils/linear_cg.py:338: NumericalWarning: CG terminated in 1000 iterations with average residual norm 58.28829655813246 which is larger than the tolerance of 1 specified by linear_operator.settings.cg_tolerance. If performance is affected, consider raising the maximum number of CG iterations by running code in a linear_operator.settings.max_cg_iterations(value) context.\n",
      "  warnings.warn(\n",
      "/srv/cmsmlenv/lib/python3.10/site-packages/linear_operator/utils/linear_cg.py:338: NumericalWarning: CG terminated in 1000 iterations with average residual norm 37.456962253316874 which is larger than the tolerance of 1 specified by linear_operator.settings.cg_tolerance. If performance is affected, consider raising the maximum number of CG iterations by running code in a linear_operator.settings.max_cg_iterations(value) context.\n",
      "  warnings.warn(\n",
      "/srv/cmsmlenv/lib/python3.10/site-packages/linear_operator/utils/linear_cg.py:338: NumericalWarning: CG terminated in 1000 iterations with average residual norm 25.46556820639179 which is larger than the tolerance of 1 specified by linear_operator.settings.cg_tolerance. If performance is affected, consider raising the maximum number of CG iterations by running code in a linear_operator.settings.max_cg_iterations(value) context.\n",
      "  warnings.warn(\n",
      "/srv/cmsmlenv/lib/python3.10/site-packages/linear_operator/utils/linear_cg.py:338: NumericalWarning: CG terminated in 1000 iterations with average residual norm 35.944529070342604 which is larger than the tolerance of 1 specified by linear_operator.settings.cg_tolerance. If performance is affected, consider raising the maximum number of CG iterations by running code in a linear_operator.settings.max_cg_iterations(value) context.\n",
      "  warnings.warn(\n"
     ]
    },
    {
     "name": "stdout",
     "output_type": "stream",
     "text": [
      "Iter 70: Loss = 7.035473674025889\n"
     ]
    },
    {
     "name": "stderr",
     "output_type": "stream",
     "text": [
      "/srv/cmsmlenv/lib/python3.10/site-packages/linear_operator/utils/linear_cg.py:338: NumericalWarning: CG terminated in 1000 iterations with average residual norm 40.28800910681775 which is larger than the tolerance of 1 specified by linear_operator.settings.cg_tolerance. If performance is affected, consider raising the maximum number of CG iterations by running code in a linear_operator.settings.max_cg_iterations(value) context.\n",
      "  warnings.warn(\n",
      "/srv/cmsmlenv/lib/python3.10/site-packages/linear_operator/utils/linear_cg.py:338: NumericalWarning: CG terminated in 1000 iterations with average residual norm 27.618542452432198 which is larger than the tolerance of 1 specified by linear_operator.settings.cg_tolerance. If performance is affected, consider raising the maximum number of CG iterations by running code in a linear_operator.settings.max_cg_iterations(value) context.\n",
      "  warnings.warn(\n",
      "/srv/cmsmlenv/lib/python3.10/site-packages/linear_operator/utils/linear_cg.py:338: NumericalWarning: CG terminated in 1000 iterations with average residual norm 38.7064588159003 which is larger than the tolerance of 1 specified by linear_operator.settings.cg_tolerance. If performance is affected, consider raising the maximum number of CG iterations by running code in a linear_operator.settings.max_cg_iterations(value) context.\n",
      "  warnings.warn(\n",
      "/srv/cmsmlenv/lib/python3.10/site-packages/linear_operator/utils/linear_cg.py:338: NumericalWarning: CG terminated in 1000 iterations with average residual norm 80.70760347462151 which is larger than the tolerance of 1 specified by linear_operator.settings.cg_tolerance. If performance is affected, consider raising the maximum number of CG iterations by running code in a linear_operator.settings.max_cg_iterations(value) context.\n",
      "  warnings.warn(\n",
      "/srv/cmsmlenv/lib/python3.10/site-packages/linear_operator/utils/linear_cg.py:338: NumericalWarning: CG terminated in 1000 iterations with average residual norm 56.9313098252825 which is larger than the tolerance of 1 specified by linear_operator.settings.cg_tolerance. If performance is affected, consider raising the maximum number of CG iterations by running code in a linear_operator.settings.max_cg_iterations(value) context.\n",
      "  warnings.warn(\n",
      "/srv/cmsmlenv/lib/python3.10/site-packages/linear_operator/utils/linear_cg.py:338: NumericalWarning: CG terminated in 1000 iterations with average residual norm 46.89062816153102 which is larger than the tolerance of 1 specified by linear_operator.settings.cg_tolerance. If performance is affected, consider raising the maximum number of CG iterations by running code in a linear_operator.settings.max_cg_iterations(value) context.\n",
      "  warnings.warn(\n",
      "/srv/cmsmlenv/lib/python3.10/site-packages/linear_operator/utils/linear_cg.py:338: NumericalWarning: CG terminated in 1000 iterations with average residual norm 72.9422982657903 which is larger than the tolerance of 1 specified by linear_operator.settings.cg_tolerance. If performance is affected, consider raising the maximum number of CG iterations by running code in a linear_operator.settings.max_cg_iterations(value) context.\n",
      "  warnings.warn(\n",
      "/srv/cmsmlenv/lib/python3.10/site-packages/linear_operator/utils/linear_cg.py:338: NumericalWarning: CG terminated in 1000 iterations with average residual norm 46.67349496480964 which is larger than the tolerance of 1 specified by linear_operator.settings.cg_tolerance. If performance is affected, consider raising the maximum number of CG iterations by running code in a linear_operator.settings.max_cg_iterations(value) context.\n",
      "  warnings.warn(\n",
      "/srv/cmsmlenv/lib/python3.10/site-packages/linear_operator/utils/linear_cg.py:338: NumericalWarning: CG terminated in 1000 iterations with average residual norm 66.18118110633293 which is larger than the tolerance of 1 specified by linear_operator.settings.cg_tolerance. If performance is affected, consider raising the maximum number of CG iterations by running code in a linear_operator.settings.max_cg_iterations(value) context.\n",
      "  warnings.warn(\n",
      "/srv/cmsmlenv/lib/python3.10/site-packages/linear_operator/utils/linear_cg.py:338: NumericalWarning: CG terminated in 1000 iterations with average residual norm 36.057918584188464 which is larger than the tolerance of 1 specified by linear_operator.settings.cg_tolerance. If performance is affected, consider raising the maximum number of CG iterations by running code in a linear_operator.settings.max_cg_iterations(value) context.\n",
      "  warnings.warn(\n"
     ]
    },
    {
     "name": "stdout",
     "output_type": "stream",
     "text": [
      "Iter 80: Loss = 5.943337635111109\n"
     ]
    },
    {
     "name": "stderr",
     "output_type": "stream",
     "text": [
      "/srv/cmsmlenv/lib/python3.10/site-packages/linear_operator/utils/linear_cg.py:338: NumericalWarning: CG terminated in 1000 iterations with average residual norm 35.36609046399716 which is larger than the tolerance of 1 specified by linear_operator.settings.cg_tolerance. If performance is affected, consider raising the maximum number of CG iterations by running code in a linear_operator.settings.max_cg_iterations(value) context.\n",
      "  warnings.warn(\n",
      "/srv/cmsmlenv/lib/python3.10/site-packages/linear_operator/utils/linear_cg.py:338: NumericalWarning: CG terminated in 1000 iterations with average residual norm 30.645520807734894 which is larger than the tolerance of 1 specified by linear_operator.settings.cg_tolerance. If performance is affected, consider raising the maximum number of CG iterations by running code in a linear_operator.settings.max_cg_iterations(value) context.\n",
      "  warnings.warn(\n",
      "/srv/cmsmlenv/lib/python3.10/site-packages/linear_operator/utils/linear_cg.py:338: NumericalWarning: CG terminated in 1000 iterations with average residual norm 31.07535594189826 which is larger than the tolerance of 1 specified by linear_operator.settings.cg_tolerance. If performance is affected, consider raising the maximum number of CG iterations by running code in a linear_operator.settings.max_cg_iterations(value) context.\n",
      "  warnings.warn(\n",
      "/srv/cmsmlenv/lib/python3.10/site-packages/linear_operator/utils/linear_cg.py:338: NumericalWarning: CG terminated in 1000 iterations with average residual norm 32.358425723630546 which is larger than the tolerance of 1 specified by linear_operator.settings.cg_tolerance. If performance is affected, consider raising the maximum number of CG iterations by running code in a linear_operator.settings.max_cg_iterations(value) context.\n",
      "  warnings.warn(\n",
      "/srv/cmsmlenv/lib/python3.10/site-packages/linear_operator/utils/linear_cg.py:338: NumericalWarning: CG terminated in 1000 iterations with average residual norm 33.1755234910272 which is larger than the tolerance of 1 specified by linear_operator.settings.cg_tolerance. If performance is affected, consider raising the maximum number of CG iterations by running code in a linear_operator.settings.max_cg_iterations(value) context.\n",
      "  warnings.warn(\n",
      "/srv/cmsmlenv/lib/python3.10/site-packages/linear_operator/utils/linear_cg.py:338: NumericalWarning: CG terminated in 1000 iterations with average residual norm 36.0957767279263 which is larger than the tolerance of 1 specified by linear_operator.settings.cg_tolerance. If performance is affected, consider raising the maximum number of CG iterations by running code in a linear_operator.settings.max_cg_iterations(value) context.\n",
      "  warnings.warn(\n",
      "/srv/cmsmlenv/lib/python3.10/site-packages/linear_operator/utils/linear_cg.py:338: NumericalWarning: CG terminated in 1000 iterations with average residual norm 26.294621714233333 which is larger than the tolerance of 1 specified by linear_operator.settings.cg_tolerance. If performance is affected, consider raising the maximum number of CG iterations by running code in a linear_operator.settings.max_cg_iterations(value) context.\n",
      "  warnings.warn(\n",
      "/srv/cmsmlenv/lib/python3.10/site-packages/linear_operator/utils/linear_cg.py:338: NumericalWarning: CG terminated in 1000 iterations with average residual norm 44.819470199197184 which is larger than the tolerance of 1 specified by linear_operator.settings.cg_tolerance. If performance is affected, consider raising the maximum number of CG iterations by running code in a linear_operator.settings.max_cg_iterations(value) context.\n",
      "  warnings.warn(\n",
      "/srv/cmsmlenv/lib/python3.10/site-packages/linear_operator/utils/linear_cg.py:338: NumericalWarning: CG terminated in 1000 iterations with average residual norm 45.850142506886506 which is larger than the tolerance of 1 specified by linear_operator.settings.cg_tolerance. If performance is affected, consider raising the maximum number of CG iterations by running code in a linear_operator.settings.max_cg_iterations(value) context.\n",
      "  warnings.warn(\n",
      "/srv/cmsmlenv/lib/python3.10/site-packages/linear_operator/utils/linear_cg.py:338: NumericalWarning: CG terminated in 1000 iterations with average residual norm 45.11038190329662 which is larger than the tolerance of 1 specified by linear_operator.settings.cg_tolerance. If performance is affected, consider raising the maximum number of CG iterations by running code in a linear_operator.settings.max_cg_iterations(value) context.\n",
      "  warnings.warn(\n"
     ]
    },
    {
     "name": "stdout",
     "output_type": "stream",
     "text": [
      "Iter 90: Loss = 5.70341250564683\n"
     ]
    },
    {
     "name": "stderr",
     "output_type": "stream",
     "text": [
      "/srv/cmsmlenv/lib/python3.10/site-packages/linear_operator/utils/linear_cg.py:338: NumericalWarning: CG terminated in 1000 iterations with average residual norm 56.61285382283258 which is larger than the tolerance of 1 specified by linear_operator.settings.cg_tolerance. If performance is affected, consider raising the maximum number of CG iterations by running code in a linear_operator.settings.max_cg_iterations(value) context.\n",
      "  warnings.warn(\n",
      "/srv/cmsmlenv/lib/python3.10/site-packages/linear_operator/utils/linear_cg.py:338: NumericalWarning: CG terminated in 1000 iterations with average residual norm 52.61920739254267 which is larger than the tolerance of 1 specified by linear_operator.settings.cg_tolerance. If performance is affected, consider raising the maximum number of CG iterations by running code in a linear_operator.settings.max_cg_iterations(value) context.\n",
      "  warnings.warn(\n",
      "/srv/cmsmlenv/lib/python3.10/site-packages/linear_operator/utils/linear_cg.py:338: NumericalWarning: CG terminated in 1000 iterations with average residual norm 52.431170466918566 which is larger than the tolerance of 1 specified by linear_operator.settings.cg_tolerance. If performance is affected, consider raising the maximum number of CG iterations by running code in a linear_operator.settings.max_cg_iterations(value) context.\n",
      "  warnings.warn(\n",
      "/srv/cmsmlenv/lib/python3.10/site-packages/linear_operator/utils/linear_cg.py:338: NumericalWarning: CG terminated in 1000 iterations with average residual norm 32.02082786454178 which is larger than the tolerance of 1 specified by linear_operator.settings.cg_tolerance. If performance is affected, consider raising the maximum number of CG iterations by running code in a linear_operator.settings.max_cg_iterations(value) context.\n",
      "  warnings.warn(\n",
      "/srv/cmsmlenv/lib/python3.10/site-packages/linear_operator/utils/linear_cg.py:338: NumericalWarning: CG terminated in 1000 iterations with average residual norm 32.54773702158367 which is larger than the tolerance of 1 specified by linear_operator.settings.cg_tolerance. If performance is affected, consider raising the maximum number of CG iterations by running code in a linear_operator.settings.max_cg_iterations(value) context.\n",
      "  warnings.warn(\n",
      "/srv/cmsmlenv/lib/python3.10/site-packages/linear_operator/utils/linear_cg.py:338: NumericalWarning: CG terminated in 1000 iterations with average residual norm 43.22379790764383 which is larger than the tolerance of 1 specified by linear_operator.settings.cg_tolerance. If performance is affected, consider raising the maximum number of CG iterations by running code in a linear_operator.settings.max_cg_iterations(value) context.\n",
      "  warnings.warn(\n",
      "/srv/cmsmlenv/lib/python3.10/site-packages/linear_operator/utils/linear_cg.py:338: NumericalWarning: CG terminated in 1000 iterations with average residual norm 57.31579662263229 which is larger than the tolerance of 1 specified by linear_operator.settings.cg_tolerance. If performance is affected, consider raising the maximum number of CG iterations by running code in a linear_operator.settings.max_cg_iterations(value) context.\n",
      "  warnings.warn(\n",
      "/srv/cmsmlenv/lib/python3.10/site-packages/linear_operator/utils/linear_cg.py:338: NumericalWarning: CG terminated in 1000 iterations with average residual norm 51.20692579373492 which is larger than the tolerance of 1 specified by linear_operator.settings.cg_tolerance. If performance is affected, consider raising the maximum number of CG iterations by running code in a linear_operator.settings.max_cg_iterations(value) context.\n",
      "  warnings.warn(\n"
     ]
    },
    {
     "name": "stdout",
     "output_type": "stream",
     "text": [
      "mean_module.raw_constant                      1.5899694675830587\n",
      "covar_module.raw_lengthscale                  tensor([[-2.0427, -2.9821]], device='cuda:0')\n",
      "covar_module.raw_rot                          -0.7511271083117581\n"
     ]
    },
    {
     "name": "stderr",
     "output_type": "stream",
     "text": [
      "/srv/cmsmlenv/lib/python3.10/site-packages/linear_operator/utils/linear_cg.py:338: NumericalWarning: CG terminated in 1000 iterations with average residual norm 43.71512134245021 which is larger than the tolerance of 1 specified by linear_operator.settings.cg_tolerance. If performance is affected, consider raising the maximum number of CG iterations by running code in a linear_operator.settings.max_cg_iterations(value) context.\n",
      "  warnings.warn(\n"
     ]
    }
   ],
   "source": [
    "from fitting import regression\n",
    "from gpytorch.kernels import ScaleKernel as SK\n",
    "from gpytorch.kernels import RBFKernel as RBF\n",
    "\n",
    "import fitting.models as models\n",
    "#importlib.reload(models)\n",
    "#importlib.reload(regression)\n",
    "\n",
    "\n",
    "if torch.cuda.is_available():   \n",
    "    print(\"Loading train to gpu\")\n",
    "    train_data = regression.DataValues(train.inputs.cuda(), train.outputs.cuda(), train.variances.cuda(), None)\n",
    "    print(\"Loaded train to gpu\")\n",
    "\n",
    "\n",
    "grid_size = gpytorch.utils.grid.choose_grid_size(train.inputs,1.0)\n",
    "\n",
    "# model,likelihood = regression.createModel(\n",
    "#     train_data, \n",
    "#     kernel=SK(\n",
    "#         gpytorch.kernels.GridInterpolationKernel(\n",
    "#             gpytorch.kernels.RBFKernel(ard_num_dims=2), grid_size=grid_size, num_dims=2)\n",
    "#     ))\n",
    "#model,likelihood = regression.createModel(train_data, \n",
    "#kernel=SK(\n",
    "#                                              gpytorch.kernels.RBFKernel(ard_num_dims=2) + \n",
    "#                                              gpytorch.kernels.LinearKernel(ard_num_dims=2,num_dimensions=2)\n",
    "#                                          ))\n",
    "#model,likelihood = regression.createModel(train_data, kernel=SK(gpytorch.kernels.MaternKernel(ard_num_dims=2)))\n",
    "#model,likelihood = regression.createModel(train_data, kernel=SK(gpytorch.kernels.PiecewisePolynomialKernel(ard_num_dims=2)))\n",
    "#model,likelihood = regression.createModel(train_data, model_maker= ExactProjGPModel )#model,likelihood = regression.createModel(train, kernel=SK(models.MatrixRBF()))\n",
    "#model,likelihood = regression.createModel(train_data, kernel=SK(models.PeakedRBF(ard_num_dims=2)))\n",
    "\n",
    "smk = gpytorch.kernels.SpectralMixtureKernel(ard_num_dims=2, num_mixtures=4)\n",
    "gsmk=models.GeneralSpectralMixture(num_mixtures=1, ard_num_dims=2)\n",
    "smk.initialize_from_data(train.inputs, train.outputs)\n",
    "#gsmk.initialize_from_data(train.inputs, train.outputs)\n",
    "\n",
    "grbf = models.GeneralRBF(ard_num_dims=2)\n",
    "lk = gpytorch.kernels.LinearKernel(ard_num_dims=2,num_dimensions=2)\n",
    "\n",
    "#model,likelihood = regression.createModel(train, kernel=gpytorch.kernels.SpectralMixtureKernel(ard_num_dims=2, num_mixtures=2))\n",
    "#model,likelihood = regression.createModel(train, kernel=smk)\n",
    "#model,likelihood = regression.createModel(train, model_maker=NNModel, kernel=gpytorch.kernels.RQKernel(ard_num_dims=2), odim=2)\n",
    "model,likelihood = regression.createModel(train_data, kernel=grbf)\n",
    "\n",
    "\n",
    "\n",
    "\n",
    "#model,likelihood = regression.createModel(train, kernel=gpytorch.kernels.SpectralDeltaKernel(num_dims=2, ard_num_dims=2))#model,likelihood = regression.createModel(train, kernel=SK(gpytorch.kernels.RQKernel(ard_num_dims=2)))\n",
    "#model,likelihood = regression.createModel(train, kernel=SK(models.GeneralRBF(ard_num_dims=2)))\n",
    "#model,likelihood = regression.createModel(train, kernel=SK(models.GeneralRQ(ard_num_dims=2)))\n",
    "#model,likelihood = regression.createModel(train, kernel=models.GeneralSpectralMixture(num_mixtures=1, ard_num_dims=2))\n",
    "#model,likelihood = regression.createModel(train, kernel=grbf)\n",
    "print(model)\n",
    "#model.covar_module.kernels[1].initialize_from_data(train.inputs, train.outputs)\n",
    "#model.covar_module.base_kernel.initialize_from_data(train.inputs, train.outputs)#model.covar_module.initialize_from_data_empspect(train.inputs, train.outputs)\n",
    "\n",
    "\n",
    "if torch.cuda.is_available():   \n",
    "    print(\"Loading model to gpu\")\n",
    "    model = model.cuda()\n",
    "    likelihood = likelihood.cuda()\n",
    "    #train = regression.DataValues(train.inputs.cuda(), train.outputs.cuda(), train.variances.cuda(), None)\n",
    "    print(\"Loaded model to gpu\")\n",
    "model,likelihood = regression.optimizeHyperparams(model,likelihood, train_data, bar=False, iterations=100)\n",
    "\n",
    "for n,p in model.named_parameters():    \n",
    "    print(f\"{n:45} {p.data}\")"
   ]
  },
  {
   "cell_type": "code",
   "execution_count": 25,
   "id": "7706129b-00d5-4de2-830e-e60aa0b14fe3",
   "metadata": {},
   "outputs": [
    {
     "name": "stdout",
     "output_type": "stream",
     "text": [
      "tensor([[ 0.4350, -0.9004],\n",
      "        [ 0.9004,  0.4350]], device='cuda:0', grad_fn=<StackBackward0>)\n",
      "tensor(1.1208, device='cuda:0', grad_fn=<AddBackward0>)\n",
      "tensor([[0.0642, 0.0648]], device='cuda:0', grad_fn=<SoftplusBackward0>)\n"
     ]
    }
   ],
   "source": [
    "#print(model.covar_module.base_kernel.getMatrix())\n",
    "#print(model.covar_module.base_kernel.rot)\n",
    "#print(model.covar_module.base_kernel.lengthscale)\n",
    "print(model.covar_module.getMatrix())\n",
    "print(model.covar_module.rot)\n",
    "print(model.covar_module.lengthscale)\n",
    "\n",
    "#print(model.covar_module.base_kernel.alpha)"
   ]
  },
  {
   "cell_type": "code",
   "execution_count": 26,
   "id": "f13ab9cb-a86a-459d-a851-c80854aae2b1",
   "metadata": {
    "scrolled": true
   },
   "outputs": [
    {
     "ename": "RuntimeError",
     "evalue": "Expected all tensors to be on the same device, but found at least two devices, cuda:0 and cpu! (when checking argument for argument other in method wrapper_CUDA__equal)",
     "output_type": "error",
     "traceback": [
      "\u001b[0;31m---------------------------------------------------------------------------\u001b[0m",
      "\u001b[0;31mRuntimeError\u001b[0m                              Traceback (most recent call last)",
      "Cell \u001b[0;32mIn[26], line 3\u001b[0m\n\u001b[1;32m      1\u001b[0m \u001b[38;5;28;01mimport\u001b[39;00m \u001b[38;5;21;01mlinear_operator\u001b[39;00m\n\u001b[1;32m      2\u001b[0m \u001b[38;5;28;01mwith\u001b[39;00m linear_operator\u001b[38;5;241m.\u001b[39msettings\u001b[38;5;241m.\u001b[39mmax_cg_iterations(\u001b[38;5;241m10000\u001b[39m):\n\u001b[0;32m----> 3\u001b[0m     pred \u001b[38;5;241m=\u001b[39m \u001b[43mregression\u001b[49m\u001b[38;5;241;43m.\u001b[39;49m\u001b[43mgetPrediction\u001b[49m\u001b[43m(\u001b[49m\u001b[43mmodel\u001b[49m\u001b[43m,\u001b[49m\u001b[43m \u001b[49m\u001b[43mlikelihood\u001b[49m\u001b[43m,\u001b[49m\u001b[43m \u001b[49m\u001b[43mtest\u001b[49m\u001b[43m)\u001b[49m\n\u001b[1;32m      6\u001b[0m \u001b[38;5;28;01mfrom\u001b[39;00m \u001b[38;5;21;01mmpl_toolkits\u001b[39;00m\u001b[38;5;21;01m.\u001b[39;00m\u001b[38;5;21;01maxes_grid1\u001b[39;00m \u001b[38;5;28;01mimport\u001b[39;00m make_axes_locatable\n\u001b[1;32m      7\u001b[0m \u001b[38;5;28;01mimport\u001b[39;00m \u001b[38;5;21;01mitertools\u001b[39;00m \u001b[38;5;28;01mas\u001b[39;00m \u001b[38;5;21;01mit\u001b[39;00m\n",
      "File \u001b[0;32m/srv/notebooks/../fitting/regression.py:244\u001b[0m, in \u001b[0;36mgetPrediction\u001b[0;34m(model, likelihood, test_data)\u001b[0m\n\u001b[1;32m    242\u001b[0m likelihood\u001b[38;5;241m.\u001b[39meval()\n\u001b[1;32m    243\u001b[0m \u001b[38;5;28;01mwith\u001b[39;00m torch\u001b[38;5;241m.\u001b[39mno_grad(), gpytorch\u001b[38;5;241m.\u001b[39msettings\u001b[38;5;241m.\u001b[39mfast_computations():\n\u001b[0;32m--> 244\u001b[0m     observed_pred \u001b[38;5;241m=\u001b[39m likelihood(\u001b[43mmodel\u001b[49m\u001b[43m(\u001b[49m\u001b[43mtest_data\u001b[49m\u001b[38;5;241;43m.\u001b[39;49m\u001b[43minputs\u001b[49m\u001b[43m)\u001b[49m, noise\u001b[38;5;241m=\u001b[39mtest_data\u001b[38;5;241m.\u001b[39mvariances)\n\u001b[1;32m    245\u001b[0m \u001b[38;5;28;01mreturn\u001b[39;00m observed_pred\n",
      "File \u001b[0;32m/srv/cmsmlenv/lib/python3.10/site-packages/gpytorch/models/exact_gp.py:283\u001b[0m, in \u001b[0;36mExactGP.__call__\u001b[0;34m(self, *args, **kwargs)\u001b[0m\n\u001b[1;32m    280\u001b[0m \u001b[38;5;66;03m# Posterior mode\u001b[39;00m\n\u001b[1;32m    281\u001b[0m \u001b[38;5;28;01melse\u001b[39;00m:\n\u001b[1;32m    282\u001b[0m     \u001b[38;5;28;01mif\u001b[39;00m settings\u001b[38;5;241m.\u001b[39mdebug\u001b[38;5;241m.\u001b[39mon():\n\u001b[0;32m--> 283\u001b[0m         \u001b[38;5;28;01mif\u001b[39;00m \u001b[38;5;28;43mall\u001b[39;49m\u001b[43m(\u001b[49m\u001b[43mtorch\u001b[49m\u001b[38;5;241;43m.\u001b[39;49m\u001b[43mequal\u001b[49m\u001b[43m(\u001b[49m\u001b[43mtrain_input\u001b[49m\u001b[43m,\u001b[49m\u001b[43m \u001b[49m\u001b[38;5;28;43minput\u001b[39;49m\u001b[43m)\u001b[49m\u001b[43m \u001b[49m\u001b[38;5;28;43;01mfor\u001b[39;49;00m\u001b[43m \u001b[49m\u001b[43mtrain_input\u001b[49m\u001b[43m,\u001b[49m\u001b[43m \u001b[49m\u001b[38;5;28;43minput\u001b[39;49m\u001b[43m \u001b[49m\u001b[38;5;129;43;01min\u001b[39;49;00m\u001b[43m \u001b[49m\u001b[43mlength_safe_zip\u001b[49m\u001b[43m(\u001b[49m\u001b[43mtrain_inputs\u001b[49m\u001b[43m,\u001b[49m\u001b[43m \u001b[49m\u001b[43minputs\u001b[49m\u001b[43m)\u001b[49m\u001b[43m)\u001b[49m:\n\u001b[1;32m    284\u001b[0m             warnings\u001b[38;5;241m.\u001b[39mwarn(\n\u001b[1;32m    285\u001b[0m                 \u001b[38;5;124m\"\u001b[39m\u001b[38;5;124mThe input matches the stored training data. Did you forget to call model.train()?\u001b[39m\u001b[38;5;124m\"\u001b[39m,\n\u001b[1;32m    286\u001b[0m                 GPInputWarning,\n\u001b[1;32m    287\u001b[0m             )\n\u001b[1;32m    289\u001b[0m     \u001b[38;5;66;03m# Get the terms that only depend on training data\u001b[39;00m\n",
      "File \u001b[0;32m/srv/cmsmlenv/lib/python3.10/site-packages/gpytorch/models/exact_gp.py:283\u001b[0m, in \u001b[0;36m<genexpr>\u001b[0;34m(.0)\u001b[0m\n\u001b[1;32m    280\u001b[0m \u001b[38;5;66;03m# Posterior mode\u001b[39;00m\n\u001b[1;32m    281\u001b[0m \u001b[38;5;28;01melse\u001b[39;00m:\n\u001b[1;32m    282\u001b[0m     \u001b[38;5;28;01mif\u001b[39;00m settings\u001b[38;5;241m.\u001b[39mdebug\u001b[38;5;241m.\u001b[39mon():\n\u001b[0;32m--> 283\u001b[0m         \u001b[38;5;28;01mif\u001b[39;00m \u001b[38;5;28mall\u001b[39m(\u001b[43mtorch\u001b[49m\u001b[38;5;241;43m.\u001b[39;49m\u001b[43mequal\u001b[49m\u001b[43m(\u001b[49m\u001b[43mtrain_input\u001b[49m\u001b[43m,\u001b[49m\u001b[43m \u001b[49m\u001b[38;5;28;43minput\u001b[39;49m\u001b[43m)\u001b[49m \u001b[38;5;28;01mfor\u001b[39;00m train_input, \u001b[38;5;28minput\u001b[39m \u001b[38;5;129;01min\u001b[39;00m length_safe_zip(train_inputs, inputs)):\n\u001b[1;32m    284\u001b[0m             warnings\u001b[38;5;241m.\u001b[39mwarn(\n\u001b[1;32m    285\u001b[0m                 \u001b[38;5;124m\"\u001b[39m\u001b[38;5;124mThe input matches the stored training data. Did you forget to call model.train()?\u001b[39m\u001b[38;5;124m\"\u001b[39m,\n\u001b[1;32m    286\u001b[0m                 GPInputWarning,\n\u001b[1;32m    287\u001b[0m             )\n\u001b[1;32m    289\u001b[0m     \u001b[38;5;66;03m# Get the terms that only depend on training data\u001b[39;00m\n",
      "\u001b[0;31mRuntimeError\u001b[0m: Expected all tensors to be on the same device, but found at least two devices, cuda:0 and cpu! (when checking argument for argument other in method wrapper_CUDA__equal)"
     ]
    }
   ],
   "source": [
    "import linear_operator\n",
    "with linear_operator.settings.max_cg_iterations(10000):\n",
    "    pred = regression.getPrediction(model, likelihood, test)\n",
    "\n",
    "\n",
    "from mpl_toolkits.axes_grid1 import make_axes_locatable\n",
    "import itertools as it\n",
    "from fitting.plot_tools import simpleGrid\n",
    "window = [(1300,1550),(400,600)]\n",
    "pred_mean = pred.mean * value_scale\n",
    "pred_var = pred.variance * value_scale ** 2\n",
    "if window:\n",
    "    print(regression.getChi2Blinded(raw_test.inputs, pred_mean, raw_test.outputs, raw_test.variances, window))\n",
    "\n",
    "all_pulls = (pred_mean - raw_test.outputs) / torch.sqrt(raw_test.variances)\n",
    "all_x2 = (pred_mean - raw_test.outputs)**2 / raw_test.variances\n",
    "x2 = torch.sum(all_x2)\n",
    "\n",
    "def addColorbar(ax, vals):\n",
    "    divider = make_axes_locatable(ax)\n",
    "    cax = divider.append_axes(\"right\", size=\"5%\", pad=0.05)\n",
    "    cbar = plt.colorbar(vals, cax=cax)\n",
    "    cax.get_yaxis().set_offset_position(\"left\")\n",
    "    ax.cax = cax\n",
    "\n",
    "fig, ax=plt.subplots(layout=\"tight\")\n",
    "f = simpleGrid(ax, raw_test.edges, raw_train.inputs, raw_train.outputs)\n",
    "ax.set_title(\"Masked Inputs (Training)\")\n",
    "addTitles2D(ax, PlotObject.fromHist(qcd_hist))\n",
    "#fig.savefig(figpath / \"training_points.pdf\")\n",
    "\n",
    "fig, ax=plt.subplots(figsize=(10,10), layout=\"tight\")\n",
    "f = simpleGrid(ax, raw_test.edges, raw_test.inputs, pred_mean)\n",
    "ax.set_title(\"GPR Mean Prediction\")\n",
    "addTitles2D(ax, PlotObject.fromHist(qcd_hist))\n",
    "#fig.savefig(figpath / \"gpr_mean.pdf\")\n",
    "\n",
    "\n",
    "fig, ax=plt.subplots(figsize=(10,10), layout=\"tight\")\n",
    "f = simpleGrid(ax, raw_test.edges, raw_test.inputs, raw_test.outputs)\n",
    "ax.set_title(\"Observed Outputs\")\n",
    "#fig.savefig(figpath / \"observed_outputs.pdf\")\n",
    "\n",
    "\n",
    "\n",
    "#drawAs2DHist(ax[1,1], PlotObject.fromHist(sig_hist))\n",
    "#addTitles2D(ax[1,1], PlotObject.fromHist(sig_hist))\n",
    "#ax[1,1].set_title(\"Signal MC\")\n",
    "\n",
    "fig, ax=plt.subplots(figsize=(10,10), layout=\"tight\")\n",
    "f = simpleGrid(ax, raw_test.edges, raw_test.inputs, raw_test.variances)\n",
    "ax.set_title(\"Observed Variances\")\n",
    "addTitles2D(ax, PlotObject.fromHist(qcd_hist))\n",
    "\n",
    "#fig.savefig(figpath / \"observed_variances.pdf\")\n",
    "\n",
    "\n",
    "fig, ax=plt.subplots(figsize=(10,10), layout=\"tight\")\n",
    "f = simpleGrid(ax, raw_test.edges, raw_test.inputs, pred_var)\n",
    "ax.set_title(\"Pred Variances\")\n",
    "addTitles2D(ax, PlotObject.fromHist(qcd_hist))\n",
    "\n",
    "#fig.savefig(figpath / \"predicted_variances.pdf\")\n",
    "\n",
    "\n",
    "fig, ax=plt.subplots(figsize=(10,10), layout=\"tight\")\n",
    "f = simpleGrid(ax, raw_test.edges, raw_test.inputs, (raw_test.outputs - pred_mean)/ torch.sqrt(raw_test.variances))\n",
    "f.set_clim(-5,5)\n",
    "ax.set_title(\"Pulls\")\n",
    "addTitles2D(ax, PlotObject.fromHist(qcd_hist))\n",
    "ax.cax.set_ylabel(r\"$\\frac{N_{obs}-N_{pred}}{\\sigma_{p}}$\")\n",
    "#fig.savefig(figpath / \"pulls.pdf\")\n",
    "\n",
    "\n",
    "\n",
    "import uhi\n",
    "fig, ax=plt.subplots(figsize=(10,10), layout=\"tight\")\n",
    "p = PlotObject.fromHist(uhi.numpy_plottable.ensure_plottable_histogram(np.histogram(all_pulls[torch.abs(all_pulls) < np.inf], bins=20)))\n",
    "drawAs1DHist(ax, p, yerr=False)\n",
    "ax.set_xlabel(r\"$\\frac{N_{obs}-N_{pred}}{\\sigma_{o}}$\")\n",
    "ax.set_ylabel(\"Count\")\n",
    "#fig.savefig(figpath / \"pulls_hist.pdf\")"
   ]
  },
  {
   "cell_type": "code",
   "execution_count": null,
   "id": "0a13ce1f-ab59-4920-9320-edcb9b50aa34",
   "metadata": {
    "scrolled": true
   },
   "outputs": [],
   "source": [
    "import fitting.plot_tools as fpt\n",
    "import fitting\n",
    "import analyzer.plotting as plotting\n",
    "from pathlib import Path\n",
    "import importlib\n",
    "\n",
    "importlib.reload(fpt)\n",
    "dim = 1\n",
    "\n",
    "pred_mean,_ = fitting.regression.pointsToGrid(raw_test.inputs, pred.mean * value_scale, raw_test.edges)\n",
    "pred_var,_ = fitting.regression.pointsToGrid(raw_test.inputs, pred.variance*value_scale**2, raw_test.edges)\n",
    "obs_vals,_ = fitting.regression.pointsToGrid(raw_test.inputs, raw_test.outputs, raw_test.edges)\n",
    "obs_vars, filled = fitting.regression.pointsToGrid(raw_test.inputs, raw_test.variances, raw_test.edges)\n",
    "\n",
    "#(figpath /\"slices\" / f\"along_{dim}\").mkdir(parents=True, exist_ok=True)\n",
    "for val, f, ax in fpt.createSlices(\n",
    "    pred_mean.hist,\n",
    "    pred_var.hist,\n",
    "    obs_vals.hist,\n",
    "    obs_vars.hist,\n",
    "    raw_test.edges,\n",
    "    filled,\n",
    "    observed_title=\"CRData\", window_2d=window, dim=dim):\n",
    "    plotting.addTitles1D(ax, plotting.PlotObject.fromHist(qcd_hist[:,sum]))\n",
    "    #f.savefig(figpath /\"slices\" / f\"along_{dim}\" /  (f\"slice_{round(float(val),3)}\".replace(\".\",\"p\") + \".pdf\"))\n",
    "    #plt.close(f)\n",
    "    \n",
    "    "
   ]
  },
  {
   "cell_type": "code",
   "execution_count": null,
   "id": "82709559-6efd-438a-a5a4-e4582986874f",
   "metadata": {},
   "outputs": [],
   "source": []
  },
  {
   "cell_type": "code",
   "execution_count": null,
   "id": "2b52fb6f-6815-4d1f-9b57-176799f4a536",
   "metadata": {},
   "outputs": [],
   "source": []
  },
  {
   "cell_type": "code",
   "execution_count": null,
   "id": "795164d1-fa67-4d24-bf8b-d0234cd8aa7a",
   "metadata": {},
   "outputs": [],
   "source": []
  }
 ],
 "metadata": {
  "kernelspec": {
   "display_name": "cmsmlenv",
   "language": "python",
   "name": "cmsmlenv"
  },
  "language_info": {
   "codemirror_mode": {
    "name": "ipython",
    "version": 3
   },
   "file_extension": ".py",
   "mimetype": "text/x-python",
   "name": "python",
   "nbconvert_exporter": "python",
   "pygments_lexer": "ipython3",
   "version": "3.10.13"
  }
 },
 "nbformat": 4,
 "nbformat_minor": 5
}
