{
 "cells": [
  {
   "cell_type": "code",
   "execution_count": 1,
   "metadata": {},
   "outputs": [],
   "source": [
    "import awkward as ak\n",
    "import numpy as np\n",
    "\n",
    "from coffea.nanoevents import NanoEventsFactory, NanoAODSchema\n",
    "from coffea.analysis_tools import PackedSelection\n",
    "\n",
    "from coffea.ml_tools.torch_wrapper import torch_wrapper\n",
    "\n",
    "import torch\n",
    "import torch.nn as nn\n",
    "import torch.nn.functional as F\n",
    "from sklearn.preprocessing import StandardScaler\n",
    "from sklearn.model_selection import train_test_split\n",
    "\n",
    "import pickle"
   ]
  },
  {
   "cell_type": "markdown",
   "metadata": {},
   "source": [
    "### Events"
   ]
  },
  {
   "cell_type": "code",
   "execution_count": 2,
   "metadata": {},
   "outputs": [
    {
     "name": "stderr",
     "output_type": "stream",
     "text": [
      "/usr/local/lib/python3.10/site-packages/coffea/nanoevents/methods/candidate.py:11: FutureWarning: In version 2024.7.0 (target date: 2024-06-30 11:59:59-05:00), this will be an error.\n",
      "To raise these warnings as errors (and get stack traces to find out where they're called), run\n",
      "    import warnings\n",
      "    warnings.filterwarnings(\"error\", module=\"coffea.*\")\n",
      "after the first `import coffea` or use `@pytest.mark.filterwarnings(\"error:::coffea.*\")` in pytest.\n",
      "Issue: coffea.nanoevents.methods.vector will be removed and replaced with scikit-hep vector. Nanoevents schemas internal to coffea will be migrated. Otherwise please consider using that package!.\n",
      "  from coffea.nanoevents.methods import vector\n"
     ]
    }
   ],
   "source": [
    "#TODO: fix path issue\n",
    "fname = \"data/NANOAOD-1500_900.root\"\n",
    "events = NanoEventsFactory.from_root(\n",
    "    {fname: \"Events\"},\n",
    "    schemaclass=NanoAODSchema,\n",
    "    metadata={\"dataset\": \"DYJets\"},\n",
    "    delayed=False\n",
    ").events()"
   ]
  },
  {
   "cell_type": "code",
   "execution_count": 3,
   "metadata": {},
   "outputs": [],
   "source": [
    "def makeCutSet(x, s, *args):\n",
    "    return [x[s > a] for a in args]\n",
    "\n",
    "b_tag_wps = [0.0490, 0.2783, 0.7100]\n",
    "\n",
    "def createObjects(events):\n",
    "    good_jets = events.Jet[(events.Jet.pt > 30) & (abs(events.Jet.eta) < 2.4)]\n",
    "    fat_jets = events.FatJet[(events.FatJet.pt > 30) & (abs(events.FatJet.eta) < 2.4)]\n",
    "    loose_top, med_top, tight_top = makeCutSet(\n",
    "        fat_jets, fat_jets.particleNet_TvsQCD, 0.58, 0.80, 0.97\n",
    "    )\n",
    "    #loose_W, med_W, tight_W = makeCutSet(\n",
    "    #    fat_jets, fat_jets.particleNet_WvsQCD, 0.7, 0.94, 0.98\n",
    "    #)\n",
    "\n",
    "    #deep_top_wp1, deep_top_wp2, deep_top_wp3, deep_top_wp4 = makeCutSet(\n",
    "    #    fat_jets, fat_jets.deepTag_TvsQCD, 0.436, 0.802, 0.922, 0.989\n",
    "    #)\n",
    "    #deep_W_wp1, deep_W_wp2, deep_W_wp3, deep_W_wp4 = makeCutSet(\n",
    "    #    fat_jets, fat_jets.deepTag_WvsQCD, 0.458, 0.762, 0.918, 0.961\n",
    "    #)\n",
    "    loose_b, med_b, tight_b = makeCutSet(\n",
    "        good_jets, good_jets.btagDeepFlavB, *(b_tag_wps[x] for x in range(3))\n",
    "    )\n",
    "\n",
    "    el = events.Electron\n",
    "    good_electrons = el[\n",
    "        (el.cutBased == 4)\n",
    "        & (el.miniPFRelIso_all < 0.1)\n",
    "        & (el.pt > 30)\n",
    "        & (abs(el.eta) < 2.4)\n",
    "    ]\n",
    "    mu = events.Muon\n",
    "    good_muons = mu[\n",
    "        (mu.mediumId) & (mu.miniPFRelIso_all < 0.2) & (mu.pt > 30) & (abs(mu.eta) < 2.4)\n",
    "    ]\n",
    "    events[\"good_jets\"] = good_jets\n",
    "    events[\"good_electrons\"] = good_electrons\n",
    "    events[\"good_muons\"] = good_muons\n",
    "\n",
    "    events[\"loose_bs\"] = loose_b\n",
    "    events[\"med_bs\"] = med_b\n",
    "    events[\"tight_bs\"] = tight_b\n",
    "\n",
    "    events[\"tight_tops\"] = tight_top\n",
    "    # events[\"med_tops\"] = med_top\n",
    "    # events[\"loose_tops\"] = loose_top\n",
    "\n",
    "    # events[\"tight_Ws\"] = tight_W\n",
    "    # events[\"med_Ws\"] = med_W\n",
    "    # events[\"loose_Ws\"] = loose_W\n",
    "\n",
    "    # events[\"deep_top_wp1\"] = deep_top_wp1\n",
    "    # events[\"deep_top_wp2\"] = deep_top_wp2\n",
    "    # events[\"deep_top_wp3\"] = deep_top_wp3\n",
    "    # events[\"deep_top_wp4\"] = deep_top_wp4\n",
    "\n",
    "    # events[\"deep_W_wp1\"] = deep_W_wp1\n",
    "    # events[\"deep_W_wp2\"] = deep_W_wp2\n",
    "    # events[\"deep_W_wp3\"] = deep_W_wp3\n",
    "    # events[\"deep_W_wp4\"] = deep_W_wp4\n",
    "\n",
    "    return events\n",
    "\n",
    "def createSelection(events):\n",
    "    \"\"\"Baseline selection for the analysis.\n",
    "Applies the following selection:\n",
    "- Jets[0].pt > 300\n",
    "- 4 <= nJets <= 6\n",
    "- 0 leptons\n",
    "- 2 medium bjets, at least one of which is tight\n",
    "- delta_R(med_bjets[0],med_bjets[1]) > 1\n",
    "    \"\"\"\n",
    "\n",
    "    selection = PackedSelection()\n",
    "    good_jets = events.good_jets\n",
    "    fat_jets = events.FatJet\n",
    "    good_muons = events.good_muons\n",
    "    good_electrons = events.good_electrons\n",
    "    loose_b = events.loose_bs\n",
    "    med_b = events.med_bs\n",
    "    tight_b = events.tight_bs\n",
    "    tight_top = events.tight_tops\n",
    "    # selection = PackedSelection()\n",
    "    filled_jets = ak.pad_none(good_jets, 4, axis=1)\n",
    "    top_two_dr = ak.fill_none(filled_jets[:, 0].delta_r(filled_jets[:, 1]), False)\n",
    "\n",
    "    filled_med = ak.pad_none(med_b, 2, axis=1)\n",
    "    med_dr = ak.fill_none(filled_med[:, 0].delta_r(filled_med[:, 1]), False)\n",
    "    # selection.add(\"trigger\", (ak.num(good_jets) >= 4) & (ak.num(good_jets) <= 6))\n",
    "    if \"HLT\" in events.fields:\n",
    "        selection.add(\"hlt\", (events.HLT.PFHT1050 | events.HLT.AK8PFJet360_TrimMass30))\n",
    "    selection.add(\"highptjet\", (ak.fill_none(filled_jets[:, 0].pt > 300, False)))\n",
    "    selection.add(\"jets\", ((ak.num(good_jets) >= 4) & (ak.num(good_jets) <= 6)))\n",
    "    selection.add(\"0Lep\", ((ak.num(good_electrons) == 0) & (ak.num(good_muons) == 0)))\n",
    "    selection.add(\"2bjet\", (ak.num(med_b) >= 2))\n",
    "    selection.add(\"1tightbjet\", (ak.num(tight_b) >= 1))\n",
    "    # selection.add(\"jet_dr\", ((top_two_dr < 4) & (top_two_dr > 2)).to_numpy())\n",
    "    selection.add(\"b_dr\", (med_dr > 1))\n",
    "    return selection"
   ]
  },
  {
   "cell_type": "code",
   "execution_count": 4,
   "metadata": {},
   "outputs": [],
   "source": [
    "events = createObjects(events)\n",
    "mask = createSelection(events).all(\"highptjet\", \"jets\", \"0Lep\", \"2bjet\", \"1tightbjet\", \"b_dr\")\n",
    "events = events[mask]"
   ]
  },
  {
   "cell_type": "markdown",
   "metadata": {},
   "source": [
    "### NN class"
   ]
  },
  {
   "cell_type": "code",
   "execution_count": 5,
   "metadata": {},
   "outputs": [],
   "source": [
    "# jetAssignmentNN.model"
   ]
  },
  {
   "cell_type": "code",
   "execution_count": 6,
   "metadata": {},
   "outputs": [
    {
     "name": "stderr",
     "output_type": "stream",
     "text": [
      "/usr/local/lib/python3.10/site-packages/sklearn/base.py:376: InconsistentVersionWarning: Trying to unpickle estimator StandardScaler from version 0.24.2 when using version 1.4.1.post1. This might lead to breaking code or invalid results. Use at your own risk. For more info please refer to:\n",
      "https://scikit-learn.org/stable/model_persistence.html#security-maintainability-limitations\n",
      "  warnings.warn(\n"
     ]
    }
   ],
   "source": [
    "scl = open('scaler.pkl', 'rb')\n",
    "scaler = pickle.load(scl)"
   ]
  },
  {
   "cell_type": "code",
   "execution_count": 22,
   "metadata": {},
   "outputs": [],
   "source": [
    "class jetAssignmentNN(torch_wrapper):\n",
    "    def prepare_awkward(self,events):\n",
    "        ak = self.get_awkward_lib(events)\n",
    "        jets = events.good_jets\n",
    "        flat_jets = ak.flatten(jets)\n",
    "\n",
    "        m3 = jets[:,1:4].sum()\n",
    "        m4 = jets[:,0:4].sum()\n",
    "\n",
    "        ones = ak.ones_like(jets.pt)\n",
    "\n",
    "        imap = {\n",
    "            \"features\": {\n",
    "                \"jetOrdinality\":    ak.flatten(ak.local_index(jets, axis=1)),\n",
    "                \"jetPT\": \t\t    flat_jets.pt,\n",
    "                \"jetEta\": \t\t    flat_jets.eta,\n",
    "                \"jetPhi\": \t\t    flat_jets.phi,\n",
    "                \"jetBScore\":    \tflat_jets.btagDeepFlavB,\n",
    "                \"m3M\": \t\t\t    ak.flatten(ones * m3.mass),\n",
    "                \"m3PT\": \t\t    ak.flatten(ones * m3.pt),\n",
    "                \"m3Eta\": \t\t    ak.flatten(ones * m3.eta),\n",
    "                \"m3Phi\": \t        ak.flatten(ones * m3.phi),\n",
    "                \"m4M\": \t\t\t    ak.flatten(ones * m4.mass),\n",
    "                \"m4PT\":\t\t        ak.flatten(ones * m4.pt),\n",
    "                \"m4Eta\":\t\t    ak.flatten(ones * m4.eta),\n",
    "                \"m4Phi\":\t        ak.flatten(ones * m4.phi)\n",
    "            }\n",
    "        }\n",
    "        \n",
    "        imap_concat = ak.concatenate([x[:, np.newaxis] for x in imap['features'].values()], axis=1)\n",
    "        imap_scaled = (imap_concat - scaler.mean_) / scaler.scale_\n",
    "        retmap = {\n",
    "            \"features\": [imap_scaled]\n",
    "        }\n",
    "        return (ak.values_astype(retmap[\"features\"],\"float32\")),{}"
   ]
  },
  {
   "cell_type": "code",
   "execution_count": 28,
   "metadata": {},
   "outputs": [],
   "source": [
    "jets = events.good_jets\n",
    "flat_jets = ak.flatten(jets)\n",
    "\n",
    "m3 = jets[:,1:4].sum()\n",
    "m4 = jets[:,0:4].sum()\n",
    "\n",
    "ones = ak.ones_like(jets.pt)\n",
    "\n",
    "imap = {\n",
    "    \"features\": {\n",
    "        \"jetOrdinality\":    ak.flatten(ak.local_index(jets, axis=1)),\n",
    "        \"jetPT\": \t\t    flat_jets.pt,\n",
    "        \"jetEta\": \t\t    flat_jets.eta,\n",
    "        \"jetPhi\": \t\t    flat_jets.phi,\n",
    "        \"jetBScore\":    \tflat_jets.btagDeepFlavB,\n",
    "        \"m3M\": \t\t\t    ak.flatten(ones * m3.mass),\n",
    "        \"m3PT\": \t\t    ak.flatten(ones * m3.pt),\n",
    "        \"m3Eta\": \t\t    ak.flatten(ones * m3.eta),\n",
    "        \"m3Phi\": \t        ak.flatten(ones * m3.phi),\n",
    "        \"m4M\": \t\t\t    ak.flatten(ones * m4.mass),\n",
    "        \"m4PT\":\t\t        ak.flatten(ones * m4.pt),\n",
    "        \"m4Eta\":\t\t    ak.flatten(ones * m4.eta),\n",
    "        \"m4Phi\":\t        ak.flatten(ones * m4.phi)\n",
    "    }\n",
    "}\n",
    "\n",
    "imap_concat = ak.concatenate([x[:, np.newaxis] for x in imap['features'].values()], axis=1)\n",
    "imap_scaled = (imap_concat - scaler.mean_) / scaler.scale_"
   ]
  },
  {
   "cell_type": "code",
   "execution_count": 31,
   "metadata": {},
   "outputs": [
    {
     "data": {
      "text/html": [
       "<pre>[[-2.05, 193, 0.156, -2.75, -0.314, 76.1, ..., 0.599, -8.83, 9.96, 0.503, 2.01],\n",
       " [-1.05, 104, -0.436, -0.694, 0.38, 76.1, ..., 0.599, -8.83, 9.96, 0.503, 2.01],\n",
       " [-0.051, 17.6, 0.538, 1.41, -0.331, ..., 0.599, -8.83, 9.96, 0.503, 2.01],\n",
       " [0.949, -17.8, 0.0264, 1.37, 0.365, ..., 0.599, -8.83, 9.96, 0.503, 2.01],\n",
       " [1.95, -211, -0.282, -2.58, -0.256, ..., 0.599, -8.83, 9.96, 0.503, 2.01],\n",
       " [2.95, -215, 2.06, -0.867, -0.307, 76.1, ..., 0.599, -8.83, 9.96, 0.503, 2.01],\n",
       " [-2.05, 247, 0.814, 2.49, -0.289, 12.1, ..., -0.659, 9.17, -17.8, 2.96, 2.32],\n",
       " [-1.05, 166, 0.775, -0.31, 0.659, 12.1, ..., -0.659, 9.17, -17.8, 2.96, 2.32],\n",
       " [-0.051, -67.5, 0.0304, -2.94, 0.663, ..., -0.659, 9.17, -17.8, 2.96, 2.32],\n",
       " [0.949, -107, -0.568, -0.559, -0.326, ..., -0.659, 9.17, -17.8, 2.96, 2.32],\n",
       " ...,\n",
       " [-2.05, 132, -0.442, 0.601, 0.145, ..., -2.53, -147, 4.39, -1.03, -2.33],\n",
       " [-1.05, 128, 0.303, -1.75, 0.653, -72.8, ..., -2.53, -147, 4.39, -1.03, -2.33],\n",
       " [-0.051, -21.1, -0.2, 2.27, -0.325, ..., -2.53, -147, 4.39, -1.03, -2.33],\n",
       " [0.949, -57.8, -0.101, -2.63, -0.33, ..., -2.53, -147, 4.39, -1.03, -2.33],\n",
       " [1.95, -183, -0.756, 1.63, -0.331, ..., -2.53, -147, 4.39, -1.03, -2.33],\n",
       " [-2.05, 496, 1.25, -0.336, -0.327, ..., 2.67, 1.41e+03, 11.3, 1.86, 0.293],\n",
       " [-1.05, 65.9, -1.78, 2.48, -0.318, ..., 2.67, 1.41e+03, 11.3, 1.86, 0.293],\n",
       " [-0.051, -52.5, 0.765, 2.82, 0.627, ..., 2.67, 1.41e+03, 11.3, 1.86, 0.293],\n",
       " [0.949, -95, -0.537, 3.02, 0.284, 186, ..., 2.67, 1.41e+03, 11.3, 1.86, 0.293]]\n",
       "--------------------------------------------------------------------------------\n",
       "type: 20510 * 13 * float64</pre>"
      ],
      "text/plain": [
       "<Array [[-2.05, 193, 0.156, ..., 0.503, 2.01], ...] type='20510 * 13 * float64'>"
      ]
     },
     "execution_count": 31,
     "metadata": {},
     "output_type": "execute_result"
    }
   ],
   "source": [
    "imap_concat - ak.Array(scaler.mean_)"
   ]
  },
  {
   "cell_type": "code",
   "execution_count": 23,
   "metadata": {},
   "outputs": [],
   "source": [
    "class Net(nn.Module):\n",
    "    def __init__(self):\n",
    "        super(Net,self).__init__()\n",
    "        self.fc1 = nn.Linear(13,13)\n",
    "        self.fc2 = nn.Linear(13,3)\n",
    "    def forward(self,features=None):\n",
    "        features = F.relu(self.fc1(features))\n",
    "        features = F.softmax(self.fc2(features),dim=1)\n",
    "        return features"
   ]
  },
  {
   "cell_type": "code",
   "execution_count": 24,
   "metadata": {},
   "outputs": [],
   "source": [
    "model = jetAssignmentNN(\"traced_model.pt\")"
   ]
  },
  {
   "cell_type": "code",
   "execution_count": 25,
   "metadata": {},
   "outputs": [],
   "source": [
    "scores = model(events)"
   ]
  },
  {
   "cell_type": "code",
   "execution_count": 26,
   "metadata": {},
   "outputs": [
    {
     "data": {
      "text/html": [
       "<pre>[[0.000368, 1, 8.86e-15],\n",
       " [0.967, 0.0333, 1.59e-08],\n",
       " [4.93e-05, 1, 1.24e-07],\n",
       " [2.76e-05, 1, 0.000349],\n",
       " [5.11e-10, 0.00702, 0.993],\n",
       " [3.48e-14, 0.000154, 1],\n",
       " [0.000875, 0.999, 9.82e-16],\n",
       " [0.98, 0.0203, 7.59e-11],\n",
       " [0.000813, 0.999, 3.87e-08],\n",
       " [2.4e-06, 0.997, 0.0026],\n",
       " ...,\n",
       " [0.962, 0.0378, 2.98e-11],\n",
       " [0.78, 0.22, 2.92e-10],\n",
       " [0.000104, 1, 6.6e-07],\n",
       " [4.11e-06, 1, 0.000475],\n",
       " [1.44e-09, 0.0374, 0.963],\n",
       " [0.00165, 0.998, 7.46e-24],\n",
       " [0.14, 0.86, 1.78e-15],\n",
       " [0.878, 0.122, 3.21e-12],\n",
       " [0.0154, 0.985, 4.34e-08]]\n",
       "-----------------------------\n",
       "type: 20510 * 3 * float32</pre>"
      ],
      "text/plain": [
       "<Array [[0.000368, 1, 8.86e-15], ..., [0.0154, ...]] type='20510 * 3 * float32'>"
      ]
     },
     "execution_count": 26,
     "metadata": {},
     "output_type": "execute_result"
    }
   ],
   "source": [
    "scores"
   ]
  }
 ],
 "metadata": {
  "kernelspec": {
   "display_name": "coffeaenv",
   "language": "python",
   "name": "coffeaenv"
  },
  "language_info": {
   "codemirror_mode": {
    "name": "ipython",
    "version": 3
   },
   "file_extension": ".py",
   "mimetype": "text/x-python",
   "name": "python",
   "nbconvert_exporter": "python",
   "pygments_lexer": "ipython3",
   "version": "3.10.12"
  }
 },
 "nbformat": 4,
 "nbformat_minor": 2
}
