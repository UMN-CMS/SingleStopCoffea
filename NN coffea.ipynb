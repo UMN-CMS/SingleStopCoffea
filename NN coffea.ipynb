{
 "cells": [
  {
   "cell_type": "code",
   "execution_count": 1,
   "metadata": {},
   "outputs": [],
   "source": [
    "import awkward as ak\n",
    "import numpy as np\n",
    "\n",
    "from coffea.nanoevents import NanoEventsFactory, NanoAODSchema\n",
    "from coffea.analysis_tools import PackedSelection\n",
    "\n",
    "from coffea.ml_tools.torch_wrapper import torch_wrapper\n",
    "\n",
    "import torch\n",
    "import torch.nn as nn\n",
    "import torch.nn.functional as F\n",
    "from sklearn.preprocessing import StandardScaler\n",
    "from sklearn.model_selection import train_test_split\n",
    "\n",
    "import pickle"
   ]
  },
  {
   "cell_type": "markdown",
   "metadata": {},
   "source": [
    "### Converting model to TorchScript"
   ]
  },
  {
   "cell_type": "code",
   "execution_count": 6,
   "metadata": {},
   "outputs": [],
   "source": [
    " # An instance of your model.\n",
    "model = torch.load(\"jetMatcherNN_100_strat_newcuts.pt\")\n",
    "model.eval()\n",
    "\n",
    "# An example input you would normally provide to your model's forward() method.\n",
    "example = torch.rand(1, 13)\n",
    "traced_script_module = torch.jit.trace(model, example)\n",
    "traced_script_module.save(\"jetMatcherNN_100_strat_newcuts_traced.pt\")"
   ]
  },
  {
   "cell_type": "markdown",
   "metadata": {},
   "source": [
    "### Events"
   ]
  },
  {
   "cell_type": "code",
   "execution_count": 2,
   "metadata": {},
   "outputs": [
    {
     "name": "stderr",
     "output_type": "stream",
     "text": [
      "/usr/local/lib/python3.10/site-packages/coffea/nanoevents/methods/candidate.py:11: FutureWarning: In version 2024.7.0 (target date: 2024-06-30 11:59:59-05:00), this will be an error.\n",
      "To raise these warnings as errors (and get stack traces to find out where they're called), run\n",
      "    import warnings\n",
      "    warnings.filterwarnings(\"error\", module=\"coffea.*\")\n",
      "after the first `import coffea` or use `@pytest.mark.filterwarnings(\"error:::coffea.*\")` in pytest.\n",
      "Issue: coffea.nanoevents.methods.vector will be removed and replaced with scikit-hep vector. Nanoevents schemas internal to coffea will be migrated. Otherwise please consider using that package!.\n",
      "  from coffea.nanoevents.methods import vector\n"
     ]
    }
   ],
   "source": [
    "#TODO: fix path issue\n",
    "fname = \"data/NANOAOD-1500_900.root\"\n",
    "events = NanoEventsFactory.from_root(\n",
    "    {fname: \"Events\"},\n",
    "    schemaclass=NanoAODSchema,\n",
    "    metadata={\"dataset\": \"DYJets\"},\n",
    "    delayed=False\n",
    ").events()"
   ]
  },
  {
   "cell_type": "code",
   "execution_count": 3,
   "metadata": {},
   "outputs": [],
   "source": [
    "def makeCutSet(x, s, *args):\n",
    "    return [x[s > a] for a in args]\n",
    "\n",
    "b_tag_wps = [0.0490, 0.2783, 0.7100]\n",
    "\n",
    "def createObjects(events):\n",
    "    good_jets = events.Jet[(events.Jet.pt > 30) & (abs(events.Jet.eta) < 2.4)]\n",
    "    fat_jets = events.FatJet[(events.FatJet.pt > 30) & (abs(events.FatJet.eta) < 2.4)]\n",
    "    loose_top, med_top, tight_top = makeCutSet(\n",
    "        fat_jets, fat_jets.particleNet_TvsQCD, 0.58, 0.80, 0.97\n",
    "    )\n",
    "    #loose_W, med_W, tight_W = makeCutSet(\n",
    "    #    fat_jets, fat_jets.particleNet_WvsQCD, 0.7, 0.94, 0.98\n",
    "    #)\n",
    "\n",
    "    #deep_top_wp1, deep_top_wp2, deep_top_wp3, deep_top_wp4 = makeCutSet(\n",
    "    #    fat_jets, fat_jets.deepTag_TvsQCD, 0.436, 0.802, 0.922, 0.989\n",
    "    #)\n",
    "    #deep_W_wp1, deep_W_wp2, deep_W_wp3, deep_W_wp4 = makeCutSet(\n",
    "    #    fat_jets, fat_jets.deepTag_WvsQCD, 0.458, 0.762, 0.918, 0.961\n",
    "    #)\n",
    "    loose_b, med_b, tight_b = makeCutSet(\n",
    "        good_jets, good_jets.btagDeepFlavB, *(b_tag_wps[x] for x in range(3))\n",
    "    )\n",
    "\n",
    "    el = events.Electron\n",
    "    good_electrons = el[\n",
    "        (el.cutBased == 4)\n",
    "        & (el.miniPFRelIso_all < 0.1)\n",
    "        & (el.pt > 30)\n",
    "        & (abs(el.eta) < 2.4)\n",
    "    ]\n",
    "    mu = events.Muon\n",
    "    good_muons = mu[\n",
    "        (mu.mediumId) & (mu.miniPFRelIso_all < 0.2) & (mu.pt > 30) & (abs(mu.eta) < 2.4)\n",
    "    ]\n",
    "    events[\"good_jets\"] = good_jets\n",
    "    events[\"good_electrons\"] = good_electrons\n",
    "    events[\"good_muons\"] = good_muons\n",
    "\n",
    "    events[\"loose_bs\"] = loose_b\n",
    "    events[\"med_bs\"] = med_b\n",
    "    events[\"tight_bs\"] = tight_b\n",
    "\n",
    "    events[\"tight_tops\"] = tight_top\n",
    "    # events[\"med_tops\"] = med_top\n",
    "    # events[\"loose_tops\"] = loose_top\n",
    "\n",
    "    # events[\"tight_Ws\"] = tight_W\n",
    "    # events[\"med_Ws\"] = med_W\n",
    "    # events[\"loose_Ws\"] = loose_W\n",
    "\n",
    "    # events[\"deep_top_wp1\"] = deep_top_wp1\n",
    "    # events[\"deep_top_wp2\"] = deep_top_wp2\n",
    "    # events[\"deep_top_wp3\"] = deep_top_wp3\n",
    "    # events[\"deep_top_wp4\"] = deep_top_wp4\n",
    "\n",
    "    # events[\"deep_W_wp1\"] = deep_W_wp1\n",
    "    # events[\"deep_W_wp2\"] = deep_W_wp2\n",
    "    # events[\"deep_W_wp3\"] = deep_W_wp3\n",
    "    # events[\"deep_W_wp4\"] = deep_W_wp4\n",
    "\n",
    "    return events\n",
    "\n",
    "def createSelection(events):\n",
    "    \"\"\"Baseline selection for the analysis.\n",
    "Applies the following selection:\n",
    "- Jets[0].pt > 300\n",
    "- 4 <= nJets <= 6\n",
    "- 0 leptons\n",
    "- 2 medium bjets, at least one of which is tight\n",
    "- delta_R(med_bjets[0],med_bjets[1]) > 1\n",
    "    \"\"\"\n",
    "\n",
    "    selection = PackedSelection()\n",
    "    good_jets = events.good_jets\n",
    "    fat_jets = events.FatJet\n",
    "    good_muons = events.good_muons\n",
    "    good_electrons = events.good_electrons\n",
    "    loose_b = events.loose_bs\n",
    "    med_b = events.med_bs\n",
    "    tight_b = events.tight_bs\n",
    "    tight_top = events.tight_tops\n",
    "    # selection = PackedSelection()\n",
    "    filled_jets = ak.pad_none(good_jets, 4, axis=1)\n",
    "    top_two_dr = ak.fill_none(filled_jets[:, 0].delta_r(filled_jets[:, 1]), False)\n",
    "\n",
    "    filled_med = ak.pad_none(med_b, 2, axis=1)\n",
    "    med_dr = ak.fill_none(filled_med[:, 0].delta_r(filled_med[:, 1]), False)\n",
    "    # selection.add(\"trigger\", (ak.num(good_jets) >= 4) & (ak.num(good_jets) <= 6))\n",
    "    if \"HLT\" in events.fields:\n",
    "        selection.add(\"hlt\", (events.HLT.PFHT1050 | events.HLT.AK8PFJet360_TrimMass30))\n",
    "    selection.add(\"highptjet\", (ak.fill_none(filled_jets[:, 0].pt > 300, False)))\n",
    "    selection.add(\"jets\", ((ak.num(good_jets) >= 4) & (ak.num(good_jets) <= 6)))\n",
    "    selection.add(\"0Lep\", ((ak.num(good_electrons) == 0) & (ak.num(good_muons) == 0)))\n",
    "    selection.add(\"2bjet\", (ak.num(med_b) >= 2))\n",
    "    selection.add(\"1tightbjet\", (ak.num(tight_b) >= 1))\n",
    "    # selection.add(\"jet_dr\", ((top_two_dr < 4) & (top_two_dr > 2)).to_numpy())\n",
    "    selection.add(\"b_dr\", (med_dr > 1))\n",
    "    return selection"
   ]
  },
  {
   "cell_type": "code",
   "execution_count": 4,
   "metadata": {},
   "outputs": [],
   "source": [
    "events = createObjects(events)\n",
    "mask = createSelection(events).all(\"highptjet\", \"jets\", \"0Lep\", \"2bjet\", \"1tightbjet\", \"b_dr\")\n",
    "events = events[mask]"
   ]
  },
  {
   "cell_type": "markdown",
   "metadata": {},
   "source": [
    "### NN class"
   ]
  },
  {
   "cell_type": "code",
   "execution_count": 5,
   "metadata": {},
   "outputs": [],
   "source": [
    "# jetAssignmentNN.model"
   ]
  },
  {
   "cell_type": "code",
   "execution_count": 6,
   "metadata": {},
   "outputs": [
    {
     "name": "stderr",
     "output_type": "stream",
     "text": [
      "/usr/local/lib/python3.10/site-packages/sklearn/base.py:376: InconsistentVersionWarning: Trying to unpickle estimator StandardScaler from version 0.24.2 when using version 1.4.1.post1. This might lead to breaking code or invalid results. Use at your own risk. For more info please refer to:\n",
      "https://scikit-learn.org/stable/model_persistence.html#security-maintainability-limitations\n",
      "  warnings.warn(\n"
     ]
    }
   ],
   "source": [
    "scl = open('scaler.pkl', 'rb')\n",
    "scaler = pickle.load(scl)"
   ]
  },
  {
   "cell_type": "code",
   "execution_count": 7,
   "metadata": {},
   "outputs": [],
   "source": [
    "jets = events.good_jets\n",
    "flat_jets = ak.flatten(jets)\n",
    "\n",
    "m3 = jets[:,1:4].sum()\n",
    "m4 = jets[:,0:4].sum()\n",
    "\n",
    "ones = ak.ones_like(jets.pt)\n",
    "\n",
    "imap = {\n",
    "    \"features\": {\n",
    "        \"jetOrdinality\":    ak.flatten(ak.local_index(jets, axis=1)),\n",
    "        \"jetPT\": \t\t    flat_jets.pt,\n",
    "        \"jetEta\": \t\t    flat_jets.eta,\n",
    "        \"jetPhi\": \t\t    flat_jets.phi,\n",
    "        \"jetBScore\":    \tflat_jets.btagDeepFlavB,\n",
    "        \"m3M\": \t\t\t    ak.flatten(ones * m3.mass),\n",
    "        \"m3PT\": \t\t    ak.flatten(ones * m3.pt),\n",
    "        \"m3Eta\": \t\t    ak.flatten(ones * m3.eta),\n",
    "        \"m3Phi\": \t        ak.flatten(ones * m3.phi),\n",
    "        \"m4M\": \t\t\t    ak.flatten(ones * m4.mass),\n",
    "        \"m4PT\":\t\t        ak.flatten(ones * m4.pt),\n",
    "        \"m4Eta\":\t\t    ak.flatten(ones * m4.eta),\n",
    "        \"m4Phi\":\t        ak.flatten(ones * m4.phi)\n",
    "    }\n",
    "}\n",
    "\n",
    "imap_concat = ak.concatenate([x[:, np.newaxis] for x in imap['features'].values()], axis=1)\n",
    "imap_scaled = (imap_concat - scaler.mean_) / scaler.scale_\n",
    "retmap = {\n",
    "    \"features\": [imap_scaled]\n",
    "}"
   ]
  },
  {
   "cell_type": "code",
   "execution_count": 8,
   "metadata": {},
   "outputs": [
    {
     "data": {
      "text/plain": [
       "[<Array [[-1.36, 1.22, ..., 0.168, 1.09], ...] type='20510 * 13 * float64'>]"
      ]
     },
     "execution_count": 8,
     "metadata": {},
     "output_type": "execute_result"
    }
   ],
   "source": [
    "retmap[\"features\"]"
   ]
  },
  {
   "cell_type": "code",
   "execution_count": 9,
   "metadata": {},
   "outputs": [
    {
     "data": {
      "text/html": [
       "<pre>[[-1.36, 1.22, 0.159, -1.52, -0.756, ..., 0.334, -0.0499, 0.157, 0.168, 1.09],\n",
       " [-0.699, 0.658, -0.443, -0.384, 0.917, ..., -0.0499, 0.157, 0.168, 1.09],\n",
       " [-0.0339, 0.111, 0.547, 0.781, -0.799, ..., -0.0499, 0.157, 0.168, 1.09],\n",
       " [0.631, -0.112, 0.0268, 0.757, 0.879, ..., 0.334, -0.0499, 0.157, 0.168, 1.09],\n",
       " [1.3, -1.33, -0.287, -1.43, -0.617, ..., 0.334, -0.0499, 0.157, 0.168, 1.09],\n",
       " [1.96, -1.36, 2.1, -0.479, -0.74, ..., 0.334, -0.0499, 0.157, 0.168, 1.09],\n",
       " [-1.36, 1.56, 0.828, 1.38, -0.697, ..., -0.368, 0.0519, -0.28, 0.987, 1.25],\n",
       " [-0.699, 1.05, 0.788, -0.171, 1.59, ..., -0.368, 0.0519, -0.28, 0.987, 1.25],\n",
       " [-0.0339, -0.426, 0.0309, -1.63, 1.6, ..., -0.368, 0.0519, -0.28, 0.987, 1.25],\n",
       " [0.631, -0.674, -0.577, -0.309, -0.787, ..., 0.0519, -0.28, 0.987, 1.25],\n",
       " ...,\n",
       " [-1.36, 0.834, -0.45, 0.332, 0.35, ..., -1.41, -0.834, 0.0691, -0.345, -1.26],\n",
       " [-0.699, 0.809, 0.308, -0.966, 1.57, ..., -0.834, 0.0691, -0.345, -1.26],\n",
       " [-0.0339, -0.133, -0.203, 1.26, -0.784, ..., -0.834, 0.0691, -0.345, -1.26],\n",
       " [0.631, -0.365, -0.103, -1.45, -0.796, ..., -0.834, 0.0691, -0.345, -1.26],\n",
       " [1.3, -1.15, -0.768, 0.899, -0.799, ..., -1.41, -0.834, 0.0691, -0.345, -1.26],\n",
       " [-1.36, 3.13, 1.27, -0.186, -0.789, ..., 1.49, 7.96, 0.177, 0.619, 0.158],\n",
       " [-0.699, 0.416, -1.8, 1.37, -0.766, ..., 1.49, 7.96, 0.177, 0.619, 0.158],\n",
       " [-0.0339, -0.332, 0.778, 1.56, 1.51, ..., 1.49, 7.96, 0.177, 0.619, 0.158],\n",
       " [0.631, -0.6, -0.546, 1.67, 0.685, 1.02, ..., 1.49, 7.96, 0.177, 0.619, 0.158]]\n",
       "--------------------------------------------------------------------------------\n",
       "type: 20510 * 13 * float64</pre>"
      ],
      "text/plain": [
       "<Array [[-1.36, 1.22, ..., 0.168, 1.09], ...] type='20510 * 13 * float64'>"
      ]
     },
     "execution_count": 9,
     "metadata": {},
     "output_type": "execute_result"
    }
   ],
   "source": [
    "imap_scaled"
   ]
  },
  {
   "cell_type": "markdown",
   "metadata": {},
   "source": []
  },
  {
   "cell_type": "code",
   "execution_count": 4,
   "metadata": {},
   "outputs": [],
   "source": [
    "class jetAssignmentNN(torch_wrapper):\n",
    "    def prepare_awkward(self,events):\n",
    "        # ak = self.get_awkward_lib(events)\n",
    "        jets = events.good_jets\n",
    "        flat_jets = ak.flatten(jets)\n",
    "\n",
    "        m3 = jets[:,1:4].sum()\n",
    "        m4 = jets[:,0:4].sum()\n",
    "\n",
    "        ones = ak.ones_like(jets.pt)\n",
    "\n",
    "        imap = {\n",
    "            \"features\": {\n",
    "                \"jetOrdinality\":    ak.flatten(ak.local_index(jets, axis=1)),\n",
    "                \"jetPT\": \t\t    flat_jets.pt - 2,\n",
    "                \"jetEta\": \t\t    flat_jets.eta,\n",
    "                \"jetPhi\": \t\t    flat_jets.phi,\n",
    "                \"jetBScore\":    \tflat_jets.btagDeepFlavB,\n",
    "                \"m3M\": \t\t\t    ak.flatten(ones * m3.mass),\n",
    "                \"m3PT\": \t\t    ak.flatten(ones * m3.pt),\n",
    "                \"m3Eta\": \t\t    ak.flatten(ones * m3.eta),\n",
    "                \"m3Phi\": \t        ak.flatten(ones * m3.phi),\n",
    "                \"m4M\": \t\t\t    ak.flatten(ones * m4.mass),\n",
    "                \"m4PT\":\t\t        ak.flatten(ones * m4.pt),\n",
    "                \"m4Eta\":\t\t    ak.flatten(ones * m4.eta),\n",
    "                \"m4Phi\":\t        ak.flatten(ones * m4.phi)\n",
    "            }\n",
    "        }\n",
    "        \n",
    "        imap_concat = ak.concatenate([x[:, np.newaxis] for x in imap['features'].values()], axis=1)\n",
    "        imap_scaled = (imap_concat - scaler.mean_) / scaler.scale_\n",
    "        return (ak.values_astype(imap_scaled, \"float32\"),),{}"
   ]
  },
  {
   "cell_type": "code",
   "execution_count": 14,
   "metadata": {},
   "outputs": [
    {
     "data": {
      "text/html": [
       "<pre>[[-2.05, 193, 0.156, -2.75, -0.314, 76.1, ..., 0.599, -8.83, 9.96, 0.503, 2.01],\n",
       " [-1.05, 104, -0.436, -0.694, 0.38, 76.1, ..., 0.599, -8.83, 9.96, 0.503, 2.01],\n",
       " [-0.051, 17.6, 0.538, 1.41, -0.331, ..., 0.599, -8.83, 9.96, 0.503, 2.01],\n",
       " [0.949, -17.8, 0.0264, 1.37, 0.365, ..., 0.599, -8.83, 9.96, 0.503, 2.01],\n",
       " [1.95, -211, -0.282, -2.58, -0.256, ..., 0.599, -8.83, 9.96, 0.503, 2.01],\n",
       " [2.95, -215, 2.06, -0.867, -0.307, 76.1, ..., 0.599, -8.83, 9.96, 0.503, 2.01],\n",
       " [-2.05, 247, 0.814, 2.49, -0.289, 12.1, ..., -0.659, 9.17, -17.8, 2.96, 2.32],\n",
       " [-1.05, 166, 0.775, -0.31, 0.659, 12.1, ..., -0.659, 9.17, -17.8, 2.96, 2.32],\n",
       " [-0.051, -67.5, 0.0304, -2.94, 0.663, ..., -0.659, 9.17, -17.8, 2.96, 2.32],\n",
       " [0.949, -107, -0.568, -0.559, -0.326, ..., -0.659, 9.17, -17.8, 2.96, 2.32],\n",
       " ...,\n",
       " [-2.05, 132, -0.442, 0.601, 0.145, ..., -2.53, -147, 4.39, -1.03, -2.33],\n",
       " [-1.05, 128, 0.303, -1.75, 0.653, -72.8, ..., -2.53, -147, 4.39, -1.03, -2.33],\n",
       " [-0.051, -21.1, -0.2, 2.27, -0.325, ..., -2.53, -147, 4.39, -1.03, -2.33],\n",
       " [0.949, -57.8, -0.101, -2.63, -0.33, ..., -2.53, -147, 4.39, -1.03, -2.33],\n",
       " [1.95, -183, -0.756, 1.63, -0.331, ..., -2.53, -147, 4.39, -1.03, -2.33],\n",
       " [-2.05, 496, 1.25, -0.336, -0.327, ..., 2.67, 1.41e+03, 11.3, 1.86, 0.293],\n",
       " [-1.05, 65.9, -1.78, 2.48, -0.318, ..., 2.67, 1.41e+03, 11.3, 1.86, 0.293],\n",
       " [-0.051, -52.5, 0.765, 2.82, 0.627, ..., 2.67, 1.41e+03, 11.3, 1.86, 0.293],\n",
       " [0.949, -95, -0.537, 3.02, 0.284, 186, ..., 2.67, 1.41e+03, 11.3, 1.86, 0.293]]\n",
       "--------------------------------------------------------------------------------\n",
       "type: 20510 * 13 * float64</pre>"
      ],
      "text/plain": [
       "<Array [[-2.05, 193, 0.156, ..., 0.503, 2.01], ...] type='20510 * 13 * float64'>"
      ]
     },
     "execution_count": 14,
     "metadata": {},
     "output_type": "execute_result"
    }
   ],
   "source": [
    "imap_concat - ak.Array(scaler.mean_)"
   ]
  },
  {
   "cell_type": "code",
   "execution_count": 5,
   "metadata": {},
   "outputs": [],
   "source": [
    "class Net(nn.Module):\n",
    "    def __init__(self):\n",
    "        super(Net,self).__init__()\n",
    "        self.fc1 = nn.Linear(13,13)\n",
    "        self.fc2 = nn.Linear(13,3)\n",
    "    def forward(self,features=None):\n",
    "        features = F.relu(self.fc1(features))\n",
    "        features = F.softmax(self.fc2(features),dim=1)\n",
    "        return features"
   ]
  },
  {
   "cell_type": "code",
   "execution_count": 16,
   "metadata": {},
   "outputs": [],
   "source": [
    "model = jetAssignmentNN(\"traced_model.pt\")"
   ]
  },
  {
   "cell_type": "code",
   "execution_count": 17,
   "metadata": {},
   "outputs": [
    {
     "name": "stderr",
     "output_type": "stream",
     "text": [
      "/usr/local/lib/python3.10/site-packages/coffea/ml_tools/helper.py:175: UserWarning: No format checks were performed on input!\n",
      "  warnings.warn(\"No format checks were performed on input!\")\n"
     ]
    }
   ],
   "source": [
    "scores = model(events)"
   ]
  },
  {
   "cell_type": "code",
   "execution_count": 15,
   "metadata": {},
   "outputs": [
    {
     "data": {
      "text/html": [
       "<pre>[[0.000372, 0.966, 4.83e-05, 2.6e-05, 4.78e-10, 3.2e-14],\n",
       " [0.00088, 0.979, 0.000759, 2.34e-06],\n",
       " [0.993, 0.000288, 0.000599, 1.07e-06, 1.2e-10],\n",
       " [0.389, 0.516, 2.89e-06, 2.41e-07, 3.78e-08, 4.32e-14],\n",
       " [0.999, 0.794, 4.68e-05, 1.58e-06, 3.94e-09, 4.73e-14],\n",
       " [0.993, 0.000382, 0.00687, 3.8e-06, 2.55e-10, 1.11e-13],\n",
       " [0.000158, 0.921, 0.00528, 2.17e-07, 1.71e-10],\n",
       " [0.00171, 0.00119, 0.000413, 4.32e-06, 6.21e-09, 1.88e-11],\n",
       " [0.999, 0.972, 0.00012, 8.11e-08, 7.32e-09, 1.1e-12],\n",
       " [0.905, 0.000235, 4.08e-05, 9.19e-07, 1.44e-10, 1.97e-14],\n",
       " ...,\n",
       " [0.998, 0.898, 0.000338, 2.97e-05, 1.6e-09],\n",
       " [0.0013, 0.849, 0.00197, 5.57e-06],\n",
       " [0.987, 0.518, 9.94e-06, 8.24e-06],\n",
       " [0.999, 0.889, 1.71e-05, 4.4e-08],\n",
       " [0.388, 0.267, 0.0122, 2.12e-05],\n",
       " [0.00655, 0.000187, 0.0237, 1.04e-06, 1.77e-08],\n",
       " [0.00135, 0.969, 0.248, 6.82e-07],\n",
       " [0.962, 0.771, 0.000102, 4.03e-06, 1.33e-09],\n",
       " [0.00167, 0.142, 0.872, 0.0145]]\n",
       "------------------------------------------------------------\n",
       "type: 4212 * var * float32</pre>"
      ],
      "text/plain": [
       "<Array [[0.000372, 0.966, ..., 3.2e-14], ...] type='4212 * var * float32'>"
      ]
     },
     "execution_count": 15,
     "metadata": {},
     "output_type": "execute_result"
    }
   ],
   "source": [
    "ak.unflatten(scores[:,0], ak.num(jets))"
   ]
  },
  {
   "cell_type": "code",
   "execution_count": 16,
   "metadata": {},
   "outputs": [
    {
     "data": {
      "text/html": [
       "<pre>[[1, 0.0342, 1, 1, 0.00696, 0.000148],\n",
       " [0.999, 0.021, 0.999, 0.997],\n",
       " [0.00666, 1, 0.999, 0.953, 0.00735],\n",
       " [0.611, 0.484, 1, 1, 0.731, 0.000681],\n",
       " [0.000673, 0.206, 1, 1, 0.0888, 0.000244],\n",
       " [0.00732, 1, 0.993, 0.998, 0.00733, 0.000314],\n",
       " [1, 0.0789, 0.995, 1, 0.03],\n",
       " [0.998, 0.999, 1, 0.996, 1, 0.0102],\n",
       " [0.00061, 0.0282, 1, 0.999, 0.767, 0.00635],\n",
       " [0.0951, 1, 1, 0.969, 0.0308, 0.000104],\n",
       " ...,\n",
       " [0.00188, 0.102, 1, 0.995, 0.0173],\n",
       " [0.999, 0.151, 0.998, 0.999],\n",
       " [0.013, 0.482, 1, 0.929],\n",
       " [0.000746, 0.111, 1, 0.962],\n",
       " [0.612, 0.733, 0.988, 0.995],\n",
       " [0.993, 1, 0.976, 1, 0.387],\n",
       " [0.999, 0.0311, 0.752, 0.992],\n",
       " [0.0379, 0.229, 1, 0.999, 0.0366],\n",
       " [0.998, 0.858, 0.128, 0.986]]\n",
       "-----------------------------------------------\n",
       "type: 4212 * var * float32</pre>"
      ],
      "text/plain": [
       "<Array [[1, 0.0342, ..., 0.00696, 0.000148], ...] type='4212 * var * float32'>"
      ]
     },
     "execution_count": 16,
     "metadata": {},
     "output_type": "execute_result"
    }
   ],
   "source": [
    "ak.unflatten(scores[:,1], ak.num(jets))"
   ]
  },
  {
   "cell_type": "code",
   "execution_count": 21,
   "metadata": {},
   "outputs": [],
   "source": [
    "highest_3_charg_score_idx = ak.argsort(ak.unflatten(scores[:,1], ak.num(jets)), axis=1)[:, -3:]\n",
    "highest_stop_score_idx = ak.argsort(ak.unflatten(scores[:,0], ak.num(jets)), axis=1)[:, -1]"
   ]
  },
  {
   "cell_type": "code",
   "execution_count": 22,
   "metadata": {},
   "outputs": [],
   "source": [
    "top_3_charg_score_sum = jets[highest_3_charg_score_idx].sum()\n",
    "m3_top_3_nn_charg_score = top_3_charg_score_sum.mass"
   ]
  },
  {
   "cell_type": "code",
   "execution_count": 23,
   "metadata": {},
   "outputs": [],
   "source": [
    "nn4 = top_3_charg_score_sum + jets[ak.singletons(highest_stop_score_idx)]"
   ]
  },
  {
   "cell_type": "code",
   "execution_count": 26,
   "metadata": {},
   "outputs": [],
   "source": [
    "stop_jets = jets[ak.singletons(highest_stop_score_idx)]"
   ]
  },
  {
   "cell_type": "code",
   "execution_count": 10,
   "metadata": {},
   "outputs": [],
   "source": [
    "m14 = jets[:, 0:4].sum().mass"
   ]
  },
  {
   "cell_type": "code",
   "execution_count": 11,
   "metadata": {},
   "outputs": [
    {
     "data": {
      "text/html": [
       "<pre>[1.39e+03,\n",
       " 1.41e+03,\n",
       " 1.27e+03,\n",
       " 1.23e+03,\n",
       " 1.33e+03,\n",
       " 1.35e+03,\n",
       " 1.36e+03,\n",
       " 1.33e+03,\n",
       " 1.16e+03,\n",
       " 1.27e+03,\n",
       " ...,\n",
       " 1.41e+03,\n",
       " 1.3e+03,\n",
       " 1.16e+03,\n",
       " 1.43e+03,\n",
       " 1.19e+03,\n",
       " 1.38e+03,\n",
       " 1.29e+03,\n",
       " 1.26e+03,\n",
       " 2.81e+03]\n",
       "--------------------\n",
       "type: 4212 * float32</pre>"
      ],
      "text/plain": [
       "<Array [1.39e+03, 1.41e+03, ..., 1.26e+03, 2.81e+03] type='4212 * float32'>"
      ]
     },
     "execution_count": 11,
     "metadata": {},
     "output_type": "execute_result"
    }
   ],
   "source": [
    "m14"
   ]
  },
  {
   "cell_type": "code",
   "execution_count": 35,
   "metadata": {},
   "outputs": [
    {
     "data": {
      "text/html": [
       "<pre>[[0.000372, 0.966, 4.83e-05, 2.6e-05, 4.78e-10, 3.2e-14],\n",
       " [0.00088, 0.979, 0.000759, 2.34e-06],\n",
       " [0.993, 0.000288, 0.000599, 1.07e-06, 1.2e-10],\n",
       " [0.389, 0.516, 2.89e-06, 2.41e-07, 3.78e-08, 4.32e-14],\n",
       " [0.999, 0.794, 4.68e-05, 1.58e-06, 3.94e-09, 4.73e-14],\n",
       " [0.993, 0.000382, 0.00687, 3.8e-06, 2.55e-10, 1.11e-13],\n",
       " [0.000158, 0.921, 0.00528, 2.17e-07, 1.71e-10],\n",
       " [0.00171, 0.00119, 0.000413, 4.32e-06, 6.21e-09, 1.88e-11],\n",
       " [0.999, 0.972, 0.00012, 8.11e-08, 7.32e-09, 1.1e-12],\n",
       " [0.905, 0.000235, 4.08e-05, 9.19e-07, 1.44e-10, 1.97e-14],\n",
       " ...,\n",
       " [0.998, 0.898, 0.000338, 2.97e-05, 1.6e-09],\n",
       " [0.0013, 0.849, 0.00197, 5.57e-06],\n",
       " [0.987, 0.518, 9.94e-06, 8.24e-06],\n",
       " [0.999, 0.889, 1.71e-05, 4.4e-08],\n",
       " [0.388, 0.267, 0.0122, 2.12e-05],\n",
       " [0.00655, 0.000187, 0.0237, 1.04e-06, 1.77e-08],\n",
       " [0.00135, 0.969, 0.248, 6.82e-07],\n",
       " [0.962, 0.771, 0.000102, 4.03e-06, 1.33e-09],\n",
       " [0.00167, 0.142, 0.872, 0.0145]]\n",
       "------------------------------------------------------------\n",
       "type: 4212 * var * float32</pre>"
      ],
      "text/plain": [
       "<Array [[0.000372, 0.966, ..., 3.2e-14], ...] type='4212 * var * float32'>"
      ]
     },
     "execution_count": 35,
     "metadata": {},
     "output_type": "execute_result"
    }
   ],
   "source": [
    "ak.unflatten(scores[:,0], ak.num(jets))"
   ]
  },
  {
   "cell_type": "code",
   "execution_count": 32,
   "metadata": {},
   "outputs": [
    {
     "data": {
      "text/html": [
       "<pre>[[3, 0, 2],\n",
       " [3, 0, 2],\n",
       " [3, 2, 1],\n",
       " [4, 3, 2],\n",
       " [1, 3, 2],\n",
       " [2, 3, 1],\n",
       " [2, 0, 3],\n",
       " [1, 2, 4],\n",
       " [4, 3, 2],\n",
       " [3, 1, 2],\n",
       " ...,\n",
       " [1, 3, 2],\n",
       " [2, 0, 3],\n",
       " [1, 3, 2],\n",
       " [1, 3, 2],\n",
       " [1, 2, 3],\n",
       " [0, 1, 3],\n",
       " [2, 3, 0],\n",
       " [1, 3, 2],\n",
       " [1, 3, 0]]\n",
       "------------------------\n",
       "type: 4212 * var * int64</pre>"
      ],
      "text/plain": [
       "<Array [[3, 0, 2], [3, 0, 2], ..., [...], [1, 3, 0]] type='4212 * var * int64'>"
      ]
     },
     "execution_count": 32,
     "metadata": {},
     "output_type": "execute_result"
    }
   ],
   "source": [
    "highest_3_charg_score_idx"
   ]
  },
  {
   "cell_type": "code",
   "execution_count": 31,
   "metadata": {},
   "outputs": [
    {
     "data": {
      "text/html": [
       "<pre>[1,\n",
       " 1,\n",
       " 0,\n",
       " 1,\n",
       " 0,\n",
       " 0,\n",
       " 1,\n",
       " 0,\n",
       " 0,\n",
       " 0,\n",
       " ...,\n",
       " 0,\n",
       " 1,\n",
       " 0,\n",
       " 0,\n",
       " 0,\n",
       " 2,\n",
       " 1,\n",
       " 0,\n",
       " 2]\n",
       "------------------\n",
       "type: 4212 * int64</pre>"
      ],
      "text/plain": [
       "<Array [1, 1, 0, 1, 0, 0, 1, 0, ..., 0, 0, 0, 2, 1, 0, 2] type='4212 * int64'>"
      ]
     },
     "execution_count": 31,
     "metadata": {},
     "output_type": "execute_result"
    }
   ],
   "source": [
    "highest_stop_score_idx"
   ]
  },
  {
   "cell_type": "code",
   "execution_count": 18,
   "metadata": {},
   "outputs": [],
   "source": [
    "high_charg_score_mask = ak.unflatten(scores[:,1] > 0.95, ak.num(jets))\n",
    "highest_3_charg_score_idx = ak.argsort(ak.unflatten(scores[:,1], ak.num(jets)), axis=1)[:, -3:]\n",
    "highest_stop_score_idx = ak.argsort(ak.unflatten(scores[:,0], ak.num(jets)), axis=1)[:, -1]\n",
    "\n",
    "top_3_charg_score_sum = jets[highest_3_charg_score_idx].sum()\n",
    "m3_top_3_nn_charg_score = top_3_charg_score_sum.mass"
   ]
  },
  {
   "cell_type": "code",
   "execution_count": 19,
   "metadata": {},
   "outputs": [
    {
     "data": {
      "text/html": [
       "<pre>[863,\n",
       " 834,\n",
       " 787,\n",
       " 507,\n",
       " 710,\n",
       " 853,\n",
       " 835,\n",
       " 431,\n",
       " 334,\n",
       " 726,\n",
       " ...,\n",
       " 811,\n",
       " 827,\n",
       " 677,\n",
       " 820,\n",
       " 532,\n",
       " 937,\n",
       " 941,\n",
       " 680,\n",
       " 2.55e+03]\n",
       "--------------------\n",
       "type: 4212 * float32</pre>"
      ],
      "text/plain": [
       "<Array [863, 834, 787, 507, ..., 937, 941, 680, 2.55e+03] type='4212 * float32'>"
      ]
     },
     "execution_count": 19,
     "metadata": {},
     "output_type": "execute_result"
    }
   ],
   "source": [
    "m3_top_3_nn_charg_score"
   ]
  },
  {
   "cell_type": "code",
   "execution_count": 27,
   "metadata": {},
   "outputs": [
    {
     "data": {
      "text/html": [
       "<pre>[1.39e+03,\n",
       " 1.41e+03,\n",
       " 1.27e+03,\n",
       " 817,\n",
       " 1.33e+03,\n",
       " 1.35e+03,\n",
       " 1.36e+03,\n",
       " 1.24e+03,\n",
       " 808,\n",
       " 1.27e+03,\n",
       " ...,\n",
       " 1.41e+03,\n",
       " 1.3e+03,\n",
       " 1.16e+03,\n",
       " 1.43e+03,\n",
       " 1.19e+03,\n",
       " 1.38e+03,\n",
       " 1.29e+03,\n",
       " 1.26e+03,\n",
       " 2.81e+03]\n",
       "--------------------\n",
       "type: 4212 * float32</pre>"
      ],
      "text/plain": [
       "<Array [1.39e+03, 1.41e+03, ..., 1.26e+03, 2.81e+03] type='4212 * float32'>"
      ]
     },
     "execution_count": 27,
     "metadata": {},
     "output_type": "execute_result"
    }
   ],
   "source": [
    "\n",
    "ak.flatten((top_3_charg_score_sum + stop_jets).mass)"
   ]
  },
  {
   "cell_type": "code",
   "execution_count": 25,
   "metadata": {},
   "outputs": [
    {
     "data": {
      "text/html": [
       "<pre>[1.39e+03,\n",
       " 1.41e+03,\n",
       " 1.27e+03,\n",
       " 817,\n",
       " 1.33e+03,\n",
       " 1.35e+03,\n",
       " 1.36e+03,\n",
       " 1.24e+03,\n",
       " 808,\n",
       " 1.27e+03,\n",
       " ...,\n",
       " 1.41e+03,\n",
       " 1.3e+03,\n",
       " 1.16e+03,\n",
       " 1.43e+03,\n",
       " 1.19e+03,\n",
       " 1.38e+03,\n",
       " 1.29e+03,\n",
       " 1.26e+03,\n",
       " 2.81e+03]\n",
       "--------------------\n",
       "type: 4212 * float32</pre>"
      ],
      "text/plain": [
       "<Array [1.39e+03, 1.41e+03, ..., 1.26e+03, 2.81e+03] type='4212 * float32'>"
      ]
     },
     "execution_count": 25,
     "metadata": {},
     "output_type": "execute_result"
    }
   ],
   "source": [
    "ak.flatten(nn4.mass)"
   ]
  },
  {
   "cell_type": "code",
   "execution_count": 47,
   "metadata": {},
   "outputs": [],
   "source": [
    "stop_jet = jets[ak.singletons(highest_stop_score_idx)]"
   ]
  }
 ],
 "metadata": {
  "kernelspec": {
   "display_name": "coffeaenv",
   "language": "python",
   "name": "coffeaenv"
  },
  "language_info": {
   "codemirror_mode": {
    "name": "ipython",
    "version": 3
   },
   "file_extension": ".py",
   "mimetype": "text/x-python",
   "name": "python",
   "nbconvert_exporter": "python",
   "pygments_lexer": "ipython3",
   "version": "3.10.12"
  }
 },
 "nbformat": 4,
 "nbformat_minor": 2
}
