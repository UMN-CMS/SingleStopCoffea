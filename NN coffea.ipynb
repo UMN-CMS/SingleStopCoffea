{
 "cells": [
  {
   "cell_type": "code",
   "execution_count": 1,
   "metadata": {},
   "outputs": [],
   "source": [
    "import awkward as ak\n",
    "import numpy as np\n",
    "\n",
    "from coffea.nanoevents import NanoEventsFactory, NanoAODSchema\n",
    "from coffea.analysis_tools import PackedSelection\n",
    "\n",
    "from coffea.ml_tools.torch_wrapper import torch_wrapper\n",
    "\n",
    "import torch\n",
    "import torch.nn as nn\n",
    "import torch.nn.functional as F\n",
    "from sklearn.preprocessing import StandardScaler\n",
    "from sklearn.model_selection import train_test_split\n",
    "\n",
    "import pickle"
   ]
  },
  {
   "cell_type": "markdown",
   "metadata": {},
   "source": [
    "### Converting model to TorchScript"
   ]
  },
  {
   "cell_type": "code",
   "execution_count": 2,
   "metadata": {},
   "outputs": [
    {
     "ename": "AttributeError",
     "evalue": "Can't get attribute 'Net' on <module '__main__'>",
     "output_type": "error",
     "traceback": [
      "\u001b[0;31m---------------------------------------------------------------------------\u001b[0m",
      "\u001b[0;31mAttributeError\u001b[0m                            Traceback (most recent call last)",
      "Cell \u001b[0;32mIn[2], line 2\u001b[0m\n\u001b[1;32m      1\u001b[0m \u001b[38;5;66;03m# An instance of your model.\u001b[39;00m\n\u001b[0;32m----> 2\u001b[0m model \u001b[38;5;241m=\u001b[39m \u001b[43mtorch\u001b[49m\u001b[38;5;241;43m.\u001b[39;49m\u001b[43mload\u001b[49m\u001b[43m(\u001b[49m\u001b[38;5;124;43m\"\u001b[39;49m\u001b[38;5;124;43mjetMatcherNN_highly_uncomp.pt\u001b[39;49m\u001b[38;5;124;43m\"\u001b[39;49m\u001b[43m)\u001b[49m\n\u001b[1;32m      3\u001b[0m model\u001b[38;5;241m.\u001b[39meval()\n\u001b[1;32m      5\u001b[0m \u001b[38;5;66;03m# An example input you would normally provide to your model's forward() method.\u001b[39;00m\n",
      "File \u001b[0;32m/usr/local/lib/python3.10/site-packages/torch/serialization.py:1014\u001b[0m, in \u001b[0;36mload\u001b[0;34m(f, map_location, pickle_module, weights_only, mmap, **pickle_load_args)\u001b[0m\n\u001b[1;32m   1012\u001b[0m             \u001b[38;5;28;01mexcept\u001b[39;00m \u001b[38;5;167;01mRuntimeError\u001b[39;00m \u001b[38;5;28;01mas\u001b[39;00m e:\n\u001b[1;32m   1013\u001b[0m                 \u001b[38;5;28;01mraise\u001b[39;00m pickle\u001b[38;5;241m.\u001b[39mUnpicklingError(UNSAFE_MESSAGE \u001b[38;5;241m+\u001b[39m \u001b[38;5;28mstr\u001b[39m(e)) \u001b[38;5;28;01mfrom\u001b[39;00m \u001b[38;5;28;01mNone\u001b[39;00m\n\u001b[0;32m-> 1014\u001b[0m         \u001b[38;5;28;01mreturn\u001b[39;00m \u001b[43m_load\u001b[49m\u001b[43m(\u001b[49m\u001b[43mopened_zipfile\u001b[49m\u001b[43m,\u001b[49m\n\u001b[1;32m   1015\u001b[0m \u001b[43m                     \u001b[49m\u001b[43mmap_location\u001b[49m\u001b[43m,\u001b[49m\n\u001b[1;32m   1016\u001b[0m \u001b[43m                     \u001b[49m\u001b[43mpickle_module\u001b[49m\u001b[43m,\u001b[49m\n\u001b[1;32m   1017\u001b[0m \u001b[43m                     \u001b[49m\u001b[43moverall_storage\u001b[49m\u001b[38;5;241;43m=\u001b[39;49m\u001b[43moverall_storage\u001b[49m\u001b[43m,\u001b[49m\n\u001b[1;32m   1018\u001b[0m \u001b[43m                     \u001b[49m\u001b[38;5;241;43m*\u001b[39;49m\u001b[38;5;241;43m*\u001b[39;49m\u001b[43mpickle_load_args\u001b[49m\u001b[43m)\u001b[49m\n\u001b[1;32m   1019\u001b[0m \u001b[38;5;28;01mif\u001b[39;00m mmap:\n\u001b[1;32m   1020\u001b[0m     \u001b[38;5;28;01mraise\u001b[39;00m \u001b[38;5;167;01mRuntimeError\u001b[39;00m(\u001b[38;5;124m\"\u001b[39m\u001b[38;5;124mmmap can only be used with files saved with \u001b[39m\u001b[38;5;124m\"\u001b[39m,\n\u001b[1;32m   1021\u001b[0m                        \u001b[38;5;124m\"\u001b[39m\u001b[38;5;124m`torch.save(_use_new_zipfile_serialization=True), \u001b[39m\u001b[38;5;124m\"\u001b[39m\n\u001b[1;32m   1022\u001b[0m                        \u001b[38;5;124m\"\u001b[39m\u001b[38;5;124mplease torch.save your checkpoint with this option in order to use mmap.\u001b[39m\u001b[38;5;124m\"\u001b[39m)\n",
      "File \u001b[0;32m/usr/local/lib/python3.10/site-packages/torch/serialization.py:1422\u001b[0m, in \u001b[0;36m_load\u001b[0;34m(zip_file, map_location, pickle_module, pickle_file, overall_storage, **pickle_load_args)\u001b[0m\n\u001b[1;32m   1420\u001b[0m unpickler \u001b[38;5;241m=\u001b[39m UnpicklerWrapper(data_file, \u001b[38;5;241m*\u001b[39m\u001b[38;5;241m*\u001b[39mpickle_load_args)\n\u001b[1;32m   1421\u001b[0m unpickler\u001b[38;5;241m.\u001b[39mpersistent_load \u001b[38;5;241m=\u001b[39m persistent_load\n\u001b[0;32m-> 1422\u001b[0m result \u001b[38;5;241m=\u001b[39m \u001b[43munpickler\u001b[49m\u001b[38;5;241;43m.\u001b[39;49m\u001b[43mload\u001b[49m\u001b[43m(\u001b[49m\u001b[43m)\u001b[49m\n\u001b[1;32m   1424\u001b[0m torch\u001b[38;5;241m.\u001b[39m_utils\u001b[38;5;241m.\u001b[39m_validate_loaded_sparse_tensors()\n\u001b[1;32m   1425\u001b[0m torch\u001b[38;5;241m.\u001b[39m_C\u001b[38;5;241m.\u001b[39m_log_api_usage_metadata(\n\u001b[1;32m   1426\u001b[0m     \u001b[38;5;124m\"\u001b[39m\u001b[38;5;124mtorch.load.metadata\u001b[39m\u001b[38;5;124m\"\u001b[39m, {\u001b[38;5;124m\"\u001b[39m\u001b[38;5;124mserialization_id\u001b[39m\u001b[38;5;124m\"\u001b[39m: zip_file\u001b[38;5;241m.\u001b[39mserialization_id()}\n\u001b[1;32m   1427\u001b[0m )\n",
      "File \u001b[0;32m/usr/local/lib/python3.10/site-packages/torch/serialization.py:1415\u001b[0m, in \u001b[0;36m_load.<locals>.UnpicklerWrapper.find_class\u001b[0;34m(self, mod_name, name)\u001b[0m\n\u001b[1;32m   1413\u001b[0m         \u001b[38;5;28;01mpass\u001b[39;00m\n\u001b[1;32m   1414\u001b[0m mod_name \u001b[38;5;241m=\u001b[39m load_module_mapping\u001b[38;5;241m.\u001b[39mget(mod_name, mod_name)\n\u001b[0;32m-> 1415\u001b[0m \u001b[38;5;28;01mreturn\u001b[39;00m \u001b[38;5;28;43msuper\u001b[39;49m\u001b[43m(\u001b[49m\u001b[43m)\u001b[49m\u001b[38;5;241;43m.\u001b[39;49m\u001b[43mfind_class\u001b[49m\u001b[43m(\u001b[49m\u001b[43mmod_name\u001b[49m\u001b[43m,\u001b[49m\u001b[43m \u001b[49m\u001b[43mname\u001b[49m\u001b[43m)\u001b[49m\n",
      "\u001b[0;31mAttributeError\u001b[0m: Can't get attribute 'Net' on <module '__main__'>"
     ]
    }
   ],
   "source": [
    " # An instance of your model.\n",
    "model = torch.load(\"jetMatcherNN_highly_uncomp.pt\")\n",
    "model.eval()\n",
    "\n",
    "# An example input you would normally provide to your model's forward() method.\n",
    "example = torch.rand(1, 13)\n",
    "traced_script_module = torch.jit.trace(model, example)\n",
    "traced_script_module.save(\"jetMatcherNN_highly_uncomp_traced.pt\")"
   ]
  },
  {
   "cell_type": "markdown",
   "metadata": {},
   "source": [
    "### Events"
   ]
  },
  {
   "cell_type": "code",
   "execution_count": 5,
   "metadata": {},
   "outputs": [
    {
     "name": "stderr",
     "output_type": "stream",
     "text": [
      "/usr/local/lib/python3.10/site-packages/coffea/nanoevents/methods/candidate.py:11: FutureWarning: In version 2024.7.0 (target date: 2024-06-30 11:59:59-05:00), this will be an error.\n",
      "To raise these warnings as errors (and get stack traces to find out where they're called), run\n",
      "    import warnings\n",
      "    warnings.filterwarnings(\"error\", module=\"coffea.*\")\n",
      "after the first `import coffea` or use `@pytest.mark.filterwarnings(\"error:::coffea.*\")` in pytest.\n",
      "Issue: coffea.nanoevents.methods.vector will be removed and replaced with scikit-hep vector. Nanoevents schemas internal to coffea will be migrated. Otherwise please consider using that package!.\n",
      "  from coffea.nanoevents.methods import vector\n"
     ]
    }
   ],
   "source": [
    "#TODO: fix path issue\n",
    "fname = \"data/NANOAOD-1500_900.root\"\n",
    "events = NanoEventsFactory.from_root(\n",
    "    {fname: \"Events\"},\n",
    "    schemaclass=NanoAODSchema,\n",
    "    metadata={\"dataset\": \"DYJets\"},\n",
    "    delayed=False\n",
    ").events()"
   ]
  },
  {
   "cell_type": "code",
   "execution_count": 6,
   "metadata": {},
   "outputs": [],
   "source": [
    "def makeCutSet(x, s, *args):\n",
    "    return [x[s > a] for a in args]\n",
    "\n",
    "b_tag_wps = [0.0490, 0.2783, 0.7100]\n",
    "\n",
    "def createObjects(events):\n",
    "    good_jets = events.Jet[(events.Jet.pt > 30) & (abs(events.Jet.eta) < 2.4)]\n",
    "    fat_jets = events.FatJet[(events.FatJet.pt > 30) & (abs(events.FatJet.eta) < 2.4)]\n",
    "    loose_top, med_top, tight_top = makeCutSet(\n",
    "        fat_jets, fat_jets.particleNet_TvsQCD, 0.58, 0.80, 0.97\n",
    "    )\n",
    "    #loose_W, med_W, tight_W = makeCutSet(\n",
    "    #    fat_jets, fat_jets.particleNet_WvsQCD, 0.7, 0.94, 0.98\n",
    "    #)\n",
    "\n",
    "    #deep_top_wp1, deep_top_wp2, deep_top_wp3, deep_top_wp4 = makeCutSet(\n",
    "    #    fat_jets, fat_jets.deepTag_TvsQCD, 0.436, 0.802, 0.922, 0.989\n",
    "    #)\n",
    "    #deep_W_wp1, deep_W_wp2, deep_W_wp3, deep_W_wp4 = makeCutSet(\n",
    "    #    fat_jets, fat_jets.deepTag_WvsQCD, 0.458, 0.762, 0.918, 0.961\n",
    "    #)\n",
    "    loose_b, med_b, tight_b = makeCutSet(\n",
    "        good_jets, good_jets.btagDeepFlavB, *(b_tag_wps[x] for x in range(3))\n",
    "    )\n",
    "\n",
    "    el = events.Electron\n",
    "    good_electrons = el[\n",
    "        (el.cutBased == 4)\n",
    "        & (el.miniPFRelIso_all < 0.1)\n",
    "        & (el.pt > 30)\n",
    "        & (abs(el.eta) < 2.4)\n",
    "    ]\n",
    "    mu = events.Muon\n",
    "    good_muons = mu[\n",
    "        (mu.mediumId) & (mu.miniPFRelIso_all < 0.2) & (mu.pt > 30) & (abs(mu.eta) < 2.4)\n",
    "    ]\n",
    "    events[\"good_jets\"] = good_jets\n",
    "    events[\"good_electrons\"] = good_electrons\n",
    "    events[\"good_muons\"] = good_muons\n",
    "\n",
    "    events[\"loose_bs\"] = loose_b\n",
    "    events[\"med_bs\"] = med_b\n",
    "    events[\"tight_bs\"] = tight_b\n",
    "\n",
    "    events[\"tight_tops\"] = tight_top\n",
    "    # events[\"med_tops\"] = med_top\n",
    "    # events[\"loose_tops\"] = loose_top\n",
    "\n",
    "    # events[\"tight_Ws\"] = tight_W\n",
    "    # events[\"med_Ws\"] = med_W\n",
    "    # events[\"loose_Ws\"] = loose_W\n",
    "\n",
    "    # events[\"deep_top_wp1\"] = deep_top_wp1\n",
    "    # events[\"deep_top_wp2\"] = deep_top_wp2\n",
    "    # events[\"deep_top_wp3\"] = deep_top_wp3\n",
    "    # events[\"deep_top_wp4\"] = deep_top_wp4\n",
    "\n",
    "    # events[\"deep_W_wp1\"] = deep_W_wp1\n",
    "    # events[\"deep_W_wp2\"] = deep_W_wp2\n",
    "    # events[\"deep_W_wp3\"] = deep_W_wp3\n",
    "    # events[\"deep_W_wp4\"] = deep_W_wp4\n",
    "\n",
    "    return events\n",
    "\n",
    "def createSelection(events):\n",
    "    \"\"\"Baseline selection for the analysis.\n",
    "Applies the following selection:\n",
    "- Jets[0].pt > 300\n",
    "- 4 <= nJets <= 6\n",
    "- 0 leptons\n",
    "- 2 medium bjets, at least one of which is tight\n",
    "- delta_R(med_bjets[0],med_bjets[1]) > 1\n",
    "    \"\"\"\n",
    "\n",
    "    selection = PackedSelection()\n",
    "    good_jets = events.good_jets\n",
    "    fat_jets = events.FatJet\n",
    "    good_muons = events.good_muons\n",
    "    good_electrons = events.good_electrons\n",
    "    loose_b = events.loose_bs\n",
    "    med_b = events.med_bs\n",
    "    tight_b = events.tight_bs\n",
    "    tight_top = events.tight_tops\n",
    "    # selection = PackedSelection()\n",
    "    filled_jets = ak.pad_none(good_jets, 4, axis=1)\n",
    "    top_two_dr = ak.fill_none(filled_jets[:, 0].delta_r(filled_jets[:, 1]), False)\n",
    "\n",
    "    filled_med = ak.pad_none(med_b, 2, axis=1)\n",
    "    med_dr = ak.fill_none(filled_med[:, 0].delta_r(filled_med[:, 1]), False)\n",
    "    # selection.add(\"trigger\", (ak.num(good_jets) >= 4) & (ak.num(good_jets) <= 6))\n",
    "    if \"HLT\" in events.fields:\n",
    "        selection.add(\"hlt\", (events.HLT.PFHT1050 | events.HLT.AK8PFJet360_TrimMass30))\n",
    "    selection.add(\"highptjet\", (ak.fill_none(filled_jets[:, 0].pt > 300, False)))\n",
    "    selection.add(\"jets\", ((ak.num(good_jets) >= 4) & (ak.num(good_jets) <= 6)))\n",
    "    selection.add(\"0Lep\", ((ak.num(good_electrons) == 0) & (ak.num(good_muons) == 0)))\n",
    "    selection.add(\"2bjet\", (ak.num(med_b) >= 2))\n",
    "    selection.add(\"1tightbjet\", (ak.num(tight_b) >= 1))\n",
    "    # selection.add(\"jet_dr\", ((top_two_dr < 4) & (top_two_dr > 2)).to_numpy())\n",
    "    selection.add(\"b_dr\", (med_dr > 1))\n",
    "    return selection"
   ]
  },
  {
   "cell_type": "code",
   "execution_count": 7,
   "metadata": {},
   "outputs": [],
   "source": [
    "events = createObjects(events)\n",
    "mask = createSelection(events).all(\"highptjet\", \"jets\", \"0Lep\", \"2bjet\", \"1tightbjet\", \"b_dr\")\n",
    "events = events[mask]"
   ]
  },
  {
   "cell_type": "markdown",
   "metadata": {},
   "source": [
    "### NN class"
   ]
  },
  {
   "cell_type": "code",
   "execution_count": 8,
   "metadata": {},
   "outputs": [
    {
     "name": "stderr",
     "output_type": "stream",
     "text": [
      "/usr/local/lib/python3.10/site-packages/sklearn/base.py:376: InconsistentVersionWarning: Trying to unpickle estimator StandardScaler from version 0.24.2 when using version 1.4.1.post1. This might lead to breaking code or invalid results. Use at your own risk. For more info please refer to:\n",
      "https://scikit-learn.org/stable/model_persistence.html#security-maintainability-limitations\n",
      "  warnings.warn(\n"
     ]
    }
   ],
   "source": [
    "scl = open('scaler.pkl', 'rb')\n",
    "scaler = pickle.load(scl)"
   ]
  },
  {
   "cell_type": "code",
   "execution_count": 9,
   "metadata": {},
   "outputs": [],
   "source": [
    "jets = events.good_jets\n",
    "flat_jets = ak.flatten(jets)\n",
    "\n",
    "m3 = jets[:,1:4].sum()\n",
    "m4 = jets[:,0:4].sum()\n",
    "\n",
    "ones = ak.ones_like(jets.pt)\n",
    "\n",
    "imap = {\n",
    "    \"features\": {\n",
    "        \"jetOrdinality\":    ak.flatten(ak.local_index(jets, axis=1)),\n",
    "        \"jetPT\": \t\t    flat_jets.pt,\n",
    "        \"jetEta\": \t\t    flat_jets.eta,\n",
    "        \"jetPhi\": \t\t    flat_jets.phi,\n",
    "        \"jetBScore\":    \tflat_jets.btagDeepFlavB,\n",
    "        \"m3M\": \t\t\t    ak.flatten(ones * m3.mass),\n",
    "        \"m3PT\": \t\t    ak.flatten(ones * m3.pt),\n",
    "        \"m3Eta\": \t\t    ak.flatten(ones * m3.eta),\n",
    "        \"m3Phi\": \t        ak.flatten(ones * m3.phi),\n",
    "        \"m4M\": \t\t\t    ak.flatten(ones * m4.mass),\n",
    "        \"m4PT\":\t\t        ak.flatten(ones * m4.pt),\n",
    "        \"m4Eta\":\t\t    ak.flatten(ones * m4.eta),\n",
    "        \"m4Phi\":\t        ak.flatten(ones * m4.phi)\n",
    "    }\n",
    "}\n",
    "\n",
    "imap_concat = ak.concatenate([x[:, np.newaxis] for x in imap['features'].values()], axis=1)\n",
    "imap_scaled = (imap_concat - scaler.mean_) / scaler.scale_\n",
    "retmap = {\n",
    "    \"features\": [imap_scaled]\n",
    "}"
   ]
  },
  {
   "cell_type": "code",
   "execution_count": 10,
   "metadata": {},
   "outputs": [
    {
     "data": {
      "text/plain": [
       "[<Array [[-1.36, 1.22, ..., 0.168, 1.09], ...] type='20510 * 13 * float64'>]"
      ]
     },
     "execution_count": 10,
     "metadata": {},
     "output_type": "execute_result"
    }
   ],
   "source": [
    "retmap[\"features\"]"
   ]
  },
  {
   "cell_type": "code",
   "execution_count": 11,
   "metadata": {},
   "outputs": [
    {
     "data": {
      "text/html": [
       "<pre>[[-1.36, 1.22, 0.159, -1.52, -0.756, ..., 0.334, -0.0499, 0.157, 0.168, 1.09],\n",
       " [-0.699, 0.658, -0.443, -0.384, 0.917, ..., -0.0499, 0.157, 0.168, 1.09],\n",
       " [-0.0339, 0.111, 0.547, 0.781, -0.799, ..., -0.0499, 0.157, 0.168, 1.09],\n",
       " [0.631, -0.112, 0.0268, 0.757, 0.879, ..., 0.334, -0.0499, 0.157, 0.168, 1.09],\n",
       " [1.3, -1.33, -0.287, -1.43, -0.617, ..., 0.334, -0.0499, 0.157, 0.168, 1.09],\n",
       " [1.96, -1.36, 2.1, -0.479, -0.74, ..., 0.334, -0.0499, 0.157, 0.168, 1.09],\n",
       " [-1.36, 1.56, 0.828, 1.38, -0.697, ..., -0.368, 0.0519, -0.28, 0.987, 1.25],\n",
       " [-0.699, 1.05, 0.788, -0.171, 1.59, ..., -0.368, 0.0519, -0.28, 0.987, 1.25],\n",
       " [-0.0339, -0.426, 0.0309, -1.63, 1.6, ..., -0.368, 0.0519, -0.28, 0.987, 1.25],\n",
       " [0.631, -0.674, -0.577, -0.309, -0.787, ..., 0.0519, -0.28, 0.987, 1.25],\n",
       " ...,\n",
       " [-1.36, 0.834, -0.45, 0.332, 0.35, ..., -1.41, -0.834, 0.0691, -0.345, -1.26],\n",
       " [-0.699, 0.809, 0.308, -0.966, 1.57, ..., -0.834, 0.0691, -0.345, -1.26],\n",
       " [-0.0339, -0.133, -0.203, 1.26, -0.784, ..., -0.834, 0.0691, -0.345, -1.26],\n",
       " [0.631, -0.365, -0.103, -1.45, -0.796, ..., -0.834, 0.0691, -0.345, -1.26],\n",
       " [1.3, -1.15, -0.768, 0.899, -0.799, ..., -1.41, -0.834, 0.0691, -0.345, -1.26],\n",
       " [-1.36, 3.13, 1.27, -0.186, -0.789, ..., 1.49, 7.96, 0.177, 0.619, 0.158],\n",
       " [-0.699, 0.416, -1.8, 1.37, -0.766, ..., 1.49, 7.96, 0.177, 0.619, 0.158],\n",
       " [-0.0339, -0.332, 0.778, 1.56, 1.51, ..., 1.49, 7.96, 0.177, 0.619, 0.158],\n",
       " [0.631, -0.6, -0.546, 1.67, 0.685, 1.02, ..., 1.49, 7.96, 0.177, 0.619, 0.158]]\n",
       "--------------------------------------------------------------------------------\n",
       "type: 20510 * 13 * float64</pre>"
      ],
      "text/plain": [
       "<Array [[-1.36, 1.22, ..., 0.168, 1.09], ...] type='20510 * 13 * float64'>"
      ]
     },
     "execution_count": 11,
     "metadata": {},
     "output_type": "execute_result"
    }
   ],
   "source": [
    "imap_scaled"
   ]
  },
  {
   "cell_type": "code",
   "execution_count": 4,
   "metadata": {},
   "outputs": [],
   "source": [
    "class jetAssignmentNN(torch_wrapper):\n",
    "    def prepare_awkward(self,events):\n",
    "        # ak = self.get_awkward_lib(events)\n",
    "        jets = events.good_jets\n",
    "        flat_jets = ak.flatten(jets)\n",
    "\n",
    "        m3 = jets[:,1:4].sum()\n",
    "        m4 = jets[:,0:4].sum()\n",
    "\n",
    "        ones = ak.ones_like(jets.pt)\n",
    "\n",
    "        imap = {\n",
    "            \"features\": {\n",
    "                \"jetOrdinality\":    ak.flatten(ak.local_index(jets, axis=1)),\n",
    "                \"jetPT\": \t\t    flat_jets.pt - 2,\n",
    "                \"jetEta\": \t\t    flat_jets.eta,\n",
    "                \"jetPhi\": \t\t    flat_jets.phi,\n",
    "                \"jetBScore\":    \tflat_jets.btagDeepFlavB,\n",
    "                \"m3M\": \t\t\t    ak.flatten(ones * m3.mass),\n",
    "                \"m3PT\": \t\t    ak.flatten(ones * m3.pt),\n",
    "                \"m3Eta\": \t\t    ak.flatten(ones * m3.eta),\n",
    "                \"m3Phi\": \t        ak.flatten(ones * m3.phi),\n",
    "                \"m4M\": \t\t\t    ak.flatten(ones * m4.mass),\n",
    "                \"m4PT\":\t\t        ak.flatten(ones * m4.pt),\n",
    "                \"m4Eta\":\t\t    ak.flatten(ones * m4.eta),\n",
    "                \"m4Phi\":\t        ak.flatten(ones * m4.phi)\n",
    "            }\n",
    "        }\n",
    "        \n",
    "        imap_concat = ak.concatenate([x[:, np.newaxis] for x in imap['features'].values()], axis=1)\n",
    "        imap_scaled = (imap_concat - scaler.mean_) / scaler.scale_\n",
    "        return (ak.values_astype(imap_scaled, \"float32\"),),{}"
   ]
  },
  {
   "cell_type": "code",
   "execution_count": null,
   "metadata": {},
   "outputs": [
    {
     "data": {
      "text/html": [
       "<pre>[[-2.05, 193, 0.156, -2.75, -0.314, 76.1, ..., 0.599, -8.83, 9.96, 0.503, 2.01],\n",
       " [-1.05, 104, -0.436, -0.694, 0.38, 76.1, ..., 0.599, -8.83, 9.96, 0.503, 2.01],\n",
       " [-0.051, 17.6, 0.538, 1.41, -0.331, ..., 0.599, -8.83, 9.96, 0.503, 2.01],\n",
       " [0.949, -17.8, 0.0264, 1.37, 0.365, ..., 0.599, -8.83, 9.96, 0.503, 2.01],\n",
       " [1.95, -211, -0.282, -2.58, -0.256, ..., 0.599, -8.83, 9.96, 0.503, 2.01],\n",
       " [2.95, -215, 2.06, -0.867, -0.307, 76.1, ..., 0.599, -8.83, 9.96, 0.503, 2.01],\n",
       " [-2.05, 247, 0.814, 2.49, -0.289, 12.1, ..., -0.659, 9.17, -17.8, 2.96, 2.32],\n",
       " [-1.05, 166, 0.775, -0.31, 0.659, 12.1, ..., -0.659, 9.17, -17.8, 2.96, 2.32],\n",
       " [-0.051, -67.5, 0.0304, -2.94, 0.663, ..., -0.659, 9.17, -17.8, 2.96, 2.32],\n",
       " [0.949, -107, -0.568, -0.559, -0.326, ..., -0.659, 9.17, -17.8, 2.96, 2.32],\n",
       " ...,\n",
       " [-2.05, 132, -0.442, 0.601, 0.145, ..., -2.53, -147, 4.39, -1.03, -2.33],\n",
       " [-1.05, 128, 0.303, -1.75, 0.653, -72.8, ..., -2.53, -147, 4.39, -1.03, -2.33],\n",
       " [-0.051, -21.1, -0.2, 2.27, -0.325, ..., -2.53, -147, 4.39, -1.03, -2.33],\n",
       " [0.949, -57.8, -0.101, -2.63, -0.33, ..., -2.53, -147, 4.39, -1.03, -2.33],\n",
       " [1.95, -183, -0.756, 1.63, -0.331, ..., -2.53, -147, 4.39, -1.03, -2.33],\n",
       " [-2.05, 496, 1.25, -0.336, -0.327, ..., 2.67, 1.41e+03, 11.3, 1.86, 0.293],\n",
       " [-1.05, 65.9, -1.78, 2.48, -0.318, ..., 2.67, 1.41e+03, 11.3, 1.86, 0.293],\n",
       " [-0.051, -52.5, 0.765, 2.82, 0.627, ..., 2.67, 1.41e+03, 11.3, 1.86, 0.293],\n",
       " [0.949, -95, -0.537, 3.02, 0.284, 186, ..., 2.67, 1.41e+03, 11.3, 1.86, 0.293]]\n",
       "--------------------------------------------------------------------------------\n",
       "type: 20510 * 13 * float64</pre>"
      ],
      "text/plain": [
       "<Array [[-2.05, 193, 0.156, ..., 0.503, 2.01], ...] type='20510 * 13 * float64'>"
      ]
     },
     "execution_count": 14,
     "metadata": {},
     "output_type": "execute_result"
    }
   ],
   "source": [
    "imap_concat - ak.Array(scaler.mean_)"
   ]
  },
  {
   "cell_type": "code",
   "execution_count": 3,
   "metadata": {},
   "outputs": [],
   "source": [
    "class Net(nn.Module):\n",
    "    def __init__(self):\n",
    "        super(Net,self).__init__()\n",
    "        self.fc1 = nn.Linear(13,13)\n",
    "        self.fc2 = nn.Linear(13,3)\n",
    "    def forward(self,features=None):\n",
    "        features = F.relu(self.fc1(features))\n",
    "        features = F.softmax(self.fc2(features),dim=1)\n",
    "        return features"
   ]
  },
  {
   "cell_type": "code",
   "execution_count": 12,
   "metadata": {},
   "outputs": [],
   "source": [
    "model = jetAssignmentNN(\"traced_model.pt\")"
   ]
  },
  {
   "cell_type": "code",
   "execution_count": 13,
   "metadata": {},
   "outputs": [
    {
     "name": "stderr",
     "output_type": "stream",
     "text": [
      "/usr/local/lib/python3.10/site-packages/coffea/ml_tools/helper.py:175: UserWarning: No format checks were performed on input!\n",
      "  warnings.warn(\"No format checks were performed on input!\")\n"
     ]
    }
   ],
   "source": [
    "scores = model(events)"
   ]
  },
  {
   "cell_type": "code",
   "execution_count": 14,
   "metadata": {},
   "outputs": [
    {
     "data": {
      "text/html": [
       "<pre>[[0.000372, 0.966, 4.83e-05, 2.6e-05, 4.78e-10, 3.2e-14],\n",
       " [0.00088, 0.979, 0.000759, 2.34e-06],\n",
       " [0.993, 0.000288, 0.000599, 1.07e-06, 1.2e-10],\n",
       " [0.389, 0.516, 2.89e-06, 2.41e-07, 3.78e-08, 4.32e-14],\n",
       " [0.999, 0.794, 4.68e-05, 1.58e-06, 3.94e-09, 4.73e-14],\n",
       " [0.993, 0.000382, 0.00687, 3.8e-06, 2.55e-10, 1.11e-13],\n",
       " [0.000158, 0.921, 0.00528, 2.17e-07, 1.71e-10],\n",
       " [0.00171, 0.00119, 0.000413, 4.32e-06, 6.21e-09, 1.88e-11],\n",
       " [0.999, 0.972, 0.00012, 8.11e-08, 7.32e-09, 1.1e-12],\n",
       " [0.905, 0.000235, 4.08e-05, 9.19e-07, 1.44e-10, 1.97e-14],\n",
       " ...,\n",
       " [0.998, 0.898, 0.000338, 2.97e-05, 1.6e-09],\n",
       " [0.0013, 0.849, 0.00197, 5.57e-06],\n",
       " [0.987, 0.518, 9.94e-06, 8.24e-06],\n",
       " [0.999, 0.889, 1.71e-05, 4.4e-08],\n",
       " [0.388, 0.267, 0.0122, 2.12e-05],\n",
       " [0.00655, 0.000187, 0.0237, 1.04e-06, 1.77e-08],\n",
       " [0.00135, 0.969, 0.248, 6.82e-07],\n",
       " [0.962, 0.771, 0.000102, 4.03e-06, 1.33e-09],\n",
       " [0.00167, 0.142, 0.872, 0.0145]]\n",
       "------------------------------------------------------------\n",
       "type: 4212 * var * float32</pre>"
      ],
      "text/plain": [
       "<Array [[0.000372, 0.966, ..., 3.2e-14], ...] type='4212 * var * float32'>"
      ]
     },
     "execution_count": 14,
     "metadata": {},
     "output_type": "execute_result"
    }
   ],
   "source": [
    "ak.unflatten(scores[:,0], ak.num(jets))"
   ]
  },
  {
   "cell_type": "code",
   "execution_count": 15,
   "metadata": {},
   "outputs": [
    {
     "data": {
      "text/html": [
       "<pre>[[1, 0.0342, 1, 1, 0.00696, 0.000148],\n",
       " [0.999, 0.021, 0.999, 0.997],\n",
       " [0.00666, 1, 0.999, 0.953, 0.00735],\n",
       " [0.611, 0.484, 1, 1, 0.731, 0.000681],\n",
       " [0.000673, 0.206, 1, 1, 0.0888, 0.000244],\n",
       " [0.00732, 1, 0.993, 0.998, 0.00733, 0.000314],\n",
       " [1, 0.0789, 0.995, 1, 0.03],\n",
       " [0.998, 0.999, 1, 0.996, 1, 0.0102],\n",
       " [0.00061, 0.0282, 1, 0.999, 0.767, 0.00635],\n",
       " [0.0951, 1, 1, 0.969, 0.0308, 0.000104],\n",
       " ...,\n",
       " [0.00188, 0.102, 1, 0.995, 0.0173],\n",
       " [0.999, 0.151, 0.998, 0.999],\n",
       " [0.013, 0.482, 1, 0.929],\n",
       " [0.000746, 0.111, 1, 0.962],\n",
       " [0.612, 0.733, 0.988, 0.995],\n",
       " [0.993, 1, 0.976, 1, 0.387],\n",
       " [0.999, 0.0311, 0.752, 0.992],\n",
       " [0.0379, 0.229, 1, 0.999, 0.0366],\n",
       " [0.998, 0.858, 0.128, 0.986]]\n",
       "-----------------------------------------------\n",
       "type: 4212 * var * float32</pre>"
      ],
      "text/plain": [
       "<Array [[1, 0.0342, ..., 0.00696, 0.000148], ...] type='4212 * var * float32'>"
      ]
     },
     "execution_count": 15,
     "metadata": {},
     "output_type": "execute_result"
    }
   ],
   "source": [
    "ak.unflatten(scores[:,1], ak.num(jets))"
   ]
  },
  {
   "cell_type": "code",
   "execution_count": 32,
   "metadata": {},
   "outputs": [],
   "source": [
    "threshold_count = 50\n",
    "threshold_vals = np.linspace(0.9, 1, 50).reshape((50, 1))\n",
    "events_shape = ak.ones_like(jets[:, 0].pt)\n",
    "jets_shape = ak.ones_like(ak.flatten(jets.pt))\n",
    "threshold_arr_events_shape = np.multiply(events_shape, threshold_vals)\n",
    "threshold_arr_jets_shape = np.multiply(jets_shape, threshold_vals)"
   ]
  },
  {
   "cell_type": "code",
   "execution_count": 33,
   "metadata": {},
   "outputs": [
    {
     "data": {
      "text/html": [
       "<pre>[[0.9, 0.9, 0.9, 0.9, 0.9, 0.9, 0.9, ..., 0.9, 0.9, 0.9, 0.9, 0.9, 0.9, 0.9],\n",
       " [0.902, 0.902, 0.902, 0.902, 0.902, ..., 0.902, 0.902, 0.902, 0.902, 0.902],\n",
       " [0.904, 0.904, 0.904, 0.904, 0.904, ..., 0.904, 0.904, 0.904, 0.904, 0.904],\n",
       " [0.906, 0.906, 0.906, 0.906, 0.906, ..., 0.906, 0.906, 0.906, 0.906, 0.906],\n",
       " [0.908, 0.908, 0.908, 0.908, 0.908, ..., 0.908, 0.908, 0.908, 0.908, 0.908],\n",
       " [0.91, 0.91, 0.91, 0.91, 0.91, 0.91, ..., 0.91, 0.91, 0.91, 0.91, 0.91, 0.91],\n",
       " [0.912, 0.912, 0.912, 0.912, 0.912, ..., 0.912, 0.912, 0.912, 0.912, 0.912],\n",
       " [0.914, 0.914, 0.914, 0.914, 0.914, ..., 0.914, 0.914, 0.914, 0.914, 0.914],\n",
       " [0.916, 0.916, 0.916, 0.916, 0.916, ..., 0.916, 0.916, 0.916, 0.916, 0.916],\n",
       " [0.918, 0.918, 0.918, 0.918, 0.918, ..., 0.918, 0.918, 0.918, 0.918, 0.918],\n",
       " ...,\n",
       " [0.984, 0.984, 0.984, 0.984, 0.984, ..., 0.984, 0.984, 0.984, 0.984, 0.984],\n",
       " [0.986, 0.986, 0.986, 0.986, 0.986, ..., 0.986, 0.986, 0.986, 0.986, 0.986],\n",
       " [0.988, 0.988, 0.988, 0.988, 0.988, ..., 0.988, 0.988, 0.988, 0.988, 0.988],\n",
       " [0.99, 0.99, 0.99, 0.99, 0.99, 0.99, ..., 0.99, 0.99, 0.99, 0.99, 0.99, 0.99],\n",
       " [0.992, 0.992, 0.992, 0.992, 0.992, ..., 0.992, 0.992, 0.992, 0.992, 0.992],\n",
       " [0.994, 0.994, 0.994, 0.994, 0.994, ..., 0.994, 0.994, 0.994, 0.994, 0.994],\n",
       " [0.996, 0.996, 0.996, 0.996, 0.996, ..., 0.996, 0.996, 0.996, 0.996, 0.996],\n",
       " [0.998, 0.998, 0.998, 0.998, 0.998, ..., 0.998, 0.998, 0.998, 0.998, 0.998],\n",
       " [1, 1, 1, 1, 1, 1, 1, 1, 1, 1, 1, 1, ..., 1, 1, 1, 1, 1, 1, 1, 1, 1, 1, 1, 1]]\n",
       "-------------------------------------------------------------------------------\n",
       "type: 50 * 20510 * float64</pre>"
      ],
      "text/plain": [
       "<Array [[0.9, 0.9, 0.9, ..., 0.9, 0.9, 0.9], ...] type='50 * 20510 * float64'>"
      ]
     },
     "execution_count": 33,
     "metadata": {},
     "output_type": "execute_result"
    }
   ],
   "source": [
    "threshold_arr_jets_shape"
   ]
  },
  {
   "cell_type": "code",
   "execution_count": 18,
   "metadata": {},
   "outputs": [],
   "source": [
    "charg_scores = scores[:,1]"
   ]
  },
  {
   "cell_type": "code",
   "execution_count": 45,
   "metadata": {},
   "outputs": [],
   "source": [
    "flat_jets = ak.flatten(jets)"
   ]
  },
  {
   "cell_type": "code",
   "execution_count": 102,
   "metadata": {},
   "outputs": [],
   "source": [
    "flatjets_reshaped = ak.broadcast_arrays(flat_jets, threshold_arr_jets_shape)[0]"
   ]
  },
  {
   "cell_type": "code",
   "execution_count": 103,
   "metadata": {},
   "outputs": [
    {
     "data": {
      "text/html": [
       "<pre>[[Jet, Jet, ..., Jet],\n",
       " [Jet, Jet, ..., Jet],\n",
       " [Jet, Jet, ..., Jet],\n",
       " [Jet, Jet, ..., Jet],\n",
       " [Jet, Jet, ..., Jet],\n",
       " [Jet, Jet, ..., Jet],\n",
       " [Jet, Jet, ..., Jet],\n",
       " [Jet, Jet, ..., Jet],\n",
       " [Jet, Jet, ..., Jet],\n",
       " [Jet, Jet, ..., Jet],\n",
       " ...,\n",
       " [Jet, Jet, ..., Jet],\n",
       " [Jet, Jet, ..., Jet],\n",
       " [Jet, Jet, ..., Jet],\n",
       " [Jet, Jet, ..., Jet],\n",
       " [Jet, Jet, ..., Jet],\n",
       " [Jet, Jet, ..., Jet],\n",
       " [Jet, Jet, ..., Jet],\n",
       " [Jet, Jet, ..., Jet],\n",
       " [Jet, Jet, ..., Jet]]\n",
       "------------------------------------------------------------------------------------------------------------------------------------------------------------\n",
       "type: 50 * 20510 * Jet[\n",
       "    area: float32[parameters={&quot;__doc__&quot;: &quot;jet catchment area, for JECs&quot;}],\n",
       "    btagCSVV2: float32[parameters={&quot;__doc__&quot;: &quot; pfCombinedInclusiveSecondaryVertexV2 b-tag discriminator (aka CSVV2)&quot;}],\n",
       "    btagDeepB: float32[parameters={&quot;__doc__&quot;: &quot;DeepCSV b+bb tag discriminator&quot;}],\n",
       "    btagDeepCvB: float32[parameters={&quot;__doc__&quot;: &quot;DeepCSV c vs b+bb discriminator&quot;}],\n",
       "    btagDeepCvL: float32[parameters={&quot;__doc__&quot;: &quot;DeepCSV c vs udsg discriminator&quot;}],\n",
       "    btagDeepFlavB: float32[parameters={&quot;__doc__&quot;: &quot;DeepJet b+bb+lepb tag discriminator&quot;}],\n",
       "    btagDeepFlavCvB: float32[parameters={&quot;__doc__&quot;: &quot;DeepJet c vs b+bb+lepb discriminator&quot;}],\n",
       "    btagDeepFlavCvL: float32[parameters={&quot;__doc__&quot;: &quot;DeepJet c vs uds+g discriminator&quot;}],\n",
       "    btagDeepFlavQG: float32[parameters={&quot;__doc__&quot;: &quot;DeepJet g vs uds discriminator&quot;}],\n",
       "    chEmEF: float32[parameters={&quot;__doc__&quot;: &quot;charged Electromagnetic Energy Fraction&quot;}],\n",
       "    chFPV0EF: float32[parameters={&quot;__doc__&quot;: &quot;charged fromPV==0 Energy Fraction (energy excluded from CHS jets). Previously called betastar.&quot;}],\n",
       "    chHEF: float32[parameters={&quot;__doc__&quot;: &quot;charged Hadron Energy Fraction&quot;}],\n",
       "    eta: float32[parameters={&quot;__doc__&quot;: &quot;eta&quot;}],\n",
       "    hfsigmaEtaEta: float32[parameters={&quot;__doc__&quot;: &quot;sigmaEtaEta for HF jets (noise discriminating variable)&quot;}],\n",
       "    hfsigmaPhiPhi: float32[parameters={&quot;__doc__&quot;: &quot;sigmaPhiPhi for HF jets (noise discriminating variable)&quot;}],\n",
       "    mass: float32[parameters={&quot;__doc__&quot;: &quot;mass&quot;}],\n",
       "    muEF: float32[parameters={&quot;__doc__&quot;: &quot;muon Energy Fraction&quot;}],\n",
       "    muonSubtrFactor: float32[parameters={&quot;__doc__&quot;: &quot;1-(muon-subtracted raw pt)/(raw pt)&quot;}],\n",
       "    neEmEF: float32[parameters={&quot;__doc__&quot;: &quot;neutral Electromagnetic Energy Fraction&quot;}],\n",
       "    neHEF: float32[parameters={&quot;__doc__&quot;: &quot;neutral Hadron Energy Fraction&quot;}],\n",
       "    phi: float32[parameters={&quot;__doc__&quot;: &quot;phi&quot;}],\n",
       "    pt: float32[parameters={&quot;__doc__&quot;: &quot;pt&quot;}],\n",
       "    puIdDisc: float32[parameters={&quot;__doc__&quot;: &quot;Pileup ID discriminant with 106X (2018) training&quot;}],\n",
       "    qgl: float32[parameters={&quot;__doc__&quot;: &quot;Quark vs Gluon likelihood discriminator&quot;}],\n",
       "    rawFactor: float32[parameters={&quot;__doc__&quot;: &quot;1 - Factor to get back to raw pT&quot;}],\n",
       "    bRegCorr: float32[parameters={&quot;__doc__&quot;: &quot;pt correction for b-jet energy regression&quot;}],\n",
       "    bRegRes: float32[parameters={&quot;__doc__&quot;: &quot;res on pt corrected with b-jet regression&quot;}],\n",
       "    cRegCorr: float32[parameters={&quot;__doc__&quot;: &quot;pt correction for c-jet energy regression&quot;}],\n",
       "    cRegRes: float32[parameters={&quot;__doc__&quot;: &quot;res on pt corrected with c-jet regression&quot;}],\n",
       "    electronIdx1: int32[parameters={&quot;__doc__&quot;: &quot;index of first matching electron&quot;}],\n",
       "    electronIdx2: int32[parameters={&quot;__doc__&quot;: &quot;index of second matching electron&quot;}],\n",
       "    hfadjacentEtaStripsSize: int32[parameters={&quot;__doc__&quot;: &quot;eta size of the strips next to the central tower strip in HF (noise discriminating variable) &quot;}],\n",
       "    hfcentralEtaStripSize: int32[parameters={&quot;__doc__&quot;: &quot;eta size of the central tower strip in HF (noise discriminating variable) &quot;}],\n",
       "    jetId: int32[parameters={&quot;__doc__&quot;: &quot;Jet ID flags bit1 is loose (always false in 2017 since it does not exist), bit2 is tight, bit3 is tightLepVeto&quot;}],\n",
       "    muonIdx1: int32[parameters={&quot;__doc__&quot;: &quot;index of first matching muon&quot;}],\n",
       "    muonIdx2: int32[parameters={&quot;__doc__&quot;: &quot;index of second matching muon&quot;}],\n",
       "    nElectrons: int32[parameters={&quot;__doc__&quot;: &quot;number of electrons in the jet&quot;}],\n",
       "    nMuons: int32[parameters={&quot;__doc__&quot;: &quot;number of muons in the jet&quot;}],\n",
       "    puId: int32[parameters={&quot;__doc__&quot;: &quot;Pileup ID flags with 106X (2018) training&quot;}],\n",
       "    nConstituents: uint8[parameters={&quot;__doc__&quot;: &quot;Number of particles in the jet&quot;}],\n",
       "    genJetIdx: int32[parameters={&quot;__doc__&quot;: &quot;index of matched gen jet&quot;}],\n",
       "    hadronFlavour: int32[parameters={&quot;__doc__&quot;: &quot;flavour from hadron ghost clustering&quot;}],\n",
       "    partonFlavour: int32[parameters={&quot;__doc__&quot;: &quot;flavour from parton matching&quot;}],\n",
       "    cleanmask: uint8[parameters={&quot;__doc__&quot;: &quot;simple cleaning mask with priority to leptons&quot;}],\n",
       "    electronIdx1G: int64[parameters={&quot;__doc__&quot;: &quot;index of first matching electron&quot;}],\n",
       "    electronIdx2G: int64[parameters={&quot;__doc__&quot;: &quot;index of second matching electron&quot;}],\n",
       "    genJetIdxG: int64[parameters={&quot;__doc__&quot;: &quot;index of matched gen jet&quot;}],\n",
       "    muonIdx1G: int64[parameters={&quot;__doc__&quot;: &quot;index of first matching muon&quot;}],\n",
       "    muonIdx2G: int64[parameters={&quot;__doc__&quot;: &quot;index of second matching muon&quot;}],\n",
       "    muonIdxG: var * int64[parameters={&quot;__doc__&quot;: &quot;index of first matching muon&quot;}],\n",
       "    electronIdxG: var * int64[parameters={&quot;__doc__&quot;: &quot;index of first matching electron&quot;}], \n",
       "parameters={&quot;__doc__&quot;: &quot;slimmedJets, i.e. ak4 PFJets CHS with JECs applied, after basic selection (pt &gt; 15)&quot;, &quot;collection_name&quot;: &quot;Jet&quot;}]</pre>"
      ],
      "text/plain": [
       "<JetArray [[Jet, ..., Jet], ...] type='50 * 20510 * Jet[area: float32[param...'>"
      ]
     },
     "execution_count": 103,
     "metadata": {},
     "output_type": "execute_result"
    }
   ],
   "source": [
    "flatjets_reshaped"
   ]
  },
  {
   "cell_type": "code",
   "execution_count": 80,
   "metadata": {},
   "outputs": [
    {
     "data": {
      "text/plain": [
       "[<Array [[True, False, True, ..., False, True], ...] type='50 * 20510 * bool'>]"
      ]
     },
     "execution_count": 80,
     "metadata": {},
     "output_type": "execute_result"
    }
   ],
   "source": [
    "[charg_scores > threshold_vals]"
   ]
  },
  {
   "cell_type": "code",
   "execution_count": 87,
   "metadata": {},
   "outputs": [
    {
     "data": {
      "text/html": [
       "<pre>[{area: 0.539, btagCSVV2: 0.729, btagDeepB: 0.258, btagDeepCvB: 0.252, ...},\n",
       " {area: 0.509, btagCSVV2: 0.896, btagDeepB: 0.567, btagDeepCvB: 0.244, ...},\n",
       " {area: 0.449, btagCSVV2: 0.0508, btagDeepB: 0.0135, btagDeepCvB: 0.829, ...},\n",
       " {area: 0.419, btagCSVV2: 0.907, btagDeepB: 0.647, btagDeepCvB: 0.347, ...},\n",
       " {area: 0.329, btagCSVV2: 0.442, btagDeepB: 0.146, btagDeepCvB: 0.613, ...},\n",
       " {area: 0.489, btagCSVV2: 0.14, btagDeepB: 0.0163, btagDeepCvB: 0.826, ...},\n",
       " {area: 0.519, btagCSVV2: 0.393, btagDeepB: 0.199, btagDeepCvB: 0.323, ...},\n",
       " {area: 0.539, btagCSVV2: 0.995, btagDeepB: 0.583, btagDeepCvB: 0.22, ...},\n",
       " {area: 0.509, btagCSVV2: 0.971, btagDeepB: 0.97, btagDeepCvB: 0.00394, ...},\n",
       " {area: 0.509, btagCSVV2: 0.168, btagDeepB: 0.0511, btagDeepCvB: 0.748, ...},\n",
       " ...,\n",
       " {area: 0.489, btagCSVV2: 0.402, btagDeepB: 0.0282, btagDeepCvB: 0.761, ...},\n",
       " {area: 0.519, btagCSVV2: 0.957, btagDeepB: 0.949, btagDeepCvB: 0.0408, ...},\n",
       " {area: 0.519, btagCSVV2: 0.299, btagDeepB: 0.0617, btagDeepCvB: 0.714, ...},\n",
       " {area: 0.509, btagCSVV2: 0.0917, btagDeepB: 0.0349, btagDeepCvB: 0.829, ...},\n",
       " {area: 0.539, btagCSVV2: 0.0608, btagDeepB: 0.0179, btagDeepCvB: 0.841, ...},\n",
       " {area: 0.548, btagCSVV2: 0.196, btagDeepB: 0.0359, btagDeepCvB: 0.674, ...},\n",
       " {area: 0.539, btagCSVV2: 0.137, btagDeepB: 0.0389, btagDeepCvB: 0.75, ...},\n",
       " {area: 0.469, btagCSVV2: 0.833, btagDeepB: 0.121, btagDeepCvB: 0.645, ...},\n",
       " {area: 0.469, btagCSVV2: 0.386, btagDeepB: 0.1, btagDeepCvB: 0.538, ...}]\n",
       "------------------------------------------------------------------------------------------------------------------------------------------------------------\n",
       "type: 20510 * Jet[\n",
       "    area: float32[parameters={&quot;__doc__&quot;: &quot;jet catchment area, for JECs&quot;}],\n",
       "    btagCSVV2: float32[parameters={&quot;__doc__&quot;: &quot; pfCombinedInclusiveSecondaryVertexV2 b-tag discriminator (aka CSVV2)&quot;}],\n",
       "    btagDeepB: float32[parameters={&quot;__doc__&quot;: &quot;DeepCSV b+bb tag discriminator&quot;}],\n",
       "    btagDeepCvB: float32[parameters={&quot;__doc__&quot;: &quot;DeepCSV c vs b+bb discriminator&quot;}],\n",
       "    btagDeepCvL: float32[parameters={&quot;__doc__&quot;: &quot;DeepCSV c vs udsg discriminator&quot;}],\n",
       "    btagDeepFlavB: float32[parameters={&quot;__doc__&quot;: &quot;DeepJet b+bb+lepb tag discriminator&quot;}],\n",
       "    btagDeepFlavCvB: float32[parameters={&quot;__doc__&quot;: &quot;DeepJet c vs b+bb+lepb discriminator&quot;}],\n",
       "    btagDeepFlavCvL: float32[parameters={&quot;__doc__&quot;: &quot;DeepJet c vs uds+g discriminator&quot;}],\n",
       "    btagDeepFlavQG: float32[parameters={&quot;__doc__&quot;: &quot;DeepJet g vs uds discriminator&quot;}],\n",
       "    chEmEF: float32[parameters={&quot;__doc__&quot;: &quot;charged Electromagnetic Energy Fraction&quot;}],\n",
       "    chFPV0EF: float32[parameters={&quot;__doc__&quot;: &quot;charged fromPV==0 Energy Fraction (energy excluded from CHS jets). Previously called betastar.&quot;}],\n",
       "    chHEF: float32[parameters={&quot;__doc__&quot;: &quot;charged Hadron Energy Fraction&quot;}],\n",
       "    eta: float32[parameters={&quot;__doc__&quot;: &quot;eta&quot;}],\n",
       "    hfsigmaEtaEta: float32[parameters={&quot;__doc__&quot;: &quot;sigmaEtaEta for HF jets (noise discriminating variable)&quot;}],\n",
       "    hfsigmaPhiPhi: float32[parameters={&quot;__doc__&quot;: &quot;sigmaPhiPhi for HF jets (noise discriminating variable)&quot;}],\n",
       "    mass: float32[parameters={&quot;__doc__&quot;: &quot;mass&quot;}],\n",
       "    muEF: float32[parameters={&quot;__doc__&quot;: &quot;muon Energy Fraction&quot;}],\n",
       "    muonSubtrFactor: float32[parameters={&quot;__doc__&quot;: &quot;1-(muon-subtracted raw pt)/(raw pt)&quot;}],\n",
       "    neEmEF: float32[parameters={&quot;__doc__&quot;: &quot;neutral Electromagnetic Energy Fraction&quot;}],\n",
       "    neHEF: float32[parameters={&quot;__doc__&quot;: &quot;neutral Hadron Energy Fraction&quot;}],\n",
       "    phi: float32[parameters={&quot;__doc__&quot;: &quot;phi&quot;}],\n",
       "    pt: float32[parameters={&quot;__doc__&quot;: &quot;pt&quot;}],\n",
       "    puIdDisc: float32[parameters={&quot;__doc__&quot;: &quot;Pileup ID discriminant with 106X (2018) training&quot;}],\n",
       "    qgl: float32[parameters={&quot;__doc__&quot;: &quot;Quark vs Gluon likelihood discriminator&quot;}],\n",
       "    rawFactor: float32[parameters={&quot;__doc__&quot;: &quot;1 - Factor to get back to raw pT&quot;}],\n",
       "    bRegCorr: float32[parameters={&quot;__doc__&quot;: &quot;pt correction for b-jet energy regression&quot;}],\n",
       "    bRegRes: float32[parameters={&quot;__doc__&quot;: &quot;res on pt corrected with b-jet regression&quot;}],\n",
       "    cRegCorr: float32[parameters={&quot;__doc__&quot;: &quot;pt correction for c-jet energy regression&quot;}],\n",
       "    cRegRes: float32[parameters={&quot;__doc__&quot;: &quot;res on pt corrected with c-jet regression&quot;}],\n",
       "    electronIdx1: int32[parameters={&quot;__doc__&quot;: &quot;index of first matching electron&quot;}],\n",
       "    electronIdx2: int32[parameters={&quot;__doc__&quot;: &quot;index of second matching electron&quot;}],\n",
       "    hfadjacentEtaStripsSize: int32[parameters={&quot;__doc__&quot;: &quot;eta size of the strips next to the central tower strip in HF (noise discriminating variable) &quot;}],\n",
       "    hfcentralEtaStripSize: int32[parameters={&quot;__doc__&quot;: &quot;eta size of the central tower strip in HF (noise discriminating variable) &quot;}],\n",
       "    jetId: int32[parameters={&quot;__doc__&quot;: &quot;Jet ID flags bit1 is loose (always false in 2017 since it does not exist), bit2 is tight, bit3 is tightLepVeto&quot;}],\n",
       "    muonIdx1: int32[parameters={&quot;__doc__&quot;: &quot;index of first matching muon&quot;}],\n",
       "    muonIdx2: int32[parameters={&quot;__doc__&quot;: &quot;index of second matching muon&quot;}],\n",
       "    nElectrons: int32[parameters={&quot;__doc__&quot;: &quot;number of electrons in the jet&quot;}],\n",
       "    nMuons: int32[parameters={&quot;__doc__&quot;: &quot;number of muons in the jet&quot;}],\n",
       "    puId: int32[parameters={&quot;__doc__&quot;: &quot;Pileup ID flags with 106X (2018) training&quot;}],\n",
       "    nConstituents: uint8[parameters={&quot;__doc__&quot;: &quot;Number of particles in the jet&quot;}],\n",
       "    genJetIdx: int32[parameters={&quot;__doc__&quot;: &quot;index of matched gen jet&quot;}],\n",
       "    hadronFlavour: int32[parameters={&quot;__doc__&quot;: &quot;flavour from hadron ghost clustering&quot;}],\n",
       "    partonFlavour: int32[parameters={&quot;__doc__&quot;: &quot;flavour from parton matching&quot;}],\n",
       "    cleanmask: uint8[parameters={&quot;__doc__&quot;: &quot;simple cleaning mask with priority to leptons&quot;}],\n",
       "    electronIdx1G: int64[parameters={&quot;__doc__&quot;: &quot;index of first matching electron&quot;}],\n",
       "    electronIdx2G: int64[parameters={&quot;__doc__&quot;: &quot;index of second matching electron&quot;}],\n",
       "    genJetIdxG: int64[parameters={&quot;__doc__&quot;: &quot;index of matched gen jet&quot;}],\n",
       "    muonIdx1G: int64[parameters={&quot;__doc__&quot;: &quot;index of first matching muon&quot;}],\n",
       "    muonIdx2G: int64[parameters={&quot;__doc__&quot;: &quot;index of second matching muon&quot;}],\n",
       "    muonIdxG: var * int64[parameters={&quot;__doc__&quot;: &quot;index of first matching muon&quot;}],\n",
       "    electronIdxG: var * int64[parameters={&quot;__doc__&quot;: &quot;index of first matching electron&quot;}], \n",
       "parameters={&quot;__doc__&quot;: &quot;slimmedJets, i.e. ak4 PFJets CHS with JECs applied, after basic selection (pt &gt; 15)&quot;, &quot;collection_name&quot;: &quot;Jet&quot;}]</pre>"
      ],
      "text/plain": [
       "<JetArray [Jet, Jet, ..., Jet] type='20510 * Jet[area: float32[parameters={...'>"
      ]
     },
     "execution_count": 87,
     "metadata": {},
     "output_type": "execute_result"
    }
   ],
   "source": [
    "ak.broadcast_arrays(flat_jets, jets_shape)[0]"
   ]
  },
  {
   "cell_type": "code",
   "execution_count": 96,
   "metadata": {},
   "outputs": [],
   "source": [
    "nJets_reshaped = ak.broadcast_arrays(ak.num(jets), threshold_arr_events_shape)[0]"
   ]
  },
  {
   "cell_type": "code",
   "execution_count": 118,
   "metadata": {},
   "outputs": [
    {
     "data": {
      "text/html": [
       "<pre>[[Jet, Jet, ..., Jet],\n",
       " [Jet, Jet, ..., Jet],\n",
       " [Jet, Jet, ..., Jet],\n",
       " [Jet, Jet, ..., Jet],\n",
       " [Jet, Jet, ..., Jet],\n",
       " [Jet, Jet, ..., Jet],\n",
       " [Jet, Jet, ..., Jet],\n",
       " [Jet, Jet, ..., Jet],\n",
       " [Jet, Jet, ..., Jet],\n",
       " [Jet, Jet, ..., Jet],\n",
       " ...,\n",
       " [Jet, Jet, ..., Jet],\n",
       " [Jet, Jet, ..., Jet],\n",
       " [Jet, Jet, ..., Jet],\n",
       " [Jet, Jet, ..., Jet],\n",
       " [Jet, Jet, ..., Jet],\n",
       " [Jet, Jet, ..., Jet],\n",
       " [Jet, Jet, ..., Jet],\n",
       " [Jet, Jet, ..., Jet],\n",
       " [Jet, Jet, ..., Jet]]\n",
       "------------------------------------------------------------------------------------------------------------------------------------------------------------\n",
       "type: 50 * 20510 * Jet[\n",
       "    area: float32[parameters={&quot;__doc__&quot;: &quot;jet catchment area, for JECs&quot;}],\n",
       "    btagCSVV2: float32[parameters={&quot;__doc__&quot;: &quot; pfCombinedInclusiveSecondaryVertexV2 b-tag discriminator (aka CSVV2)&quot;}],\n",
       "    btagDeepB: float32[parameters={&quot;__doc__&quot;: &quot;DeepCSV b+bb tag discriminator&quot;}],\n",
       "    btagDeepCvB: float32[parameters={&quot;__doc__&quot;: &quot;DeepCSV c vs b+bb discriminator&quot;}],\n",
       "    btagDeepCvL: float32[parameters={&quot;__doc__&quot;: &quot;DeepCSV c vs udsg discriminator&quot;}],\n",
       "    btagDeepFlavB: float32[parameters={&quot;__doc__&quot;: &quot;DeepJet b+bb+lepb tag discriminator&quot;}],\n",
       "    btagDeepFlavCvB: float32[parameters={&quot;__doc__&quot;: &quot;DeepJet c vs b+bb+lepb discriminator&quot;}],\n",
       "    btagDeepFlavCvL: float32[parameters={&quot;__doc__&quot;: &quot;DeepJet c vs uds+g discriminator&quot;}],\n",
       "    btagDeepFlavQG: float32[parameters={&quot;__doc__&quot;: &quot;DeepJet g vs uds discriminator&quot;}],\n",
       "    chEmEF: float32[parameters={&quot;__doc__&quot;: &quot;charged Electromagnetic Energy Fraction&quot;}],\n",
       "    chFPV0EF: float32[parameters={&quot;__doc__&quot;: &quot;charged fromPV==0 Energy Fraction (energy excluded from CHS jets). Previously called betastar.&quot;}],\n",
       "    chHEF: float32[parameters={&quot;__doc__&quot;: &quot;charged Hadron Energy Fraction&quot;}],\n",
       "    eta: float32[parameters={&quot;__doc__&quot;: &quot;eta&quot;}],\n",
       "    hfsigmaEtaEta: float32[parameters={&quot;__doc__&quot;: &quot;sigmaEtaEta for HF jets (noise discriminating variable)&quot;}],\n",
       "    hfsigmaPhiPhi: float32[parameters={&quot;__doc__&quot;: &quot;sigmaPhiPhi for HF jets (noise discriminating variable)&quot;}],\n",
       "    mass: float32[parameters={&quot;__doc__&quot;: &quot;mass&quot;}],\n",
       "    muEF: float32[parameters={&quot;__doc__&quot;: &quot;muon Energy Fraction&quot;}],\n",
       "    muonSubtrFactor: float32[parameters={&quot;__doc__&quot;: &quot;1-(muon-subtracted raw pt)/(raw pt)&quot;}],\n",
       "    neEmEF: float32[parameters={&quot;__doc__&quot;: &quot;neutral Electromagnetic Energy Fraction&quot;}],\n",
       "    neHEF: float32[parameters={&quot;__doc__&quot;: &quot;neutral Hadron Energy Fraction&quot;}],\n",
       "    phi: float32[parameters={&quot;__doc__&quot;: &quot;phi&quot;}],\n",
       "    pt: float32[parameters={&quot;__doc__&quot;: &quot;pt&quot;}],\n",
       "    puIdDisc: float32[parameters={&quot;__doc__&quot;: &quot;Pileup ID discriminant with 106X (2018) training&quot;}],\n",
       "    qgl: float32[parameters={&quot;__doc__&quot;: &quot;Quark vs Gluon likelihood discriminator&quot;}],\n",
       "    rawFactor: float32[parameters={&quot;__doc__&quot;: &quot;1 - Factor to get back to raw pT&quot;}],\n",
       "    bRegCorr: float32[parameters={&quot;__doc__&quot;: &quot;pt correction for b-jet energy regression&quot;}],\n",
       "    bRegRes: float32[parameters={&quot;__doc__&quot;: &quot;res on pt corrected with b-jet regression&quot;}],\n",
       "    cRegCorr: float32[parameters={&quot;__doc__&quot;: &quot;pt correction for c-jet energy regression&quot;}],\n",
       "    cRegRes: float32[parameters={&quot;__doc__&quot;: &quot;res on pt corrected with c-jet regression&quot;}],\n",
       "    electronIdx1: int32[parameters={&quot;__doc__&quot;: &quot;index of first matching electron&quot;}],\n",
       "    electronIdx2: int32[parameters={&quot;__doc__&quot;: &quot;index of second matching electron&quot;}],\n",
       "    hfadjacentEtaStripsSize: int32[parameters={&quot;__doc__&quot;: &quot;eta size of the strips next to the central tower strip in HF (noise discriminating variable) &quot;}],\n",
       "    hfcentralEtaStripSize: int32[parameters={&quot;__doc__&quot;: &quot;eta size of the central tower strip in HF (noise discriminating variable) &quot;}],\n",
       "    jetId: int32[parameters={&quot;__doc__&quot;: &quot;Jet ID flags bit1 is loose (always false in 2017 since it does not exist), bit2 is tight, bit3 is tightLepVeto&quot;}],\n",
       "    muonIdx1: int32[parameters={&quot;__doc__&quot;: &quot;index of first matching muon&quot;}],\n",
       "    muonIdx2: int32[parameters={&quot;__doc__&quot;: &quot;index of second matching muon&quot;}],\n",
       "    nElectrons: int32[parameters={&quot;__doc__&quot;: &quot;number of electrons in the jet&quot;}],\n",
       "    nMuons: int32[parameters={&quot;__doc__&quot;: &quot;number of muons in the jet&quot;}],\n",
       "    puId: int32[parameters={&quot;__doc__&quot;: &quot;Pileup ID flags with 106X (2018) training&quot;}],\n",
       "    nConstituents: uint8[parameters={&quot;__doc__&quot;: &quot;Number of particles in the jet&quot;}],\n",
       "    genJetIdx: int32[parameters={&quot;__doc__&quot;: &quot;index of matched gen jet&quot;}],\n",
       "    hadronFlavour: int32[parameters={&quot;__doc__&quot;: &quot;flavour from hadron ghost clustering&quot;}],\n",
       "    partonFlavour: int32[parameters={&quot;__doc__&quot;: &quot;flavour from parton matching&quot;}],\n",
       "    cleanmask: uint8[parameters={&quot;__doc__&quot;: &quot;simple cleaning mask with priority to leptons&quot;}],\n",
       "    electronIdx1G: int64[parameters={&quot;__doc__&quot;: &quot;index of first matching electron&quot;}],\n",
       "    electronIdx2G: int64[parameters={&quot;__doc__&quot;: &quot;index of second matching electron&quot;}],\n",
       "    genJetIdxG: int64[parameters={&quot;__doc__&quot;: &quot;index of matched gen jet&quot;}],\n",
       "    muonIdx1G: int64[parameters={&quot;__doc__&quot;: &quot;index of first matching muon&quot;}],\n",
       "    muonIdx2G: int64[parameters={&quot;__doc__&quot;: &quot;index of second matching muon&quot;}],\n",
       "    muonIdxG: var * int64[parameters={&quot;__doc__&quot;: &quot;index of first matching muon&quot;}],\n",
       "    electronIdxG: var * int64[parameters={&quot;__doc__&quot;: &quot;index of first matching electron&quot;}], \n",
       "parameters={&quot;__doc__&quot;: &quot;slimmedJets, i.e. ak4 PFJets CHS with JECs applied, after basic selection (pt &gt; 15)&quot;, &quot;collection_name&quot;: &quot;Jet&quot;}]</pre>"
      ],
      "text/plain": [
       "<JetArray [[Jet, ..., Jet], ...] type='50 * 20510 * Jet[area: float32[param...'>"
      ]
     },
     "execution_count": 118,
     "metadata": {},
     "output_type": "execute_result"
    }
   ],
   "source": [
    "flatjets_reshaped"
   ]
  },
  {
   "cell_type": "code",
   "execution_count": 104,
   "metadata": {},
   "outputs": [],
   "source": [
    "masked_jets = ak.mask(flatjets_reshaped, charg_scores > threshold_vals)"
   ]
  },
  {
   "cell_type": "code",
   "execution_count": 203,
   "metadata": {},
   "outputs": [
    {
     "data": {
      "text/html": [
       "<pre>[[6, 4, 5, 6, 6, 6, 5, 6, 6, 6, 4, 5, ..., 4, 6, 4, 5, 4, 4, 4, 4, 5, 4, 5, 4],\n",
       " [6, 4, 5, 6, 6, 6, 5, 6, 6, 6, 4, 5, ..., 4, 6, 4, 5, 4, 4, 4, 4, 5, 4, 5, 4],\n",
       " [6, 4, 5, 6, 6, 6, 5, 6, 6, 6, 4, 5, ..., 4, 6, 4, 5, 4, 4, 4, 4, 5, 4, 5, 4],\n",
       " [6, 4, 5, 6, 6, 6, 5, 6, 6, 6, 4, 5, ..., 4, 6, 4, 5, 4, 4, 4, 4, 5, 4, 5, 4],\n",
       " [6, 4, 5, 6, 6, 6, 5, 6, 6, 6, 4, 5, ..., 4, 6, 4, 5, 4, 4, 4, 4, 5, 4, 5, 4],\n",
       " [6, 4, 5, 6, 6, 6, 5, 6, 6, 6, 4, 5, ..., 4, 6, 4, 5, 4, 4, 4, 4, 5, 4, 5, 4],\n",
       " [6, 4, 5, 6, 6, 6, 5, 6, 6, 6, 4, 5, ..., 4, 6, 4, 5, 4, 4, 4, 4, 5, 4, 5, 4],\n",
       " [6, 4, 5, 6, 6, 6, 5, 6, 6, 6, 4, 5, ..., 4, 6, 4, 5, 4, 4, 4, 4, 5, 4, 5, 4],\n",
       " [6, 4, 5, 6, 6, 6, 5, 6, 6, 6, 4, 5, ..., 4, 6, 4, 5, 4, 4, 4, 4, 5, 4, 5, 4],\n",
       " [6, 4, 5, 6, 6, 6, 5, 6, 6, 6, 4, 5, ..., 4, 6, 4, 5, 4, 4, 4, 4, 5, 4, 5, 4],\n",
       " ...,\n",
       " [6, 4, 5, 6, 6, 6, 5, 6, 6, 6, 4, 5, ..., 4, 6, 4, 5, 4, 4, 4, 4, 5, 4, 5, 4],\n",
       " [6, 4, 5, 6, 6, 6, 5, 6, 6, 6, 4, 5, ..., 4, 6, 4, 5, 4, 4, 4, 4, 5, 4, 5, 4],\n",
       " [6, 4, 5, 6, 6, 6, 5, 6, 6, 6, 4, 5, ..., 4, 6, 4, 5, 4, 4, 4, 4, 5, 4, 5, 4],\n",
       " [6, 4, 5, 6, 6, 6, 5, 6, 6, 6, 4, 5, ..., 4, 6, 4, 5, 4, 4, 4, 4, 5, 4, 5, 4],\n",
       " [6, 4, 5, 6, 6, 6, 5, 6, 6, 6, 4, 5, ..., 4, 6, 4, 5, 4, 4, 4, 4, 5, 4, 5, 4],\n",
       " [6, 4, 5, 6, 6, 6, 5, 6, 6, 6, 4, 5, ..., 4, 6, 4, 5, 4, 4, 4, 4, 5, 4, 5, 4],\n",
       " [6, 4, 5, 6, 6, 6, 5, 6, 6, 6, 4, 5, ..., 4, 6, 4, 5, 4, 4, 4, 4, 5, 4, 5, 4],\n",
       " [6, 4, 5, 6, 6, 6, 5, 6, 6, 6, 4, 5, ..., 4, 6, 4, 5, 4, 4, 4, 4, 5, 4, 5, 4],\n",
       " [6, 4, 5, 6, 6, 6, 5, 6, 6, 6, 4, 5, ..., 4, 6, 4, 5, 4, 4, 4, 4, 5, 4, 5, 4]]\n",
       "-------------------------------------------------------------------------------\n",
       "type: 50 * 4212 * int64</pre>"
      ],
      "text/plain": [
       "<Array [[6, 4, 5, 6, 6, 6, ..., 4, 5, 4, 5, 4], ...] type='50 * 4212 * int64'>"
      ]
     },
     "execution_count": 203,
     "metadata": {},
     "output_type": "execute_result"
    }
   ],
   "source": [
    "ak.broadcast_arrays(ak.num(jets), threshold_arr_events_shape)[0]"
   ]
  },
  {
   "cell_type": "code",
   "execution_count": 208,
   "metadata": {},
   "outputs": [
    {
     "data": {
      "text/html": [
       "<pre>[[0.9],\n",
       " [0.902],\n",
       " [0.904],\n",
       " [0.906],\n",
       " [0.908],\n",
       " [0.91],\n",
       " [0.912],\n",
       " [0.914],\n",
       " [0.916],\n",
       " [0.918],\n",
       " ...,\n",
       " [0.984],\n",
       " [0.986],\n",
       " [0.988],\n",
       " [0.99],\n",
       " [0.992],\n",
       " [0.994],\n",
       " [0.996],\n",
       " [0.998],\n",
       " [1]]\n",
       "----------------------\n",
       "type: 50 * 1 * float64</pre>"
      ],
      "text/plain": [
       "<Array [[0.9], [0.902], [0.904], ..., [0.998], [1]] type='50 * 1 * float64'>"
      ]
     },
     "execution_count": 208,
     "metadata": {},
     "output_type": "execute_result"
    }
   ],
   "source": [
    "ak.Array(threshold_vals)"
   ]
  },
  {
   "cell_type": "code",
   "execution_count": 153,
   "metadata": {},
   "outputs": [
    {
     "data": {
      "text/html": [
       "<pre>[{area: 0.539, btagCSVV2: 0.729, btagDeepB: 0.258, btagDeepCvB: 0.252, ...},\n",
       " None,\n",
       " {area: 0.449, btagCSVV2: 0.0508, btagDeepB: 0.0135, btagDeepCvB: 0.829, ...},\n",
       " {area: 0.419, btagCSVV2: 0.907, btagDeepB: 0.647, btagDeepCvB: 0.347, ...},\n",
       " None,\n",
       " None,\n",
       " {area: 0.519, btagCSVV2: 0.393, btagDeepB: 0.199, btagDeepCvB: 0.323, ...},\n",
       " None,\n",
       " {area: 0.509, btagCSVV2: 0.971, btagDeepB: 0.97, btagDeepCvB: 0.00394, ...},\n",
       " {area: 0.509, btagCSVV2: 0.168, btagDeepB: 0.0511, btagDeepCvB: 0.748, ...},\n",
       " ...,\n",
       " None,\n",
       " None,\n",
       " None,\n",
       " None,\n",
       " None,\n",
       " None,\n",
       " None,\n",
       " None,\n",
       " None]\n",
       "------------------------------------------------------------------------------------------------------------------------------------------------------------\n",
       "type: 1025500 * ?Jet[\n",
       "    area: float32[parameters={&quot;__doc__&quot;: &quot;jet catchment area, for JECs&quot;}],\n",
       "    btagCSVV2: float32[parameters={&quot;__doc__&quot;: &quot; pfCombinedInclusiveSecondaryVertexV2 b-tag discriminator (aka CSVV2)&quot;}],\n",
       "    btagDeepB: float32[parameters={&quot;__doc__&quot;: &quot;DeepCSV b+bb tag discriminator&quot;}],\n",
       "    btagDeepCvB: float32[parameters={&quot;__doc__&quot;: &quot;DeepCSV c vs b+bb discriminator&quot;}],\n",
       "    btagDeepCvL: float32[parameters={&quot;__doc__&quot;: &quot;DeepCSV c vs udsg discriminator&quot;}],\n",
       "    btagDeepFlavB: float32[parameters={&quot;__doc__&quot;: &quot;DeepJet b+bb+lepb tag discriminator&quot;}],\n",
       "    btagDeepFlavCvB: float32[parameters={&quot;__doc__&quot;: &quot;DeepJet c vs b+bb+lepb discriminator&quot;}],\n",
       "    btagDeepFlavCvL: float32[parameters={&quot;__doc__&quot;: &quot;DeepJet c vs uds+g discriminator&quot;}],\n",
       "    btagDeepFlavQG: float32[parameters={&quot;__doc__&quot;: &quot;DeepJet g vs uds discriminator&quot;}],\n",
       "    chEmEF: float32[parameters={&quot;__doc__&quot;: &quot;charged Electromagnetic Energy Fraction&quot;}],\n",
       "    chFPV0EF: float32[parameters={&quot;__doc__&quot;: &quot;charged fromPV==0 Energy Fraction (energy excluded from CHS jets). Previously called betastar.&quot;}],\n",
       "    chHEF: float32[parameters={&quot;__doc__&quot;: &quot;charged Hadron Energy Fraction&quot;}],\n",
       "    eta: float32[parameters={&quot;__doc__&quot;: &quot;eta&quot;}],\n",
       "    hfsigmaEtaEta: float32[parameters={&quot;__doc__&quot;: &quot;sigmaEtaEta for HF jets (noise discriminating variable)&quot;}],\n",
       "    hfsigmaPhiPhi: float32[parameters={&quot;__doc__&quot;: &quot;sigmaPhiPhi for HF jets (noise discriminating variable)&quot;}],\n",
       "    mass: float32[parameters={&quot;__doc__&quot;: &quot;mass&quot;}],\n",
       "    muEF: float32[parameters={&quot;__doc__&quot;: &quot;muon Energy Fraction&quot;}],\n",
       "    muonSubtrFactor: float32[parameters={&quot;__doc__&quot;: &quot;1-(muon-subtracted raw pt)/(raw pt)&quot;}],\n",
       "    neEmEF: float32[parameters={&quot;__doc__&quot;: &quot;neutral Electromagnetic Energy Fraction&quot;}],\n",
       "    neHEF: float32[parameters={&quot;__doc__&quot;: &quot;neutral Hadron Energy Fraction&quot;}],\n",
       "    phi: float32[parameters={&quot;__doc__&quot;: &quot;phi&quot;}],\n",
       "    pt: float32[parameters={&quot;__doc__&quot;: &quot;pt&quot;}],\n",
       "    puIdDisc: float32[parameters={&quot;__doc__&quot;: &quot;Pileup ID discriminant with 106X (2018) training&quot;}],\n",
       "    qgl: float32[parameters={&quot;__doc__&quot;: &quot;Quark vs Gluon likelihood discriminator&quot;}],\n",
       "    rawFactor: float32[parameters={&quot;__doc__&quot;: &quot;1 - Factor to get back to raw pT&quot;}],\n",
       "    bRegCorr: float32[parameters={&quot;__doc__&quot;: &quot;pt correction for b-jet energy regression&quot;}],\n",
       "    bRegRes: float32[parameters={&quot;__doc__&quot;: &quot;res on pt corrected with b-jet regression&quot;}],\n",
       "    cRegCorr: float32[parameters={&quot;__doc__&quot;: &quot;pt correction for c-jet energy regression&quot;}],\n",
       "    cRegRes: float32[parameters={&quot;__doc__&quot;: &quot;res on pt corrected with c-jet regression&quot;}],\n",
       "    electronIdx1: int32[parameters={&quot;__doc__&quot;: &quot;index of first matching electron&quot;}],\n",
       "    electronIdx2: int32[parameters={&quot;__doc__&quot;: &quot;index of second matching electron&quot;}],\n",
       "    hfadjacentEtaStripsSize: int32[parameters={&quot;__doc__&quot;: &quot;eta size of the strips next to the central tower strip in HF (noise discriminating variable) &quot;}],\n",
       "    hfcentralEtaStripSize: int32[parameters={&quot;__doc__&quot;: &quot;eta size of the central tower strip in HF (noise discriminating variable) &quot;}],\n",
       "    jetId: int32[parameters={&quot;__doc__&quot;: &quot;Jet ID flags bit1 is loose (always false in 2017 since it does not exist), bit2 is tight, bit3 is tightLepVeto&quot;}],\n",
       "    muonIdx1: int32[parameters={&quot;__doc__&quot;: &quot;index of first matching muon&quot;}],\n",
       "    muonIdx2: int32[parameters={&quot;__doc__&quot;: &quot;index of second matching muon&quot;}],\n",
       "    nElectrons: int32[parameters={&quot;__doc__&quot;: &quot;number of electrons in the jet&quot;}],\n",
       "    nMuons: int32[parameters={&quot;__doc__&quot;: &quot;number of muons in the jet&quot;}],\n",
       "    puId: int32[parameters={&quot;__doc__&quot;: &quot;Pileup ID flags with 106X (2018) training&quot;}],\n",
       "    nConstituents: uint8[parameters={&quot;__doc__&quot;: &quot;Number of particles in the jet&quot;}],\n",
       "    genJetIdx: int32[parameters={&quot;__doc__&quot;: &quot;index of matched gen jet&quot;}],\n",
       "    hadronFlavour: int32[parameters={&quot;__doc__&quot;: &quot;flavour from hadron ghost clustering&quot;}],\n",
       "    partonFlavour: int32[parameters={&quot;__doc__&quot;: &quot;flavour from parton matching&quot;}],\n",
       "    cleanmask: uint8[parameters={&quot;__doc__&quot;: &quot;simple cleaning mask with priority to leptons&quot;}],\n",
       "    electronIdx1G: int64[parameters={&quot;__doc__&quot;: &quot;index of first matching electron&quot;}],\n",
       "    electronIdx2G: int64[parameters={&quot;__doc__&quot;: &quot;index of second matching electron&quot;}],\n",
       "    genJetIdxG: int64[parameters={&quot;__doc__&quot;: &quot;index of matched gen jet&quot;}],\n",
       "    muonIdx1G: int64[parameters={&quot;__doc__&quot;: &quot;index of first matching muon&quot;}],\n",
       "    muonIdx2G: int64[parameters={&quot;__doc__&quot;: &quot;index of second matching muon&quot;}],\n",
       "    muonIdxG: var * int64[parameters={&quot;__doc__&quot;: &quot;index of first matching muon&quot;}],\n",
       "    electronIdxG: var * int64[parameters={&quot;__doc__&quot;: &quot;index of first matching electron&quot;}], \n",
       "parameters={&quot;__doc__&quot;: &quot;slimmedJets, i.e. ak4 PFJets CHS with JECs applied, after basic selection (pt &gt; 15)&quot;, &quot;collection_name&quot;: &quot;Jet&quot;}]</pre>"
      ],
      "text/plain": [
       "<JetArray [Jet, None, ..., None] type='1025500 * ?Jet[area: float32[paramet...'>"
      ]
     },
     "execution_count": 153,
     "metadata": {},
     "output_type": "execute_result"
    }
   ],
   "source": [
    "ak.flatten(masked_jets)"
   ]
  },
  {
   "cell_type": "code",
   "execution_count": 92,
   "metadata": {},
   "outputs": [
    {
     "data": {
      "text/html": [
       "<pre>[6,\n",
       " 4,\n",
       " 5,\n",
       " 6,\n",
       " 6,\n",
       " 6,\n",
       " 5,\n",
       " 6,\n",
       " 6,\n",
       " 6,\n",
       " ...,\n",
       " 5,\n",
       " 4,\n",
       " 4,\n",
       " 4,\n",
       " 4,\n",
       " 5,\n",
       " 4,\n",
       " 5,\n",
       " 4]\n",
       "------------------\n",
       "type: 4212 * int64</pre>"
      ],
      "text/plain": [
       "<Array [6, 4, 5, 6, 6, 6, 5, 6, ..., 4, 4, 4, 5, 4, 5, 4] type='4212 * int64'>"
      ]
     },
     "execution_count": 92,
     "metadata": {},
     "output_type": "execute_result"
    }
   ],
   "source": [
    "ak.num(jets)"
   ]
  },
  {
   "cell_type": "code",
   "execution_count": 136,
   "metadata": {},
   "outputs": [
    {
     "data": {
      "text/html": [
       "<pre>[863,\n",
       " 834,\n",
       " 787,\n",
       " 330,\n",
       " 442,\n",
       " 853,\n",
       " 835,\n",
       " 1.43e+03,\n",
       " 262,\n",
       " 726,\n",
       " ...,\n",
       " 529,\n",
       " 827,\n",
       " 278,\n",
       " 197,\n",
       " 254,\n",
       " 1.38e+03,\n",
       " 438,\n",
       " 277,\n",
       " 986]\n",
       "--------------------\n",
       "type: 4212 * float32</pre>"
      ],
      "text/plain": [
       "<Array [863, 834, 787, 330, ..., 1.38e+03, 438, 277, 986] type='4212 * float32'>"
      ]
     },
     "execution_count": 136,
     "metadata": {},
     "output_type": "execute_result"
    }
   ],
   "source": [
    "ak.drop_none(ak.unflatten(masked_jets[0], nJets_reshaped[0])).sum(axis=1).mass"
   ]
  },
  {
   "cell_type": "code",
   "execution_count": 108,
   "metadata": {},
   "outputs": [
    {
     "data": {
      "text/html": [
       "<pre>[[6, 4, 5, 6, 6, 6, 5, 6, 6, 6, 4, 5, ..., 4, 6, 4, 5, 4, 4, 4, 4, 5, 4, 5, 4],\n",
       " [6, 4, 5, 6, 6, 6, 5, 6, 6, 6, 4, 5, ..., 4, 6, 4, 5, 4, 4, 4, 4, 5, 4, 5, 4],\n",
       " [6, 4, 5, 6, 6, 6, 5, 6, 6, 6, 4, 5, ..., 4, 6, 4, 5, 4, 4, 4, 4, 5, 4, 5, 4],\n",
       " [6, 4, 5, 6, 6, 6, 5, 6, 6, 6, 4, 5, ..., 4, 6, 4, 5, 4, 4, 4, 4, 5, 4, 5, 4],\n",
       " [6, 4, 5, 6, 6, 6, 5, 6, 6, 6, 4, 5, ..., 4, 6, 4, 5, 4, 4, 4, 4, 5, 4, 5, 4],\n",
       " [6, 4, 5, 6, 6, 6, 5, 6, 6, 6, 4, 5, ..., 4, 6, 4, 5, 4, 4, 4, 4, 5, 4, 5, 4],\n",
       " [6, 4, 5, 6, 6, 6, 5, 6, 6, 6, 4, 5, ..., 4, 6, 4, 5, 4, 4, 4, 4, 5, 4, 5, 4],\n",
       " [6, 4, 5, 6, 6, 6, 5, 6, 6, 6, 4, 5, ..., 4, 6, 4, 5, 4, 4, 4, 4, 5, 4, 5, 4],\n",
       " [6, 4, 5, 6, 6, 6, 5, 6, 6, 6, 4, 5, ..., 4, 6, 4, 5, 4, 4, 4, 4, 5, 4, 5, 4],\n",
       " [6, 4, 5, 6, 6, 6, 5, 6, 6, 6, 4, 5, ..., 4, 6, 4, 5, 4, 4, 4, 4, 5, 4, 5, 4],\n",
       " ...,\n",
       " [6, 4, 5, 6, 6, 6, 5, 6, 6, 6, 4, 5, ..., 4, 6, 4, 5, 4, 4, 4, 4, 5, 4, 5, 4],\n",
       " [6, 4, 5, 6, 6, 6, 5, 6, 6, 6, 4, 5, ..., 4, 6, 4, 5, 4, 4, 4, 4, 5, 4, 5, 4],\n",
       " [6, 4, 5, 6, 6, 6, 5, 6, 6, 6, 4, 5, ..., 4, 6, 4, 5, 4, 4, 4, 4, 5, 4, 5, 4],\n",
       " [6, 4, 5, 6, 6, 6, 5, 6, 6, 6, 4, 5, ..., 4, 6, 4, 5, 4, 4, 4, 4, 5, 4, 5, 4],\n",
       " [6, 4, 5, 6, 6, 6, 5, 6, 6, 6, 4, 5, ..., 4, 6, 4, 5, 4, 4, 4, 4, 5, 4, 5, 4],\n",
       " [6, 4, 5, 6, 6, 6, 5, 6, 6, 6, 4, 5, ..., 4, 6, 4, 5, 4, 4, 4, 4, 5, 4, 5, 4],\n",
       " [6, 4, 5, 6, 6, 6, 5, 6, 6, 6, 4, 5, ..., 4, 6, 4, 5, 4, 4, 4, 4, 5, 4, 5, 4],\n",
       " [6, 4, 5, 6, 6, 6, 5, 6, 6, 6, 4, 5, ..., 4, 6, 4, 5, 4, 4, 4, 4, 5, 4, 5, 4],\n",
       " [6, 4, 5, 6, 6, 6, 5, 6, 6, 6, 4, 5, ..., 4, 6, 4, 5, 4, 4, 4, 4, 5, 4, 5, 4]]\n",
       "-------------------------------------------------------------------------------\n",
       "type: 50 * 4212 * int64</pre>"
      ],
      "text/plain": [
       "<Array [[6, 4, 5, 6, 6, 6, ..., 4, 5, 4, 5, 4], ...] type='50 * 4212 * int64'>"
      ]
     },
     "execution_count": 108,
     "metadata": {},
     "output_type": "execute_result"
    }
   ],
   "source": [
    "nJets_reshaped"
   ]
  },
  {
   "cell_type": "code",
   "execution_count": 115,
   "metadata": {},
   "outputs": [
    {
     "data": {
      "text/plain": [
       "1025500"
      ]
     },
     "execution_count": 115,
     "metadata": {},
     "output_type": "execute_result"
    }
   ],
   "source": [
    "ak.sum(ak.flatten(nJets_reshaped))"
   ]
  },
  {
   "cell_type": "code",
   "execution_count": 110,
   "metadata": {},
   "outputs": [
    {
     "data": {
      "text/plain": [
       "1025500"
      ]
     },
     "execution_count": 110,
     "metadata": {},
     "output_type": "execute_result"
    }
   ],
   "source": [
    "ak.sum(nJets_reshaped)"
   ]
  },
  {
   "cell_type": "code",
   "execution_count": 111,
   "metadata": {},
   "outputs": [
    {
     "data": {
      "text/plain": [
       "1025500"
      ]
     },
     "execution_count": 111,
     "metadata": {},
     "output_type": "execute_result"
    }
   ],
   "source": [
    "50*20510"
   ]
  },
  {
   "cell_type": "code",
   "execution_count": 211,
   "metadata": {},
   "outputs": [],
   "source": [
    "threshold_count = 50\n",
    "threshold_vals = np.linspace(0.9, 1, 50).reshape((50, 1))\n",
    "\n",
    "# for M events with J total jets and N threshold values {n1, n2, ... nN},\n",
    "# the following code gives an N by M array\n",
    "# [ [n1, n1, ... , n1]\n",
    "#   [n2, n2, ... , n2]\n",
    "#   ...\n",
    "#   [nN, nN, ... , nN] ]\n",
    "# and an N by J array of the same format\n",
    "events_shape = ak.ones_like(jets[:, 0].pt)\n",
    "jets_shape = ak.ones_like(ak.flatten(jets.pt))\n",
    "threshold_arr_events_shape = np.multiply(events_shape, threshold_vals)\n",
    "threshold_arr_jets_shape = np.multiply(jets_shape, threshold_vals)\n",
    "\n",
    "flat_jets = ak.flatten(jets)\n",
    "flat_jets_reshaped = ak.broadcast_arrays(flat_jets, threshold_arr_jets_shape)[0]\n",
    "nJets_reshaped = ak.broadcast_arrays(ak.num(jets), threshold_arr_events_shape)[0]\n",
    "# nJets_reshaped gives [ak.num(jets)] * threshold_count\n",
    "\n",
    "# turns all noncompliant jets to NoneType\n",
    "# row 1 is the jets that pass the first threshold, etc.\n",
    "# until row N is a bunch of Nones (since the final threshold is 1)\n",
    "masked_jets = ak.mask(flat_jets_reshaped, charg_scores > threshold_vals)\n",
    "\n",
    "# do not ask me why this works. i forgot it the moment i typed it out. it is an abomination.\n",
    "# if you ask me why this works i will say \"i forgot\" and then we'll both be sad.\n",
    "masked_jets_reshaped = ak.drop_none(ak.unflatten(masked_jets, ak.flatten(nJets_reshaped), axis=1))\n",
    "nChargJets_arr = ak.num(masked_jets_reshaped, axis=2)\n",
    "recoChargMass_arr = masked_jets_reshaped.sum().mass\n",
    "\n",
    "flat_thresholds_arr = ak.flatten(threshold_arr_events_shape)\n",
    "flat_nChargJets_arr = ak.flatten(nChargJets_arr)\n",
    "flat_recomass_arr = ak.flatten(recoChargMass_arr)"
   ]
  },
  {
   "cell_type": "code",
   "execution_count": 212,
   "metadata": {},
   "outputs": [
    {
     "data": {
      "text/html": [
       "<pre>[0.9,\n",
       " 0.9,\n",
       " 0.9,\n",
       " 0.9,\n",
       " 0.9,\n",
       " 0.9,\n",
       " 0.9,\n",
       " 0.9,\n",
       " 0.9,\n",
       " 0.9,\n",
       " ...,\n",
       " 1,\n",
       " 1,\n",
       " 1,\n",
       " 1,\n",
       " 1,\n",
       " 1,\n",
       " 1,\n",
       " 1,\n",
       " 1]\n",
       "----------------------\n",
       "type: 210600 * float64</pre>"
      ],
      "text/plain": [
       "<Array [0.9, 0.9, 0.9, 0.9, 0.9, ..., 1, 1, 1, 1, 1] type='210600 * float64'>"
      ]
     },
     "execution_count": 212,
     "metadata": {},
     "output_type": "execute_result"
    }
   ],
   "source": [
    "flat_thresholds_arr"
   ]
  },
  {
   "cell_type": "code",
   "execution_count": 214,
   "metadata": {},
   "outputs": [
    {
     "data": {
      "text/html": [
       "<pre>[3,\n",
       " 3,\n",
       " 3,\n",
       " 2,\n",
       " 2,\n",
       " 3,\n",
       " 3,\n",
       " 5,\n",
       " 2,\n",
       " 3,\n",
       " ...,\n",
       " 0,\n",
       " 0,\n",
       " 0,\n",
       " 0,\n",
       " 0,\n",
       " 0,\n",
       " 0,\n",
       " 0,\n",
       " 0]\n",
       "--------------------\n",
       "type: 210600 * int64</pre>"
      ],
      "text/plain": [
       "<Array [3, 3, 3, 2, 2, 3, 3, 5, ..., 0, 0, 0, 0, 0, 0, 0] type='210600 * int64'>"
      ]
     },
     "execution_count": 214,
     "metadata": {},
     "output_type": "execute_result"
    }
   ],
   "source": [
    "flat_nChargJets_arr"
   ]
  },
  {
   "cell_type": "code",
   "execution_count": 159,
   "metadata": {},
   "outputs": [
    {
     "data": {
      "text/html": [
       "<pre>[[Jet, None, ..., Jet],\n",
       " [Jet, None, ..., Jet],\n",
       " [Jet, None, ..., Jet],\n",
       " [Jet, None, ..., Jet],\n",
       " [Jet, None, ..., Jet],\n",
       " [Jet, None, ..., Jet],\n",
       " [Jet, None, ..., Jet],\n",
       " [Jet, None, ..., Jet],\n",
       " [Jet, None, ..., Jet],\n",
       " [Jet, None, ..., Jet],\n",
       " ...,\n",
       " [Jet, None, ..., Jet],\n",
       " [Jet, None, ..., None],\n",
       " [Jet, None, ..., None],\n",
       " [Jet, None, ..., None],\n",
       " [Jet, None, ..., None],\n",
       " [Jet, None, ..., None],\n",
       " [Jet, None, ..., None],\n",
       " [Jet, None, ..., None],\n",
       " [None, None, None, None, None, None, ..., None, None, None, None, None, None]]\n",
       "------------------------------------------------------------------------------------------------------------------------------------------------------------\n",
       "type: 50 * 20510 * ?Jet[\n",
       "    area: float32[parameters={&quot;__doc__&quot;: &quot;jet catchment area, for JECs&quot;}],\n",
       "    btagCSVV2: float32[parameters={&quot;__doc__&quot;: &quot; pfCombinedInclusiveSecondaryVertexV2 b-tag discriminator (aka CSVV2)&quot;}],\n",
       "    btagDeepB: float32[parameters={&quot;__doc__&quot;: &quot;DeepCSV b+bb tag discriminator&quot;}],\n",
       "    btagDeepCvB: float32[parameters={&quot;__doc__&quot;: &quot;DeepCSV c vs b+bb discriminator&quot;}],\n",
       "    btagDeepCvL: float32[parameters={&quot;__doc__&quot;: &quot;DeepCSV c vs udsg discriminator&quot;}],\n",
       "    btagDeepFlavB: float32[parameters={&quot;__doc__&quot;: &quot;DeepJet b+bb+lepb tag discriminator&quot;}],\n",
       "    btagDeepFlavCvB: float32[parameters={&quot;__doc__&quot;: &quot;DeepJet c vs b+bb+lepb discriminator&quot;}],\n",
       "    btagDeepFlavCvL: float32[parameters={&quot;__doc__&quot;: &quot;DeepJet c vs uds+g discriminator&quot;}],\n",
       "    btagDeepFlavQG: float32[parameters={&quot;__doc__&quot;: &quot;DeepJet g vs uds discriminator&quot;}],\n",
       "    chEmEF: float32[parameters={&quot;__doc__&quot;: &quot;charged Electromagnetic Energy Fraction&quot;}],\n",
       "    chFPV0EF: float32[parameters={&quot;__doc__&quot;: &quot;charged fromPV==0 Energy Fraction (energy excluded from CHS jets). Previously called betastar.&quot;}],\n",
       "    chHEF: float32[parameters={&quot;__doc__&quot;: &quot;charged Hadron Energy Fraction&quot;}],\n",
       "    eta: float32[parameters={&quot;__doc__&quot;: &quot;eta&quot;}],\n",
       "    hfsigmaEtaEta: float32[parameters={&quot;__doc__&quot;: &quot;sigmaEtaEta for HF jets (noise discriminating variable)&quot;}],\n",
       "    hfsigmaPhiPhi: float32[parameters={&quot;__doc__&quot;: &quot;sigmaPhiPhi for HF jets (noise discriminating variable)&quot;}],\n",
       "    mass: float32[parameters={&quot;__doc__&quot;: &quot;mass&quot;}],\n",
       "    muEF: float32[parameters={&quot;__doc__&quot;: &quot;muon Energy Fraction&quot;}],\n",
       "    muonSubtrFactor: float32[parameters={&quot;__doc__&quot;: &quot;1-(muon-subtracted raw pt)/(raw pt)&quot;}],\n",
       "    neEmEF: float32[parameters={&quot;__doc__&quot;: &quot;neutral Electromagnetic Energy Fraction&quot;}],\n",
       "    neHEF: float32[parameters={&quot;__doc__&quot;: &quot;neutral Hadron Energy Fraction&quot;}],\n",
       "    phi: float32[parameters={&quot;__doc__&quot;: &quot;phi&quot;}],\n",
       "    pt: float32[parameters={&quot;__doc__&quot;: &quot;pt&quot;}],\n",
       "    puIdDisc: float32[parameters={&quot;__doc__&quot;: &quot;Pileup ID discriminant with 106X (2018) training&quot;}],\n",
       "    qgl: float32[parameters={&quot;__doc__&quot;: &quot;Quark vs Gluon likelihood discriminator&quot;}],\n",
       "    rawFactor: float32[parameters={&quot;__doc__&quot;: &quot;1 - Factor to get back to raw pT&quot;}],\n",
       "    bRegCorr: float32[parameters={&quot;__doc__&quot;: &quot;pt correction for b-jet energy regression&quot;}],\n",
       "    bRegRes: float32[parameters={&quot;__doc__&quot;: &quot;res on pt corrected with b-jet regression&quot;}],\n",
       "    cRegCorr: float32[parameters={&quot;__doc__&quot;: &quot;pt correction for c-jet energy regression&quot;}],\n",
       "    cRegRes: float32[parameters={&quot;__doc__&quot;: &quot;res on pt corrected with c-jet regression&quot;}],\n",
       "    electronIdx1: int32[parameters={&quot;__doc__&quot;: &quot;index of first matching electron&quot;}],\n",
       "    electronIdx2: int32[parameters={&quot;__doc__&quot;: &quot;index of second matching electron&quot;}],\n",
       "    hfadjacentEtaStripsSize: int32[parameters={&quot;__doc__&quot;: &quot;eta size of the strips next to the central tower strip in HF (noise discriminating variable) &quot;}],\n",
       "    hfcentralEtaStripSize: int32[parameters={&quot;__doc__&quot;: &quot;eta size of the central tower strip in HF (noise discriminating variable) &quot;}],\n",
       "    jetId: int32[parameters={&quot;__doc__&quot;: &quot;Jet ID flags bit1 is loose (always false in 2017 since it does not exist), bit2 is tight, bit3 is tightLepVeto&quot;}],\n",
       "    muonIdx1: int32[parameters={&quot;__doc__&quot;: &quot;index of first matching muon&quot;}],\n",
       "    muonIdx2: int32[parameters={&quot;__doc__&quot;: &quot;index of second matching muon&quot;}],\n",
       "    nElectrons: int32[parameters={&quot;__doc__&quot;: &quot;number of electrons in the jet&quot;}],\n",
       "    nMuons: int32[parameters={&quot;__doc__&quot;: &quot;number of muons in the jet&quot;}],\n",
       "    puId: int32[parameters={&quot;__doc__&quot;: &quot;Pileup ID flags with 106X (2018) training&quot;}],\n",
       "    nConstituents: uint8[parameters={&quot;__doc__&quot;: &quot;Number of particles in the jet&quot;}],\n",
       "    genJetIdx: int32[parameters={&quot;__doc__&quot;: &quot;index of matched gen jet&quot;}],\n",
       "    hadronFlavour: int32[parameters={&quot;__doc__&quot;: &quot;flavour from hadron ghost clustering&quot;}],\n",
       "    partonFlavour: int32[parameters={&quot;__doc__&quot;: &quot;flavour from parton matching&quot;}],\n",
       "    cleanmask: uint8[parameters={&quot;__doc__&quot;: &quot;simple cleaning mask with priority to leptons&quot;}],\n",
       "    electronIdx1G: int64[parameters={&quot;__doc__&quot;: &quot;index of first matching electron&quot;}],\n",
       "    electronIdx2G: int64[parameters={&quot;__doc__&quot;: &quot;index of second matching electron&quot;}],\n",
       "    genJetIdxG: int64[parameters={&quot;__doc__&quot;: &quot;index of matched gen jet&quot;}],\n",
       "    muonIdx1G: int64[parameters={&quot;__doc__&quot;: &quot;index of first matching muon&quot;}],\n",
       "    muonIdx2G: int64[parameters={&quot;__doc__&quot;: &quot;index of second matching muon&quot;}],\n",
       "    muonIdxG: var * int64[parameters={&quot;__doc__&quot;: &quot;index of first matching muon&quot;}],\n",
       "    electronIdxG: var * int64[parameters={&quot;__doc__&quot;: &quot;index of first matching electron&quot;}], \n",
       "parameters={&quot;__doc__&quot;: &quot;slimmedJets, i.e. ak4 PFJets CHS with JECs applied, after basic selection (pt &gt; 15)&quot;, &quot;collection_name&quot;: &quot;Jet&quot;}]</pre>"
      ],
      "text/plain": [
       "<JetArray [[Jet, ..., Jet], ...] type='50 * 20510 * ?Jet[area: float32[para...'>"
      ]
     },
     "execution_count": 159,
     "metadata": {},
     "output_type": "execute_result"
    }
   ],
   "source": [
    "masked_jets"
   ]
  },
  {
   "cell_type": "code",
   "execution_count": 164,
   "metadata": {},
   "outputs": [
    {
     "data": {
      "text/plain": [
       "20510"
      ]
     },
     "execution_count": 164,
     "metadata": {},
     "output_type": "execute_result"
    }
   ],
   "source": [
    "ak.sum(ak.num(jets))"
   ]
  },
  {
   "cell_type": "code",
   "execution_count": 175,
   "metadata": {},
   "outputs": [
    {
     "data": {
      "text/html": [
       "<pre>[[Jet, None, ..., Jet],\n",
       " [Jet, None, ..., Jet],\n",
       " [Jet, None, ..., Jet],\n",
       " [Jet, None, ..., Jet],\n",
       " [Jet, None, ..., Jet],\n",
       " [Jet, None, ..., Jet],\n",
       " [Jet, None, ..., Jet],\n",
       " [Jet, None, ..., Jet],\n",
       " [Jet, None, ..., Jet],\n",
       " [Jet, None, ..., Jet],\n",
       " ...,\n",
       " [Jet, None, ..., Jet],\n",
       " [Jet, None, ..., None],\n",
       " [Jet, None, ..., None],\n",
       " [Jet, None, ..., None],\n",
       " [Jet, None, ..., None],\n",
       " [Jet, None, ..., None],\n",
       " [Jet, None, ..., None],\n",
       " [Jet, None, ..., None],\n",
       " [None, None, None, None, None, None, ..., None, None, None, None, None, None]]\n",
       "------------------------------------------------------------------------------------------------------------------------------------------------------------\n",
       "type: 50 * 20510 * ?Jet[\n",
       "    area: float32[parameters={&quot;__doc__&quot;: &quot;jet catchment area, for JECs&quot;}],\n",
       "    btagCSVV2: float32[parameters={&quot;__doc__&quot;: &quot; pfCombinedInclusiveSecondaryVertexV2 b-tag discriminator (aka CSVV2)&quot;}],\n",
       "    btagDeepB: float32[parameters={&quot;__doc__&quot;: &quot;DeepCSV b+bb tag discriminator&quot;}],\n",
       "    btagDeepCvB: float32[parameters={&quot;__doc__&quot;: &quot;DeepCSV c vs b+bb discriminator&quot;}],\n",
       "    btagDeepCvL: float32[parameters={&quot;__doc__&quot;: &quot;DeepCSV c vs udsg discriminator&quot;}],\n",
       "    btagDeepFlavB: float32[parameters={&quot;__doc__&quot;: &quot;DeepJet b+bb+lepb tag discriminator&quot;}],\n",
       "    btagDeepFlavCvB: float32[parameters={&quot;__doc__&quot;: &quot;DeepJet c vs b+bb+lepb discriminator&quot;}],\n",
       "    btagDeepFlavCvL: float32[parameters={&quot;__doc__&quot;: &quot;DeepJet c vs uds+g discriminator&quot;}],\n",
       "    btagDeepFlavQG: float32[parameters={&quot;__doc__&quot;: &quot;DeepJet g vs uds discriminator&quot;}],\n",
       "    chEmEF: float32[parameters={&quot;__doc__&quot;: &quot;charged Electromagnetic Energy Fraction&quot;}],\n",
       "    chFPV0EF: float32[parameters={&quot;__doc__&quot;: &quot;charged fromPV==0 Energy Fraction (energy excluded from CHS jets). Previously called betastar.&quot;}],\n",
       "    chHEF: float32[parameters={&quot;__doc__&quot;: &quot;charged Hadron Energy Fraction&quot;}],\n",
       "    eta: float32[parameters={&quot;__doc__&quot;: &quot;eta&quot;}],\n",
       "    hfsigmaEtaEta: float32[parameters={&quot;__doc__&quot;: &quot;sigmaEtaEta for HF jets (noise discriminating variable)&quot;}],\n",
       "    hfsigmaPhiPhi: float32[parameters={&quot;__doc__&quot;: &quot;sigmaPhiPhi for HF jets (noise discriminating variable)&quot;}],\n",
       "    mass: float32[parameters={&quot;__doc__&quot;: &quot;mass&quot;}],\n",
       "    muEF: float32[parameters={&quot;__doc__&quot;: &quot;muon Energy Fraction&quot;}],\n",
       "    muonSubtrFactor: float32[parameters={&quot;__doc__&quot;: &quot;1-(muon-subtracted raw pt)/(raw pt)&quot;}],\n",
       "    neEmEF: float32[parameters={&quot;__doc__&quot;: &quot;neutral Electromagnetic Energy Fraction&quot;}],\n",
       "    neHEF: float32[parameters={&quot;__doc__&quot;: &quot;neutral Hadron Energy Fraction&quot;}],\n",
       "    phi: float32[parameters={&quot;__doc__&quot;: &quot;phi&quot;}],\n",
       "    pt: float32[parameters={&quot;__doc__&quot;: &quot;pt&quot;}],\n",
       "    puIdDisc: float32[parameters={&quot;__doc__&quot;: &quot;Pileup ID discriminant with 106X (2018) training&quot;}],\n",
       "    qgl: float32[parameters={&quot;__doc__&quot;: &quot;Quark vs Gluon likelihood discriminator&quot;}],\n",
       "    rawFactor: float32[parameters={&quot;__doc__&quot;: &quot;1 - Factor to get back to raw pT&quot;}],\n",
       "    bRegCorr: float32[parameters={&quot;__doc__&quot;: &quot;pt correction for b-jet energy regression&quot;}],\n",
       "    bRegRes: float32[parameters={&quot;__doc__&quot;: &quot;res on pt corrected with b-jet regression&quot;}],\n",
       "    cRegCorr: float32[parameters={&quot;__doc__&quot;: &quot;pt correction for c-jet energy regression&quot;}],\n",
       "    cRegRes: float32[parameters={&quot;__doc__&quot;: &quot;res on pt corrected with c-jet regression&quot;}],\n",
       "    electronIdx1: int32[parameters={&quot;__doc__&quot;: &quot;index of first matching electron&quot;}],\n",
       "    electronIdx2: int32[parameters={&quot;__doc__&quot;: &quot;index of second matching electron&quot;}],\n",
       "    hfadjacentEtaStripsSize: int32[parameters={&quot;__doc__&quot;: &quot;eta size of the strips next to the central tower strip in HF (noise discriminating variable) &quot;}],\n",
       "    hfcentralEtaStripSize: int32[parameters={&quot;__doc__&quot;: &quot;eta size of the central tower strip in HF (noise discriminating variable) &quot;}],\n",
       "    jetId: int32[parameters={&quot;__doc__&quot;: &quot;Jet ID flags bit1 is loose (always false in 2017 since it does not exist), bit2 is tight, bit3 is tightLepVeto&quot;}],\n",
       "    muonIdx1: int32[parameters={&quot;__doc__&quot;: &quot;index of first matching muon&quot;}],\n",
       "    muonIdx2: int32[parameters={&quot;__doc__&quot;: &quot;index of second matching muon&quot;}],\n",
       "    nElectrons: int32[parameters={&quot;__doc__&quot;: &quot;number of electrons in the jet&quot;}],\n",
       "    nMuons: int32[parameters={&quot;__doc__&quot;: &quot;number of muons in the jet&quot;}],\n",
       "    puId: int32[parameters={&quot;__doc__&quot;: &quot;Pileup ID flags with 106X (2018) training&quot;}],\n",
       "    nConstituents: uint8[parameters={&quot;__doc__&quot;: &quot;Number of particles in the jet&quot;}],\n",
       "    genJetIdx: int32[parameters={&quot;__doc__&quot;: &quot;index of matched gen jet&quot;}],\n",
       "    hadronFlavour: int32[parameters={&quot;__doc__&quot;: &quot;flavour from hadron ghost clustering&quot;}],\n",
       "    partonFlavour: int32[parameters={&quot;__doc__&quot;: &quot;flavour from parton matching&quot;}],\n",
       "    cleanmask: uint8[parameters={&quot;__doc__&quot;: &quot;simple cleaning mask with priority to leptons&quot;}],\n",
       "    electronIdx1G: int64[parameters={&quot;__doc__&quot;: &quot;index of first matching electron&quot;}],\n",
       "    electronIdx2G: int64[parameters={&quot;__doc__&quot;: &quot;index of second matching electron&quot;}],\n",
       "    genJetIdxG: int64[parameters={&quot;__doc__&quot;: &quot;index of matched gen jet&quot;}],\n",
       "    muonIdx1G: int64[parameters={&quot;__doc__&quot;: &quot;index of first matching muon&quot;}],\n",
       "    muonIdx2G: int64[parameters={&quot;__doc__&quot;: &quot;index of second matching muon&quot;}],\n",
       "    muonIdxG: var * int64[parameters={&quot;__doc__&quot;: &quot;index of first matching muon&quot;}],\n",
       "    electronIdxG: var * int64[parameters={&quot;__doc__&quot;: &quot;index of first matching electron&quot;}], \n",
       "parameters={&quot;__doc__&quot;: &quot;slimmedJets, i.e. ak4 PFJets CHS with JECs applied, after basic selection (pt &gt; 15)&quot;, &quot;collection_name&quot;: &quot;Jet&quot;}]</pre>"
      ],
      "text/plain": [
       "<JetArray [[Jet, ..., Jet], ...] type='50 * 20510 * ?Jet[area: float32[para...'>"
      ]
     },
     "execution_count": 175,
     "metadata": {},
     "output_type": "execute_result"
    }
   ],
   "source": [
    "masked_jets"
   ]
  },
  {
   "cell_type": "code",
   "execution_count": 170,
   "metadata": {},
   "outputs": [
    {
     "data": {
      "text/html": [
       "<pre>[6,\n",
       " 4,\n",
       " 5,\n",
       " 6,\n",
       " 6,\n",
       " 6,\n",
       " 5,\n",
       " 6,\n",
       " 6,\n",
       " 6,\n",
       " ...,\n",
       " 5,\n",
       " 4,\n",
       " 4,\n",
       " 4,\n",
       " 4,\n",
       " 5,\n",
       " 4,\n",
       " 5,\n",
       " 4]\n",
       "------------------\n",
       "type: 4212 * int64</pre>"
      ],
      "text/plain": [
       "<Array [6, 4, 5, 6, 6, 6, 5, 6, ..., 4, 4, 4, 5, 4, 5, 4] type='4212 * int64'>"
      ]
     },
     "execution_count": 170,
     "metadata": {},
     "output_type": "execute_result"
    }
   ],
   "source": [
    "ak.num(jets)"
   ]
  },
  {
   "cell_type": "code",
   "execution_count": 171,
   "metadata": {},
   "outputs": [
    {
     "data": {
      "text/plain": [
       "(<Array [20510, 20510, 20510, 20510, ..., 20510, 20510, 20510] type='50 * int64'>,\n",
       " 20510)"
      ]
     },
     "execution_count": 171,
     "metadata": {},
     "output_type": "execute_result"
    }
   ],
   "source": [
    "ak.num(flatjets_reshaped, axis=1), ak.sum(ak.num(jets))"
   ]
  },
  {
   "cell_type": "code",
   "execution_count": 205,
   "metadata": {},
   "outputs": [
    {
     "data": {
      "text/html": [
       "<pre>[6,\n",
       " 4,\n",
       " 5,\n",
       " 6,\n",
       " 6,\n",
       " 6,\n",
       " 5,\n",
       " 6,\n",
       " 6,\n",
       " 6,\n",
       " ...,\n",
       " 5,\n",
       " 4,\n",
       " 4,\n",
       " 4,\n",
       " 4,\n",
       " 5,\n",
       " 4,\n",
       " 5,\n",
       " 4]\n",
       "--------------------\n",
       "type: 210600 * int64</pre>"
      ],
      "text/plain": [
       "<Array [6, 4, 5, 6, 6, 6, 5, 6, ..., 4, 4, 4, 5, 4, 5, 4] type='210600 * int64'>"
      ]
     },
     "execution_count": 205,
     "metadata": {},
     "output_type": "execute_result"
    }
   ],
   "source": [
    "ak.flatten(nJets_reshaped)"
   ]
  },
  {
   "cell_type": "code",
   "execution_count": 206,
   "metadata": {},
   "outputs": [],
   "source": [
    "events_shape = ak.ones_like(jets[:, 0].pt)\n",
    "jets_shape = ak.ones_like(ak.flatten(jets.pt))\n",
    "threshold_arr_events_shape = np.multiply(events_shape, threshold_vals)\n",
    "threshold_arr_jets_shape = np.multiply(jets_shape, threshold_vals)\n",
    "\n",
    "flat_jets = ak.flatten(jets)\n",
    "flat_jets_reshaped = ak.broadcast_arrays(flat_jets, threshold_arr_jets_shape)[0]\n",
    "nJets_reshaped = ak.broadcast_arrays(ak.num(jets), threshold_arr_events_shape)[0]\n",
    "# nJets_reshaped gives [ak.num(jets)] * threshold_count\n",
    "\n",
    "# turns all noncompliant jets to NoneType\n",
    "# row 1 is the jets that pass the first threshold, etc.\n",
    "# until row N is a bunch of Nones (since the final threshold is 1)\n",
    "masked_jets = ak.mask(flat_jets_reshaped, charg_scores > threshold_vals)\n",
    "\n",
    "# do not ask me why this works. i forgot it the moment i typed it out. it is an abomination.\n",
    "# if you ask me why this works i will say \"i forgot\" and then we'll both be sad.\n",
    "masked_jets_reshaped = ak.drop_none(ak.unflatten(masked_jets, ak.flatten(nJets_reshaped), axis=1))\n",
    "nChargJets_arr = ak.num(masked_jets_reshaped, axis=2)\n",
    "recoChargMass_arr = masked_jets_reshaped.sum().mass\n",
    "\n",
    "flat_thresholds_arr = ak.flatten(threshold_arr_events_shape)\n",
    "flat_nChargJets_arr = ak.flatten(nChargJets_arr)\n",
    "flat_recomass_arr = ak.flatten(recoChargMass_arr)"
   ]
  },
  {
   "cell_type": "code",
   "execution_count": 196,
   "metadata": {},
   "outputs": [],
   "source": [
    "maybe = ak.drop_none(ak.unflatten(masked_jets, ak.flatten([ak.num(jets)]*threshold_count), axis=1))"
   ]
  },
  {
   "cell_type": "code",
   "execution_count": 202,
   "metadata": {},
   "outputs": [
    {
     "data": {
      "text/html": [
       "<pre>[[863, 834, 787, 330, 442, 853, 835, ..., 197, 254, 1.38e+03, 438, 277, 986],\n",
       " [863, 834, 787, 330, 442, 853, 835, ..., 197, 254, 1.38e+03, 438, 277, 986],\n",
       " [863, 834, 787, 330, 442, 853, 835, ..., 197, 254, 1.38e+03, 438, 277, 986],\n",
       " [863, 834, 787, 330, 442, 853, 835, ..., 197, 254, 1.38e+03, 438, 277, 986],\n",
       " [863, 834, 787, 330, 442, 853, 835, ..., 197, 254, 1.38e+03, 438, 277, 986],\n",
       " [863, 834, 787, 330, 442, 853, 835, ..., 197, 254, 1.38e+03, 438, 277, 986],\n",
       " [863, 834, 787, 330, 442, 853, 835, ..., 197, 254, 1.38e+03, 438, 277, 986],\n",
       " [863, 834, 787, 330, 442, 853, 835, ..., 197, 254, 1.38e+03, 438, 277, 986],\n",
       " [863, 834, 787, 330, 442, 853, 835, ..., 197, 254, 1.38e+03, 438, 277, 986],\n",
       " [863, 834, 787, 330, 442, 853, 835, ..., 197, 254, 1.38e+03, 438, 277, 986],\n",
       " ...,\n",
       " [863, 834, 428, 330, 442, 853, 835, ..., 23.7, 26.3, 254, 937, 438, 277, 986],\n",
       " [863, 834, 428, 330, 442, 853, 835, ..., 23.7, 26.3, 254, 937, 438, 277, 48.6],\n",
       " [863, 834, 428, 330, 442, 853, 835, ..., 23.7, 26.3, 254, 937, 438, 277, 48.6],\n",
       " [863, 834, 428, 330, 442, 853, 835, ..., 26.3, 6.47, 937, 438, 277, 48.6],\n",
       " [863, 834, 428, 330, 442, 853, 835, ..., 26.3, 6.47, 937, 438, 277, 48.6],\n",
       " [863, 834, 428, 330, 442, 597, 835, ..., 23.7, 26.3, 6.47, 215, 30, 277, 48.6],\n",
       " [863, 834, 428, 330, 442, 597, 462, ..., 23.7, 26.3, 0, 215, 30, 277, 48.6],\n",
       " [863, 355, 428, 330, 442, 597, 462, ..., 23.7, 26.3, 0, 215, 30, 277, 48.6],\n",
       " [0, 0, 0, 0, 0, 0, 0, 0, 0, 0, 0, 0, ..., 0, 0, 0, 0, 0, 0, 0, 0, 0, 0, 0, 0]]\n",
       "--------------------------------------------------------------------------------\n",
       "type: 50 * var * float32</pre>"
      ],
      "text/plain": [
       "<Array [[863, 834, 787, ..., 438, 277, 986], ...] type='50 * var * float32'>"
      ]
     },
     "execution_count": 202,
     "metadata": {},
     "output_type": "execute_result"
    }
   ],
   "source": [
    "maybe.sum().mass"
   ]
  },
  {
   "cell_type": "code",
   "execution_count": 197,
   "metadata": {},
   "outputs": [
    {
     "data": {
      "text/html": [
       "<pre>[[0.9, 0.9, 0.9, 0.9, 0.9, 0.9, 0.9, ..., 0.9, 0.9, 0.9, 0.9, 0.9, 0.9, 0.9],\n",
       " [0.902, 0.902, 0.902, 0.902, 0.902, ..., 0.902, 0.902, 0.902, 0.902, 0.902],\n",
       " [0.904, 0.904, 0.904, 0.904, 0.904, ..., 0.904, 0.904, 0.904, 0.904, 0.904],\n",
       " [0.906, 0.906, 0.906, 0.906, 0.906, ..., 0.906, 0.906, 0.906, 0.906, 0.906],\n",
       " [0.908, 0.908, 0.908, 0.908, 0.908, ..., 0.908, 0.908, 0.908, 0.908, 0.908],\n",
       " [0.91, 0.91, 0.91, 0.91, 0.91, 0.91, ..., 0.91, 0.91, 0.91, 0.91, 0.91, 0.91],\n",
       " [0.912, 0.912, 0.912, 0.912, 0.912, ..., 0.912, 0.912, 0.912, 0.912, 0.912],\n",
       " [0.914, 0.914, 0.914, 0.914, 0.914, ..., 0.914, 0.914, 0.914, 0.914, 0.914],\n",
       " [0.916, 0.916, 0.916, 0.916, 0.916, ..., 0.916, 0.916, 0.916, 0.916, 0.916],\n",
       " [0.918, 0.918, 0.918, 0.918, 0.918, ..., 0.918, 0.918, 0.918, 0.918, 0.918],\n",
       " ...,\n",
       " [0.984, 0.984, 0.984, 0.984, 0.984, ..., 0.984, 0.984, 0.984, 0.984, 0.984],\n",
       " [0.986, 0.986, 0.986, 0.986, 0.986, ..., 0.986, 0.986, 0.986, 0.986, 0.986],\n",
       " [0.988, 0.988, 0.988, 0.988, 0.988, ..., 0.988, 0.988, 0.988, 0.988, 0.988],\n",
       " [0.99, 0.99, 0.99, 0.99, 0.99, 0.99, ..., 0.99, 0.99, 0.99, 0.99, 0.99, 0.99],\n",
       " [0.992, 0.992, 0.992, 0.992, 0.992, ..., 0.992, 0.992, 0.992, 0.992, 0.992],\n",
       " [0.994, 0.994, 0.994, 0.994, 0.994, ..., 0.994, 0.994, 0.994, 0.994, 0.994],\n",
       " [0.996, 0.996, 0.996, 0.996, 0.996, ..., 0.996, 0.996, 0.996, 0.996, 0.996],\n",
       " [0.998, 0.998, 0.998, 0.998, 0.998, ..., 0.998, 0.998, 0.998, 0.998, 0.998],\n",
       " [1, 1, 1, 1, 1, 1, 1, 1, 1, 1, 1, 1, ..., 1, 1, 1, 1, 1, 1, 1, 1, 1, 1, 1, 1]]\n",
       "-------------------------------------------------------------------------------\n",
       "type: 50 * 4212 * float64</pre>"
      ],
      "text/plain": [
       "<Array [[0.9, 0.9, 0.9, ..., 0.9, 0.9, 0.9], ...] type='50 * 4212 * float64'>"
      ]
     },
     "execution_count": 197,
     "metadata": {},
     "output_type": "execute_result"
    }
   ],
   "source": [
    "threshold_arr_events_shape"
   ]
  },
  {
   "cell_type": "code",
   "execution_count": 198,
   "metadata": {},
   "outputs": [
    {
     "data": {
      "text/html": [
       "<pre>[[3, 3, 3, 2, 2, 3, 3, 5, 2, 3, 2, 3, ..., 2, 3, 3, 2, 3, 2, 2, 2, 4, 2, 2, 2],\n",
       " [3, 3, 3, 2, 2, 3, 3, 5, 2, 3, 2, 3, ..., 2, 3, 3, 2, 3, 2, 2, 2, 4, 2, 2, 2],\n",
       " [3, 3, 3, 2, 2, 3, 3, 5, 2, 3, 2, 3, ..., 2, 3, 3, 2, 3, 2, 2, 2, 4, 2, 2, 2],\n",
       " [3, 3, 3, 2, 2, 3, 3, 5, 2, 3, 2, 3, ..., 2, 3, 3, 2, 3, 2, 2, 2, 4, 2, 2, 2],\n",
       " [3, 3, 3, 2, 2, 3, 3, 5, 2, 3, 2, 3, ..., 2, 3, 3, 2, 3, 2, 2, 2, 4, 2, 2, 2],\n",
       " [3, 3, 3, 2, 2, 3, 3, 5, 2, 3, 2, 3, ..., 2, 3, 3, 2, 3, 2, 2, 2, 4, 2, 2, 2],\n",
       " [3, 3, 3, 2, 2, 3, 3, 5, 2, 3, 2, 3, ..., 2, 3, 3, 2, 3, 2, 2, 2, 4, 2, 2, 2],\n",
       " [3, 3, 3, 2, 2, 3, 3, 5, 2, 3, 2, 3, ..., 2, 3, 3, 2, 3, 2, 2, 2, 4, 2, 2, 2],\n",
       " [3, 3, 3, 2, 2, 3, 3, 5, 2, 3, 2, 3, ..., 2, 3, 3, 2, 3, 2, 2, 2, 4, 2, 2, 2],\n",
       " [3, 3, 3, 2, 2, 3, 3, 5, 2, 3, 2, 3, ..., 2, 3, 3, 2, 3, 2, 2, 2, 4, 2, 2, 2],\n",
       " ...,\n",
       " [3, 3, 2, 2, 2, 3, 3, 5, 2, 2, 2, 3, ..., 2, 3, 2, 2, 3, 1, 1, 2, 3, 2, 2, 2],\n",
       " [3, 3, 2, 2, 2, 3, 3, 5, 2, 2, 2, 3, ..., 2, 3, 2, 2, 3, 1, 1, 2, 3, 2, 2, 1],\n",
       " [3, 3, 2, 2, 2, 3, 3, 5, 2, 2, 2, 3, ..., 2, 3, 2, 2, 3, 1, 1, 2, 3, 2, 2, 1],\n",
       " [3, 3, 2, 2, 2, 3, 3, 5, 2, 2, 2, 3, ..., 2, 3, 2, 2, 3, 1, 1, 1, 3, 2, 2, 1],\n",
       " [3, 3, 2, 2, 2, 3, 3, 5, 2, 2, 2, 3, ..., 2, 3, 2, 2, 3, 1, 1, 1, 3, 2, 2, 1],\n",
       " [3, 3, 2, 2, 2, 2, 3, 5, 2, 2, 2, 3, ..., 2, 3, 2, 2, 3, 1, 1, 1, 2, 1, 2, 1],\n",
       " [3, 3, 2, 2, 2, 2, 2, 5, 2, 2, 2, 3, ..., 2, 2, 2, 1, 3, 1, 1, 0, 2, 1, 2, 1],\n",
       " [3, 2, 2, 2, 2, 2, 2, 4, 2, 2, 2, 3, ..., 2, 2, 2, 1, 3, 1, 1, 0, 2, 1, 2, 1],\n",
       " [0, 0, 0, 0, 0, 0, 0, 0, 0, 0, 0, 0, ..., 0, 0, 0, 0, 0, 0, 0, 0, 0, 0, 0, 0]]\n",
       "-------------------------------------------------------------------------------\n",
       "type: 50 * var * int64</pre>"
      ],
      "text/plain": [
       "<Array [[3, 3, 3, 2, 2, 3, ..., 2, 2, 4, 2, 2, 2], ...] type='50 * var * int64'>"
      ]
     },
     "execution_count": 198,
     "metadata": {},
     "output_type": "execute_result"
    }
   ],
   "source": [
    "ak.num(maybe, axis=2)"
   ]
  },
  {
   "cell_type": "code",
   "execution_count": 191,
   "metadata": {},
   "outputs": [
    {
     "data": {
      "text/html": [
       "<pre>[[863, 834, 787, 330, 442, 853, 835, ..., 197, 254, 1.38e+03, 438, 277, 986],\n",
       " [863, 834, 787, 330, 442, 853, 835, ..., 197, 254, 1.38e+03, 438, 277, 986],\n",
       " [863, 834, 787, 330, 442, 853, 835, ..., 197, 254, 1.38e+03, 438, 277, 986],\n",
       " [863, 834, 787, 330, 442, 853, 835, ..., 197, 254, 1.38e+03, 438, 277, 986],\n",
       " [863, 834, 787, 330, 442, 853, 835, ..., 197, 254, 1.38e+03, 438, 277, 986],\n",
       " [863, 834, 787, 330, 442, 853, 835, ..., 197, 254, 1.38e+03, 438, 277, 986],\n",
       " [863, 834, 787, 330, 442, 853, 835, ..., 197, 254, 1.38e+03, 438, 277, 986],\n",
       " [863, 834, 787, 330, 442, 853, 835, ..., 197, 254, 1.38e+03, 438, 277, 986],\n",
       " [863, 834, 787, 330, 442, 853, 835, ..., 197, 254, 1.38e+03, 438, 277, 986],\n",
       " [863, 834, 787, 330, 442, 853, 835, ..., 197, 254, 1.38e+03, 438, 277, 986],\n",
       " ...,\n",
       " [863, 834, 428, 330, 442, 853, 835, ..., 23.7, 26.3, 254, 937, 438, 277, 986],\n",
       " [863, 834, 428, 330, 442, 853, 835, ..., 23.7, 26.3, 254, 937, 438, 277, 48.6],\n",
       " [863, 834, 428, 330, 442, 853, 835, ..., 23.7, 26.3, 254, 937, 438, 277, 48.6],\n",
       " [863, 834, 428, 330, 442, 853, 835, ..., 26.3, 6.47, 937, 438, 277, 48.6],\n",
       " [863, 834, 428, 330, 442, 853, 835, ..., 26.3, 6.47, 937, 438, 277, 48.6],\n",
       " [863, 834, 428, 330, 442, 597, 835, ..., 23.7, 26.3, 6.47, 215, 30, 277, 48.6],\n",
       " [863, 834, 428, 330, 442, 597, 462, ..., 23.7, 26.3, 0, 215, 30, 277, 48.6],\n",
       " [863, 355, 428, 330, 442, 597, 462, ..., 23.7, 26.3, 0, 215, 30, 277, 48.6],\n",
       " [0, 0, 0, 0, 0, 0, 0, 0, 0, 0, 0, 0, ..., 0, 0, 0, 0, 0, 0, 0, 0, 0, 0, 0, 0]]\n",
       "--------------------------------------------------------------------------------\n",
       "type: 50 * var * float32</pre>"
      ],
      "text/plain": [
       "<Array [[863, 834, 787, ..., 438, 277, 986], ...] type='50 * var * float32'>"
      ]
     },
     "execution_count": 191,
     "metadata": {},
     "output_type": "execute_result"
    }
   ],
   "source": [
    "maybe.sum()"
   ]
  },
  {
   "cell_type": "code",
   "execution_count": 188,
   "metadata": {},
   "outputs": [
    {
     "data": {
      "text/plain": [
       "array([[863.32324 , 834.1031  , 787.1484  , ..., 437.55847 , 276.66705 ,\n",
       "        986.2209  ],\n",
       "       [863.32324 , 834.1031  , 787.1484  , ..., 437.55847 , 276.66705 ,\n",
       "        986.2209  ],\n",
       "       [863.32324 , 834.1031  , 787.1484  , ..., 437.55847 , 276.66705 ,\n",
       "        986.2209  ],\n",
       "       ...,\n",
       "       [863.32324 , 834.1031  , 427.59076 , ...,  29.98385 , 276.66705 ,\n",
       "         48.596554],\n",
       "       [863.32324 , 354.9352  , 427.59076 , ...,  29.98385 , 276.66705 ,\n",
       "         48.596554],\n",
       "       [  0.      ,   0.      ,   0.      , ...,   0.      ,   0.      ,\n",
       "          0.      ]], dtype=float32)"
      ]
     },
     "execution_count": 188,
     "metadata": {},
     "output_type": "execute_result"
    }
   ],
   "source": [
    "ak.drop_none(maybe).sum().mass)"
   ]
  },
  {
   "cell_type": "code",
   "execution_count": 168,
   "metadata": {},
   "outputs": [
    {
     "ename": "ValueError",
     "evalue": "structure imposed by 'counts' does not fit in the array or partition at axis=1\n\nThis error occurred while calling\n\n    ak.unflatten(\n        <JetArray [[Jet, ...], ...] type='50 * 20510 * ?Jet[area: float32[p...'>\n        <Array [6, 4, 5, 6, 6, 6, 5, ..., 4, 4, 5, 4, 5, 4] type='4212 * int64'>\n        axis = 1\n    )",
     "output_type": "error",
     "traceback": [
      "\u001b[0;31m---------------------------------------------------------------------------\u001b[0m",
      "\u001b[0;31mValueError\u001b[0m                                Traceback (most recent call last)",
      "File \u001b[0;32m~/.local/lib/python3.10/site-packages/awkward/_dispatch.py:64\u001b[0m, in \u001b[0;36mnamed_high_level_function.<locals>.dispatch\u001b[0;34m(*args, **kwargs)\u001b[0m\n\u001b[1;32m     63\u001b[0m \u001b[38;5;28;01mtry\u001b[39;00m:\n\u001b[0;32m---> 64\u001b[0m     \u001b[38;5;28;43mnext\u001b[39;49m\u001b[43m(\u001b[49m\u001b[43mgen_or_result\u001b[49m\u001b[43m)\u001b[49m\n\u001b[1;32m     65\u001b[0m \u001b[38;5;28;01mexcept\u001b[39;00m \u001b[38;5;167;01mStopIteration\u001b[39;00m \u001b[38;5;28;01mas\u001b[39;00m err:\n",
      "File \u001b[0;32m~/.local/lib/python3.10/site-packages/awkward/operations/ak_unflatten.py:90\u001b[0m, in \u001b[0;36munflatten\u001b[0;34m(array, counts, axis, highlevel, behavior, attrs)\u001b[0m\n\u001b[1;32m     89\u001b[0m \u001b[38;5;66;03m# Implementation\u001b[39;00m\n\u001b[0;32m---> 90\u001b[0m \u001b[38;5;28;01mreturn\u001b[39;00m \u001b[43m_impl\u001b[49m\u001b[43m(\u001b[49m\u001b[43marray\u001b[49m\u001b[43m,\u001b[49m\u001b[43m \u001b[49m\u001b[43mcounts\u001b[49m\u001b[43m,\u001b[49m\u001b[43m \u001b[49m\u001b[43maxis\u001b[49m\u001b[43m,\u001b[49m\u001b[43m \u001b[49m\u001b[43mhighlevel\u001b[49m\u001b[43m,\u001b[49m\u001b[43m \u001b[49m\u001b[43mbehavior\u001b[49m\u001b[43m,\u001b[49m\u001b[43m \u001b[49m\u001b[43mattrs\u001b[49m\u001b[43m)\u001b[49m\n",
      "File \u001b[0;32m~/.local/lib/python3.10/site-packages/awkward/operations/ak_unflatten.py:283\u001b[0m, in \u001b[0;36m_impl\u001b[0;34m(array, counts, axis, highlevel, behavior, attrs)\u001b[0m\n\u001b[1;32m    281\u001b[0m             \u001b[38;5;28;01mreturn\u001b[39;00m recursively_apply_to_content(apply, layout, depth, \u001b[38;5;241m*\u001b[39m\u001b[38;5;241m*\u001b[39mkwargs)\n\u001b[0;32m--> 283\u001b[0m     out \u001b[38;5;241m=\u001b[39m \u001b[43mak\u001b[49m\u001b[38;5;241;43m.\u001b[39;49m\u001b[43m_do\u001b[49m\u001b[38;5;241;43m.\u001b[39;49m\u001b[43mrecursively_apply\u001b[49m\u001b[43m(\u001b[49m\u001b[43mlayout\u001b[49m\u001b[43m,\u001b[49m\u001b[43m \u001b[49m\u001b[43mapply\u001b[49m\u001b[43m)\u001b[49m\n\u001b[1;32m    285\u001b[0m \u001b[38;5;28;01mif\u001b[39;00m (\n\u001b[1;32m    286\u001b[0m     current_offsets \u001b[38;5;129;01mis\u001b[39;00m \u001b[38;5;129;01mnot\u001b[39;00m \u001b[38;5;28;01mNone\u001b[39;00m\n\u001b[1;32m    287\u001b[0m     \u001b[38;5;129;01mand\u001b[39;00m current_offsets\u001b[38;5;241m.\u001b[39msize \u001b[38;5;129;01mis\u001b[39;00m \u001b[38;5;129;01mnot\u001b[39;00m unknown_length\n\u001b[1;32m    288\u001b[0m     \u001b[38;5;129;01mand\u001b[39;00m \u001b[38;5;129;01mnot\u001b[39;00m (current_offsets\u001b[38;5;241m.\u001b[39msize \u001b[38;5;241m==\u001b[39m \u001b[38;5;241m1\u001b[39m \u001b[38;5;129;01mand\u001b[39;00m current_offsets[\u001b[38;5;241m0\u001b[39m] \u001b[38;5;241m==\u001b[39m \u001b[38;5;241m0\u001b[39m)\n\u001b[1;32m    289\u001b[0m ):\n",
      "File \u001b[0;32m~/.local/lib/python3.10/site-packages/awkward/_do.py:37\u001b[0m, in \u001b[0;36mrecursively_apply\u001b[0;34m(layout, action, behavior, depth_context, lateral_context, allow_records, keep_parameters, numpy_to_regular, return_simplified, return_array, function_name, regular_to_jagged)\u001b[0m\n\u001b[1;32m     36\u001b[0m \u001b[38;5;28;01mif\u001b[39;00m \u001b[38;5;28misinstance\u001b[39m(layout, Content):\n\u001b[0;32m---> 37\u001b[0m     \u001b[38;5;28;01mreturn\u001b[39;00m \u001b[43mlayout\u001b[49m\u001b[38;5;241;43m.\u001b[39;49m\u001b[43m_recursively_apply\u001b[49m\u001b[43m(\u001b[49m\n\u001b[1;32m     38\u001b[0m \u001b[43m        \u001b[49m\u001b[43maction\u001b[49m\u001b[43m,\u001b[49m\n\u001b[1;32m     39\u001b[0m \u001b[43m        \u001b[49m\u001b[38;5;241;43m1\u001b[39;49m\u001b[43m,\u001b[49m\n\u001b[1;32m     40\u001b[0m \u001b[43m        \u001b[49m\u001b[43mcopy\u001b[49m\u001b[38;5;241;43m.\u001b[39;49m\u001b[43mcopy\u001b[49m\u001b[43m(\u001b[49m\u001b[43mdepth_context\u001b[49m\u001b[43m)\u001b[49m\u001b[43m,\u001b[49m\n\u001b[1;32m     41\u001b[0m \u001b[43m        \u001b[49m\u001b[43mlateral_context\u001b[49m\u001b[43m,\u001b[49m\n\u001b[1;32m     42\u001b[0m \u001b[43m        \u001b[49m\u001b[43m{\u001b[49m\n\u001b[1;32m     43\u001b[0m \u001b[43m            \u001b[49m\u001b[38;5;124;43m\"\u001b[39;49m\u001b[38;5;124;43mallow_records\u001b[39;49m\u001b[38;5;124;43m\"\u001b[39;49m\u001b[43m:\u001b[49m\u001b[43m \u001b[49m\u001b[43mallow_records\u001b[49m\u001b[43m,\u001b[49m\n\u001b[1;32m     44\u001b[0m \u001b[43m            \u001b[49m\u001b[38;5;124;43m\"\u001b[39;49m\u001b[38;5;124;43mkeep_parameters\u001b[39;49m\u001b[38;5;124;43m\"\u001b[39;49m\u001b[43m:\u001b[49m\u001b[43m \u001b[49m\u001b[43mkeep_parameters\u001b[49m\u001b[43m,\u001b[49m\n\u001b[1;32m     45\u001b[0m \u001b[43m            \u001b[49m\u001b[38;5;124;43m\"\u001b[39;49m\u001b[38;5;124;43mnumpy_to_regular\u001b[39;49m\u001b[38;5;124;43m\"\u001b[39;49m\u001b[43m:\u001b[49m\u001b[43m \u001b[49m\u001b[43mnumpy_to_regular\u001b[49m\u001b[43m,\u001b[49m\n\u001b[1;32m     46\u001b[0m \u001b[43m            \u001b[49m\u001b[38;5;124;43m\"\u001b[39;49m\u001b[38;5;124;43mregular_to_jagged\u001b[39;49m\u001b[38;5;124;43m\"\u001b[39;49m\u001b[43m:\u001b[49m\u001b[43m \u001b[49m\u001b[43mregular_to_jagged\u001b[49m\u001b[43m,\u001b[49m\n\u001b[1;32m     47\u001b[0m \u001b[43m            \u001b[49m\u001b[38;5;124;43m\"\u001b[39;49m\u001b[38;5;124;43mreturn_simplified\u001b[39;49m\u001b[38;5;124;43m\"\u001b[39;49m\u001b[43m:\u001b[49m\u001b[43m \u001b[49m\u001b[43mreturn_simplified\u001b[49m\u001b[43m,\u001b[49m\n\u001b[1;32m     48\u001b[0m \u001b[43m            \u001b[49m\u001b[38;5;124;43m\"\u001b[39;49m\u001b[38;5;124;43mreturn_array\u001b[39;49m\u001b[38;5;124;43m\"\u001b[39;49m\u001b[43m:\u001b[49m\u001b[43m \u001b[49m\u001b[43mreturn_array\u001b[49m\u001b[43m,\u001b[49m\n\u001b[1;32m     49\u001b[0m \u001b[43m            \u001b[49m\u001b[38;5;124;43m\"\u001b[39;49m\u001b[38;5;124;43mfunction_name\u001b[39;49m\u001b[38;5;124;43m\"\u001b[39;49m\u001b[43m:\u001b[49m\u001b[43m \u001b[49m\u001b[43mfunction_name\u001b[49m\u001b[43m,\u001b[49m\n\u001b[1;32m     50\u001b[0m \u001b[43m        \u001b[49m\u001b[43m}\u001b[49m\u001b[43m,\u001b[49m\n\u001b[1;32m     51\u001b[0m \u001b[43m    \u001b[49m\u001b[43m)\u001b[49m\n\u001b[1;32m     53\u001b[0m \u001b[38;5;28;01melif\u001b[39;00m \u001b[38;5;28misinstance\u001b[39m(layout, Record):\n",
      "File \u001b[0;32m~/.local/lib/python3.10/site-packages/awkward/contents/regulararray.py:1431\u001b[0m, in \u001b[0;36mRegularArray._recursively_apply\u001b[0;34m(self, action, depth, depth_context, lateral_context, options)\u001b[0m\n\u001b[1;32m   1423\u001b[0m         content\u001b[38;5;241m.\u001b[39m_recursively_apply(\n\u001b[1;32m   1424\u001b[0m             action,\n\u001b[1;32m   1425\u001b[0m             depth \u001b[38;5;241m+\u001b[39m \u001b[38;5;241m1\u001b[39m,\n\u001b[0;32m   (...)\u001b[0m\n\u001b[1;32m   1428\u001b[0m             options,\n\u001b[1;32m   1429\u001b[0m         )\n\u001b[0;32m-> 1431\u001b[0m result \u001b[38;5;241m=\u001b[39m \u001b[43maction\u001b[49m\u001b[43m(\u001b[49m\n\u001b[1;32m   1432\u001b[0m \u001b[43m    \u001b[49m\u001b[38;5;28;43mself\u001b[39;49m\u001b[43m,\u001b[49m\n\u001b[1;32m   1433\u001b[0m \u001b[43m    \u001b[49m\u001b[43mdepth\u001b[49m\u001b[38;5;241;43m=\u001b[39;49m\u001b[43mdepth\u001b[49m\u001b[43m,\u001b[49m\n\u001b[1;32m   1434\u001b[0m \u001b[43m    \u001b[49m\u001b[43mdepth_context\u001b[49m\u001b[38;5;241;43m=\u001b[39;49m\u001b[43mdepth_context\u001b[49m\u001b[43m,\u001b[49m\n\u001b[1;32m   1435\u001b[0m \u001b[43m    \u001b[49m\u001b[43mlateral_context\u001b[49m\u001b[38;5;241;43m=\u001b[39;49m\u001b[43mlateral_context\u001b[49m\u001b[43m,\u001b[49m\n\u001b[1;32m   1436\u001b[0m \u001b[43m    \u001b[49m\u001b[43mcontinuation\u001b[49m\u001b[38;5;241;43m=\u001b[39;49m\u001b[43mcontinuation\u001b[49m\u001b[43m,\u001b[49m\n\u001b[1;32m   1437\u001b[0m \u001b[43m    \u001b[49m\u001b[43mbackend\u001b[49m\u001b[38;5;241;43m=\u001b[39;49m\u001b[38;5;28;43mself\u001b[39;49m\u001b[38;5;241;43m.\u001b[39;49m\u001b[43m_backend\u001b[49m\u001b[43m,\u001b[49m\n\u001b[1;32m   1438\u001b[0m \u001b[43m    \u001b[49m\u001b[43moptions\u001b[49m\u001b[38;5;241;43m=\u001b[39;49m\u001b[43moptions\u001b[49m\u001b[43m,\u001b[49m\n\u001b[1;32m   1439\u001b[0m \u001b[43m\u001b[49m\u001b[43m)\u001b[49m\n\u001b[1;32m   1441\u001b[0m \u001b[38;5;28;01mif\u001b[39;00m \u001b[38;5;28misinstance\u001b[39m(result, Content):\n",
      "File \u001b[0;32m~/.local/lib/python3.10/site-packages/awkward/operations/ak_unflatten.py:251\u001b[0m, in \u001b[0;36m_impl.<locals>.apply\u001b[0;34m(layout, depth, backend, **kwargs)\u001b[0m\n\u001b[1;32m    249\u001b[0m outeroffsets \u001b[38;5;241m=\u001b[39m listoffsetarray\u001b[38;5;241m.\u001b[39moffsets\n\u001b[0;32m--> 251\u001b[0m content \u001b[38;5;241m=\u001b[39m \u001b[43munflatten_this_layout\u001b[49m\u001b[43m(\u001b[49m\n\u001b[1;32m    252\u001b[0m \u001b[43m    \u001b[49m\u001b[43mlistoffsetarray\u001b[49m\u001b[38;5;241;43m.\u001b[39;49m\u001b[43mcontent\u001b[49m\u001b[43m[\u001b[49m\u001b[43m:\u001b[49m\u001b[43m \u001b[49m\u001b[43mouteroffsets\u001b[49m\u001b[43m[\u001b[49m\u001b[38;5;241;43m-\u001b[39;49m\u001b[38;5;241;43m1\u001b[39;49m\u001b[43m]\u001b[49m\u001b[43m]\u001b[49m\n\u001b[1;32m    253\u001b[0m \u001b[43m\u001b[49m\u001b[43m)\u001b[49m\n\u001b[1;32m    254\u001b[0m \u001b[38;5;28;01mif\u001b[39;00m \u001b[38;5;28misinstance\u001b[39m(content, ak\u001b[38;5;241m.\u001b[39mcontents\u001b[38;5;241m.\u001b[39mByteMaskedArray):\n",
      "File \u001b[0;32m~/.local/lib/python3.10/site-packages/awkward/operations/ak_unflatten.py:186\u001b[0m, in \u001b[0;36m_impl.<locals>.unflatten_this_layout\u001b[0;34m(layout)\u001b[0m\n\u001b[1;32m    177\u001b[0m \u001b[38;5;28;01mif\u001b[39;00m (\n\u001b[1;32m    178\u001b[0m     current_offsets\u001b[38;5;241m.\u001b[39msize \u001b[38;5;129;01mis\u001b[39;00m \u001b[38;5;129;01mnot\u001b[39;00m unknown_length\n\u001b[1;32m    179\u001b[0m     \u001b[38;5;129;01mand\u001b[39;00m layout\u001b[38;5;241m.\u001b[39mlength \u001b[38;5;129;01mis\u001b[39;00m \u001b[38;5;129;01mnot\u001b[39;00m unknown_length\n\u001b[0;32m   (...)\u001b[0m\n\u001b[1;32m    184\u001b[0m     )\n\u001b[1;32m    185\u001b[0m ):\n\u001b[0;32m--> 186\u001b[0m     \u001b[38;5;28;01mraise\u001b[39;00m \u001b[38;5;167;01mValueError\u001b[39;00m(\n\u001b[1;32m    187\u001b[0m         \u001b[38;5;124m\"\u001b[39m\u001b[38;5;124mstructure imposed by \u001b[39m\u001b[38;5;124m'\u001b[39m\u001b[38;5;124mcounts\u001b[39m\u001b[38;5;124m'\u001b[39m\u001b[38;5;124m does not fit in the array or partition \u001b[39m\u001b[38;5;124m\"\u001b[39m\n\u001b[1;32m    188\u001b[0m         \u001b[38;5;124mf\u001b[39m\u001b[38;5;124m\"\u001b[39m\u001b[38;5;124mat axis=\u001b[39m\u001b[38;5;132;01m{\u001b[39;00maxis\u001b[38;5;132;01m}\u001b[39;00m\u001b[38;5;124m\"\u001b[39m\n\u001b[1;32m    189\u001b[0m     )\n\u001b[1;32m    191\u001b[0m offsets \u001b[38;5;241m=\u001b[39m current_offsets[: position \u001b[38;5;241m+\u001b[39m \u001b[38;5;241m1\u001b[39m]\n",
      "\u001b[0;31mValueError\u001b[0m: structure imposed by 'counts' does not fit in the array or partition at axis=1",
      "\nThe above exception was the direct cause of the following exception:\n",
      "\u001b[0;31mValueError\u001b[0m                                Traceback (most recent call last)",
      "Cell \u001b[0;32mIn[168], line 1\u001b[0m\n\u001b[0;32m----> 1\u001b[0m \u001b[43mak\u001b[49m\u001b[38;5;241;43m.\u001b[39;49m\u001b[43munflatten\u001b[49m\u001b[43m(\u001b[49m\u001b[43mmasked_jets\u001b[49m\u001b[43m,\u001b[49m\u001b[43m \u001b[49m\u001b[43mak\u001b[49m\u001b[38;5;241;43m.\u001b[39;49m\u001b[43mnum\u001b[49m\u001b[43m(\u001b[49m\u001b[43mjets\u001b[49m\u001b[43m)\u001b[49m\u001b[43m,\u001b[49m\u001b[43m \u001b[49m\u001b[43maxis\u001b[49m\u001b[38;5;241;43m=\u001b[39;49m\u001b[38;5;241;43m1\u001b[39;49m\u001b[43m)\u001b[49m\n",
      "File \u001b[0;32m~/.local/lib/python3.10/site-packages/awkward/_dispatch.py:38\u001b[0m, in \u001b[0;36mnamed_high_level_function.<locals>.dispatch\u001b[0;34m(*args, **kwargs)\u001b[0m\n\u001b[1;32m     35\u001b[0m \u001b[38;5;129m@wraps\u001b[39m(func)\n\u001b[1;32m     36\u001b[0m \u001b[38;5;28;01mdef\u001b[39;00m \u001b[38;5;21mdispatch\u001b[39m(\u001b[38;5;241m*\u001b[39margs, \u001b[38;5;241m*\u001b[39m\u001b[38;5;241m*\u001b[39mkwargs):\n\u001b[1;32m     37\u001b[0m     \u001b[38;5;66;03m# NOTE: this decorator assumes that the operation is exposed under `ak.`\u001b[39;00m\n\u001b[0;32m---> 38\u001b[0m     \u001b[38;5;28;01mwith\u001b[39;00m OperationErrorContext(name, args, kwargs):\n\u001b[1;32m     39\u001b[0m         gen_or_result \u001b[38;5;241m=\u001b[39m func(\u001b[38;5;241m*\u001b[39margs, \u001b[38;5;241m*\u001b[39m\u001b[38;5;241m*\u001b[39mkwargs)\n\u001b[1;32m     40\u001b[0m         \u001b[38;5;28;01mif\u001b[39;00m isgenerator(gen_or_result):\n",
      "File \u001b[0;32m~/.local/lib/python3.10/site-packages/awkward/_errors.py:85\u001b[0m, in \u001b[0;36mErrorContext.__exit__\u001b[0;34m(self, exception_type, exception_value, traceback)\u001b[0m\n\u001b[1;32m     78\u001b[0m \u001b[38;5;28;01mtry\u001b[39;00m:\n\u001b[1;32m     79\u001b[0m     \u001b[38;5;66;03m# Handle caught exception\u001b[39;00m\n\u001b[1;32m     80\u001b[0m     \u001b[38;5;28;01mif\u001b[39;00m (\n\u001b[1;32m     81\u001b[0m         exception_type \u001b[38;5;129;01mis\u001b[39;00m \u001b[38;5;129;01mnot\u001b[39;00m \u001b[38;5;28;01mNone\u001b[39;00m\n\u001b[1;32m     82\u001b[0m         \u001b[38;5;129;01mand\u001b[39;00m \u001b[38;5;28missubclass\u001b[39m(exception_type, \u001b[38;5;167;01mException\u001b[39;00m)\n\u001b[1;32m     83\u001b[0m         \u001b[38;5;129;01mand\u001b[39;00m \u001b[38;5;28mself\u001b[39m\u001b[38;5;241m.\u001b[39mprimary() \u001b[38;5;129;01mis\u001b[39;00m \u001b[38;5;28mself\u001b[39m\n\u001b[1;32m     84\u001b[0m     ):\n\u001b[0;32m---> 85\u001b[0m         \u001b[38;5;28;43mself\u001b[39;49m\u001b[38;5;241;43m.\u001b[39;49m\u001b[43mhandle_exception\u001b[49m\u001b[43m(\u001b[49m\u001b[43mexception_type\u001b[49m\u001b[43m,\u001b[49m\u001b[43m \u001b[49m\u001b[43mexception_value\u001b[49m\u001b[43m)\u001b[49m\n\u001b[1;32m     86\u001b[0m \u001b[38;5;28;01mfinally\u001b[39;00m:\n\u001b[1;32m     87\u001b[0m     \u001b[38;5;66;03m# Step out of the way so that another ErrorContext can become primary.\u001b[39;00m\n\u001b[1;32m     88\u001b[0m     \u001b[38;5;28;01mif\u001b[39;00m \u001b[38;5;28mself\u001b[39m\u001b[38;5;241m.\u001b[39mprimary() \u001b[38;5;129;01mis\u001b[39;00m \u001b[38;5;28mself\u001b[39m:\n",
      "File \u001b[0;32m~/.local/lib/python3.10/site-packages/awkward/_errors.py:95\u001b[0m, in \u001b[0;36mErrorContext.handle_exception\u001b[0;34m(self, cls, exception)\u001b[0m\n\u001b[1;32m     93\u001b[0m     \u001b[38;5;28mself\u001b[39m\u001b[38;5;241m.\u001b[39mdecorate_exception(\u001b[38;5;28mcls\u001b[39m, exception)\n\u001b[1;32m     94\u001b[0m \u001b[38;5;28;01melse\u001b[39;00m:\n\u001b[0;32m---> 95\u001b[0m     \u001b[38;5;28;01mraise\u001b[39;00m \u001b[38;5;28mself\u001b[39m\u001b[38;5;241m.\u001b[39mdecorate_exception(\u001b[38;5;28mcls\u001b[39m, exception)\n",
      "\u001b[0;31mValueError\u001b[0m: structure imposed by 'counts' does not fit in the array or partition at axis=1\n\nThis error occurred while calling\n\n    ak.unflatten(\n        <JetArray [[Jet, ...], ...] type='50 * 20510 * ?Jet[area: float32[p...'>\n        <Array [6, 4, 5, 6, 6, 6, 5, ..., 4, 4, 5, 4, 5, 4] type='4212 * int64'>\n        axis = 1\n    )"
     ]
    }
   ],
   "source": [
    "ak.unflatten(masked_jets, ak.num(jets), axis=1)"
   ]
  },
  {
   "cell_type": "code",
   "execution_count": 217,
   "metadata": {},
   "outputs": [
    {
     "data": {
      "text/html": [
       "<pre>[1.39e+03,\n",
       " 1.41e+03,\n",
       " 1.27e+03,\n",
       " 1.23e+03,\n",
       " 1.33e+03,\n",
       " 1.35e+03,\n",
       " 1.36e+03,\n",
       " 1.33e+03,\n",
       " 1.16e+03,\n",
       " 1.27e+03,\n",
       " ...,\n",
       " 1.41e+03,\n",
       " 1.3e+03,\n",
       " 1.16e+03,\n",
       " 1.43e+03,\n",
       " 1.19e+03,\n",
       " 1.38e+03,\n",
       " 1.29e+03,\n",
       " 1.26e+03,\n",
       " 2.81e+03]\n",
       "--------------------\n",
       "type: 4212 * float32</pre>"
      ],
      "text/plain": [
       "<Array [1.39e+03, 1.41e+03, ..., 1.26e+03, 2.81e+03] type='4212 * float32'>"
      ]
     },
     "execution_count": 217,
     "metadata": {},
     "output_type": "execute_result"
    }
   ],
   "source": [
    "jets[:, 0:4].sum().mass"
   ]
  },
  {
   "cell_type": "code",
   "execution_count": 158,
   "metadata": {},
   "outputs": [
    {
     "data": {
      "text/html": [
       "<pre>[[Jet, None, ..., None],\n",
       " [None, Jet, ..., Jet],\n",
       " [None, Jet, ..., Jet],\n",
       " [None, Jet, ..., Jet],\n",
       " [Jet, Jet, ..., Jet],\n",
       " [None, None, ..., Jet],\n",
       " [Jet, None, ..., Jet],\n",
       " [Jet, None, ..., Jet],\n",
       " [None, Jet, ..., Jet],\n",
       " [None, Jet, ..., Jet],\n",
       " ...,\n",
       " [None, None, None, None, None, None, ..., None, None, None, None, None, None],\n",
       " [None, None, None, None, None, None, ..., None, None, None, None, None, None],\n",
       " [None, None, None, None, None, None, ..., None, None, None, None, None, None],\n",
       " [None, None, None, None, None, None, ..., None, None, None, None, None, None],\n",
       " [None, None, None, None, None, None, ..., None, None, None, None, None, None],\n",
       " [None, None, None, None, None, None, ..., None, None, None, None, None, None],\n",
       " [None, None, None, None, None, None, ..., None, None, None, None, None, None],\n",
       " [None, None, None, None, None, None, ..., None, None, None, None, None, None],\n",
       " [None, None, None, None, None, None, ..., None, None, None, None, None, None]]\n",
       "------------------------------------------------------------------------------------------------------------------------------------------------------------\n",
       "type: 20510 * 50 * ?Jet[\n",
       "    area: float32[parameters={&quot;__doc__&quot;: &quot;jet catchment area, for JECs&quot;}],\n",
       "    btagCSVV2: float32[parameters={&quot;__doc__&quot;: &quot; pfCombinedInclusiveSecondaryVertexV2 b-tag discriminator (aka CSVV2)&quot;}],\n",
       "    btagDeepB: float32[parameters={&quot;__doc__&quot;: &quot;DeepCSV b+bb tag discriminator&quot;}],\n",
       "    btagDeepCvB: float32[parameters={&quot;__doc__&quot;: &quot;DeepCSV c vs b+bb discriminator&quot;}],\n",
       "    btagDeepCvL: float32[parameters={&quot;__doc__&quot;: &quot;DeepCSV c vs udsg discriminator&quot;}],\n",
       "    btagDeepFlavB: float32[parameters={&quot;__doc__&quot;: &quot;DeepJet b+bb+lepb tag discriminator&quot;}],\n",
       "    btagDeepFlavCvB: float32[parameters={&quot;__doc__&quot;: &quot;DeepJet c vs b+bb+lepb discriminator&quot;}],\n",
       "    btagDeepFlavCvL: float32[parameters={&quot;__doc__&quot;: &quot;DeepJet c vs uds+g discriminator&quot;}],\n",
       "    btagDeepFlavQG: float32[parameters={&quot;__doc__&quot;: &quot;DeepJet g vs uds discriminator&quot;}],\n",
       "    chEmEF: float32[parameters={&quot;__doc__&quot;: &quot;charged Electromagnetic Energy Fraction&quot;}],\n",
       "    chFPV0EF: float32[parameters={&quot;__doc__&quot;: &quot;charged fromPV==0 Energy Fraction (energy excluded from CHS jets). Previously called betastar.&quot;}],\n",
       "    chHEF: float32[parameters={&quot;__doc__&quot;: &quot;charged Hadron Energy Fraction&quot;}],\n",
       "    eta: float32[parameters={&quot;__doc__&quot;: &quot;eta&quot;}],\n",
       "    hfsigmaEtaEta: float32[parameters={&quot;__doc__&quot;: &quot;sigmaEtaEta for HF jets (noise discriminating variable)&quot;}],\n",
       "    hfsigmaPhiPhi: float32[parameters={&quot;__doc__&quot;: &quot;sigmaPhiPhi for HF jets (noise discriminating variable)&quot;}],\n",
       "    mass: float32[parameters={&quot;__doc__&quot;: &quot;mass&quot;}],\n",
       "    muEF: float32[parameters={&quot;__doc__&quot;: &quot;muon Energy Fraction&quot;}],\n",
       "    muonSubtrFactor: float32[parameters={&quot;__doc__&quot;: &quot;1-(muon-subtracted raw pt)/(raw pt)&quot;}],\n",
       "    neEmEF: float32[parameters={&quot;__doc__&quot;: &quot;neutral Electromagnetic Energy Fraction&quot;}],\n",
       "    neHEF: float32[parameters={&quot;__doc__&quot;: &quot;neutral Hadron Energy Fraction&quot;}],\n",
       "    phi: float32[parameters={&quot;__doc__&quot;: &quot;phi&quot;}],\n",
       "    pt: float32[parameters={&quot;__doc__&quot;: &quot;pt&quot;}],\n",
       "    puIdDisc: float32[parameters={&quot;__doc__&quot;: &quot;Pileup ID discriminant with 106X (2018) training&quot;}],\n",
       "    qgl: float32[parameters={&quot;__doc__&quot;: &quot;Quark vs Gluon likelihood discriminator&quot;}],\n",
       "    rawFactor: float32[parameters={&quot;__doc__&quot;: &quot;1 - Factor to get back to raw pT&quot;}],\n",
       "    bRegCorr: float32[parameters={&quot;__doc__&quot;: &quot;pt correction for b-jet energy regression&quot;}],\n",
       "    bRegRes: float32[parameters={&quot;__doc__&quot;: &quot;res on pt corrected with b-jet regression&quot;}],\n",
       "    cRegCorr: float32[parameters={&quot;__doc__&quot;: &quot;pt correction for c-jet energy regression&quot;}],\n",
       "    cRegRes: float32[parameters={&quot;__doc__&quot;: &quot;res on pt corrected with c-jet regression&quot;}],\n",
       "    electronIdx1: int32[parameters={&quot;__doc__&quot;: &quot;index of first matching electron&quot;}],\n",
       "    electronIdx2: int32[parameters={&quot;__doc__&quot;: &quot;index of second matching electron&quot;}],\n",
       "    hfadjacentEtaStripsSize: int32[parameters={&quot;__doc__&quot;: &quot;eta size of the strips next to the central tower strip in HF (noise discriminating variable) &quot;}],\n",
       "    hfcentralEtaStripSize: int32[parameters={&quot;__doc__&quot;: &quot;eta size of the central tower strip in HF (noise discriminating variable) &quot;}],\n",
       "    jetId: int32[parameters={&quot;__doc__&quot;: &quot;Jet ID flags bit1 is loose (always false in 2017 since it does not exist), bit2 is tight, bit3 is tightLepVeto&quot;}],\n",
       "    muonIdx1: int32[parameters={&quot;__doc__&quot;: &quot;index of first matching muon&quot;}],\n",
       "    muonIdx2: int32[parameters={&quot;__doc__&quot;: &quot;index of second matching muon&quot;}],\n",
       "    nElectrons: int32[parameters={&quot;__doc__&quot;: &quot;number of electrons in the jet&quot;}],\n",
       "    nMuons: int32[parameters={&quot;__doc__&quot;: &quot;number of muons in the jet&quot;}],\n",
       "    puId: int32[parameters={&quot;__doc__&quot;: &quot;Pileup ID flags with 106X (2018) training&quot;}],\n",
       "    nConstituents: uint8[parameters={&quot;__doc__&quot;: &quot;Number of particles in the jet&quot;}],\n",
       "    genJetIdx: int32[parameters={&quot;__doc__&quot;: &quot;index of matched gen jet&quot;}],\n",
       "    hadronFlavour: int32[parameters={&quot;__doc__&quot;: &quot;flavour from hadron ghost clustering&quot;}],\n",
       "    partonFlavour: int32[parameters={&quot;__doc__&quot;: &quot;flavour from parton matching&quot;}],\n",
       "    cleanmask: uint8[parameters={&quot;__doc__&quot;: &quot;simple cleaning mask with priority to leptons&quot;}],\n",
       "    electronIdx1G: int64[parameters={&quot;__doc__&quot;: &quot;index of first matching electron&quot;}],\n",
       "    electronIdx2G: int64[parameters={&quot;__doc__&quot;: &quot;index of second matching electron&quot;}],\n",
       "    genJetIdxG: int64[parameters={&quot;__doc__&quot;: &quot;index of matched gen jet&quot;}],\n",
       "    muonIdx1G: int64[parameters={&quot;__doc__&quot;: &quot;index of first matching muon&quot;}],\n",
       "    muonIdx2G: int64[parameters={&quot;__doc__&quot;: &quot;index of second matching muon&quot;}],\n",
       "    muonIdxG: var * int64[parameters={&quot;__doc__&quot;: &quot;index of first matching muon&quot;}],\n",
       "    electronIdxG: var * int64[parameters={&quot;__doc__&quot;: &quot;index of first matching electron&quot;}], \n",
       "parameters={&quot;__doc__&quot;: &quot;slimmedJets, i.e. ak4 PFJets CHS with JECs applied, after basic selection (pt &gt; 15)&quot;, &quot;collection_name&quot;: &quot;Jet&quot;}]</pre>"
      ],
      "text/plain": [
       "<JetArray [[Jet, ..., None], ...] type='20510 * 50 * ?Jet[area: float32[par...'>"
      ]
     },
     "execution_count": 158,
     "metadata": {},
     "output_type": "execute_result"
    }
   ],
   "source": [
    "ak.unflatten(ak.flatten(masked_jets), 50)"
   ]
  },
  {
   "cell_type": "code",
   "execution_count": 16,
   "metadata": {},
   "outputs": [],
   "source": [
    "highest_3_charg_score_idx = ak.argsort(ak.unflatten(scores[:,1], ak.num(jets)), axis=1)[:, -3:]\n",
    "highest_stop_score_idx = ak.argsort(ak.unflatten(scores[:,0], ak.num(jets)), axis=1)[:, -1]"
   ]
  },
  {
   "cell_type": "code",
   "execution_count": 22,
   "metadata": {},
   "outputs": [],
   "source": [
    "top_3_charg_score_sum = jets[highest_3_charg_score_idx].sum()\n",
    "m3_top_3_nn_charg_score = top_3_charg_score_sum.mass"
   ]
  },
  {
   "cell_type": "code",
   "execution_count": 23,
   "metadata": {},
   "outputs": [],
   "source": [
    "nn4 = top_3_charg_score_sum + jets[ak.singletons(highest_stop_score_idx)]"
   ]
  },
  {
   "cell_type": "code",
   "execution_count": 26,
   "metadata": {},
   "outputs": [],
   "source": [
    "stop_jets = jets[ak.singletons(highest_stop_score_idx)]"
   ]
  },
  {
   "cell_type": "code",
   "execution_count": 10,
   "metadata": {},
   "outputs": [],
   "source": [
    "m14 = jets[:, 0:4].sum().mass"
   ]
  },
  {
   "cell_type": "code",
   "execution_count": 11,
   "metadata": {},
   "outputs": [
    {
     "data": {
      "text/html": [
       "<pre>[1.39e+03,\n",
       " 1.41e+03,\n",
       " 1.27e+03,\n",
       " 1.23e+03,\n",
       " 1.33e+03,\n",
       " 1.35e+03,\n",
       " 1.36e+03,\n",
       " 1.33e+03,\n",
       " 1.16e+03,\n",
       " 1.27e+03,\n",
       " ...,\n",
       " 1.41e+03,\n",
       " 1.3e+03,\n",
       " 1.16e+03,\n",
       " 1.43e+03,\n",
       " 1.19e+03,\n",
       " 1.38e+03,\n",
       " 1.29e+03,\n",
       " 1.26e+03,\n",
       " 2.81e+03]\n",
       "--------------------\n",
       "type: 4212 * float32</pre>"
      ],
      "text/plain": [
       "<Array [1.39e+03, 1.41e+03, ..., 1.26e+03, 2.81e+03] type='4212 * float32'>"
      ]
     },
     "execution_count": 11,
     "metadata": {},
     "output_type": "execute_result"
    }
   ],
   "source": [
    "m14"
   ]
  },
  {
   "cell_type": "code",
   "execution_count": 35,
   "metadata": {},
   "outputs": [
    {
     "data": {
      "text/html": [
       "<pre>[[0.000372, 0.966, 4.83e-05, 2.6e-05, 4.78e-10, 3.2e-14],\n",
       " [0.00088, 0.979, 0.000759, 2.34e-06],\n",
       " [0.993, 0.000288, 0.000599, 1.07e-06, 1.2e-10],\n",
       " [0.389, 0.516, 2.89e-06, 2.41e-07, 3.78e-08, 4.32e-14],\n",
       " [0.999, 0.794, 4.68e-05, 1.58e-06, 3.94e-09, 4.73e-14],\n",
       " [0.993, 0.000382, 0.00687, 3.8e-06, 2.55e-10, 1.11e-13],\n",
       " [0.000158, 0.921, 0.00528, 2.17e-07, 1.71e-10],\n",
       " [0.00171, 0.00119, 0.000413, 4.32e-06, 6.21e-09, 1.88e-11],\n",
       " [0.999, 0.972, 0.00012, 8.11e-08, 7.32e-09, 1.1e-12],\n",
       " [0.905, 0.000235, 4.08e-05, 9.19e-07, 1.44e-10, 1.97e-14],\n",
       " ...,\n",
       " [0.998, 0.898, 0.000338, 2.97e-05, 1.6e-09],\n",
       " [0.0013, 0.849, 0.00197, 5.57e-06],\n",
       " [0.987, 0.518, 9.94e-06, 8.24e-06],\n",
       " [0.999, 0.889, 1.71e-05, 4.4e-08],\n",
       " [0.388, 0.267, 0.0122, 2.12e-05],\n",
       " [0.00655, 0.000187, 0.0237, 1.04e-06, 1.77e-08],\n",
       " [0.00135, 0.969, 0.248, 6.82e-07],\n",
       " [0.962, 0.771, 0.000102, 4.03e-06, 1.33e-09],\n",
       " [0.00167, 0.142, 0.872, 0.0145]]\n",
       "------------------------------------------------------------\n",
       "type: 4212 * var * float32</pre>"
      ],
      "text/plain": [
       "<Array [[0.000372, 0.966, ..., 3.2e-14], ...] type='4212 * var * float32'>"
      ]
     },
     "execution_count": 35,
     "metadata": {},
     "output_type": "execute_result"
    }
   ],
   "source": [
    "ak.unflatten(scores[:,0], ak.num(jets))"
   ]
  },
  {
   "cell_type": "code",
   "execution_count": 32,
   "metadata": {},
   "outputs": [
    {
     "data": {
      "text/html": [
       "<pre>[[3, 0, 2],\n",
       " [3, 0, 2],\n",
       " [3, 2, 1],\n",
       " [4, 3, 2],\n",
       " [1, 3, 2],\n",
       " [2, 3, 1],\n",
       " [2, 0, 3],\n",
       " [1, 2, 4],\n",
       " [4, 3, 2],\n",
       " [3, 1, 2],\n",
       " ...,\n",
       " [1, 3, 2],\n",
       " [2, 0, 3],\n",
       " [1, 3, 2],\n",
       " [1, 3, 2],\n",
       " [1, 2, 3],\n",
       " [0, 1, 3],\n",
       " [2, 3, 0],\n",
       " [1, 3, 2],\n",
       " [1, 3, 0]]\n",
       "------------------------\n",
       "type: 4212 * var * int64</pre>"
      ],
      "text/plain": [
       "<Array [[3, 0, 2], [3, 0, 2], ..., [...], [1, 3, 0]] type='4212 * var * int64'>"
      ]
     },
     "execution_count": 32,
     "metadata": {},
     "output_type": "execute_result"
    }
   ],
   "source": [
    "highest_3_charg_score_idx"
   ]
  },
  {
   "cell_type": "code",
   "execution_count": 31,
   "metadata": {},
   "outputs": [
    {
     "data": {
      "text/html": [
       "<pre>[1,\n",
       " 1,\n",
       " 0,\n",
       " 1,\n",
       " 0,\n",
       " 0,\n",
       " 1,\n",
       " 0,\n",
       " 0,\n",
       " 0,\n",
       " ...,\n",
       " 0,\n",
       " 1,\n",
       " 0,\n",
       " 0,\n",
       " 0,\n",
       " 2,\n",
       " 1,\n",
       " 0,\n",
       " 2]\n",
       "------------------\n",
       "type: 4212 * int64</pre>"
      ],
      "text/plain": [
       "<Array [1, 1, 0, 1, 0, 0, 1, 0, ..., 0, 0, 0, 2, 1, 0, 2] type='4212 * int64'>"
      ]
     },
     "execution_count": 31,
     "metadata": {},
     "output_type": "execute_result"
    }
   ],
   "source": [
    "highest_stop_score_idx"
   ]
  },
  {
   "cell_type": "code",
   "execution_count": 18,
   "metadata": {},
   "outputs": [],
   "source": [
    "high_charg_score_mask = ak.unflatten(scores[:,1] > 0.95, ak.num(jets))\n",
    "highest_3_charg_score_idx = ak.argsort(ak.unflatten(scores[:,1], ak.num(jets)), axis=1)[:, -3:]\n",
    "highest_stop_score_idx = ak.argsort(ak.unflatten(scores[:,0], ak.num(jets)), axis=1)[:, -1]\n",
    "\n",
    "top_3_charg_score_sum = jets[highest_3_charg_score_idx].sum()\n",
    "m3_top_3_nn_charg_score = top_3_charg_score_sum.mass"
   ]
  },
  {
   "cell_type": "code",
   "execution_count": 19,
   "metadata": {},
   "outputs": [
    {
     "data": {
      "text/html": [
       "<pre>[863,\n",
       " 834,\n",
       " 787,\n",
       " 507,\n",
       " 710,\n",
       " 853,\n",
       " 835,\n",
       " 431,\n",
       " 334,\n",
       " 726,\n",
       " ...,\n",
       " 811,\n",
       " 827,\n",
       " 677,\n",
       " 820,\n",
       " 532,\n",
       " 937,\n",
       " 941,\n",
       " 680,\n",
       " 2.55e+03]\n",
       "--------------------\n",
       "type: 4212 * float32</pre>"
      ],
      "text/plain": [
       "<Array [863, 834, 787, 507, ..., 937, 941, 680, 2.55e+03] type='4212 * float32'>"
      ]
     },
     "execution_count": 19,
     "metadata": {},
     "output_type": "execute_result"
    }
   ],
   "source": [
    "m3_top_3_nn_charg_score"
   ]
  },
  {
   "cell_type": "code",
   "execution_count": 27,
   "metadata": {},
   "outputs": [
    {
     "data": {
      "text/html": [
       "<pre>[1.39e+03,\n",
       " 1.41e+03,\n",
       " 1.27e+03,\n",
       " 817,\n",
       " 1.33e+03,\n",
       " 1.35e+03,\n",
       " 1.36e+03,\n",
       " 1.24e+03,\n",
       " 808,\n",
       " 1.27e+03,\n",
       " ...,\n",
       " 1.41e+03,\n",
       " 1.3e+03,\n",
       " 1.16e+03,\n",
       " 1.43e+03,\n",
       " 1.19e+03,\n",
       " 1.38e+03,\n",
       " 1.29e+03,\n",
       " 1.26e+03,\n",
       " 2.81e+03]\n",
       "--------------------\n",
       "type: 4212 * float32</pre>"
      ],
      "text/plain": [
       "<Array [1.39e+03, 1.41e+03, ..., 1.26e+03, 2.81e+03] type='4212 * float32'>"
      ]
     },
     "execution_count": 27,
     "metadata": {},
     "output_type": "execute_result"
    }
   ],
   "source": [
    "\n",
    "ak.flatten((top_3_charg_score_sum + stop_jets).mass)"
   ]
  },
  {
   "cell_type": "code",
   "execution_count": 25,
   "metadata": {},
   "outputs": [
    {
     "data": {
      "text/html": [
       "<pre>[1.39e+03,\n",
       " 1.41e+03,\n",
       " 1.27e+03,\n",
       " 817,\n",
       " 1.33e+03,\n",
       " 1.35e+03,\n",
       " 1.36e+03,\n",
       " 1.24e+03,\n",
       " 808,\n",
       " 1.27e+03,\n",
       " ...,\n",
       " 1.41e+03,\n",
       " 1.3e+03,\n",
       " 1.16e+03,\n",
       " 1.43e+03,\n",
       " 1.19e+03,\n",
       " 1.38e+03,\n",
       " 1.29e+03,\n",
       " 1.26e+03,\n",
       " 2.81e+03]\n",
       "--------------------\n",
       "type: 4212 * float32</pre>"
      ],
      "text/plain": [
       "<Array [1.39e+03, 1.41e+03, ..., 1.26e+03, 2.81e+03] type='4212 * float32'>"
      ]
     },
     "execution_count": 25,
     "metadata": {},
     "output_type": "execute_result"
    }
   ],
   "source": [
    "ak.flatten(nn4.mass)"
   ]
  },
  {
   "cell_type": "code",
   "execution_count": 47,
   "metadata": {},
   "outputs": [],
   "source": [
    "stop_jet = jets[ak.singletons(highest_stop_score_idx)]"
   ]
  }
 ],
 "metadata": {
  "kernelspec": {
   "display_name": "coffeaenv",
   "language": "python",
   "name": "coffeaenv"
  },
  "language_info": {
   "codemirror_mode": {
    "name": "ipython",
    "version": 3
   },
   "file_extension": ".py",
   "mimetype": "text/x-python",
   "name": "python",
   "nbconvert_exporter": "python",
   "pygments_lexer": "ipython3",
   "version": "3.10.12"
  }
 },
 "nbformat": 4,
 "nbformat_minor": 2
}
