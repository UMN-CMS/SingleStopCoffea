{
 "cells": [
  {
   "cell_type": "code",
   "execution_count": 1,
   "metadata": {},
   "outputs": [],
   "source": [
    "import awkward as ak\n",
    "from coffea.nanoevents import NanoEventsFactory, NanoAODSchema\n",
    "from coffea.lookup_tools import extractor\n",
    "import numpy as np\n",
    "from scipy.optimize import curve_fit\n",
    "from scipy.stats import crystalball\n",
    "import matplotlib.pyplot as plt\n",
    "from hist import Hist\n",
    "from coffea.analysis_tools import PackedSelection\n",
    "from scipy.integrate import quad"
   ]
  },
  {
   "cell_type": "code",
   "execution_count": 3,
   "metadata": {},
   "outputs": [
    {
     "name": "stderr",
     "output_type": "stream",
     "text": [
      "/usr/local/lib/python3.10/site-packages/coffea/nanoevents/methods/candidate.py:11: FutureWarning: In version 2024.7.0 (target date: 2024-06-30 11:59:59-05:00), this will be an error.\n",
      "To raise these warnings as errors (and get stack traces to find out where they're called), run\n",
      "    import warnings\n",
      "    warnings.filterwarnings(\"error\", module=\"coffea.*\")\n",
      "after the first `import coffea` or use `@pytest.mark.filterwarnings(\"error:::coffea.*\")` in pytest.\n",
      "Issue: coffea.nanoevents.methods.vector will be removed and replaced with scikit-hep vector. Nanoevents schemas internal to coffea will be migrated. Otherwise please consider using that package!.\n",
      "  from coffea.nanoevents.methods import vector\n"
     ]
    }
   ],
   "source": [
    "#TODO: fix path issue\n",
    "fname = \"NANOAOD-1500_900.root\"\n",
    "events = NanoEventsFactory.from_root(\n",
    "    {fname: \"Events\"},\n",
    "    schemaclass=NanoAODSchema,\n",
    "    metadata={\"dataset\": \"DYJets\"},\n",
    "    delayed=False\n",
    ").events()"
   ]
  },
  {
   "cell_type": "code",
   "execution_count": 4,
   "metadata": {},
   "outputs": [],
   "source": [
    "def makeCutSet(x, s, *args):\n",
    "    return [x[s > a] for a in args]\n",
    "\n",
    "b_tag_wps = [0.0490, 0.2783, 0.7100]\n",
    "\n",
    "def createObjects(events):\n",
    "    good_jets = events.Jet[(events.Jet.pt > 30) & (abs(events.Jet.eta) < 2.4)]\n",
    "    fat_jets = events.FatJet[(events.FatJet.pt > 30) & (abs(events.FatJet.eta) < 2.4)]\n",
    "    loose_top, med_top, tight_top = makeCutSet(\n",
    "        fat_jets, fat_jets.particleNet_TvsQCD, 0.58, 0.80, 0.97\n",
    "    )\n",
    "    #loose_W, med_W, tight_W = makeCutSet(\n",
    "    #    fat_jets, fat_jets.particleNet_WvsQCD, 0.7, 0.94, 0.98\n",
    "    #)\n",
    "\n",
    "    #deep_top_wp1, deep_top_wp2, deep_top_wp3, deep_top_wp4 = makeCutSet(\n",
    "    #    fat_jets, fat_jets.deepTag_TvsQCD, 0.436, 0.802, 0.922, 0.989\n",
    "    #)\n",
    "    #deep_W_wp1, deep_W_wp2, deep_W_wp3, deep_W_wp4 = makeCutSet(\n",
    "    #    fat_jets, fat_jets.deepTag_WvsQCD, 0.458, 0.762, 0.918, 0.961\n",
    "    #)\n",
    "    loose_b, med_b, tight_b = makeCutSet(\n",
    "        good_jets, good_jets.btagDeepFlavB, *(b_tag_wps[x] for x in range(3))\n",
    "    )\n",
    "\n",
    "    el = events.Electron\n",
    "    good_electrons = el[\n",
    "        (el.cutBased == 4)\n",
    "        & (el.miniPFRelIso_all < 0.1)\n",
    "        & (el.pt > 30)\n",
    "        & (abs(el.eta) < 2.4)\n",
    "    ]\n",
    "    mu = events.Muon\n",
    "    good_muons = mu[\n",
    "        (mu.mediumId) & (mu.miniPFRelIso_all < 0.2) & (mu.pt > 30) & (abs(mu.eta) < 2.4)\n",
    "    ]\n",
    "    events[\"good_jets\"] = good_jets\n",
    "    events[\"good_electrons\"] = good_electrons\n",
    "    events[\"good_muons\"] = good_muons\n",
    "\n",
    "    events[\"loose_bs\"] = loose_b\n",
    "    events[\"med_bs\"] = med_b\n",
    "    events[\"tight_bs\"] = tight_b\n",
    "\n",
    "    events[\"tight_tops\"] = tight_top\n",
    "    # events[\"med_tops\"] = med_top\n",
    "    # events[\"loose_tops\"] = loose_top\n",
    "\n",
    "    # events[\"tight_Ws\"] = tight_W\n",
    "    # events[\"med_Ws\"] = med_W\n",
    "    # events[\"loose_Ws\"] = loose_W\n",
    "\n",
    "    # events[\"deep_top_wp1\"] = deep_top_wp1\n",
    "    # events[\"deep_top_wp2\"] = deep_top_wp2\n",
    "    # events[\"deep_top_wp3\"] = deep_top_wp3\n",
    "    # events[\"deep_top_wp4\"] = deep_top_wp4\n",
    "\n",
    "    # events[\"deep_W_wp1\"] = deep_W_wp1\n",
    "    # events[\"deep_W_wp2\"] = deep_W_wp2\n",
    "    # events[\"deep_W_wp3\"] = deep_W_wp3\n",
    "    # events[\"deep_W_wp4\"] = deep_W_wp4\n",
    "\n",
    "    return events\n",
    "\n",
    "def createSelection(events):\n",
    "    \"\"\"Baseline selection for the analysis.\n",
    "Applies the following selection:\n",
    "- Jets[0].pt > 300\n",
    "- 4 <= nJets <= 6\n",
    "- 0 leptons\n",
    "- 2 medium bjets, at least one of which is tight\n",
    "- delta_R(med_bjets[0],med_bjets[1]) > 1\n",
    "    \"\"\"\n",
    "\n",
    "    selection = PackedSelection()\n",
    "    good_jets = events.good_jets\n",
    "    fat_jets = events.FatJet\n",
    "    good_muons = events.good_muons\n",
    "    good_electrons = events.good_electrons\n",
    "    loose_b = events.loose_bs\n",
    "    med_b = events.med_bs\n",
    "    tight_b = events.tight_bs\n",
    "    tight_top = events.tight_tops\n",
    "    # selection = PackedSelection()\n",
    "    filled_jets = ak.pad_none(good_jets, 4, axis=1)\n",
    "    top_two_dr = ak.fill_none(filled_jets[:, 0].delta_r(filled_jets[:, 1]), False)\n",
    "\n",
    "    filled_med = ak.pad_none(med_b, 2, axis=1)\n",
    "    med_dr = ak.fill_none(filled_med[:, 0].delta_r(filled_med[:, 1]), False)\n",
    "    # selection.add(\"trigger\", (ak.num(good_jets) >= 4) & (ak.num(good_jets) <= 6))\n",
    "    if \"HLT\" in events.fields:\n",
    "        selection.add(\"hlt\", (events.HLT.PFHT1050 | events.HLT.AK8PFJet360_TrimMass30))\n",
    "    selection.add(\"highptjet\", (ak.fill_none(filled_jets[:, 0].pt > 300, False)))\n",
    "    selection.add(\"jets\", ((ak.num(good_jets) >= 4) & (ak.num(good_jets) <= 6)))\n",
    "    selection.add(\"0Lep\", ((ak.num(good_electrons) == 0) & (ak.num(good_muons) == 0)))\n",
    "    selection.add(\"2bjet\", (ak.num(med_b) >= 2))\n",
    "    selection.add(\"1tightbjet\", (ak.num(tight_b) >= 1))\n",
    "    # selection.add(\"jet_dr\", ((top_two_dr < 4) & (top_two_dr > 2)).to_numpy())\n",
    "    selection.add(\"b_dr\", (med_dr > 1))\n",
    "    return selection"
   ]
  },
  {
   "cell_type": "code",
   "execution_count": 5,
   "metadata": {},
   "outputs": [],
   "source": [
    "events = createObjects(events)\n",
    "mask = createSelection(events).all(\"highptjet\", \"jets\", \"0Lep\", \"2bjet\", \"1tightbjet\")\n",
    "events = events[mask]"
   ]
  },
  {
   "cell_type": "markdown",
   "metadata": {},
   "source": [
    "jetOrdinality,jetPT,jetEta,jetPhi,jetBScore,m3M,m3PT,m3Eta,m3Phi,m4M,m4PT,m4Eta,m4Phi,isStopMatched,isChiMatched,isOther"
   ]
  },
  {
   "cell_type": "code",
   "execution_count": 14,
   "metadata": {},
   "outputs": [],
   "source": [
    "jets = events.Jet\n",
    "gj = events.good_jets"
   ]
  },
  {
   "cell_type": "code",
   "execution_count": 25,
   "metadata": {},
   "outputs": [
    {
     "data": {
      "text/html": [
       "<pre>[[0, 1, 2, 3, 4, 5],\n",
       " [0, 1, 2, 3],\n",
       " [0, 1, 2, 3, 4],\n",
       " [0, 1, 2, 3, 4, 5],\n",
       " [0, 1, 2, 3, 4, 5],\n",
       " [0, 1, 2, 3, 4, 5],\n",
       " [0, 1, 2, 3, 4],\n",
       " [0, 1, 2, 3, 4, 5],\n",
       " [0, 1, 2, 3, 4, 5],\n",
       " [0, 1, 2, 3, 4, 5],\n",
       " ...,\n",
       " [0, 1, 2, 3, 4],\n",
       " [0, 1, 2, 3],\n",
       " [0, 1, 2, 3],\n",
       " [0, 1, 2, 3],\n",
       " [0, 1, 2, 3],\n",
       " [0, 1, 2, 3, 4],\n",
       " [0, 1, 2, 3],\n",
       " [0, 1, 2, 3, 4],\n",
       " [0, 1, 2, 3]]\n",
       "------------------------\n",
       "type: 4469 * var * int64</pre>"
      ],
      "text/plain": [
       "<Array [[0, 1, 2, 3, 4, 5], [...], ..., [0, 1, 2, 3]] type='4469 * var * int64'>"
      ]
     },
     "execution_count": 25,
     "metadata": {},
     "output_type": "execute_result"
    }
   ],
   "source": [
    "ak.local_index(gj, axis=1)"
   ]
  },
  {
   "cell_type": "code",
   "execution_count": 31,
   "metadata": {},
   "outputs": [],
   "source": [
    "def pad(arr):\n",
    "            return ak.fill_none(\n",
    "                ak.pad_none(arr, 100, axis=1, clip=True),\n",
    "                0.0,\n",
    "            )"
   ]
  },
  {
   "cell_type": "code",
   "execution_count": 58,
   "metadata": {},
   "outputs": [],
   "source": [
    "imap = {\n",
    "    \"ordinality\": ak.local_index(gj, axis=1),\n",
    "    \"pt\": gj.pt,\n",
    "    \"eta\": gj.eta,\n",
    "    \"phi\": gj.phi,\n",
    "    \"bscore\": gj.btagDeepFlavB,\n",
    "    \"m3_m\": gj[:, :3].sum().mass,\n",
    "    \"m3_pt\": gj[:, :3].sum().pt,\n",
    "    \"m3_eta\": gj[:, :3].sum().eta,\n",
    "    \"m3_phi\": gj[:, :3].sum().phi,\n",
    "    \"m4_m\": gj[:, :4].sum().mass,\n",
    "    \"m4_pt\": gj[:, :4].sum().pt,\n",
    "    \"m4_eta\": gj[:, :4].sum().eta,\n",
    "    \"m4_phi\": gj[:, :4].sum().phi\n",
    "}"
   ]
  },
  {
   "cell_type": "code",
   "execution_count": 59,
   "metadata": {},
   "outputs": [],
   "source": [
    "ordinality = ak.local_index(gj, axis=1)\n",
    "pt = gj.pt\n",
    "eta = gj.eta\n",
    "phi = gj.phi\n",
    "bscore = gj.btagDeepFlavB\n",
    "m3_m = gj[:, :3].sum().mass\n",
    "m3_pt = gj[:, :3].sum().pt\n",
    "m3_eta = gj[:, :3].sum().eta\n",
    "m3_phi = gj[:, :3].sum().phi\n",
    "m4_m = gj[:, :4].sum().mass\n",
    "m4_pt = gj[:, :4].sum().pt\n",
    "m4_eta = gj[:, :4].sum().eta\n",
    "m4_phi = gj[:, :4].sum().phi"
   ]
  },
  {
   "cell_type": "code",
   "execution_count": 61,
   "metadata": {},
   "outputs": [
    {
     "data": {
      "text/html": [
       "<pre>[{ordinality: 0, pt: 448, eta: 0.138, phi: -2.74, bscore: 0.0232, ...},\n",
       " {ordinality: 1, pt: 359, eta: -0.454, phi: -0.685, bscore: 0.717, ...},\n",
       " {ordinality: 2, pt: 272, eta: 0.52, phi: 1.42, bscore: 0.00554, ...},\n",
       " {ordinality: 3, pt: 237, eta: 0.00811, phi: 1.38, bscore: 0.702, ...},\n",
       " {ordinality: 4, pt: 43.4, eta: -0.3, phi: -2.57, bscore: 0.0811, ...},\n",
       " {ordinality: 5, pt: 39.8, eta: 2.05, phi: -0.858, bscore: 0.0298, ...}]\n",
       "-----------------------------------------------------------------------------------\n",
       "type: 6 * {\n",
       "    ordinality: int64,\n",
       "    pt: float32[parameters={&quot;__doc__&quot;: &quot;pt&quot;}],\n",
       "    eta: float32[parameters={&quot;__doc__&quot;: &quot;eta&quot;}],\n",
       "    phi: float32[parameters={&quot;__doc__&quot;: &quot;phi&quot;}],\n",
       "    bscore: float32[parameters={&quot;__doc__&quot;: &quot;DeepJet b+bb+lepb tag discriminator&quot;}],\n",
       "    m3_m: float32,\n",
       "    m3_pt: float32,\n",
       "    m3_eta: float32,\n",
       "    m3_phi: float32,\n",
       "    m4_m: float32,\n",
       "    m4_pt: float32,\n",
       "    m4_eta: float32,\n",
       "    m4_phi: float32\n",
       "}</pre>"
      ],
      "text/plain": [
       "<Array [{ordinality: 0, pt: 448, ...}, ...] type='6 * {ordinality: int64, p...'>"
      ]
     },
     "execution_count": 61,
     "metadata": {},
     "output_type": "execute_result"
    }
   ],
   "source": [
    "ak.zip(imap)[0]"
   ]
  },
  {
   "cell_type": "code",
   "execution_count": 56,
   "metadata": {},
   "outputs": [
    {
     "data": {
      "text/plain": [
       "1412.2499"
      ]
     },
     "execution_count": 56,
     "metadata": {},
     "output_type": "execute_result"
    }
   ],
   "source": [
    "(imap[\"m4_m\"])[k]"
   ]
  },
  {
   "cell_type": "code",
   "execution_count": 27,
   "metadata": {},
   "outputs": [
    {
     "data": {
      "text/plain": [
       "{'ordinality': <Array [[0, 1, 2, 3, 4, 5], [...], ..., [0, 1, 2, 3]] type='4469 * var * int64'>,\n",
       " 'pt': <Array [[448, 359, 272, ..., 43.4, 39.8], ...] type='4469 * var * float32[p...'>,\n",
       " 'eta': <Array [[0.138, -0.454, ..., -0.3, 2.05], ...] type='4469 * var * float32[p...'>,\n",
       " 'phi': <Array [[-2.74, -0.685, ..., -0.858], ...] type='4469 * var * float32[param...'>,\n",
       " 'bscore': <Array [[0.0232, 0.717, ..., 0.0298], ...] type='4469 * var * float32[param...'>,\n",
       " 'm3_m': <Array [1.15e+03, 1.14e+03, ..., 1.06e+03, 2.6e+03] type='4469 * float32'>,\n",
       " 'm3_pt': <Array [164, 228, 132, 112, 40, ..., 102, 58.2, 103, 265] type='4469 * float32'>,\n",
       " 'm3_eta': <Array [0.25, 1.96, -0.841, 2.66, ..., 2.83, -1.03, 1.2] type='4469 * float32'>,\n",
       " 'm3_phi': <Array [-2.18, 2.5, -1.3, ..., -1.56, 0.208, 0.0621] type='4469 * float32'>,\n",
       " 'm4_m': <Array [1.39e+03, 1.41e+03, ..., 1.26e+03, 2.81e+03] type='4469 * float32'>,\n",
       " 'm4_pt': <Array [110, 82.2, 99.2, 115, ..., 94.6, 48, 104, 111] type='4469 * float32'>,\n",
       " 'm4_eta': <Array [0.384, 2.84, -2.12, 2.97, ..., 2.87, -1.15, 1.74] type='4469 * float32'>,\n",
       " 'm4_phi': <Array [2.03, 2.34, -1.67, ..., -2.73, -2.31, 0.312] type='4469 * float32'>}"
      ]
     },
     "execution_count": 27,
     "metadata": {},
     "output_type": "execute_result"
    }
   ],
   "source": [
    "imap"
   ]
  },
  {
   "cell_type": "code",
   "execution_count": null,
   "metadata": {},
   "outputs": [],
   "source": []
  }
 ],
 "metadata": {
  "kernelspec": {
   "display_name": "coffeaenv",
   "language": "python",
   "name": "coffeaenv"
  },
  "language_info": {
   "codemirror_mode": {
    "name": "ipython",
    "version": 3
   },
   "file_extension": ".py",
   "mimetype": "text/x-python",
   "name": "python",
   "nbconvert_exporter": "python",
   "pygments_lexer": "ipython3",
   "version": "3.10.12"
  }
 },
 "nbformat": 4,
 "nbformat_minor": 2
}
