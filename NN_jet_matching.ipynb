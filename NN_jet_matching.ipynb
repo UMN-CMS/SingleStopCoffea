{
 "cells": [
  {
   "cell_type": "markdown",
   "metadata": {},
   "source": [
    "# Mine"
   ]
  },
  {
   "cell_type": "code",
   "execution_count": 1,
   "metadata": {},
   "outputs": [],
   "source": [
    "import awkward as ak\n",
    "from coffea.nanoevents import NanoEventsFactory, NanoAODSchema\n",
    "from coffea.lookup_tools import extractor\n",
    "import numpy as np\n",
    "from scipy.optimize import curve_fit\n",
    "from scipy.stats import crystalball\n",
    "import matplotlib.pyplot as plt\n",
    "from hist import Hist\n",
    "from coffea.analysis_tools import PackedSelection\n",
    "from scipy.integrate import quad"
   ]
  },
  {
   "cell_type": "code",
   "execution_count": 2,
   "metadata": {},
   "outputs": [
    {
     "name": "stderr",
     "output_type": "stream",
     "text": [
      "/usr/local/lib/python3.10/site-packages/coffea/nanoevents/methods/candidate.py:11: FutureWarning: In version 2024.7.0 (target date: 2024-06-30 11:59:59-05:00), this will be an error.\n",
      "To raise these warnings as errors (and get stack traces to find out where they're called), run\n",
      "    import warnings\n",
      "    warnings.filterwarnings(\"error\", module=\"coffea.*\")\n",
      "after the first `import coffea` or use `@pytest.mark.filterwarnings(\"error:::coffea.*\")` in pytest.\n",
      "Issue: coffea.nanoevents.methods.vector will be removed and replaced with scikit-hep vector. Nanoevents schemas internal to coffea will be migrated. Otherwise please consider using that package!.\n",
      "  from coffea.nanoevents.methods import vector\n"
     ]
    }
   ],
   "source": [
    "#TODO: fix path issue\n",
    "fname = \"NANOAOD-1500_900.root\"\n",
    "events = NanoEventsFactory.from_root(\n",
    "    {fname: \"Events\"},\n",
    "    schemaclass=NanoAODSchema,\n",
    "    metadata={\"dataset\": \"DYJets\"},\n",
    "    delayed=False\n",
    ").events()"
   ]
  },
  {
   "cell_type": "code",
   "execution_count": null,
   "metadata": {},
   "outputs": [],
   "source": [
    "def makeCutSet(x, s, *args):\n",
    "    return [x[s > a] for a in args]\n",
    "\n",
    "b_tag_wps = [0.0490, 0.2783, 0.7100]\n",
    "\n",
    "def createObjects(events):\n",
    "    good_jets = events.Jet[(events.Jet.pt > 30) & (abs(events.Jet.eta) < 2.4)]\n",
    "    fat_jets = events.FatJet[(events.FatJet.pt > 30) & (abs(events.FatJet.eta) < 2.4)]\n",
    "    loose_top, med_top, tight_top = makeCutSet(\n",
    "        fat_jets, fat_jets.particleNet_TvsQCD, 0.58, 0.80, 0.97\n",
    "    )\n",
    "    #loose_W, med_W, tight_W = makeCutSet(\n",
    "    #    fat_jets, fat_jets.particleNet_WvsQCD, 0.7, 0.94, 0.98\n",
    "    #)\n",
    "\n",
    "    #deep_top_wp1, deep_top_wp2, deep_top_wp3, deep_top_wp4 = makeCutSet(\n",
    "    #    fat_jets, fat_jets.deepTag_TvsQCD, 0.436, 0.802, 0.922, 0.989\n",
    "    #)\n",
    "    #deep_W_wp1, deep_W_wp2, deep_W_wp3, deep_W_wp4 = makeCutSet(\n",
    "    #    fat_jets, fat_jets.deepTag_WvsQCD, 0.458, 0.762, 0.918, 0.961\n",
    "    #)\n",
    "    loose_b, med_b, tight_b = makeCutSet(\n",
    "        good_jets, good_jets.btagDeepFlavB, *(b_tag_wps[x] for x in range(3))\n",
    "    )\n",
    "\n",
    "    el = events.Electron\n",
    "    good_electrons = el[\n",
    "        (el.cutBased == 4)\n",
    "        & (el.miniPFRelIso_all < 0.1)\n",
    "        & (el.pt > 30)\n",
    "        & (abs(el.eta) < 2.4)\n",
    "    ]\n",
    "    mu = events.Muon\n",
    "    good_muons = mu[\n",
    "        (mu.mediumId) & (mu.miniPFRelIso_all < 0.2) & (mu.pt > 30) & (abs(mu.eta) < 2.4)\n",
    "    ]\n",
    "    events[\"good_jets\"] = good_jets\n",
    "    events[\"good_electrons\"] = good_electrons\n",
    "    events[\"good_muons\"] = good_muons\n",
    "\n",
    "    events[\"loose_bs\"] = loose_b\n",
    "    events[\"med_bs\"] = med_b\n",
    "    events[\"tight_bs\"] = tight_b\n",
    "\n",
    "    events[\"tight_tops\"] = tight_top\n",
    "    # events[\"med_tops\"] = med_top\n",
    "    # events[\"loose_tops\"] = loose_top\n",
    "\n",
    "    # events[\"tight_Ws\"] = tight_W\n",
    "    # events[\"med_Ws\"] = med_W\n",
    "    # events[\"loose_Ws\"] = loose_W\n",
    "\n",
    "    # events[\"deep_top_wp1\"] = deep_top_wp1\n",
    "    # events[\"deep_top_wp2\"] = deep_top_wp2\n",
    "    # events[\"deep_top_wp3\"] = deep_top_wp3\n",
    "    # events[\"deep_top_wp4\"] = deep_top_wp4\n",
    "\n",
    "    # events[\"deep_W_wp1\"] = deep_W_wp1\n",
    "    # events[\"deep_W_wp2\"] = deep_W_wp2\n",
    "    # events[\"deep_W_wp3\"] = deep_W_wp3\n",
    "    # events[\"deep_W_wp4\"] = deep_W_wp4\n",
    "\n",
    "    return events\n",
    "\n",
    "def createSelection(events):\n",
    "    \"\"\"Baseline selection for the analysis.\n",
    "Applies the following selection:\n",
    "- Jets[0].pt > 300\n",
    "- 4 <= nJets <= 6\n",
    "- 0 leptons\n",
    "- 2 medium bjets, at least one of which is tight\n",
    "- delta_R(med_bjets[0],med_bjets[1]) > 1\n",
    "    \"\"\"\n",
    "\n",
    "    selection = PackedSelection()\n",
    "    good_jets = events.good_jets\n",
    "    fat_jets = events.FatJet\n",
    "    good_muons = events.good_muons\n",
    "    good_electrons = events.good_electrons\n",
    "    loose_b = events.loose_bs\n",
    "    med_b = events.med_bs\n",
    "    tight_b = events.tight_bs\n",
    "    tight_top = events.tight_tops\n",
    "    # selection = PackedSelection()\n",
    "    filled_jets = ak.pad_none(good_jets, 4, axis=1)\n",
    "    top_two_dr = ak.fill_none(filled_jets[:, 0].delta_r(filled_jets[:, 1]), False)\n",
    "\n",
    "    filled_med = ak.pad_none(med_b, 2, axis=1)\n",
    "    med_dr = ak.fill_none(filled_med[:, 0].delta_r(filled_med[:, 1]), False)\n",
    "    # selection.add(\"trigger\", (ak.num(good_jets) >= 4) & (ak.num(good_jets) <= 6))\n",
    "    if \"HLT\" in events.fields:\n",
    "        selection.add(\"hlt\", (events.HLT.PFHT1050 | events.HLT.AK8PFJet360_TrimMass30))\n",
    "    selection.add(\"highptjet\", (ak.fill_none(filled_jets[:, 0].pt > 300, False)))\n",
    "    selection.add(\"jets\", ((ak.num(good_jets) >= 4) & (ak.num(good_jets) <= 6)))\n",
    "    selection.add(\"0Lep\", ((ak.num(good_electrons) == 0) & (ak.num(good_muons) == 0)))\n",
    "    selection.add(\"2bjet\", (ak.num(med_b) >= 2))\n",
    "    selection.add(\"1tightbjet\", (ak.num(tight_b) >= 1))\n",
    "    # selection.add(\"jet_dr\", ((top_two_dr < 4) & (top_two_dr > 2)).to_numpy())\n",
    "    selection.add(\"b_dr\", (med_dr > 1))\n",
    "    return selection"
   ]
  },
  {
   "cell_type": "code",
   "execution_count": null,
   "metadata": {},
   "outputs": [],
   "source": [
    "events = createObjects(events)\n",
    "mask = createSelection(events).all(\"highptjet\", \"jets\", \"0Lep\", \"2bjet\", \"1tightbjet\")\n",
    "events = events[mask]"
   ]
  },
  {
   "cell_type": "markdown",
   "metadata": {},
   "source": [
    "jetOrdinality,jetPT,jetEta,jetPhi,jetBScore,m3M,m3PT,m3Eta,m3Phi,m4M,m4PT,m4Eta,m4Phi,isStopMatched,isChiMatched,isOther"
   ]
  },
  {
   "cell_type": "code",
   "execution_count": null,
   "metadata": {},
   "outputs": [],
   "source": [
    "jets = events.Jet\n",
    "gj = events.good_jets"
   ]
  },
  {
   "cell_type": "code",
   "execution_count": null,
   "metadata": {},
   "outputs": [
    {
     "data": {
      "text/html": [
       "<pre>[[0, 1, 2, 3, 4, 5],\n",
       " [0, 1, 2, 3],\n",
       " [0, 1, 2, 3, 4],\n",
       " [0, 1, 2, 3, 4, 5],\n",
       " [0, 1, 2, 3, 4, 5],\n",
       " [0, 1, 2, 3, 4, 5],\n",
       " [0, 1, 2, 3, 4],\n",
       " [0, 1, 2, 3, 4, 5],\n",
       " [0, 1, 2, 3, 4, 5],\n",
       " [0, 1, 2, 3, 4, 5],\n",
       " ...,\n",
       " [0, 1, 2, 3, 4],\n",
       " [0, 1, 2, 3],\n",
       " [0, 1, 2, 3],\n",
       " [0, 1, 2, 3],\n",
       " [0, 1, 2, 3],\n",
       " [0, 1, 2, 3, 4],\n",
       " [0, 1, 2, 3],\n",
       " [0, 1, 2, 3, 4],\n",
       " [0, 1, 2, 3]]\n",
       "------------------------\n",
       "type: 4469 * var * int64</pre>"
      ],
      "text/plain": [
       "<Array [[0, 1, 2, 3, 4, 5], [...], ..., [0, 1, 2, 3]] type='4469 * var * int64'>"
      ]
     },
     "execution_count": 25,
     "metadata": {},
     "output_type": "execute_result"
    }
   ],
   "source": [
    "ak.local_index(gj, axis=1)"
   ]
  },
  {
   "cell_type": "code",
   "execution_count": null,
   "metadata": {},
   "outputs": [],
   "source": [
    "def pad(arr):\n",
    "            return ak.fill_none(\n",
    "                ak.pad_none(arr, 100, axis=1, clip=True),\n",
    "                0.0,\n",
    "            )"
   ]
  },
  {
   "cell_type": "code",
   "execution_count": null,
   "metadata": {},
   "outputs": [],
   "source": [
    "imap = {\n",
    "    \"ordinality\": ak.local_index(gj, axis=1),\n",
    "    \"pt\": gj.pt,\n",
    "    \"eta\": gj.eta,\n",
    "    \"phi\": gj.phi,\n",
    "    \"bscore\": gj.btagDeepFlavB,\n",
    "    \"m3_m\": gj[:, :3].sum().mass,\n",
    "    \"m3_pt\": gj[:, :3].sum().pt,\n",
    "    \"m3_eta\": gj[:, :3].sum().eta,\n",
    "    \"m3_phi\": gj[:, :3].sum().phi,\n",
    "    \"m4_m\": gj[:, :4].sum().mass,\n",
    "    \"m4_pt\": gj[:, :4].sum().pt,\n",
    "    \"m4_eta\": gj[:, :4].sum().eta,\n",
    "    \"m4_phi\": gj[:, :4].sum().phi\n",
    "}"
   ]
  },
  {
   "cell_type": "code",
   "execution_count": null,
   "metadata": {},
   "outputs": [],
   "source": [
    "ordinality = ak.local_index(gj, axis=1)\n",
    "pt = gj.pt\n",
    "eta = gj.eta\n",
    "phi = gj.phi\n",
    "bscore = gj.btagDeepFlavB\n",
    "m3_m = gj[:, :3].sum().mass\n",
    "m3_pt = gj[:, :3].sum().pt\n",
    "m3_eta = gj[:, :3].sum().eta\n",
    "m3_phi = gj[:, :3].sum().phi\n",
    "m4_m = gj[:, :4].sum().mass\n",
    "m4_pt = gj[:, :4].sum().pt\n",
    "m4_eta = gj[:, :4].sum().eta\n",
    "m4_phi = gj[:, :4].sum().phi"
   ]
  },
  {
   "cell_type": "code",
   "execution_count": null,
   "metadata": {},
   "outputs": [
    {
     "data": {
      "text/html": [
       "<pre>[{ordinality: 0, pt: 448, eta: 0.138, phi: -2.74, bscore: 0.0232, ...},\n",
       " {ordinality: 1, pt: 359, eta: -0.454, phi: -0.685, bscore: 0.717, ...},\n",
       " {ordinality: 2, pt: 272, eta: 0.52, phi: 1.42, bscore: 0.00554, ...},\n",
       " {ordinality: 3, pt: 237, eta: 0.00811, phi: 1.38, bscore: 0.702, ...},\n",
       " {ordinality: 4, pt: 43.4, eta: -0.3, phi: -2.57, bscore: 0.0811, ...},\n",
       " {ordinality: 5, pt: 39.8, eta: 2.05, phi: -0.858, bscore: 0.0298, ...}]\n",
       "-----------------------------------------------------------------------------------\n",
       "type: 6 * {\n",
       "    ordinality: int64,\n",
       "    pt: float32[parameters={&quot;__doc__&quot;: &quot;pt&quot;}],\n",
       "    eta: float32[parameters={&quot;__doc__&quot;: &quot;eta&quot;}],\n",
       "    phi: float32[parameters={&quot;__doc__&quot;: &quot;phi&quot;}],\n",
       "    bscore: float32[parameters={&quot;__doc__&quot;: &quot;DeepJet b+bb+lepb tag discriminator&quot;}],\n",
       "    m3_m: float32,\n",
       "    m3_pt: float32,\n",
       "    m3_eta: float32,\n",
       "    m3_phi: float32,\n",
       "    m4_m: float32,\n",
       "    m4_pt: float32,\n",
       "    m4_eta: float32,\n",
       "    m4_phi: float32\n",
       "}</pre>"
      ],
      "text/plain": [
       "<Array [{ordinality: 0, pt: 448, ...}, ...] type='6 * {ordinality: int64, p...'>"
      ]
     },
     "execution_count": 61,
     "metadata": {},
     "output_type": "execute_result"
    }
   ],
   "source": [
    "ak.zip(imap)[0]"
   ]
  },
  {
   "cell_type": "code",
   "execution_count": null,
   "metadata": {},
   "outputs": [
    {
     "data": {
      "text/plain": [
       "1412.2499"
      ]
     },
     "execution_count": 56,
     "metadata": {},
     "output_type": "execute_result"
    }
   ],
   "source": [
    "(imap[\"m4_m\"])[k]"
   ]
  },
  {
   "cell_type": "code",
   "execution_count": null,
   "metadata": {},
   "outputs": [
    {
     "data": {
      "text/plain": [
       "{'ordinality': <Array [[0, 1, 2, 3, 4, 5], [...], ..., [0, 1, 2, 3]] type='4469 * var * int64'>,\n",
       " 'pt': <Array [[448, 359, 272, ..., 43.4, 39.8], ...] type='4469 * var * float32[p...'>,\n",
       " 'eta': <Array [[0.138, -0.454, ..., -0.3, 2.05], ...] type='4469 * var * float32[p...'>,\n",
       " 'phi': <Array [[-2.74, -0.685, ..., -0.858], ...] type='4469 * var * float32[param...'>,\n",
       " 'bscore': <Array [[0.0232, 0.717, ..., 0.0298], ...] type='4469 * var * float32[param...'>,\n",
       " 'm3_m': <Array [1.15e+03, 1.14e+03, ..., 1.06e+03, 2.6e+03] type='4469 * float32'>,\n",
       " 'm3_pt': <Array [164, 228, 132, 112, 40, ..., 102, 58.2, 103, 265] type='4469 * float32'>,\n",
       " 'm3_eta': <Array [0.25, 1.96, -0.841, 2.66, ..., 2.83, -1.03, 1.2] type='4469 * float32'>,\n",
       " 'm3_phi': <Array [-2.18, 2.5, -1.3, ..., -1.56, 0.208, 0.0621] type='4469 * float32'>,\n",
       " 'm4_m': <Array [1.39e+03, 1.41e+03, ..., 1.26e+03, 2.81e+03] type='4469 * float32'>,\n",
       " 'm4_pt': <Array [110, 82.2, 99.2, 115, ..., 94.6, 48, 104, 111] type='4469 * float32'>,\n",
       " 'm4_eta': <Array [0.384, 2.84, -2.12, 2.97, ..., 2.87, -1.15, 1.74] type='4469 * float32'>,\n",
       " 'm4_phi': <Array [2.03, 2.34, -1.67, ..., -2.73, -2.31, 0.312] type='4469 * float32'>}"
      ]
     },
     "execution_count": 27,
     "metadata": {},
     "output_type": "execute_result"
    }
   ],
   "source": [
    "imap"
   ]
  },
  {
   "cell_type": "markdown",
   "metadata": {},
   "source": [
    "# What"
   ]
  },
  {
   "cell_type": "code",
   "execution_count": 14,
   "metadata": {},
   "outputs": [],
   "source": [
    "def pad(arr):\n",
    "            return ak.fill_none(\n",
    "                ak.pad_none(arr, 100, axis=1, clip=True),\n",
    "                0.0,\n",
    "            )"
   ]
  },
  {
   "cell_type": "code",
   "execution_count": 31,
   "metadata": {},
   "outputs": [
    {
     "ename": "KeyError",
     "evalue": "'features'",
     "output_type": "error",
     "traceback": [
      "\u001b[0;31m---------------------------------------------------------------------------\u001b[0m",
      "\u001b[0;31mKeyError\u001b[0m                                  Traceback (most recent call last)",
      "Cell \u001b[0;32mIn[31], line 3\u001b[0m\n\u001b[1;32m      1\u001b[0m {\n\u001b[1;32m      2\u001b[0m             \u001b[38;5;124m\"\u001b[39m\u001b[38;5;124mpoints\u001b[39m\u001b[38;5;124m\"\u001b[39m: ak\u001b[38;5;241m.\u001b[39mvalues_astype(retmap[\u001b[38;5;124m\"\u001b[39m\u001b[38;5;124mpoints\u001b[39m\u001b[38;5;124m\"\u001b[39m], \u001b[38;5;124m\"\u001b[39m\u001b[38;5;124mfloat32\u001b[39m\u001b[38;5;124m\"\u001b[39m),\n\u001b[0;32m----> 3\u001b[0m             \u001b[38;5;124m\"\u001b[39m\u001b[38;5;124mfeatures\u001b[39m\u001b[38;5;124m\"\u001b[39m: ak\u001b[38;5;241m.\u001b[39mvalues_astype(\u001b[43mretmap\u001b[49m\u001b[43m[\u001b[49m\u001b[38;5;124;43m\"\u001b[39;49m\u001b[38;5;124;43mfeatures\u001b[39;49m\u001b[38;5;124;43m\"\u001b[39;49m\u001b[43m]\u001b[49m, \u001b[38;5;124m\"\u001b[39m\u001b[38;5;124mfloat32\u001b[39m\u001b[38;5;124m\"\u001b[39m),\n\u001b[1;32m      4\u001b[0m             \u001b[38;5;124m\"\u001b[39m\u001b[38;5;124mmask\u001b[39m\u001b[38;5;124m\"\u001b[39m: ak\u001b[38;5;241m.\u001b[39mvalues_astype(retmap[\u001b[38;5;124m\"\u001b[39m\u001b[38;5;124mmask\u001b[39m\u001b[38;5;124m\"\u001b[39m], \u001b[38;5;124m\"\u001b[39m\u001b[38;5;124mfloat16\u001b[39m\u001b[38;5;124m\"\u001b[39m),\n\u001b[1;32m      5\u001b[0m         }\n",
      "\u001b[0;31mKeyError\u001b[0m: 'features'"
     ]
    }
   ],
   "source": [
    "(), {\n",
    "            \"points\": ak.values_astype(retmap[\"points\"], \"float32\"),\n",
    "            \"features\": ak.values_astype(retmap[\"features\"], \"float32\"),\n",
    "            \"mask\": ak.values_astype(retmap[\"mask\"], \"float16\"),\n",
    "        }"
   ]
  },
  {
   "cell_type": "code",
   "execution_count": 25,
   "metadata": {},
   "outputs": [
    {
     "data": {
      "text/plain": [
       "{'points': <Array [[[0.138, -0.454, ..., 0, 0]], ...] type='4469 * 1 * 100 * float64'>,\n",
       " 'features': <Array [[[-2.74, -0.685, ..., 0, 0]], ...] type='4469 * 1 * 100 * float64'>,\n",
       " 'mask': <Array [[[1, 1, 1, 1, ..., 0, 0, 0, 0]], ...] type='4469 * 1 * 100 * float64'>}"
      ]
     },
     "execution_count": 25,
     "metadata": {},
     "output_type": "execute_result"
    }
   ],
   "source": [
    "retmap"
   ]
  },
  {
   "cell_type": "markdown",
   "metadata": {},
   "source": [
    "# Devin's"
   ]
  },
  {
   "cell_type": "code",
   "execution_count": 3,
   "metadata": {},
   "outputs": [],
   "source": [
    "from coffea.ml_tools.torch_wrapper import torch_wrapper\n",
    "from analyzer.core import analyzerModule\n",
    "from analyzer.matching import object_matching\n",
    "import awkward as ak"
   ]
  },
  {
   "cell_type": "code",
   "execution_count": 4,
   "metadata": {},
   "outputs": [],
   "source": [
    "class jetAssignmentNN(torch_wrapper):\n",
    "    def prepare_awkward(self,events):\n",
    "\n",
    "        awk = self.get_awkward_lib(events)\n",
    "        #jets = ak.flatten(events.good_jets)\n",
    "        jets = events.good_jets\n",
    "        m3 = jets[:,1:4].sum()\n",
    "        m4 = jets[:,0:4].sum()\n",
    "\n",
    "        imap = {\n",
    "            \"features\": {\n",
    "                \"jetOrdinality\":\tak.local_index(jets),\n",
    "                \"jetPT\": \t\tjets.pt,\n",
    "                \"jetEta\": \t\tjets.eta,\n",
    "                \"jetPhi\": \t\tjets.phi,\n",
    "                \"jetBScore\": \t\tjets.btagDeepFlavB,\n",
    "                \"m3M\": \t\t\tm3.mass,\n",
    "                \"m3PT\": \t\tm3.pt,\n",
    "                \"m3Eta\": \t\tm3.eta,\n",
    "                \"m3Phi\": \t\tm3.phi,\n",
    "                \"m4M\": \t\t\tm4.mass,\n",
    "                \"m4PT\":\t\t\tm4.pt,\n",
    "                \"m4Eta\":\t\tm4.eta,\n",
    "                \"m4Phi\":\t\tm4.phi,\n",
    "            }\n",
    "        }\n",
    "\n",
    "        retmap = {\n",
    "            k: ak.concatenate([x[:, np.newaxis, :] for x in imap[k].values()], axis=1)\n",
    "            for k in imap.keys()\n",
    "        }\n",
    "        \n",
    "        return(), {\n",
    "            \"features\": awk.values_astype(imap[\"features\"],\"float32\")\n",
    "        }"
   ]
  },
  {
   "cell_type": "code",
   "execution_count": 16,
   "metadata": {},
   "outputs": [],
   "source": [
    "jets = events.good_jets\n",
    "m3 = jets[:,1:4].sum()\n",
    "m4 = jets[:,0:4].sum()\n",
    "\n",
    "imap = {\n",
    "    \"features\": {\n",
    "        \"jetOrdinality\":\tak.local_index(jets),\n",
    "        \"jetPT\": \t\tjets.pt,\n",
    "        \"jetEta\": \t\tjets.eta,\n",
    "        \"jetPhi\": \t\tjets.phi,\n",
    "        \"jetBScore\": \t\tjets.btagDeepFlavB,\n",
    "        \"m3M\": \t\t\tm3.mass,\n",
    "        \"m3PT\": \t\tm3.pt,\n",
    "        \"m3Eta\": \t\tm3.eta,\n",
    "        \"m3Phi\": \t\tm3.phi,\n",
    "        \"m4M\": \t\t\tm4.mass,\n",
    "        \"m4PT\":\t\t\tm4.pt,\n",
    "        \"m4Eta\":\t\tm4.eta,\n",
    "        \"m4Phi\":\t\tm4.phi,\n",
    "    }\n",
    "}"
   ]
  },
  {
   "cell_type": "code",
   "execution_count": 28,
   "metadata": {},
   "outputs": [
    {
     "data": {
      "text/html": [
       "<pre>[1.39e+03,\n",
       " 1.41e+03,\n",
       " 1.27e+03,\n",
       " 1.23e+03,\n",
       " 1.33e+03,\n",
       " 1.35e+03,\n",
       " 1.36e+03,\n",
       " 1.33e+03,\n",
       " 1.16e+03,\n",
       " 1.27e+03,\n",
       " ...,\n",
       " 1.41e+03,\n",
       " 1.3e+03,\n",
       " 1.16e+03,\n",
       " 1.43e+03,\n",
       " 1.19e+03,\n",
       " 1.38e+03,\n",
       " 1.29e+03,\n",
       " 1.26e+03,\n",
       " 2.81e+03]\n",
       "--------------------\n",
       "type: 4469 * float32</pre>"
      ],
      "text/plain": [
       "<Array [1.39e+03, 1.41e+03, ..., 1.26e+03, 2.81e+03] type='4469 * float32'>"
      ]
     },
     "execution_count": 28,
     "metadata": {},
     "output_type": "execute_result"
    }
   ],
   "source": [
    "imap['features'][\"m4M\"]"
   ]
  },
  {
   "cell_type": "code",
   "execution_count": 29,
   "metadata": {},
   "outputs": [],
   "source": [
    "retmap = {\n",
    "   \"features\": ak.concatenate([x[:, np.newaxis] for x in imap[\"features\"].values()], axis=1)\n",
    "}"
   ]
  },
  {
   "cell_type": "code",
   "execution_count": 22,
   "metadata": {},
   "outputs": [
    {
     "data": {
      "text/plain": [
       "{'features': <Array [[??, ??, ??, ??, ..., ??, ??, ??], ...] type='4469 * 13 * union[var...'>}"
      ]
     },
     "execution_count": 22,
     "metadata": {},
     "output_type": "execute_result"
    }
   ],
   "source": [
    "retmap"
   ]
  },
  {
   "cell_type": "markdown",
   "metadata": {},
   "source": [
    "# Also devin"
   ]
  },
  {
   "cell_type": "code",
   "execution_count": 85,
   "metadata": {},
   "outputs": [],
   "source": [
    "class jetAssignmentNN(torch_wrapper):\n",
    "    def prepare_awkward(self,events):\n",
    "        awk = self.get_awkward_lib(events)\n",
    "        \n",
    "        jets = events.good_jets\n",
    "        flat_jets = ak.flatten(jets)\n",
    "\n",
    "        m3 = jets[:,1:4].sum()\n",
    "        m4 = jets[:,0:4].sum()\n",
    "\n",
    "        ones = ak.ones_like(jets.pt)\n",
    "        ones_flat = ak.ones_like(flat_jets.pt)\n",
    "\n",
    "        imap = {\n",
    "            \"features\": {\n",
    "                \"jetOrdinality\":\tak.flatten(ak.local_index(jets, axis=1)),\n",
    "                \"jetPT\": \t\tflat_jets.pt,\n",
    "                \"jetEta\": \t\tflat_jets.eta,\n",
    "                \"jetPhi\": \t\tflat_jets.phi,\n",
    "                \"jetBScore\": \tflat_jets.btagDeepFlavB,\n",
    "                \"m3M\": \t\t\tak.flatten(ones * m3.mass),\n",
    "                \"m3PT\": \t\tak.flatten(ones * m3.pt),\n",
    "                \"m3Eta\": \t\tak.flatten(ones * m3.eta),\n",
    "                \"m3Phi\": \t\tak.flatten(ones * m3.phi),\n",
    "                \"m4M\": \t\t\tak.flatten(ones * m4.mass),\n",
    "                \"m4PT\":\t\t\tak.flatten(ones * m4.pt),\n",
    "                \"m4Eta\":\t\tak.flatten(ones * m4.eta),\n",
    "                \"m4Phi\":\t    ak.flatten(ones * m4.phi)\n",
    "            }\n",
    "        }\n",
    "\n",
    "        retmap = {\n",
    "            \"features\": ak.concatenate([x[:, np.newaxis] for x in imap['features'].values()], axis=1)\n",
    "        }\n",
    "\n",
    "        print(retmap)\n",
    "        \n",
    "        return(),{\n",
    "            \"features\": awk.values_astype(retmap[\"features\"],\"float32\")\n",
    "        }"
   ]
  },
  {
   "cell_type": "code",
   "execution_count": 60,
   "metadata": {},
   "outputs": [
    {
     "data": {
      "text/html": [
       "<pre>[{area: 0.539, btagCSVV2: 0.729, btagDeepB: 0.258, btagDeepCvB: 0.252, ...},\n",
       " {area: 0.509, btagCSVV2: 0.896, btagDeepB: 0.567, btagDeepCvB: 0.244, ...},\n",
       " {area: 0.449, btagCSVV2: 0.0508, btagDeepB: 0.0135, btagDeepCvB: 0.829, ...},\n",
       " {area: 0.419, btagCSVV2: 0.907, btagDeepB: 0.647, btagDeepCvB: 0.347, ...},\n",
       " {area: 0.329, btagCSVV2: 0.442, btagDeepB: 0.146, btagDeepCvB: 0.613, ...},\n",
       " {area: 0.489, btagCSVV2: 0.14, btagDeepB: 0.0163, btagDeepCvB: 0.826, ...},\n",
       " {area: 0.519, btagCSVV2: 0.393, btagDeepB: 0.199, btagDeepCvB: 0.323, ...},\n",
       " {area: 0.539, btagCSVV2: 0.995, btagDeepB: 0.583, btagDeepCvB: 0.22, ...},\n",
       " {area: 0.509, btagCSVV2: 0.971, btagDeepB: 0.97, btagDeepCvB: 0.00394, ...},\n",
       " {area: 0.509, btagCSVV2: 0.168, btagDeepB: 0.0511, btagDeepCvB: 0.748, ...},\n",
       " ...,\n",
       " {area: 0.489, btagCSVV2: 0.402, btagDeepB: 0.0282, btagDeepCvB: 0.761, ...},\n",
       " {area: 0.519, btagCSVV2: 0.957, btagDeepB: 0.949, btagDeepCvB: 0.0408, ...},\n",
       " {area: 0.519, btagCSVV2: 0.299, btagDeepB: 0.0617, btagDeepCvB: 0.714, ...},\n",
       " {area: 0.509, btagCSVV2: 0.0917, btagDeepB: 0.0349, btagDeepCvB: 0.829, ...},\n",
       " {area: 0.539, btagCSVV2: 0.0608, btagDeepB: 0.0179, btagDeepCvB: 0.841, ...},\n",
       " {area: 0.548, btagCSVV2: 0.196, btagDeepB: 0.0359, btagDeepCvB: 0.674, ...},\n",
       " {area: 0.539, btagCSVV2: 0.137, btagDeepB: 0.0389, btagDeepCvB: 0.75, ...},\n",
       " {area: 0.469, btagCSVV2: 0.833, btagDeepB: 0.121, btagDeepCvB: 0.645, ...},\n",
       " {area: 0.469, btagCSVV2: 0.386, btagDeepB: 0.1, btagDeepCvB: 0.538, ...}]\n",
       "------------------------------------------------------------------------------------------------------------------------------------------------------------\n",
       "type: 21803 * Jet[\n",
       "    area: float32[parameters={&quot;__doc__&quot;: &quot;jet catchment area, for JECs&quot;}],\n",
       "    btagCSVV2: float32[parameters={&quot;__doc__&quot;: &quot; pfCombinedInclusiveSecondaryVertexV2 b-tag discriminator (aka CSVV2)&quot;}],\n",
       "    btagDeepB: float32[parameters={&quot;__doc__&quot;: &quot;DeepCSV b+bb tag discriminator&quot;}],\n",
       "    btagDeepCvB: float32[parameters={&quot;__doc__&quot;: &quot;DeepCSV c vs b+bb discriminator&quot;}],\n",
       "    btagDeepCvL: float32[parameters={&quot;__doc__&quot;: &quot;DeepCSV c vs udsg discriminator&quot;}],\n",
       "    btagDeepFlavB: float32[parameters={&quot;__doc__&quot;: &quot;DeepJet b+bb+lepb tag discriminator&quot;}],\n",
       "    btagDeepFlavCvB: float32[parameters={&quot;__doc__&quot;: &quot;DeepJet c vs b+bb+lepb discriminator&quot;}],\n",
       "    btagDeepFlavCvL: float32[parameters={&quot;__doc__&quot;: &quot;DeepJet c vs uds+g discriminator&quot;}],\n",
       "    btagDeepFlavQG: float32[parameters={&quot;__doc__&quot;: &quot;DeepJet g vs uds discriminator&quot;}],\n",
       "    chEmEF: float32[parameters={&quot;__doc__&quot;: &quot;charged Electromagnetic Energy Fraction&quot;}],\n",
       "    chFPV0EF: float32[parameters={&quot;__doc__&quot;: &quot;charged fromPV==0 Energy Fraction (energy excluded from CHS jets). Previously called betastar.&quot;}],\n",
       "    chHEF: float32[parameters={&quot;__doc__&quot;: &quot;charged Hadron Energy Fraction&quot;}],\n",
       "    eta: float32[parameters={&quot;__doc__&quot;: &quot;eta&quot;}],\n",
       "    hfsigmaEtaEta: float32[parameters={&quot;__doc__&quot;: &quot;sigmaEtaEta for HF jets (noise discriminating variable)&quot;}],\n",
       "    hfsigmaPhiPhi: float32[parameters={&quot;__doc__&quot;: &quot;sigmaPhiPhi for HF jets (noise discriminating variable)&quot;}],\n",
       "    mass: float32[parameters={&quot;__doc__&quot;: &quot;mass&quot;}],\n",
       "    muEF: float32[parameters={&quot;__doc__&quot;: &quot;muon Energy Fraction&quot;}],\n",
       "    muonSubtrFactor: float32[parameters={&quot;__doc__&quot;: &quot;1-(muon-subtracted raw pt)/(raw pt)&quot;}],\n",
       "    neEmEF: float32[parameters={&quot;__doc__&quot;: &quot;neutral Electromagnetic Energy Fraction&quot;}],\n",
       "    neHEF: float32[parameters={&quot;__doc__&quot;: &quot;neutral Hadron Energy Fraction&quot;}],\n",
       "    phi: float32[parameters={&quot;__doc__&quot;: &quot;phi&quot;}],\n",
       "    pt: float32[parameters={&quot;__doc__&quot;: &quot;pt&quot;}],\n",
       "    puIdDisc: float32[parameters={&quot;__doc__&quot;: &quot;Pileup ID discriminant with 106X (2018) training&quot;}],\n",
       "    qgl: float32[parameters={&quot;__doc__&quot;: &quot;Quark vs Gluon likelihood discriminator&quot;}],\n",
       "    rawFactor: float32[parameters={&quot;__doc__&quot;: &quot;1 - Factor to get back to raw pT&quot;}],\n",
       "    bRegCorr: float32[parameters={&quot;__doc__&quot;: &quot;pt correction for b-jet energy regression&quot;}],\n",
       "    bRegRes: float32[parameters={&quot;__doc__&quot;: &quot;res on pt corrected with b-jet regression&quot;}],\n",
       "    cRegCorr: float32[parameters={&quot;__doc__&quot;: &quot;pt correction for c-jet energy regression&quot;}],\n",
       "    cRegRes: float32[parameters={&quot;__doc__&quot;: &quot;res on pt corrected with c-jet regression&quot;}],\n",
       "    electronIdx1: int32[parameters={&quot;__doc__&quot;: &quot;index of first matching electron&quot;}],\n",
       "    electronIdx2: int32[parameters={&quot;__doc__&quot;: &quot;index of second matching electron&quot;}],\n",
       "    hfadjacentEtaStripsSize: int32[parameters={&quot;__doc__&quot;: &quot;eta size of the strips next to the central tower strip in HF (noise discriminating variable) &quot;}],\n",
       "    hfcentralEtaStripSize: int32[parameters={&quot;__doc__&quot;: &quot;eta size of the central tower strip in HF (noise discriminating variable) &quot;}],\n",
       "    jetId: int32[parameters={&quot;__doc__&quot;: &quot;Jet ID flags bit1 is loose (always false in 2017 since it does not exist), bit2 is tight, bit3 is tightLepVeto&quot;}],\n",
       "    muonIdx1: int32[parameters={&quot;__doc__&quot;: &quot;index of first matching muon&quot;}],\n",
       "    muonIdx2: int32[parameters={&quot;__doc__&quot;: &quot;index of second matching muon&quot;}],\n",
       "    nElectrons: int32[parameters={&quot;__doc__&quot;: &quot;number of electrons in the jet&quot;}],\n",
       "    nMuons: int32[parameters={&quot;__doc__&quot;: &quot;number of muons in the jet&quot;}],\n",
       "    puId: int32[parameters={&quot;__doc__&quot;: &quot;Pileup ID flags with 106X (2018) training&quot;}],\n",
       "    nConstituents: uint8[parameters={&quot;__doc__&quot;: &quot;Number of particles in the jet&quot;}],\n",
       "    genJetIdx: int32[parameters={&quot;__doc__&quot;: &quot;index of matched gen jet&quot;}],\n",
       "    hadronFlavour: int32[parameters={&quot;__doc__&quot;: &quot;flavour from hadron ghost clustering&quot;}],\n",
       "    partonFlavour: int32[parameters={&quot;__doc__&quot;: &quot;flavour from parton matching&quot;}],\n",
       "    cleanmask: uint8[parameters={&quot;__doc__&quot;: &quot;simple cleaning mask with priority to leptons&quot;}],\n",
       "    electronIdx1G: int64[parameters={&quot;__doc__&quot;: &quot;index of first matching electron&quot;}],\n",
       "    electronIdx2G: int64[parameters={&quot;__doc__&quot;: &quot;index of second matching electron&quot;}],\n",
       "    genJetIdxG: int64[parameters={&quot;__doc__&quot;: &quot;index of matched gen jet&quot;}],\n",
       "    muonIdx1G: int64[parameters={&quot;__doc__&quot;: &quot;index of first matching muon&quot;}],\n",
       "    muonIdx2G: int64[parameters={&quot;__doc__&quot;: &quot;index of second matching muon&quot;}],\n",
       "    muonIdxG: var * int64[parameters={&quot;__doc__&quot;: &quot;index of first matching muon&quot;}],\n",
       "    electronIdxG: var * int64[parameters={&quot;__doc__&quot;: &quot;index of first matching electron&quot;}], \n",
       "parameters={&quot;__doc__&quot;: &quot;slimmedJets, i.e. ak4 PFJets CHS with JECs applied, after basic selection (pt &gt; 15)&quot;, &quot;collection_name&quot;: &quot;Jet&quot;}]</pre>"
      ],
      "text/plain": [
       "<JetArray [Jet, Jet, ..., Jet] type='21803 * Jet[area: float32[parameters={...'>"
      ]
     },
     "execution_count": 60,
     "metadata": {},
     "output_type": "execute_result"
    }
   ],
   "source": [
    "ak.flatten(events.good_jets)"
   ]
  },
  {
   "cell_type": "code",
   "execution_count": 72,
   "metadata": {},
   "outputs": [],
   "source": [
    "jets = events.good_jets\n",
    "flat_jets = ak.flatten(jets)\n",
    "\n",
    "m3 = jets[:,1:4].sum()\n",
    "m4 = jets[:,0:4].sum()\n",
    "\n",
    "ones = ak.ones_like(jets.pt)\n",
    "ones_flat = ak.ones_like(flat_jets.pt)\n",
    "\n",
    "imap = {\n",
    "    \"features\": {\n",
    "        \"jetOrdinality\":\tak.flatten(ak.local_index(jets, axis=1)),\n",
    "        \"jetPT\": \t\tflat_jets.pt,\n",
    "        \"jetEta\": \t\tflat_jets.eta,\n",
    "        \"jetPhi\": \t\tflat_jets.phi,\n",
    "        \"jetBScore\": \tflat_jets.btagDeepFlavB,\n",
    "        \"m3M\": \t\t\tak.flatten(ones * m3.mass),\n",
    "        \"m3PT\": \t\tak.flatten(ones * m3.pt),\n",
    "        \"m3Eta\": \t\tak.flatten(ones * m3.eta),\n",
    "        \"m3Phi\": \t\tak.flatten(ones * m3.phi),\n",
    "        \"m4M\": \t\t\tak.flatten(ones * m4.mass),\n",
    "        \"m4PT\":\t\t\tak.flatten(ones * m4.pt),\n",
    "        \"m4Eta\":\t\tak.flatten(ones * m4.eta),\n",
    "        \"m4Phi\":\t    ak.flatten(ones * m4.phi)\n",
    "    }\n",
    "}"
   ]
  },
  {
   "cell_type": "code",
   "execution_count": 73,
   "metadata": {},
   "outputs": [],
   "source": [
    "vals = imap['features'].values()"
   ]
  },
  {
   "cell_type": "code",
   "execution_count": 74,
   "metadata": {},
   "outputs": [
    {
     "data": {
      "text/plain": [
       "dict_values([<Array [0, 1, 2, 3, 4, 5, 0, 1, ..., 2, 3, 4, 0, 1, 2, 3] type='21803 * int64'>, <Array [448, 359, 272, 237, ..., 320, 202, 160] type='21803 * float32[param...'>, <Array [0.138, -0.454, ..., 0.747, -0.555] type='21803 * float32[parameters...'>, <Array [-2.74, -0.685, 1.42, ..., 2.83, 3.03] type='21803 * float32[paramet...'>, <Array [0.0232, 0.717, ..., 0.964, 0.621] type='21803 * float32[parameters=...'>, <Array [829, 829, 829, 829, ..., 938, 938, 938, 938] type='21803 * float32'>, <Array [455, 455, 455, 455, ..., 664, 664, 664, 664] type='21803 * float32'>, <Array [-0.041, -0.041, -0.041, ..., -1.08, -1.08] type='21803 * float32'>, <Array [0.648, 0.648, 0.648, ..., 2.72, 2.72, 2.72] type='21803 * float32'>, <Array [1.39e+03, 1.39e+03, ..., 2.81e+03, 2.81e+03] type='21803 * float32'>, <Array [110, 110, 110, 110, ..., 111, 111, 111, 111] type='21803 * float32'>, <Array [0.384, 0.384, 0.384, ..., 1.74, 1.74, 1.74] type='21803 * float32'>, <Array [2.03, 2.03, 2.03, ..., 0.312, 0.312, 0.312] type='21803 * float32'>])"
      ]
     },
     "execution_count": 74,
     "metadata": {},
     "output_type": "execute_result"
    }
   ],
   "source": [
    "vals"
   ]
  },
  {
   "cell_type": "markdown",
   "metadata": {},
   "source": [
    "# this here!!"
   ]
  },
  {
   "cell_type": "code",
   "execution_count": 88,
   "metadata": {},
   "outputs": [],
   "source": [
    "net_input = ak.concatenate([x[:, np.newaxis] for x in imap['features'].values()], axis=1)"
   ]
  },
  {
   "cell_type": "code",
   "execution_count": 80,
   "metadata": {},
   "outputs": [
    {
     "data": {
      "text/plain": [
       "dict_values([<Array [0, 1, 2, 3, 4, 5] type='6 * int64'>, <Array [448, 359, 272, 237, 43.4, 39.8] type='6 * float32[parameters={\"__do...'>, <Array [0.138, -0.454, 0.52, ..., -0.3, 2.05] type='6 * float32[parameters=...'>, <Array [-2.74, -0.685, ..., -2.57, -0.858] type='6 * float32[parameters={\"_...'>, <Array [0.0232, 0.717, ..., 0.0811, 0.0298] type='6 * float32[parameters={\"...'>, <Array [829, 829, 829, 829, 829, 829] type='6 * float32[parameters={\"__doc_...'>, <Array [455, 455, 455, 455, 455, 455] type='6 * float32[parameters={\"__doc_...'>, <Array [-0.041, -0.041, ..., -0.041, -0.041] type='6 * float32[parameters={...'>, <Array [0.648, 0.648, 0.648, ..., 0.648, 0.648] type='6 * float32[parameter...'>, <Array [1.39e+03, 1.39e+03, ..., 1.39e+03] type='6 * float32[parameters={\"_...'>, <Array [110, 110, 110, 110, 110, 110] type='6 * float32[parameters={\"__doc_...'>, <Array [0.384, 0.384, 0.384, ..., 0.384, 0.384] type='6 * float32[parameter...'>, <Array [2.03, 2.03, 2.03, ..., 2.03, 2.03] type='6 * float32[parameters={\"_...'>])"
      ]
     },
     "execution_count": 80,
     "metadata": {},
     "output_type": "execute_result"
    }
   ],
   "source": [
    "imap[\"features\"].values()"
   ]
  },
  {
   "cell_type": "code",
   "execution_count": 78,
   "metadata": {},
   "outputs": [],
   "source": [
    "def addEventLevelVars(events):\n",
    "    ht = ak.sum(events.good_jets.pt, axis=1)\n",
    "    events[\"HT\"] = ht\n",
    "    return events"
   ]
  },
  {
   "cell_type": "code",
   "execution_count": 79,
   "metadata": {},
   "outputs": [],
   "source": [
    "def deltaRMatch(events, analyzer):\n",
    "    matched_jets, matched_quarks, dr, idx_j, idx_q, _ = object_matching(\n",
    "        events.good_jets, events.SignalQuarks, 0.2, 0.5, True\n",
    "    )\n",
    "    # print(f\"IndexQ: {idx_q}\")\n",
    "    # print(f\"IndexJ: {idx_j}\")\n",
    "    # print(f\"MQ: {matched_quarks}\")\n",
    "    # print(f\"MJ: {matched_jets}\")\n",
    "    # _, _, _, ridx_q, ridx_j, _ = object_matching(\n",
    "    #    events.SignalQuarks, events.good_jets, 0.3, 0.5, True\n",
    "    # )\n",
    "    events[\"matched_quarks\"] = matched_quarks\n",
    "    events[\"matched_jets\"] = matched_jets\n",
    "    events[\"matched_dr\"] = dr\n",
    "    events[\"matched_jet_idx\"] = idx_j\n",
    "    return events, analyzer"
   ]
  },
  {
   "cell_type": "code",
   "execution_count": 80,
   "metadata": {},
   "outputs": [],
   "source": [
    "def addNNScores(events):\n",
    "    model = jetAssignmentNN(\"jetMatcherNN.pt\")\n",
    "    scores = model(events)\n",
    "    print(scores)\n",
    "    events[\"NNStopProb\"]  = scores[:,0]\n",
    "    events[\"NNChiProb\"]   = scores[:,1]\n",
    "    events[\"NNOtherProb\"] = scores[:,2] \n",
    "    return events"
   ]
  },
  {
   "cell_type": "code",
   "execution_count": 86,
   "metadata": {},
   "outputs": [],
   "source": [
    "model = jetAssignmentNN(\"jetMatcherNN.pt\")"
   ]
  },
  {
   "cell_type": "code",
   "execution_count": 87,
   "metadata": {},
   "outputs": [
    {
     "name": "stdout",
     "output_type": "stream",
     "text": [
      "{'features': <Array [[0, 448, 0.138, ..., 0.384, 2.03], ...] type='21803 * 13 * float64'>}\n"
     ]
    },
    {
     "name": "stderr",
     "output_type": "stream",
     "text": [
      "/usr/local/lib/python3.10/site-packages/coffea/ml_tools/helper.py:175: UserWarning: No format checks were performed on input!\n",
      "  warnings.warn(\"No format checks were performed on input!\")\n"
     ]
    },
    {
     "ename": "RuntimeError",
     "evalue": "PytorchStreamReader failed locating file constants.pkl: file not found",
     "output_type": "error",
     "traceback": [
      "\u001b[0;31m---------------------------------------------------------------------------\u001b[0m",
      "\u001b[0;31mRuntimeError\u001b[0m                              Traceback (most recent call last)",
      "Cell \u001b[0;32mIn[87], line 1\u001b[0m\n\u001b[0;32m----> 1\u001b[0m \u001b[43mmodel\u001b[49m\u001b[43m(\u001b[49m\u001b[43mevents\u001b[49m\u001b[43m)\u001b[49m\n",
      "File \u001b[0;32m/usr/local/lib/python3.10/site-packages/coffea/ml_tools/helper.py:377\u001b[0m, in \u001b[0;36mnumpy_call_wrapper.__call__\u001b[0;34m(self, *args, **kwargs)\u001b[0m\n\u001b[1;32m    374\u001b[0m array_lib \u001b[38;5;241m=\u001b[39m \u001b[38;5;28mself\u001b[39m\u001b[38;5;241m.\u001b[39mget_awkward_lib(\u001b[38;5;241m*\u001b[39margs, \u001b[38;5;241m*\u001b[39m\u001b[38;5;241m*\u001b[39mkwargs)\n\u001b[1;32m    376\u001b[0m \u001b[38;5;28;01mif\u001b[39;00m array_lib \u001b[38;5;129;01mis\u001b[39;00m awkward:\n\u001b[0;32m--> 377\u001b[0m     \u001b[38;5;28;01mreturn\u001b[39;00m \u001b[38;5;28;43mself\u001b[39;49m\u001b[38;5;241;43m.\u001b[39;49m\u001b[43m_call_awkward\u001b[49m\u001b[43m(\u001b[49m\u001b[38;5;241;43m*\u001b[39;49m\u001b[43margs\u001b[49m\u001b[43m,\u001b[49m\u001b[43m \u001b[49m\u001b[38;5;241;43m*\u001b[39;49m\u001b[38;5;241;43m*\u001b[39;49m\u001b[43mkwargs\u001b[49m\u001b[43m)\u001b[49m\n\u001b[1;32m    378\u001b[0m \u001b[38;5;28;01melif\u001b[39;00m array_lib \u001b[38;5;129;01mis\u001b[39;00m dask_awkward:\n\u001b[1;32m    379\u001b[0m     \u001b[38;5;28;01mreturn\u001b[39;00m \u001b[38;5;28mself\u001b[39m\u001b[38;5;241m.\u001b[39m_call_dask(\u001b[38;5;241m*\u001b[39margs, \u001b[38;5;241m*\u001b[39m\u001b[38;5;241m*\u001b[39mkwargs)\n",
      "File \u001b[0;32m/usr/local/lib/python3.10/site-packages/coffea/ml_tools/helper.py:239\u001b[0m, in \u001b[0;36mnumpy_call_wrapper._call_awkward\u001b[0;34m(self, *args, **kwargs)\u001b[0m\n\u001b[1;32m    237\u001b[0m ak_args, ak_kwargs \u001b[38;5;241m=\u001b[39m \u001b[38;5;28mself\u001b[39m\u001b[38;5;241m.\u001b[39mprepare_awkward(\u001b[38;5;241m*\u001b[39margs, \u001b[38;5;241m*\u001b[39m\u001b[38;5;241m*\u001b[39mkwargs)\n\u001b[1;32m    238\u001b[0m (np_args, np_kwargs), _ \u001b[38;5;241m=\u001b[39m \u001b[38;5;28mself\u001b[39m\u001b[38;5;241m.\u001b[39m_ak_to_np_(\u001b[38;5;241m*\u001b[39mak_args, \u001b[38;5;241m*\u001b[39m\u001b[38;5;241m*\u001b[39mak_kwargs)\n\u001b[0;32m--> 239\u001b[0m np_rets \u001b[38;5;241m=\u001b[39m \u001b[38;5;28;43mself\u001b[39;49m\u001b[38;5;241;43m.\u001b[39;49m\u001b[43m_call_numpy\u001b[49m\u001b[43m(\u001b[49m\u001b[38;5;241;43m*\u001b[39;49m\u001b[43mnp_args\u001b[49m\u001b[43m,\u001b[49m\u001b[43m \u001b[49m\u001b[38;5;241;43m*\u001b[39;49m\u001b[38;5;241;43m*\u001b[39;49m\u001b[43mnp_kwargs\u001b[49m\u001b[43m)\u001b[49m\n\u001b[1;32m    240\u001b[0m np_rets \u001b[38;5;241m=\u001b[39m \u001b[38;5;28mself\u001b[39m\u001b[38;5;241m.\u001b[39m_np_to_ak_\u001b[38;5;241m.\u001b[39mconvert(np_rets)\n\u001b[1;32m    241\u001b[0m \u001b[38;5;28;01mreturn\u001b[39;00m \u001b[38;5;28mself\u001b[39m\u001b[38;5;241m.\u001b[39mpostprocess_awkward(np_rets, \u001b[38;5;241m*\u001b[39margs, \u001b[38;5;241m*\u001b[39m\u001b[38;5;241m*\u001b[39mkwargs)\n",
      "File \u001b[0;32m/usr/local/lib/python3.10/site-packages/coffea/ml_tools/helper.py:182\u001b[0m, in \u001b[0;36mnumpy_call_wrapper._call_numpy\u001b[0;34m(self, *args, **kwargs)\u001b[0m\n\u001b[1;32m    178\u001b[0m \u001b[38;5;250m\u001b[39m\u001b[38;5;124;03m\"\"\"\u001b[39;00m\n\u001b[1;32m    179\u001b[0m \u001b[38;5;124;03mThin wrapper such that the validate_numpy_inputs is called.\u001b[39;00m\n\u001b[1;32m    180\u001b[0m \u001b[38;5;124;03m\"\"\"\u001b[39;00m\n\u001b[1;32m    181\u001b[0m \u001b[38;5;28mself\u001b[39m\u001b[38;5;241m.\u001b[39mvalidate_numpy_input(\u001b[38;5;241m*\u001b[39margs, \u001b[38;5;241m*\u001b[39m\u001b[38;5;241m*\u001b[39mkwargs)\n\u001b[0;32m--> 182\u001b[0m \u001b[38;5;28;01mreturn\u001b[39;00m \u001b[38;5;28;43mself\u001b[39;49m\u001b[38;5;241;43m.\u001b[39;49m\u001b[43mnumpy_call\u001b[49m\u001b[43m(\u001b[49m\u001b[38;5;241;43m*\u001b[39;49m\u001b[43margs\u001b[49m\u001b[43m,\u001b[49m\u001b[43m \u001b[49m\u001b[38;5;241;43m*\u001b[39;49m\u001b[38;5;241;43m*\u001b[39;49m\u001b[43mkwargs\u001b[49m\u001b[43m)\u001b[49m\n",
      "File \u001b[0;32m/usr/local/lib/python3.10/site-packages/coffea/ml_tools/torch_wrapper.py:96\u001b[0m, in \u001b[0;36mtorch_wrapper.numpy_call\u001b[0;34m(self, *args, **kwargs)\u001b[0m\n\u001b[1;32m     87\u001b[0m kwargs \u001b[38;5;241m=\u001b[39m {\n\u001b[1;32m     88\u001b[0m     key: (\n\u001b[1;32m     89\u001b[0m         torch\u001b[38;5;241m.\u001b[39mfrom_numpy(arr)\n\u001b[0;32m   (...)\u001b[0m\n\u001b[1;32m     93\u001b[0m     \u001b[38;5;28;01mfor\u001b[39;00m key, arr \u001b[38;5;129;01min\u001b[39;00m kwargs\u001b[38;5;241m.\u001b[39mitems()\n\u001b[1;32m     94\u001b[0m }\n\u001b[1;32m     95\u001b[0m \u001b[38;5;28;01mwith\u001b[39;00m torch\u001b[38;5;241m.\u001b[39mno_grad():\n\u001b[0;32m---> 96\u001b[0m     \u001b[38;5;28;01mreturn\u001b[39;00m \u001b[38;5;28;43mself\u001b[39;49m\u001b[38;5;241;43m.\u001b[39;49m\u001b[43mmodel\u001b[49m(\u001b[38;5;241m*\u001b[39margs, \u001b[38;5;241m*\u001b[39m\u001b[38;5;241m*\u001b[39mkwargs)\u001b[38;5;241m.\u001b[39mdetach()\u001b[38;5;241m.\u001b[39mnumpy()\n",
      "File \u001b[0;32m/usr/local/lib/python3.10/site-packages/coffea/ml_tools/helper.py:50\u001b[0m, in \u001b[0;36mnonserializable_attribute.__getattr__\u001b[0;34m(self, name)\u001b[0m\n\u001b[1;32m     48\u001b[0m \u001b[38;5;28;01mif\u001b[39;00m name \u001b[38;5;129;01min\u001b[39;00m \u001b[38;5;28mself\u001b[39m\u001b[38;5;241m.\u001b[39m_nonserial_list:\n\u001b[1;32m     49\u001b[0m     \u001b[38;5;28;01mif\u001b[39;00m \u001b[38;5;28mgetattr\u001b[39m(\u001b[38;5;28mself\u001b[39m, \u001b[38;5;124m\"\u001b[39m\u001b[38;5;124m_\u001b[39m\u001b[38;5;124m\"\u001b[39m \u001b[38;5;241m+\u001b[39m name) \u001b[38;5;129;01mis\u001b[39;00m \u001b[38;5;28;01mNone\u001b[39;00m:\n\u001b[0;32m---> 50\u001b[0m         \u001b[38;5;28msetattr\u001b[39m(\u001b[38;5;28mself\u001b[39m, \u001b[38;5;124m\"\u001b[39m\u001b[38;5;124m_\u001b[39m\u001b[38;5;124m\"\u001b[39m \u001b[38;5;241m+\u001b[39m name, \u001b[38;5;28;43mgetattr\u001b[39;49m\u001b[43m(\u001b[49m\u001b[38;5;28;43mself\u001b[39;49m\u001b[43m,\u001b[49m\u001b[43m \u001b[49m\u001b[38;5;124;43m\"\u001b[39;49m\u001b[38;5;124;43m_create_\u001b[39;49m\u001b[38;5;124;43m\"\u001b[39;49m\u001b[43m \u001b[49m\u001b[38;5;241;43m+\u001b[39;49m\u001b[43m \u001b[49m\u001b[43mname\u001b[49m\u001b[43m)\u001b[49m\u001b[43m(\u001b[49m\u001b[43m)\u001b[49m)\n\u001b[1;32m     51\u001b[0m     \u001b[38;5;28;01mreturn\u001b[39;00m \u001b[38;5;28mgetattr\u001b[39m(\u001b[38;5;28mself\u001b[39m, \u001b[38;5;124m\"\u001b[39m\u001b[38;5;124m_\u001b[39m\u001b[38;5;124m\"\u001b[39m \u001b[38;5;241m+\u001b[39m name)\n\u001b[1;32m     52\u001b[0m \u001b[38;5;28;01melse\u001b[39;00m:\n",
      "File \u001b[0;32m/usr/local/lib/python3.10/site-packages/coffea/ml_tools/torch_wrapper.py:65\u001b[0m, in \u001b[0;36mtorch_wrapper._create_model\u001b[0;34m(self)\u001b[0m\n\u001b[1;32m     63\u001b[0m     model \u001b[38;5;241m=\u001b[39m torch\u001b[38;5;241m.\u001b[39mjit\u001b[38;5;241m.\u001b[39mload(\u001b[38;5;28mself\u001b[39m\u001b[38;5;241m.\u001b[39mtorch_jit)\u001b[38;5;241m.\u001b[39mcuda()\n\u001b[1;32m     64\u001b[0m \u001b[38;5;28;01melse\u001b[39;00m:\n\u001b[0;32m---> 65\u001b[0m     model \u001b[38;5;241m=\u001b[39m \u001b[43mtorch\u001b[49m\u001b[38;5;241;43m.\u001b[39;49m\u001b[43mjit\u001b[49m\u001b[38;5;241;43m.\u001b[39;49m\u001b[43mload\u001b[49m\u001b[43m(\u001b[49m\u001b[38;5;28;43mself\u001b[39;49m\u001b[38;5;241;43m.\u001b[39;49m\u001b[43mtorch_jit\u001b[49m\u001b[43m)\u001b[49m\n\u001b[1;32m     66\u001b[0m model\u001b[38;5;241m.\u001b[39meval()\n\u001b[1;32m     67\u001b[0m \u001b[38;5;28;01mreturn\u001b[39;00m model\n",
      "File \u001b[0;32m/usr/local/lib/python3.10/site-packages/torch/jit/_serialization.py:162\u001b[0m, in \u001b[0;36mload\u001b[0;34m(f, map_location, _extra_files, _restore_shapes)\u001b[0m\n\u001b[1;32m    160\u001b[0m cu \u001b[38;5;241m=\u001b[39m torch\u001b[38;5;241m.\u001b[39m_C\u001b[38;5;241m.\u001b[39mCompilationUnit()\n\u001b[1;32m    161\u001b[0m \u001b[38;5;28;01mif\u001b[39;00m \u001b[38;5;28misinstance\u001b[39m(f, (\u001b[38;5;28mstr\u001b[39m, pathlib\u001b[38;5;241m.\u001b[39mPath)):\n\u001b[0;32m--> 162\u001b[0m     cpp_module \u001b[38;5;241m=\u001b[39m \u001b[43mtorch\u001b[49m\u001b[38;5;241;43m.\u001b[39;49m\u001b[43m_C\u001b[49m\u001b[38;5;241;43m.\u001b[39;49m\u001b[43mimport_ir_module\u001b[49m\u001b[43m(\u001b[49m\u001b[43mcu\u001b[49m\u001b[43m,\u001b[49m\u001b[43m \u001b[49m\u001b[38;5;28;43mstr\u001b[39;49m\u001b[43m(\u001b[49m\u001b[43mf\u001b[49m\u001b[43m)\u001b[49m\u001b[43m,\u001b[49m\u001b[43m \u001b[49m\u001b[43mmap_location\u001b[49m\u001b[43m,\u001b[49m\u001b[43m \u001b[49m\u001b[43m_extra_files\u001b[49m\u001b[43m,\u001b[49m\u001b[43m \u001b[49m\u001b[43m_restore_shapes\u001b[49m\u001b[43m)\u001b[49m  \u001b[38;5;66;03m# type: ignore[call-arg]\u001b[39;00m\n\u001b[1;32m    163\u001b[0m \u001b[38;5;28;01melse\u001b[39;00m:\n\u001b[1;32m    164\u001b[0m     cpp_module \u001b[38;5;241m=\u001b[39m torch\u001b[38;5;241m.\u001b[39m_C\u001b[38;5;241m.\u001b[39mimport_ir_module_from_buffer(\n\u001b[1;32m    165\u001b[0m         cu, f\u001b[38;5;241m.\u001b[39mread(), map_location, _extra_files, _restore_shapes\n\u001b[1;32m    166\u001b[0m     )  \u001b[38;5;66;03m# type: ignore[call-arg]\u001b[39;00m\n",
      "\u001b[0;31mRuntimeError\u001b[0m: PytorchStreamReader failed locating file constants.pkl: file not found"
     ]
    }
   ],
   "source": [
    "model(events)"
   ]
  },
  {
   "cell_type": "code",
   "execution_count": 11,
   "metadata": {},
   "outputs": [],
   "source": [
    "def makeCutSet(x, s, *args):\n",
    "    return [x[s > a] for a in args]\n",
    "\n",
    "b_tag_wps = [0.0490, 0.2783, 0.7100]\n",
    "\n",
    "def createObjects(events):\n",
    "    good_jets = events.Jet[(events.Jet.pt > 30) & (abs(events.Jet.eta) < 2.4)]\n",
    "    fat_jets = events.FatJet[(events.FatJet.pt > 30) & (abs(events.FatJet.eta) < 2.4)]\n",
    "    loose_top, med_top, tight_top = makeCutSet(\n",
    "        fat_jets, fat_jets.particleNet_TvsQCD, 0.58, 0.80, 0.97\n",
    "    )\n",
    "    #loose_W, med_W, tight_W = makeCutSet(\n",
    "    #    fat_jets, fat_jets.particleNet_WvsQCD, 0.7, 0.94, 0.98\n",
    "    #)\n",
    "\n",
    "    #deep_top_wp1, deep_top_wp2, deep_top_wp3, deep_top_wp4 = makeCutSet(\n",
    "    #    fat_jets, fat_jets.deepTag_TvsQCD, 0.436, 0.802, 0.922, 0.989\n",
    "    #)\n",
    "    #deep_W_wp1, deep_W_wp2, deep_W_wp3, deep_W_wp4 = makeCutSet(\n",
    "    #    fat_jets, fat_jets.deepTag_WvsQCD, 0.458, 0.762, 0.918, 0.961\n",
    "    #)\n",
    "    loose_b, med_b, tight_b = makeCutSet(\n",
    "        good_jets, good_jets.btagDeepFlavB, *(b_tag_wps[x] for x in range(3))\n",
    "    )\n",
    "\n",
    "    el = events.Electron\n",
    "    good_electrons = el[\n",
    "        (el.cutBased == 4)\n",
    "        & (el.miniPFRelIso_all < 0.1)\n",
    "        & (el.pt > 30)\n",
    "        & (abs(el.eta) < 2.4)\n",
    "    ]\n",
    "    mu = events.Muon\n",
    "    good_muons = mu[\n",
    "        (mu.mediumId) & (mu.miniPFRelIso_all < 0.2) & (mu.pt > 30) & (abs(mu.eta) < 2.4)\n",
    "    ]\n",
    "    events[\"good_jets\"] = good_jets\n",
    "    events[\"good_electrons\"] = good_electrons\n",
    "    events[\"good_muons\"] = good_muons\n",
    "\n",
    "    events[\"loose_bs\"] = loose_b\n",
    "    events[\"med_bs\"] = med_b\n",
    "    events[\"tight_bs\"] = tight_b\n",
    "\n",
    "    events[\"tight_tops\"] = tight_top\n",
    "    # events[\"med_tops\"] = med_top\n",
    "    # events[\"loose_tops\"] = loose_top\n",
    "\n",
    "    # events[\"tight_Ws\"] = tight_W\n",
    "    # events[\"med_Ws\"] = med_W\n",
    "    # events[\"loose_Ws\"] = loose_W\n",
    "\n",
    "    # events[\"deep_top_wp1\"] = deep_top_wp1\n",
    "    # events[\"deep_top_wp2\"] = deep_top_wp2\n",
    "    # events[\"deep_top_wp3\"] = deep_top_wp3\n",
    "    # events[\"deep_top_wp4\"] = deep_top_wp4\n",
    "\n",
    "    # events[\"deep_W_wp1\"] = deep_W_wp1\n",
    "    # events[\"deep_W_wp2\"] = deep_W_wp2\n",
    "    # events[\"deep_W_wp3\"] = deep_W_wp3\n",
    "    # events[\"deep_W_wp4\"] = deep_W_wp4\n",
    "\n",
    "    return events\n",
    "\n",
    "def createSelection(events):\n",
    "    \"\"\"Baseline selection for the analysis.\n",
    "Applies the following selection:\n",
    "- Jets[0].pt > 300\n",
    "- 4 <= nJets <= 6\n",
    "- 0 leptons\n",
    "- 2 medium bjets, at least one of which is tight\n",
    "- delta_R(med_bjets[0],med_bjets[1]) > 1\n",
    "    \"\"\"\n",
    "\n",
    "    selection = PackedSelection()\n",
    "    good_jets = events.good_jets\n",
    "    fat_jets = events.FatJet\n",
    "    good_muons = events.good_muons\n",
    "    good_electrons = events.good_electrons\n",
    "    loose_b = events.loose_bs\n",
    "    med_b = events.med_bs\n",
    "    tight_b = events.tight_bs\n",
    "    tight_top = events.tight_tops\n",
    "    # selection = PackedSelection()\n",
    "    filled_jets = ak.pad_none(good_jets, 4, axis=1)\n",
    "    top_two_dr = ak.fill_none(filled_jets[:, 0].delta_r(filled_jets[:, 1]), False)\n",
    "\n",
    "    filled_med = ak.pad_none(med_b, 2, axis=1)\n",
    "    med_dr = ak.fill_none(filled_med[:, 0].delta_r(filled_med[:, 1]), False)\n",
    "    # selection.add(\"trigger\", (ak.num(good_jets) >= 4) & (ak.num(good_jets) <= 6))\n",
    "    if \"HLT\" in events.fields:\n",
    "        selection.add(\"hlt\", (events.HLT.PFHT1050 | events.HLT.AK8PFJet360_TrimMass30))\n",
    "    selection.add(\"highptjet\", (ak.fill_none(filled_jets[:, 0].pt > 300, False)))\n",
    "    selection.add(\"jets\", ((ak.num(good_jets) >= 4) & (ak.num(good_jets) <= 6)))\n",
    "    selection.add(\"0Lep\", ((ak.num(good_electrons) == 0) & (ak.num(good_muons) == 0)))\n",
    "    selection.add(\"2bjet\", (ak.num(med_b) >= 2))\n",
    "    selection.add(\"1tightbjet\", (ak.num(tight_b) >= 1))\n",
    "    # selection.add(\"jet_dr\", ((top_two_dr < 4) & (top_two_dr > 2)).to_numpy())\n",
    "    selection.add(\"b_dr\", (med_dr > 1))\n",
    "    return selection"
   ]
  },
  {
   "cell_type": "code",
   "execution_count": 12,
   "metadata": {},
   "outputs": [],
   "source": [
    "def makeCutSet(x, s, *args):\n",
    "    return [x[s > a] for a in args]\n",
    "\n",
    "b_tag_wps = [0.0490, 0.2783, 0.7100]\n",
    "\n",
    "def createObjects(events):\n",
    "    good_jets = events.Jet[(events.Jet.pt > 30) & (abs(events.Jet.eta) < 2.4)]\n",
    "    fat_jets = events.FatJet[(events.FatJet.pt > 30) & (abs(events.FatJet.eta) < 2.4)]\n",
    "    loose_top, med_top, tight_top = makeCutSet(\n",
    "        fat_jets, fat_jets.particleNet_TvsQCD, 0.58, 0.80, 0.97\n",
    "    )\n",
    "    #loose_W, med_W, tight_W = makeCutSet(\n",
    "    #    fat_jets, fat_jets.particleNet_WvsQCD, 0.7, 0.94, 0.98\n",
    "    #)\n",
    "\n",
    "    #deep_top_wp1, deep_top_wp2, deep_top_wp3, deep_top_wp4 = makeCutSet(\n",
    "    #    fat_jets, fat_jets.deepTag_TvsQCD, 0.436, 0.802, 0.922, 0.989\n",
    "    #)\n",
    "    #deep_W_wp1, deep_W_wp2, deep_W_wp3, deep_W_wp4 = makeCutSet(\n",
    "    #    fat_jets, fat_jets.deepTag_WvsQCD, 0.458, 0.762, 0.918, 0.961\n",
    "    #)\n",
    "    loose_b, med_b, tight_b = makeCutSet(\n",
    "        good_jets, good_jets.btagDeepFlavB, *(b_tag_wps[x] for x in range(3))\n",
    "    )\n",
    "\n",
    "    el = events.Electron\n",
    "    good_electrons = el[\n",
    "        (el.cutBased == 4)\n",
    "        & (el.miniPFRelIso_all < 0.1)\n",
    "        & (el.pt > 30)\n",
    "        & (abs(el.eta) < 2.4)\n",
    "    ]\n",
    "    mu = events.Muon\n",
    "    good_muons = mu[\n",
    "        (mu.mediumId) & (mu.miniPFRelIso_all < 0.2) & (mu.pt > 30) & (abs(mu.eta) < 2.4)\n",
    "    ]\n",
    "    events[\"good_jets\"] = good_jets\n",
    "    events[\"good_electrons\"] = good_electrons\n",
    "    events[\"good_muons\"] = good_muons\n",
    "\n",
    "    events[\"loose_bs\"] = loose_b\n",
    "    events[\"med_bs\"] = med_b\n",
    "    events[\"tight_bs\"] = tight_b\n",
    "\n",
    "    events[\"tight_tops\"] = tight_top\n",
    "    # events[\"med_tops\"] = med_top\n",
    "    # events[\"loose_tops\"] = loose_top\n",
    "\n",
    "    # events[\"tight_Ws\"] = tight_W\n",
    "    # events[\"med_Ws\"] = med_W\n",
    "    # events[\"loose_Ws\"] = loose_W\n",
    "\n",
    "    # events[\"deep_top_wp1\"] = deep_top_wp1\n",
    "    # events[\"deep_top_wp2\"] = deep_top_wp2\n",
    "    # events[\"deep_top_wp3\"] = deep_top_wp3\n",
    "    # events[\"deep_top_wp4\"] = deep_top_wp4\n",
    "\n",
    "    # events[\"deep_W_wp1\"] = deep_W_wp1\n",
    "    # events[\"deep_W_wp2\"] = deep_W_wp2\n",
    "    # events[\"deep_W_wp3\"] = deep_W_wp3\n",
    "    # events[\"deep_W_wp4\"] = deep_W_wp4\n",
    "\n",
    "    return events\n",
    "\n",
    "def createSelection(events):\n",
    "    \"\"\"Baseline selection for the analysis.\n",
    "Applies the following selection:\n",
    "- Jets[0].pt > 300\n",
    "- 4 <= nJets <= 6\n",
    "- 0 leptons\n",
    "- 2 medium bjets, at least one of which is tight\n",
    "- delta_R(med_bjets[0],med_bjets[1]) > 1\n",
    "    \"\"\"\n",
    "\n",
    "    selection = PackedSelection()\n",
    "    good_jets = events.good_jets\n",
    "    fat_jets = events.FatJet\n",
    "    good_muons = events.good_muons\n",
    "    good_electrons = events.good_electrons\n",
    "    loose_b = events.loose_bs\n",
    "    med_b = events.med_bs\n",
    "    tight_b = events.tight_bs\n",
    "    tight_top = events.tight_tops\n",
    "    # selection = PackedSelection()\n",
    "    filled_jets = ak.pad_none(good_jets, 4, axis=1)\n",
    "    top_two_dr = ak.fill_none(filled_jets[:, 0].delta_r(filled_jets[:, 1]), False)\n",
    "\n",
    "    filled_med = ak.pad_none(med_b, 2, axis=1)\n",
    "    med_dr = ak.fill_none(filled_med[:, 0].delta_r(filled_med[:, 1]), False)\n",
    "    # selection.add(\"trigger\", (ak.num(good_jets) >= 4) & (ak.num(good_jets) <= 6))\n",
    "    if \"HLT\" in events.fields:\n",
    "        selection.add(\"hlt\", (events.HLT.PFHT1050 | events.HLT.AK8PFJet360_TrimMass30))\n",
    "    selection.add(\"highptjet\", (ak.fill_none(filled_jets[:, 0].pt > 300, False)))\n",
    "    selection.add(\"jets\", ((ak.num(good_jets) >= 4) & (ak.num(good_jets) <= 6)))\n",
    "    selection.add(\"0Lep\", ((ak.num(good_electrons) == 0) & (ak.num(good_muons) == 0)))\n",
    "    selection.add(\"2bjet\", (ak.num(med_b) >= 2))\n",
    "    selection.add(\"1tightbjet\", (ak.num(tight_b) >= 1))\n",
    "    # selection.add(\"jet_dr\", ((top_two_dr < 4) & (top_two_dr > 2)).to_numpy())\n",
    "    selection.add(\"b_dr\", (med_dr > 1))\n",
    "    return selection"
   ]
  },
  {
   "cell_type": "code",
   "execution_count": 13,
   "metadata": {},
   "outputs": [],
   "source": [
    "events = createObjects(events)\n",
    "mask = createSelection(events).all(\"highptjet\", \"jets\", \"0Lep\", \"2bjet\", \"1tightbjet\")\n",
    "events = events[mask]"
   ]
  },
  {
   "cell_type": "code",
   "execution_count": 49,
   "metadata": {},
   "outputs": [
    {
     "ename": "ValueError",
     "evalue": "too many values to unpack (expected 2)",
     "output_type": "error",
     "traceback": [
      "\u001b[0;31m---------------------------------------------------------------------------\u001b[0m",
      "\u001b[0;31mValueError\u001b[0m                                Traceback (most recent call last)",
      "Cell \u001b[0;32mIn[49], line 1\u001b[0m\n\u001b[0;32m----> 1\u001b[0m \u001b[43maddNNScores\u001b[49m\u001b[43m(\u001b[49m\u001b[43mevents\u001b[49m\u001b[43m)\u001b[49m\n",
      "Cell \u001b[0;32mIn[38], line 3\u001b[0m, in \u001b[0;36maddNNScores\u001b[0;34m(events)\u001b[0m\n\u001b[1;32m      1\u001b[0m \u001b[38;5;28;01mdef\u001b[39;00m \u001b[38;5;21maddNNScores\u001b[39m(events):\n\u001b[1;32m      2\u001b[0m     model \u001b[38;5;241m=\u001b[39m jetAssignmentNN(\u001b[38;5;124m\"\u001b[39m\u001b[38;5;124mjetMatcherNN.pt\u001b[39m\u001b[38;5;124m\"\u001b[39m)\n\u001b[0;32m----> 3\u001b[0m     scores \u001b[38;5;241m=\u001b[39m \u001b[43mmodel\u001b[49m\u001b[43m(\u001b[49m\u001b[43mevents\u001b[49m\u001b[43m)\u001b[49m\n\u001b[1;32m      4\u001b[0m     \u001b[38;5;28mprint\u001b[39m(scores)\n\u001b[1;32m      5\u001b[0m     events[\u001b[38;5;124m\"\u001b[39m\u001b[38;5;124mNNStopProb\u001b[39m\u001b[38;5;124m\"\u001b[39m]  \u001b[38;5;241m=\u001b[39m scores[:,\u001b[38;5;241m0\u001b[39m]\n",
      "File \u001b[0;32m/usr/local/lib/python3.10/site-packages/coffea/ml_tools/helper.py:377\u001b[0m, in \u001b[0;36mnumpy_call_wrapper.__call__\u001b[0;34m(self, *args, **kwargs)\u001b[0m\n\u001b[1;32m    374\u001b[0m array_lib \u001b[38;5;241m=\u001b[39m \u001b[38;5;28mself\u001b[39m\u001b[38;5;241m.\u001b[39mget_awkward_lib(\u001b[38;5;241m*\u001b[39margs, \u001b[38;5;241m*\u001b[39m\u001b[38;5;241m*\u001b[39mkwargs)\n\u001b[1;32m    376\u001b[0m \u001b[38;5;28;01mif\u001b[39;00m array_lib \u001b[38;5;129;01mis\u001b[39;00m awkward:\n\u001b[0;32m--> 377\u001b[0m     \u001b[38;5;28;01mreturn\u001b[39;00m \u001b[38;5;28;43mself\u001b[39;49m\u001b[38;5;241;43m.\u001b[39;49m\u001b[43m_call_awkward\u001b[49m\u001b[43m(\u001b[49m\u001b[38;5;241;43m*\u001b[39;49m\u001b[43margs\u001b[49m\u001b[43m,\u001b[49m\u001b[43m \u001b[49m\u001b[38;5;241;43m*\u001b[39;49m\u001b[38;5;241;43m*\u001b[39;49m\u001b[43mkwargs\u001b[49m\u001b[43m)\u001b[49m\n\u001b[1;32m    378\u001b[0m \u001b[38;5;28;01melif\u001b[39;00m array_lib \u001b[38;5;129;01mis\u001b[39;00m dask_awkward:\n\u001b[1;32m    379\u001b[0m     \u001b[38;5;28;01mreturn\u001b[39;00m \u001b[38;5;28mself\u001b[39m\u001b[38;5;241m.\u001b[39m_call_dask(\u001b[38;5;241m*\u001b[39margs, \u001b[38;5;241m*\u001b[39m\u001b[38;5;241m*\u001b[39mkwargs)\n",
      "File \u001b[0;32m/usr/local/lib/python3.10/site-packages/coffea/ml_tools/helper.py:237\u001b[0m, in \u001b[0;36mnumpy_call_wrapper._call_awkward\u001b[0;34m(self, *args, **kwargs)\u001b[0m\n\u001b[1;32m    232\u001b[0m \u001b[38;5;28;01mdef\u001b[39;00m \u001b[38;5;21m_call_awkward\u001b[39m(\u001b[38;5;28mself\u001b[39m, \u001b[38;5;241m*\u001b[39margs, \u001b[38;5;241m*\u001b[39m\u001b[38;5;241m*\u001b[39mkwargs):\n\u001b[1;32m    233\u001b[0m \u001b[38;5;250m    \u001b[39m\u001b[38;5;124;03m\"\"\"\u001b[39;00m\n\u001b[1;32m    234\u001b[0m \u001b[38;5;124;03m    The common routine of prepare_awkward conversion, numpy evaluation,\u001b[39;00m\n\u001b[1;32m    235\u001b[0m \u001b[38;5;124;03m    then numpy_to_awkward conversion.\u001b[39;00m\n\u001b[1;32m    236\u001b[0m \u001b[38;5;124;03m    \"\"\"\u001b[39;00m\n\u001b[0;32m--> 237\u001b[0m     ak_args, ak_kwargs \u001b[38;5;241m=\u001b[39m \u001b[38;5;28mself\u001b[39m\u001b[38;5;241m.\u001b[39mprepare_awkward(\u001b[38;5;241m*\u001b[39margs, \u001b[38;5;241m*\u001b[39m\u001b[38;5;241m*\u001b[39mkwargs)\n\u001b[1;32m    238\u001b[0m     (np_args, np_kwargs), _ \u001b[38;5;241m=\u001b[39m \u001b[38;5;28mself\u001b[39m\u001b[38;5;241m.\u001b[39m_ak_to_np_(\u001b[38;5;241m*\u001b[39mak_args, \u001b[38;5;241m*\u001b[39m\u001b[38;5;241m*\u001b[39mak_kwargs)\n\u001b[1;32m    239\u001b[0m     np_rets \u001b[38;5;241m=\u001b[39m \u001b[38;5;28mself\u001b[39m\u001b[38;5;241m.\u001b[39m_call_numpy(\u001b[38;5;241m*\u001b[39mnp_args, \u001b[38;5;241m*\u001b[39m\u001b[38;5;241m*\u001b[39mnp_kwargs)\n",
      "\u001b[0;31mValueError\u001b[0m: too many values to unpack (expected 2)"
     ]
    }
   ],
   "source": [
    "addNNScores(events)"
   ]
  },
  {
   "cell_type": "code",
   "execution_count": null,
   "metadata": {},
   "outputs": [],
   "source": []
  }
 ],
 "metadata": {
  "kernelspec": {
   "display_name": "coffeaenv",
   "language": "python",
   "name": "coffeaenv"
  },
  "language_info": {
   "codemirror_mode": {
    "name": "ipython",
    "version": 3
   },
   "file_extension": ".py",
   "mimetype": "text/x-python",
   "name": "python",
   "nbconvert_exporter": "python",
   "pygments_lexer": "ipython3",
   "version": "3.10.12"
  }
 },
 "nbformat": 4,
 "nbformat_minor": 2
}
